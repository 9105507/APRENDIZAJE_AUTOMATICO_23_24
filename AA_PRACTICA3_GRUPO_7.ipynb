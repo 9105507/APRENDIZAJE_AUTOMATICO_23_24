{
  "nbformat": 4,
  "nbformat_minor": 0,
  "metadata": {
    "colab": {
      "provenance": [],
      "include_colab_link": true
    },
    "kernelspec": {
      "name": "python3",
      "display_name": "Python 3"
    },
    "language_info": {
      "name": "python"
    }
  },
  "cells": [
    {
      "cell_type": "markdown",
      "metadata": {
        "id": "view-in-github",
        "colab_type": "text"
      },
      "source": [
        "<a href=\"https://colab.research.google.com/github/9105507/APRENDIZAJE_AUTOMATICO_23_24/blob/main/AA_PRACTICA3_GRUPO_7.ipynb\" target=\"_parent\"><img src=\"https://colab.research.google.com/assets/colab-badge.svg\" alt=\"Open In Colab\"/></a>"
      ]
    },
    {
      "cell_type": "markdown",
      "source": [
        "\n",
        "# **Grupo 7**\n",
        "Miguel Ángel Rojo\n",
        "\n",
        "Miguel Poyatos García-Lorenzana\n",
        "\n",
        "Jorge Barcenilla González"
      ],
      "metadata": {
        "id": "qnvj58zMJhcG"
      }
    },
    {
      "cell_type": "markdown",
      "source": [
        "# INTRODUCCIÓN"
      ],
      "metadata": {
        "id": "faIUrrjW1N2p"
      }
    },
    {
      "cell_type": "markdown",
      "source": [
        "En esta práctica se va a desarrollar una Red Neuronal Convolucional con el objetivo de obtener el mejor resultado posible en la precisión de los datos de test para la base de datos denominada CIFAR100.\n",
        "\n",
        "CIFAR-100 es un conjunto de datos utilizado en el campo de la visión por computadora y el aprendizaje profundo. Es una versión más avanzada y compleja del conjunto de datos CIFAR-10. La sigla CIFAR significa \"Canadian Institute for Advanced Research\" (Instituto Canadiense de Investigación Avanzada). El conjunto de datos CIFAR-100 consta de 60,000 imágenes a color de 32x32 píxeles, pero a diferencia de CIFAR-10, cada imagen se clasifica en una de las 100 clases diferentes en lugar de solo 10. Estas 100 clases se dividen en 20 superclases, cada una de las cuales contiene 5 clases individuales. Aquí la lista de las diferentes clases con sus correspondientes superclases:\n",
        "\n",
        "  | Clase                   | Superclase                       |\n",
        "  |-------------------------|----------------------------------|\n",
        "  | beaver                  | aquatic mammals                  |\n",
        "  | dolphin                 | aquatic mammals                  |\n",
        "  | otter                   | aquatic mammals                  |\n",
        "  | seal                    | aquatic mammals                  |\n",
        "  | whale                   | aquatic mammals                  |\n",
        "  | aquarium fish           | fish                             |\n",
        "  | flatfish                | fish                             |\n",
        "  | ray                     | fish                             |\n",
        "  | shark                   | fish                             |\n",
        "  | trout                   | fish                             |\n",
        "  | orchids                 | flowers                          |\n",
        "  | poppies                 | flowers                          |\n",
        "  | roses                   | flowers                          |\n",
        "  | sunflowers              | flowers                          |\n",
        "  | tulips                  | flowers                          |\n",
        "  | bottles                 | food containers                  |\n",
        "  | bowls                   | food containers                  |\n",
        "  | cans                    | food containers                  |\n",
        "  | cups                    | food containers                  |\n",
        "  | plates                  | food containers                  |\n",
        "  | apples                  | fruit and vegetables             |\n",
        "  | mushrooms               | fruit and vegetables             |\n",
        "  | oranges                 | fruit and vegetables             |\n",
        "  | pears                   | fruit and vegetables             |\n",
        "  | sweet peppers           | fruit and vegetables             |\n",
        "  | clock                   | household electrical devices     |\n",
        "  | computer keyboard       | household electrical devices     |\n",
        "  | lamp                    | household electrical devices     |\n",
        "  | telephone               | household electrical devices     |\n",
        "  | television              | household electrical devices     |\n",
        "  | bed                     | household furniture              |\n",
        "  | chair                   | household furniture              |\n",
        "  | couch                   | household furniture              |\n",
        "  | table                   | household furniture              |\n",
        "  | wardrobe                | household furniture              |\n",
        "  | bee                     | insects                          |\n",
        "  | beetle                  | insects                          |\n",
        "  | butterfly               | insects                          |\n",
        "  | caterpillar             | insects                          |\n",
        "  | cockroach               | insects                          |\n",
        "  | bear                    | large carnivores                 |\n",
        "  | leopard                 | large carnivores                 |\n",
        "  | lion                    | large carnivores                 |\n",
        "  | tiger                   | large carnivores                 |\n",
        "  | wolf                    | large carnivores                 |\n",
        "  | bridge                  | large man-made outdoor things    |\n",
        "  | castle                  | large man-made outdoor things    |\n",
        "  | house                   | large man-made outdoor things    |\n",
        "  | road                    | large man-made outdoor things    |\n",
        "  | skyscraper              | large man-made outdoor things    |\n",
        "  | cloud                   | large natural outdoor scenes     |\n",
        "  | forest                  | large natural outdoor scenes     |\n",
        "  | mountain                | large natural outdoor scenes     |\n",
        "  | plain                   | large natural outdoor scenes     |\n",
        "  | sea                     | large natural outdoor scenes     |\n",
        "  | camel                   | large omnivores and herbivores   |\n",
        "  | cattle                  | large omnivores and herbivores   |\n",
        "  | chimpanzee              | large omnivores and herbivores   |\n",
        "  | elephant                | large omnivores and herbivores   |\n",
        "  | kangaroo                | large omnivores and herbivores   |\n",
        "  | fox                     | medium-sized mammals              |\n",
        "  | porcupine               | medium-sized mammals              |\n",
        "  | possum                  | medium-sized mammals              |\n",
        "  | raccoon                 | medium-sized mammals              |\n",
        "  | skunk                   | medium-sized mammals              |\n",
        "  | crab                    | non-insect invertebrates          |\n",
        "  | lobster                 | non-insect invertebrates          |\n",
        "  | snail                   | non-insect invertebrates          |\n",
        "  | spider                  | non-insect invertebrates          |\n",
        "  | worm                    | non-insect invertebrates          |\n",
        "  | baby                    | people                           |\n",
        "  | boy                     | people                           |\n",
        "  | girl                    | people                           |\n",
        "  | man                     | people                           |\n",
        "  | woman                   | people                           |\n",
        "  | crocodile               | reptiles                         |\n",
        "  | dinosaur                | reptiles                         |\n",
        "  | lizard                  | reptiles                         |\n",
        "  | snake                   | reptiles                         |\n",
        "  | turtle                  | reptiles                         |\n",
        "  | hamster                 | small mammals                    |\n",
        "  | mouse                   | small mammals                    |\n",
        "  | rabbit                  | small mammals                    |\n",
        "  | shrew                   | small mammals                    |\n",
        "  | squirrel                | small mammals                    |\n",
        "  | maple                   | trees                            |\n",
        "  | oak                     | trees                            |\n",
        "  | palm                    | trees                            |\n",
        "  | pine                    | trees                            |\n",
        "  | willow                  | trees                            |\n",
        "  | bicycle                 | vehicles 1                       |\n",
        "  | bus                     | vehicles 1                       |\n",
        "  | motorcycle              | vehicles 1                       |\n",
        "  | pickup truck            | vehicles 1                       |\n",
        "  | train                   | vehicles 1                       |\n",
        "  | lawn-mower              | vehicles 2                       |\n",
        "  | rocket                  | vehicles 2                       |\n",
        "  | streetcar               | vehicles 2                       |\n",
        "  | tank                    | vehicles 2                       |\n",
        "  | tractor                 | vehicles 2                       |\n",
        "\n",
        "El objetivo es crear un modelo de redes neuronales convolucionales que reconozca y clasifique estas imágenes en sus clases correspondientes, maximizando la puntuación de test. Este modelo será definido, configurado, entrenado, evaluado y mejorado progresivamente a lo largo de esta práctica."
      ],
      "metadata": {
        "id": "DWGFVs-mzOH8"
      }
    },
    {
      "cell_type": "markdown",
      "source": [
        "# FUNCIONES IMPORTANTES:"
      ],
      "metadata": {
        "id": "-YCwPDYWkNJn"
      }
    },
    {
      "cell_type": "code",
      "source": [
        "def unpickle(file):\n",
        "    import pickle\n",
        "    with open(file, 'rb') as fo:\n",
        "        dict = pickle.load(fo, encoding='bytes')\n",
        "    return dict"
      ],
      "metadata": {
        "id": "scHQXgTdPAFl"
      },
      "execution_count": null,
      "outputs": []
    },
    {
      "cell_type": "code",
      "source": [
        "def evaluar_rendimiento(train_loss, train_acc, val_loss, val_acc):\n",
        "    # Configuración de la figura para las gráficas\n",
        "    fig, axs = plt.subplots(1, 2, figsize=(10, 4))\n",
        "\n",
        "    # Gráfica de pérdida\n",
        "    axs[0].plot(range(1, len(train_loss) + 1), train_loss, label='Pérdida de entrenamiento')\n",
        "    axs[0].plot(range(1, len(val_loss) + 1), val_loss, label='Pérdida de validación')\n",
        "    axs[0].set_xlabel('Época')\n",
        "    axs[0].set_ylabel('Pérdida')\n",
        "    axs[0].legend()\n",
        "    axs[0].set_title('Gráfica de Pérdida')\n",
        "\n",
        "    # Gráfica de precisión\n",
        "    axs[1].plot(range(1, len(train_acc) + 1), train_acc, label='Precisión de entrenamiento')\n",
        "    axs[1].plot(range(1, len(val_acc) + 1), val_acc, label='Precisión de validación')\n",
        "    axs[1].set_xlabel('Época')\n",
        "    axs[1].set_ylabel('Precisión')\n",
        "    axs[1].legend()\n",
        "    axs[1].set_title('Gráfica de Precisión')\n",
        "\n",
        "    plt.show()"
      ],
      "metadata": {
        "id": "mIPnMqXNsd5Y"
      },
      "execution_count": null,
      "outputs": []
    },
    {
      "cell_type": "code",
      "source": [
        "global super_to_sub\n",
        "super_to_sub = {\n",
        "    \"aquatic mammals\": ['beaver', 'dolphin', 'otter', 'seal', 'whale'],\n",
        "    \"fish\": ['aquarium_fish', 'flatfish', 'ray', 'shark', 'trout'],\n",
        "    \"flowers\": ['orchid', 'poppy', 'rose', 'sunflower', 'tulip'],\n",
        "    \"food containers\": ['bottle', 'bowl', 'can', 'cup', 'plate'],\n",
        "    \"fruit and vegetables\": ['apple', 'mushroom', 'orange', 'pear', 'sweet_pepper'],\n",
        "    \"household electrical devices\": ['clock', 'keyboard', 'lamp', 'telephone', 'television'],\n",
        "    \"household furniture\": ['bed', 'chair', 'couch', 'table', 'wardrobe'],\n",
        "    \"insects\": ['bee', 'beetle', 'butterfly', 'caterpillar', 'cockroach'],\n",
        "    \"large carnivores\": ['bear', 'leopard', 'lion', 'tiger', 'wolf'],\n",
        "    \"large man-made outdoor things\": ['bridge', 'castle', 'house', 'road', 'skyscraper'],\n",
        "    \"large natural outdoor scenes\": ['cloud', 'forest', 'mountain', 'plain', 'sea'],\n",
        "    \"large omnivores and herbivores\": ['camel', 'cattle', 'chimpanzee', 'elephant', 'kangaroo'],\n",
        "    \"medium-sized mammals\": ['fox', 'porcupine', 'possum', 'raccoon', 'skunk'],\n",
        "    \"non-insect invertebrates\": ['crab', 'lobster', 'snail', 'spider', 'worm'],\n",
        "    \"people\": ['baby', 'boy', 'girl', 'man', 'woman'],\n",
        "    \"reptiles\": ['crocodile', 'dinosaur', 'lizard', 'snake', 'turtle'],\n",
        "    \"small mammals\": ['hamster', 'mouse', 'rabbit', 'shrew', 'squirrel'],\n",
        "    \"trees\": ['maple_tree', 'oak_tree', 'palm_tree', 'pine_tree', 'willow_tree'],\n",
        "    \"vehicles 1\": ['bicycle', 'bus', 'motorcycle', 'pickup_truck', 'train'],\n",
        "    \"vehicles 2\": ['lawn_mower', 'rocket', 'streetcar', 'tank', 'tractor']}\n",
        "def find_superclass(class_name):\n",
        "  for superclass, classes in super_to_sub.items():\n",
        "      if class_name in classes:\n",
        "          return superclass\n",
        "  return None\n",
        "def find_superclass_index(class_name):\n",
        "  for superclass, classes in super_to_sub.items():\n",
        "      if class_name in classes:\n",
        "          # Busca el índice de la superclase en la lista de nombres de superclases\n",
        "          return super_class_names.index(superclass)\n",
        "  return None"
      ],
      "metadata": {
        "id": "ADK9Qry_Xxsq"
      },
      "execution_count": null,
      "outputs": []
    },
    {
      "cell_type": "markdown",
      "source": [
        "# Inicialización de datos\n",
        "En primer lugar, se importan todas las librerías que son necesarias a lo largo de esta práctica:"
      ],
      "metadata": {
        "id": "qpSpEvcxSZls"
      }
    },
    {
      "cell_type": "code",
      "source": [
        "%tensorflow_version 2.x\n",
        "import tensorflow as tf\n",
        "from tensorflow import keras\n",
        "from keras import utils\n",
        "from keras.utils import to_categorical\n",
        "import numpy as np\n",
        "import matplotlib.pyplot as plt\n",
        "from collections import Counter"
      ],
      "metadata": {
        "id": "ofw6MsykIP4E"
      },
      "execution_count": null,
      "outputs": []
    },
    {
      "cell_type": "markdown",
      "source": [
        "También, se comprueba que se está utilizando una version de TensorFlow 2.0.0 o superior:"
      ],
      "metadata": {
        "id": "Z925HhSm13H5"
      }
    },
    {
      "cell_type": "code",
      "source": [
        "print(tf.__version__)"
      ],
      "metadata": {
        "id": "ixsbgWZH1z4W"
      },
      "execution_count": null,
      "outputs": []
    },
    {
      "cell_type": "markdown",
      "source": [
        "A continuación, se cargan los datos de entrenamiento y de test a partir del método 'keras.datasets.cifar100'. Estos datos son los que se van a estar utilizando a lo largo de toda esta práctica."
      ],
      "metadata": {
        "id": "Crh-M7xp2RR5"
      }
    },
    {
      "cell_type": "code",
      "source": [
        "cifar100 = keras.datasets.cifar100\n",
        "(X, y), (test_X, test_y) = cifar100.load_data()"
      ],
      "metadata": {
        "id": "8JdaRTscrB4W"
      },
      "execution_count": null,
      "outputs": []
    },
    {
      "cell_type": "markdown",
      "metadata": {
        "id": "WDfSY9jsaYgV"
      },
      "source": [
        "# Pre procesado de datos / Visualización de los datos"
      ]
    },
    {
      "cell_type": "markdown",
      "source": [
        "Se comprueba que se han descargado las 60000 imágenes en cuestión:"
      ],
      "metadata": {
        "id": "1TLrSimlbebw"
      }
    },
    {
      "cell_type": "code",
      "source": [
        "print(\"TAMAÑO TRAIN_DATA:\",X.shape)\n",
        "print(\"TAMAÑO TEST_DATA:\",test_X.shape)\n",
        "print(\"TAMAÑO TRAIN_LABELS:\",y.shape)\n",
        "print(\"TAMAÑO TEST_LABELS:\",test_y.shape)"
      ],
      "metadata": {
        "id": "YO7A-RLoaiB7"
      },
      "execution_count": null,
      "outputs": []
    },
    {
      "cell_type": "markdown",
      "source": [
        "Se presentan las listas 'super_class_names', 'class_names'. Se presentan estas listas para comprobar los datos que se han descargado de cifar100 con fines de visualización de datos."
      ],
      "metadata": {
        "id": "3OYMx8uvX7NK"
      }
    },
    {
      "cell_type": "code",
      "source": [
        "super_class_names = [\"aquatic mammals\",\n",
        "                     \"fish\",\n",
        "                     \"flowers\",\n",
        "                     \"food containers\",\n",
        "                     \"fruit and vegetables\",\n",
        "                     \"household electrical devices\",\n",
        "                     \"household furniture\",\n",
        "                     \"insects\", \"large carnivores\",\n",
        "                     \"large man-made outdoor things\",\n",
        "                     \"large natural outdoor scenes\",\n",
        "                     \"large omnivores and herbivores\",\n",
        "                     \"medium-sized mammals\",\n",
        "                     \"non-insect invertebrates\",\n",
        "                     \"people\",\n",
        "                     \"reptiles\",\n",
        "                     \"small mammals\",\n",
        "                     \"trees\",\n",
        "                     \"vehicles 1\",\n",
        "                     \"vehicles 2\"]\n",
        "\n",
        "class_names = ['apple', 'aquarium_fish', 'baby', 'bear', 'beaver', 'bed',\n",
        "               'bee', 'beetle', 'bicycle', 'bottle', 'bowl', 'boy', 'bridge',\n",
        "               'bus', 'butterfly', 'camel', 'can', 'castle', 'caterpillar',\n",
        "               'cattle', 'chair', 'chimpanzee', 'clock', 'cloud', 'cockroach',\n",
        "               'couch', 'crab', 'crocodile', 'cup', 'dinosaur', 'dolphin',\n",
        "               'elephant', 'flatfish', 'forest', 'fox', 'girl', 'hamster',\n",
        "               'house', 'kangaroo', 'keyboard', 'lamp', 'lawn_mower', 'leopard',\n",
        "               'lion', 'lizard', 'lobster', 'man', 'maple_tree', 'motorcycle',\n",
        "               'mountain', 'mouse', 'mushroom', 'oak_tree', 'orange', 'orchid',\n",
        "               'otter', 'palm_tree', 'pear', 'pickup_truck', 'pine_tree',\n",
        "               'plain', 'plate', 'poppy', 'porcupine', 'possum', 'rabbit',\n",
        "               'raccoon', 'ray', 'road', 'rocket', 'rose', 'sea', 'seal',\n",
        "               'shark', 'shrew', 'skunk', 'skyscraper', 'snail', 'snake',\n",
        "               'spider', 'squirrel', 'streetcar', 'sunflower', 'sweet_pepper',\n",
        "               'table', 'tank', 'telephone', 'television', 'tiger', 'tractor',\n",
        "               'train', 'trout', 'tulip', 'turtle', 'wardrobe', 'whale',\n",
        "               'willow_tree', 'wolf', 'woman', 'worm']\n",
        "\n",
        "# Se prueba con la función find_superclass la utilidad de estas listas para\n",
        "# visualizar mejor los datos (están todos en formato numérico y son 100 clases!\n",
        "# --> esto puede complicar el entendimiento de la base de datos debido a su\n",
        "# densidad).\n",
        "index = 0\n",
        "superclass = find_superclass(class_names[index])\n",
        "print(f\"La superclase de '{class_names[index]}' es '{superclass}'.\")"
      ],
      "metadata": {
        "id": "jKcWy4LFXrdO"
      },
      "execution_count": null,
      "outputs": []
    },
    {
      "cell_type": "markdown",
      "source": [
        "Visualizamos los datos de entrenamiento:"
      ],
      "metadata": {
        "id": "OCxq_OLkaRZ_"
      }
    },
    {
      "cell_type": "code",
      "source": [
        "#PRIMERA IMAGEN:\n",
        "imagen = X[0]\n",
        "train_labels = y.reshape(50000)\n",
        "print(\"Etiqueta:\",class_names[train_labels[0]])\n",
        "print(\"Imagen:\")\n",
        "# Se muestra la imagen usando imshow()\n",
        "plt.imshow(imagen)\n",
        "plt.show()"
      ],
      "metadata": {
        "id": "qBexnWLs58gm"
      },
      "execution_count": null,
      "outputs": []
    },
    {
      "cell_type": "markdown",
      "source": [
        "Nótese que la etiqueta (cattle -> ganado) coincide con la imagen, confirmando la validez de los datos. Se prueba con un par más de imágenes:"
      ],
      "metadata": {
        "id": "2pfBfNbjb4QU"
      }
    },
    {
      "cell_type": "code",
      "source": [
        "#ÚLTIMA IMAGEN:\n",
        "imagen = X[49999]\n",
        "train_labels = y.reshape(50000)\n",
        "print(\"Etiqueta:\",class_names[train_labels[49999]])\n",
        "print(\"Imagen:\")\n",
        "# Se muestra la imagen usando imshow()\n",
        "plt.imshow(imagen)\n",
        "plt.show()"
      ],
      "metadata": {
        "id": "MWBfCaR8blbO"
      },
      "execution_count": null,
      "outputs": []
    },
    {
      "cell_type": "code",
      "source": [
        "#IMAGEN nº 12345:\n",
        "imagen = X[12345]\n",
        "train_labels = y.reshape(50000)\n",
        "print(\"Etiqueta:\",class_names[train_labels[12345]])\n",
        "print(\"Imagen:\")\n",
        "# Se muestra la imagen usando imshow()\n",
        "plt.imshow(imagen)\n",
        "plt.show()"
      ],
      "metadata": {
        "id": "CvdHjbmOcU4o"
      },
      "execution_count": null,
      "outputs": []
    },
    {
      "cell_type": "markdown",
      "source": [
        "Se visualizan las distintas matrices rgb de la última imagen:"
      ],
      "metadata": {
        "id": "hnx4Sifffhg7"
      }
    },
    {
      "cell_type": "code",
      "source": [
        "for i, color in enumerate(['ROJO', 'VERDE', 'AZUL']):\n",
        "    # Se extrae la matriz del canal de color actual\n",
        "    matriz_color = np.take(X[49999], i, axis=2)\n",
        "    # Se configuran las opciones de impresión\n",
        "    np.set_printoptions(threshold=np.inf,precision=2,suppress=True,linewidth=145)\n",
        "    # Se imprimen la matriz junto con la etiqueta del color\n",
        "    print(f\"MATRIZ {color}:\\n{np.matrix(matriz_color)}\\n\")"
      ],
      "metadata": {
        "id": "FG_vo5W6dYlw"
      },
      "execution_count": null,
      "outputs": []
    },
    {
      "cell_type": "markdown",
      "source": [
        "Visualizamos los datos de entrenamiento:"
      ],
      "metadata": {
        "id": "qEfHWBUqbtjs"
      }
    },
    {
      "cell_type": "code",
      "source": [
        "#PRIMERA IMAGEN:\n",
        "imagen = [0]\n",
        "train_labels = y.reshape(50000)\n",
        "print(\"Etiqueta:\",class_names[train_labels[0]])\n",
        "print(\"Imagen:\")\n",
        "# Se muestra la imagen usando imshow()\n",
        "plt.imshow(imagen)\n",
        "plt.show()"
      ],
      "metadata": {
        "id": "e1tG4vdhgiZl"
      },
      "execution_count": null,
      "outputs": []
    },
    {
      "cell_type": "markdown",
      "source": [
        "Con el objetivo de ver el balance de la base de datos, se ejecuta el siguiente código:"
      ],
      "metadata": {
        "id": "Iora4cKJbjct"
      }
    },
    {
      "cell_type": "code",
      "source": [
        "index_count = Counter(train_labels)\n",
        "sorted_indices = sorted(index_count.items())\n",
        "for index, count in sorted_indices:\n",
        "    print(f'{class_names[index]}: {count}')"
      ],
      "metadata": {
        "colab": {
          "base_uri": "https://localhost:8080/"
        },
        "id": "VNZpQJQBi9EB",
        "outputId": "6e8ee92b-2037-4177-a43f-2683560c9bc7"
      },
      "execution_count": null,
      "outputs": [
        {
          "output_type": "stream",
          "name": "stdout",
          "text": [
            "apple: 500\n",
            "aquarium_fish: 500\n",
            "baby: 500\n",
            "bear: 500\n",
            "beaver: 500\n",
            "bed: 500\n",
            "bee: 500\n",
            "beetle: 500\n",
            "bicycle: 500\n",
            "bottle: 500\n",
            "bowl: 500\n",
            "boy: 500\n",
            "bridge: 500\n",
            "bus: 500\n",
            "butterfly: 500\n",
            "camel: 500\n",
            "can: 500\n",
            "castle: 500\n",
            "caterpillar: 500\n",
            "cattle: 500\n",
            "chair: 500\n",
            "chimpanzee: 500\n",
            "clock: 500\n",
            "cloud: 500\n",
            "cockroach: 500\n",
            "couch: 500\n",
            "crab: 500\n",
            "crocodile: 500\n",
            "cup: 500\n",
            "dinosaur: 500\n",
            "dolphin: 500\n",
            "elephant: 500\n",
            "flatfish: 500\n",
            "forest: 500\n",
            "fox: 500\n",
            "girl: 500\n",
            "hamster: 500\n",
            "house: 500\n",
            "kangaroo: 500\n",
            "keyboard: 500\n",
            "lamp: 500\n",
            "lawn_mower: 500\n",
            "leopard: 500\n",
            "lion: 500\n",
            "lizard: 500\n",
            "lobster: 500\n",
            "man: 500\n",
            "maple_tree: 500\n",
            "motorcycle: 500\n",
            "mountain: 500\n",
            "mouse: 500\n",
            "mushroom: 500\n",
            "oak_tree: 500\n",
            "orange: 500\n",
            "orchid: 500\n",
            "otter: 500\n",
            "palm_tree: 500\n",
            "pear: 500\n",
            "pickup_truck: 500\n",
            "pine_tree: 500\n",
            "plain: 500\n",
            "plate: 500\n",
            "poppy: 500\n",
            "porcupine: 500\n",
            "possum: 500\n",
            "rabbit: 500\n",
            "raccoon: 500\n",
            "ray: 500\n",
            "road: 500\n",
            "rocket: 500\n",
            "rose: 500\n",
            "sea: 500\n",
            "seal: 500\n",
            "shark: 500\n",
            "shrew: 500\n",
            "skunk: 500\n",
            "skyscraper: 500\n",
            "snail: 500\n",
            "snake: 500\n",
            "spider: 500\n",
            "squirrel: 500\n",
            "streetcar: 500\n",
            "sunflower: 500\n",
            "sweet_pepper: 500\n",
            "table: 500\n",
            "tank: 500\n",
            "telephone: 500\n",
            "television: 500\n",
            "tiger: 500\n",
            "tractor: 500\n",
            "train: 500\n",
            "trout: 500\n",
            "tulip: 500\n",
            "turtle: 500\n",
            "wardrobe: 500\n",
            "whale: 500\n",
            "willow_tree: 500\n",
            "wolf: 500\n",
            "woman: 500\n",
            "worm: 500\n"
          ]
        }
      ]
    },
    {
      "cell_type": "markdown",
      "source": [
        "Se observa que la base de datos está perfectamente equilibrada, lo cual es una buena noticia para nosotros. Se realiza con las superclases también por terminar de validarlo."
      ],
      "metadata": {
        "id": "_tOAenk4fMey"
      }
    },
    {
      "cell_type": "code",
      "source": [
        "train_labels_superclass = np.floor_divide(y, 5)\n",
        "train_labels_superclass = train_labels_superclass.reshape(50000)\n",
        "index_count = Counter(train_labels_superclass)\n",
        "sorted_indices = sorted(index_count.items())\n",
        "for index, count in sorted_indices:\n",
        "    print(f'{super_class_names[index]}: {count}')"
      ],
      "metadata": {
        "colab": {
          "base_uri": "https://localhost:8080/"
        },
        "id": "EwfKHxLlx_yL",
        "outputId": "14377d01-b569-47c4-8342-7ed827395d5b"
      },
      "execution_count": null,
      "outputs": [
        {
          "output_type": "stream",
          "name": "stdout",
          "text": [
            "aquatic mammals: 2500\n",
            "fish: 2500\n",
            "flowers: 2500\n",
            "food containers: 2500\n",
            "fruit and vegetables: 2500\n",
            "household electrical devices: 2500\n",
            "household furniture: 2500\n",
            "insects: 2500\n",
            "large carnivores: 2500\n",
            "large man-made outdoor things: 2500\n",
            "large natural outdoor scenes: 2500\n",
            "large omnivores and herbivores: 2500\n",
            "medium-sized mammals: 2500\n",
            "non-insect invertebrates: 2500\n",
            "people: 2500\n",
            "reptiles: 2500\n",
            "small mammals: 2500\n",
            "trees: 2500\n",
            "vehicles 1: 2500\n",
            "vehicles 2: 2500\n"
          ]
        }
      ]
    },
    {
      "cell_type": "markdown",
      "source": [
        "Para finalizar el pre-procesado de datos, se normalizan los datos, se tranforman las etiquetas a 'one-hot' encoding y se hace la partición de los datos en train-validation-test."
      ],
      "metadata": {
        "id": "2cHiwJFuVsMn"
      }
    },
    {
      "cell_type": "code",
      "source": [
        "# Se normalizan los datos:\n",
        "Xnorm = X/255\n",
        "test_Xnorm = test_X/255\n",
        "\n",
        "# Se convierten las etiquetas a codificación one-hot\n",
        "y_categorical = to_categorical(y)\n",
        "test_y_categorical = to_categorical(test_y)\n",
        "\n",
        "# Se dividen los datos en train y validation:\n",
        "train_X = Xnorm[:47000]\n",
        "train_y = y_categorical[:47000]\n",
        "val_X = Xnorm[-3000:]\n",
        "val_y = y_categorical[-3000:]"
      ],
      "metadata": {
        "id": "FKbYUP41ShA-"
      },
      "execution_count": null,
      "outputs": []
    },
    {
      "cell_type": "markdown",
      "source": [
        "# MODELO"
      ],
      "metadata": {
        "id": "W7loyJ6FSd9c"
      }
    },
    {
      "cell_type": "code",
      "source": [
        "# Convertir las etiquetas a codificación one-hot\n",
        "train_labels = to_categorical(train_labels)\n",
        "test_labels = to_categorical(test_labels)"
      ],
      "metadata": {
        "id": "lgYBSo0CI19t"
      },
      "execution_count": null,
      "outputs": []
    },
    {
      "cell_type": "code",
      "source": [
        "from tensorflow.keras import Sequential\n",
        "from tensorflow.keras.layers import Conv2D\n",
        "from tensorflow.keras.layers import MaxPooling2D\n",
        "from tensorflow.keras.layers import Dense\n",
        "from tensorflow.keras.layers import Flatten\n",
        "\n",
        "\n",
        "model = Sequential()\n",
        "model.add(Conv2D(32, (5, 5), activation='relu', input_shape=(32, 32, 3)))\n",
        "model.add(MaxPooling2D((2, 2)))\n",
        "model.add(Conv2D(64, (5, 5), activation='relu'))\n",
        "model.add(MaxPooling2D((2, 2)))\n",
        "model.add(Flatten())\n",
        "model.add(Dense(100, activation='softmax'))\n",
        "model.summary()"
      ],
      "metadata": {
        "colab": {
          "base_uri": "https://localhost:8080/"
        },
        "id": "SNmUUi3JryWQ",
        "outputId": "e184959c-b2b0-4c82-c313-5d792a9b72c8"
      },
      "execution_count": null,
      "outputs": [
        {
          "output_type": "stream",
          "name": "stdout",
          "text": [
            "Model: \"sequential_4\"\n",
            "_________________________________________________________________\n",
            " Layer (type)                Output Shape              Param #   \n",
            "=================================================================\n",
            " conv2d_8 (Conv2D)           (None, 28, 28, 32)        2432      \n",
            "                                                                 \n",
            " max_pooling2d_8 (MaxPoolin  (None, 14, 14, 32)        0         \n",
            " g2D)                                                            \n",
            "                                                                 \n",
            " conv2d_9 (Conv2D)           (None, 10, 10, 64)        51264     \n",
            "                                                                 \n",
            " max_pooling2d_9 (MaxPoolin  (None, 5, 5, 64)          0         \n",
            " g2D)                                                            \n",
            "                                                                 \n",
            " flatten_4 (Flatten)         (None, 1600)              0         \n",
            "                                                                 \n",
            " dense_4 (Dense)             (None, 100)               160100    \n",
            "                                                                 \n",
            "=================================================================\n",
            "Total params: 213796 (835.14 KB)\n",
            "Trainable params: 213796 (835.14 KB)\n",
            "Non-trainable params: 0 (0.00 Byte)\n",
            "_________________________________________________________________\n"
          ]
        }
      ]
    },
    {
      "cell_type": "code",
      "source": [
        "model.compile(loss='categorical_crossentropy',\n",
        "              optimizer='rmsprop',\n",
        "              metrics=['accuracy'])\n",
        "\n",
        "model.fit(train_images, train_labels,\n",
        "          batch_size=500,\n",
        "          epochs=5,\n",
        "          verbose=1)\n",
        "\n",
        "test_loss, test_acc = model.evaluate(test_images, test_labels)\n",
        "\n",
        "print('Test accuracy:', test_acc)"
      ],
      "metadata": {
        "colab": {
          "base_uri": "https://localhost:8080/"
        },
        "id": "gth_YZAIrxv9",
        "outputId": "01bf48b7-0680-4ce2-e3b1-31c981a9ab1f"
      },
      "execution_count": null,
      "outputs": [
        {
          "output_type": "stream",
          "name": "stdout",
          "text": [
            "Epoch 1/5\n",
            "100/100 [==============================] - 84s 834ms/step - loss: 6.6393 - accuracy: 0.0171\n",
            "Epoch 2/5\n",
            "100/100 [==============================] - 87s 873ms/step - loss: 4.5814 - accuracy: 0.0258\n",
            "Epoch 3/5\n",
            "100/100 [==============================] - 83s 831ms/step - loss: 4.5105 - accuracy: 0.0382\n",
            "Epoch 4/5\n",
            "100/100 [==============================] - 82s 824ms/step - loss: 4.4504 - accuracy: 0.0504\n",
            "Epoch 5/5\n",
            "100/100 [==============================] - 83s 829ms/step - loss: 4.4324 - accuracy: 0.0701\n",
            "313/313 [==============================] - 5s 16ms/step - loss: 4.4424 - accuracy: 0.0499\n",
            "Test accuracy: 0.04989999905228615\n"
          ]
        }
      ]
    }
  ]
}