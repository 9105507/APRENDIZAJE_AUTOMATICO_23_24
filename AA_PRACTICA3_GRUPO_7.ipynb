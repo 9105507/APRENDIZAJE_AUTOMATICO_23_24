{
  "nbformat": 4,
  "nbformat_minor": 0,
  "metadata": {
    "colab": {
      "provenance": [],
      "toc_visible": true,
      "gpuType": "V100",
      "include_colab_link": true
    },
    "kernelspec": {
      "name": "python3",
      "display_name": "Python 3"
    },
    "language_info": {
      "name": "python"
    },
    "accelerator": "GPU"
  },
  "cells": [
    {
      "cell_type": "markdown",
      "metadata": {
        "id": "view-in-github",
        "colab_type": "text"
      },
      "source": [
        "<a href=\"https://colab.research.google.com/github/9105507/APRENDIZAJE_AUTOMATICO_23_24/blob/main/AA_PRACTICA3_GRUPO_7.ipynb\" target=\"_parent\"><img src=\"https://colab.research.google.com/assets/colab-badge.svg\" alt=\"Open In Colab\"/></a>"
      ]
    },
    {
      "cell_type": "markdown",
      "source": [
        "\n",
        "# **Grupo 7**\n",
        "Miguel Ángel Rojo\n",
        "\n",
        "Miguel Poyatos García-Lorenzana\n",
        "\n",
        "Jorge Barcenilla González"
      ],
      "metadata": {
        "id": "qnvj58zMJhcG"
      }
    },
    {
      "cell_type": "markdown",
      "source": [
        "# INTRODUCCIÓN"
      ],
      "metadata": {
        "id": "faIUrrjW1N2p"
      }
    },
    {
      "cell_type": "markdown",
      "source": [
        "En esta práctica se va a desarrollar una Red Neuronal Convolucional con el objetivo de obtener el mejor resultado posible en la precisión de los datos de test para la base de datos denominada CIFAR100.\n",
        "\n",
        "CIFAR-100 es un conjunto de datos utilizado en el campo de la visión por computadora y el aprendizaje profundo. Es una versión más avanzada y compleja del conjunto de datos CIFAR-10. La sigla CIFAR significa \"Canadian Institute for Advanced Research\" (Instituto Canadiense de Investigación Avanzada). El conjunto de datos CIFAR-100 consta de 60,000 imágenes a color de 32x32 píxeles, pero a diferencia de CIFAR-10, cada imagen se clasifica en una de las 100 clases diferentes en lugar de solo 10. Estas 100 clases se dividen en 20 superclases, cada una de las cuales contiene 5 clases individuales. Aquí la lista de las diferentes clases con sus correspondientes superclases:\n",
        "\n",
        "  | Clase                   | Superclase                       |\n",
        "  |-------------------------|----------------------------------|\n",
        "  | beaver                  | aquatic mammals                  |\n",
        "  | dolphin                 | aquatic mammals                  |\n",
        "  | otter                   | aquatic mammals                  |\n",
        "  | seal                    | aquatic mammals                  |\n",
        "  | whale                   | aquatic mammals                  |\n",
        "  | aquarium fish           | fish                             |\n",
        "  | flatfish                | fish                             |\n",
        "  | ray                     | fish                             |\n",
        "  | shark                   | fish                             |\n",
        "  | trout                   | fish                             |\n",
        "  | orchids                 | flowers                          |\n",
        "  | poppies                 | flowers                          |\n",
        "  | roses                   | flowers                          |\n",
        "  | sunflowers              | flowers                          |\n",
        "  | tulips                  | flowers                          |\n",
        "  | bottles                 | food containers                  |\n",
        "  | bowls                   | food containers                  |\n",
        "  | cans                    | food containers                  |\n",
        "  | cups                    | food containers                  |\n",
        "  | plates                  | food containers                  |\n",
        "  | apples                  | fruit and vegetables             |\n",
        "  | mushrooms               | fruit and vegetables             |\n",
        "  | oranges                 | fruit and vegetables             |\n",
        "  | pears                   | fruit and vegetables             |\n",
        "  | sweet peppers           | fruit and vegetables             |\n",
        "  | clock                   | household electrical devices     |\n",
        "  | computer keyboard       | household electrical devices     |\n",
        "  | lamp                    | household electrical devices     |\n",
        "  | telephone               | household electrical devices     |\n",
        "  | television              | household electrical devices     |\n",
        "  | bed                     | household furniture              |\n",
        "  | chair                   | household furniture              |\n",
        "  | couch                   | household furniture              |\n",
        "  | table                   | household furniture              |\n",
        "  | wardrobe                | household furniture              |\n",
        "  | bee                     | insects                          |\n",
        "  | beetle                  | insects                          |\n",
        "  | butterfly               | insects                          |\n",
        "  | caterpillar             | insects                          |\n",
        "  | cockroach               | insects                          |\n",
        "  | bear                    | large carnivores                 |\n",
        "  | leopard                 | large carnivores                 |\n",
        "  | lion                    | large carnivores                 |\n",
        "  | tiger                   | large carnivores                 |\n",
        "  | wolf                    | large carnivores                 |\n",
        "  | bridge                  | large man-made outdoor things    |\n",
        "  | castle                  | large man-made outdoor things    |\n",
        "  | house                   | large man-made outdoor things    |\n",
        "  | road                    | large man-made outdoor things    |\n",
        "  | skyscraper              | large man-made outdoor things    |\n",
        "  | cloud                   | large natural outdoor scenes     |\n",
        "  | forest                  | large natural outdoor scenes     |\n",
        "  | mountain                | large natural outdoor scenes     |\n",
        "  | plain                   | large natural outdoor scenes     |\n",
        "  | sea                     | large natural outdoor scenes     |\n",
        "  | camel                   | large omnivores and herbivores   |\n",
        "  | cattle                  | large omnivores and herbivores   |\n",
        "  | chimpanzee              | large omnivores and herbivores   |\n",
        "  | elephant                | large omnivores and herbivores   |\n",
        "  | kangaroo                | large omnivores and herbivores   |\n",
        "  | fox                     | medium-sized mammals              |\n",
        "  | porcupine               | medium-sized mammals              |\n",
        "  | possum                  | medium-sized mammals              |\n",
        "  | raccoon                 | medium-sized mammals              |\n",
        "  | skunk                   | medium-sized mammals              |\n",
        "  | crab                    | non-insect invertebrates          |\n",
        "  | lobster                 | non-insect invertebrates          |\n",
        "  | snail                   | non-insect invertebrates          |\n",
        "  | spider                  | non-insect invertebrates          |\n",
        "  | worm                    | non-insect invertebrates          |\n",
        "  | baby                    | people                           |\n",
        "  | boy                     | people                           |\n",
        "  | girl                    | people                           |\n",
        "  | man                     | people                           |\n",
        "  | woman                   | people                           |\n",
        "  | crocodile               | reptiles                         |\n",
        "  | dinosaur                | reptiles                         |\n",
        "  | lizard                  | reptiles                         |\n",
        "  | snake                   | reptiles                         |\n",
        "  | turtle                  | reptiles                         |\n",
        "  | hamster                 | small mammals                    |\n",
        "  | mouse                   | small mammals                    |\n",
        "  | rabbit                  | small mammals                    |\n",
        "  | shrew                   | small mammals                    |\n",
        "  | squirrel                | small mammals                    |\n",
        "  | maple                   | trees                            |\n",
        "  | oak                     | trees                            |\n",
        "  | palm                    | trees                            |\n",
        "  | pine                    | trees                            |\n",
        "  | willow                  | trees                            |\n",
        "  | bicycle                 | vehicles 1                       |\n",
        "  | bus                     | vehicles 1                       |\n",
        "  | motorcycle              | vehicles 1                       |\n",
        "  | pickup truck            | vehicles 1                       |\n",
        "  | train                   | vehicles 1                       |\n",
        "  | lawn-mower              | vehicles 2                       |\n",
        "  | rocket                  | vehicles 2                       |\n",
        "  | streetcar               | vehicles 2                       |\n",
        "  | tank                    | vehicles 2                       |\n",
        "  | tractor                 | vehicles 2                       |\n",
        "\n",
        "El objetivo es crear un modelo de redes neuronales convolucionales que reconozca y clasifique estas imágenes en sus clases correspondientes, maximizando la puntuación de test. Este modelo será definido, configurado, entrenado, evaluado y mejorado progresivamente a lo largo de esta práctica."
      ],
      "metadata": {
        "id": "DWGFVs-mzOH8"
      }
    },
    {
      "cell_type": "markdown",
      "source": [
        "# FUNCIONES IMPORTANTES:"
      ],
      "metadata": {
        "id": "-YCwPDYWkNJn"
      }
    },
    {
      "cell_type": "markdown",
      "source": [
        "**COMENTAR CADA UNA DE ESTAS FUNCIONES Y EXPLICAR PARA QUE SE USAN/HAN USADO!!!!**"
      ],
      "metadata": {
        "id": "SDFvVWfIrMjr"
      }
    },
    {
      "cell_type": "code",
      "source": [
        "def unpickle(file):\n",
        "    import pickle\n",
        "    with open(file, 'rb') as fo:\n",
        "        dict = pickle.load(fo, encoding='bytes')\n",
        "    return dict"
      ],
      "metadata": {
        "id": "scHQXgTdPAFl"
      },
      "execution_count": 1,
      "outputs": []
    },
    {
      "cell_type": "code",
      "source": [
        "def evaluar_rendimiento_validacion(train_loss, train_acc, val_loss, val_acc):\n",
        "    # Configuración de la figura para las gráficas\n",
        "    fig, axs = plt.subplots(1, 2, figsize=(10, 4))\n",
        "\n",
        "    # Gráfica de pérdida\n",
        "    axs[0].plot(range(1, len(train_loss) + 1), train_loss, label='Pérdida de entrenamiento')\n",
        "    axs[0].plot(range(1, len(val_loss) + 1), val_loss, label='Pérdida de validación')\n",
        "    axs[0].set_xlabel('Época')\n",
        "    axs[0].set_ylabel('Pérdida')\n",
        "    axs[0].legend()\n",
        "    axs[0].set_title('Gráfica de Pérdida')\n",
        "\n",
        "    # Gráfica de precisión\n",
        "    axs[1].plot(range(1, len(train_acc) + 1), train_acc, label='Precisión de entrenamiento')\n",
        "    axs[1].plot(range(1, len(val_acc) + 1), val_acc, label='Precisión de validación')\n",
        "    axs[1].set_xlabel('Época')\n",
        "    axs[1].set_ylabel('Precisión')\n",
        "    axs[1].legend()\n",
        "    axs[1].set_title('Gráfica de Precisión')\n",
        "\n",
        "    plt.show()"
      ],
      "metadata": {
        "id": "mIPnMqXNsd5Y"
      },
      "execution_count": 2,
      "outputs": []
    },
    {
      "cell_type": "code",
      "source": [
        "global super_to_sub\n",
        "super_to_sub = {\n",
        "    \"aquatic mammals\": ['beaver', 'dolphin', 'otter', 'seal', 'whale'],\n",
        "    \"fish\": ['aquarium_fish', 'flatfish', 'ray', 'shark', 'trout'],\n",
        "    \"flowers\": ['orchid', 'poppy', 'rose', 'sunflower', 'tulip'],\n",
        "    \"food containers\": ['bottle', 'bowl', 'can', 'cup', 'plate'],\n",
        "    \"fruit and vegetables\": ['apple', 'mushroom', 'orange', 'pear', 'sweet_pepper'],\n",
        "    \"household electrical devices\": ['clock', 'keyboard', 'lamp', 'telephone', 'television'],\n",
        "    \"household furniture\": ['bed', 'chair', 'couch', 'table', 'wardrobe'],\n",
        "    \"insects\": ['bee', 'beetle', 'butterfly', 'caterpillar', 'cockroach'],\n",
        "    \"large carnivores\": ['bear', 'leopard', 'lion', 'tiger', 'wolf'],\n",
        "    \"large man-made outdoor things\": ['bridge', 'castle', 'house', 'road', 'skyscraper'],\n",
        "    \"large natural outdoor scenes\": ['cloud', 'forest', 'mountain', 'plain', 'sea'],\n",
        "    \"large omnivores and herbivores\": ['camel', 'cattle', 'chimpanzee', 'elephant', 'kangaroo'],\n",
        "    \"medium-sized mammals\": ['fox', 'porcupine', 'possum', 'raccoon', 'skunk'],\n",
        "    \"non-insect invertebrates\": ['crab', 'lobster', 'snail', 'spider', 'worm'],\n",
        "    \"people\": ['baby', 'boy', 'girl', 'man', 'woman'],\n",
        "    \"reptiles\": ['crocodile', 'dinosaur', 'lizard', 'snake', 'turtle'],\n",
        "    \"small mammals\": ['hamster', 'mouse', 'rabbit', 'shrew', 'squirrel'],\n",
        "    \"trees\": ['maple_tree', 'oak_tree', 'palm_tree', 'pine_tree', 'willow_tree'],\n",
        "    \"vehicles 1\": ['bicycle', 'bus', 'motorcycle', 'pickup_truck', 'train'],\n",
        "    \"vehicles 2\": ['lawn_mower', 'rocket', 'streetcar', 'tank', 'tractor']}\n",
        "def find_superclass(class_name):\n",
        "  for superclass, classes in super_to_sub.items():\n",
        "      if class_name in classes:\n",
        "          return superclass\n",
        "  return None\n",
        "def find_superclass_index(class_name):\n",
        "  for superclass, classes in super_to_sub.items():\n",
        "      if class_name in classes:\n",
        "          # Busca el índice de la superclase en la lista de nombres de superclases\n",
        "          return super_class_names.index(superclass)\n",
        "  return None"
      ],
      "metadata": {
        "id": "ADK9Qry_Xxsq"
      },
      "execution_count": 3,
      "outputs": []
    },
    {
      "cell_type": "markdown",
      "source": [
        "# Inicialización de datos\n",
        "En primer lugar, se importan todas las librerías que son necesarias a lo largo de esta práctica:"
      ],
      "metadata": {
        "id": "qpSpEvcxSZls"
      }
    },
    {
      "cell_type": "code",
      "source": [
        "%tensorflow_version 2.x\n",
        "import tensorflow as tf\n",
        "from tensorflow import keras\n",
        "from keras import utils\n",
        "from keras.utils import to_categorical\n",
        "import numpy as np\n",
        "import matplotlib.pyplot as plt\n",
        "from collections import Counter\n",
        "from keras import Sequential\n",
        "from keras.layers import Conv2D\n",
        "from keras.layers import MaxPooling2D\n",
        "from keras.layers import Dense\n",
        "from keras.layers import Flatten\n",
        "from keras.layers import Dropout, BatchNormalization\n",
        "from keras.optimizers import RMSprop\n",
        "from sklearn.model_selection import train_test_split\n",
        "from sklearn.utils import shuffle\n",
        "from keras.regularizers import l2\n",
        "from keras.callbacks import ReduceLROnPlateau\n",
        "from keras.preprocessing.image import ImageDataGenerator\n",
        "import gc\n",
        "gc.collect()#LIMPIA BASURA"
      ],
      "metadata": {
        "id": "ofw6MsykIP4E",
        "colab": {
          "base_uri": "https://localhost:8080/"
        },
        "outputId": "41c65efa-67c1-4f87-b326-54cf151c537a"
      },
      "execution_count": 4,
      "outputs": [
        {
          "output_type": "stream",
          "name": "stdout",
          "text": [
            "Colab only includes TensorFlow 2.x; %tensorflow_version has no effect.\n"
          ]
        },
        {
          "output_type": "execute_result",
          "data": {
            "text/plain": [
              "0"
            ]
          },
          "metadata": {},
          "execution_count": 4
        }
      ]
    },
    {
      "cell_type": "markdown",
      "source": [
        "También, se comprueba que se está utilizando una version de TensorFlow 2.0.0 o superior:"
      ],
      "metadata": {
        "id": "Z925HhSm13H5"
      }
    },
    {
      "cell_type": "code",
      "source": [
        "print(tf.__version__)"
      ],
      "metadata": {
        "id": "ixsbgWZH1z4W",
        "colab": {
          "base_uri": "https://localhost:8080/"
        },
        "outputId": "012aa8c6-e4b8-491b-e7a8-82c84ef74a87"
      },
      "execution_count": 5,
      "outputs": [
        {
          "output_type": "stream",
          "name": "stdout",
          "text": [
            "2.14.0\n"
          ]
        }
      ]
    },
    {
      "cell_type": "markdown",
      "source": [
        "A continuación, se cargan los datos de entrenamiento y de test a partir del método 'keras.datasets.cifar100'. Estos datos son los que se van a estar utilizando a lo largo de toda esta práctica."
      ],
      "metadata": {
        "id": "Crh-M7xp2RR5"
      }
    },
    {
      "cell_type": "code",
      "source": [
        "cifar100 = keras.datasets.cifar100\n",
        "(X, y), (test_X, test_y) = cifar100.load_data()"
      ],
      "metadata": {
        "id": "8JdaRTscrB4W",
        "colab": {
          "base_uri": "https://localhost:8080/"
        },
        "outputId": "02f7d6b8-62db-452b-d8eb-5a6c023b5ec8"
      },
      "execution_count": 6,
      "outputs": [
        {
          "output_type": "stream",
          "name": "stdout",
          "text": [
            "Downloading data from https://www.cs.toronto.edu/~kriz/cifar-100-python.tar.gz\n",
            "169001437/169001437 [==============================] - 2s 0us/step\n"
          ]
        }
      ]
    },
    {
      "cell_type": "markdown",
      "metadata": {
        "id": "WDfSY9jsaYgV"
      },
      "source": [
        "# Pre procesado de datos / Visualización de los datos"
      ]
    },
    {
      "cell_type": "markdown",
      "source": [
        "Se comprueba que se han descargado las 60000 imágenes en cuestión:"
      ],
      "metadata": {
        "id": "1TLrSimlbebw"
      }
    },
    {
      "cell_type": "code",
      "source": [
        "print(\"TAMAÑO TRAIN_DATA:\",X.shape)\n",
        "print(\"TAMAÑO TEST_DATA:\",test_X.shape)\n",
        "print(\"TAMAÑO TRAIN_LABELS:\",y.shape)\n",
        "print(\"TAMAÑO TEST_LABELS:\",test_y.shape)"
      ],
      "metadata": {
        "id": "YO7A-RLoaiB7",
        "colab": {
          "base_uri": "https://localhost:8080/"
        },
        "outputId": "b0eb764f-4734-4d58-e7aa-80bde3f089a5"
      },
      "execution_count": 7,
      "outputs": [
        {
          "output_type": "stream",
          "name": "stdout",
          "text": [
            "TAMAÑO TRAIN_DATA: (50000, 32, 32, 3)\n",
            "TAMAÑO TEST_DATA: (10000, 32, 32, 3)\n",
            "TAMAÑO TRAIN_LABELS: (50000, 1)\n",
            "TAMAÑO TEST_LABELS: (10000, 1)\n"
          ]
        }
      ]
    },
    {
      "cell_type": "markdown",
      "source": [
        "Se presentan las listas 'super_class_names', 'class_names'. Se presentan estas listas para comprobar los datos que se han descargado de cifar100 con fines de visualización de datos."
      ],
      "metadata": {
        "id": "3OYMx8uvX7NK"
      }
    },
    {
      "cell_type": "code",
      "source": [
        "super_class_names = [\"aquatic mammals\",\n",
        "                     \"fish\",\n",
        "                     \"flowers\",\n",
        "                     \"food containers\",\n",
        "                     \"fruit and vegetables\",\n",
        "                     \"household electrical devices\",\n",
        "                     \"household furniture\",\n",
        "                     \"insects\", \"large carnivores\",\n",
        "                     \"large man-made outdoor things\",\n",
        "                     \"large natural outdoor scenes\",\n",
        "                     \"large omnivores and herbivores\",\n",
        "                     \"medium-sized mammals\",\n",
        "                     \"non-insect invertebrates\",\n",
        "                     \"people\",\n",
        "                     \"reptiles\",\n",
        "                     \"small mammals\",\n",
        "                     \"trees\",\n",
        "                     \"vehicles 1\",\n",
        "                     \"vehicles 2\"]\n",
        "\n",
        "class_names = ['apple', 'aquarium_fish', 'baby', 'bear', 'beaver', 'bed',\n",
        "               'bee', 'beetle', 'bicycle', 'bottle', 'bowl', 'boy', 'bridge',\n",
        "               'bus', 'butterfly', 'camel', 'can', 'castle', 'caterpillar',\n",
        "               'cattle', 'chair', 'chimpanzee', 'clock', 'cloud', 'cockroach',\n",
        "               'couch', 'crab', 'crocodile', 'cup', 'dinosaur', 'dolphin',\n",
        "               'elephant', 'flatfish', 'forest', 'fox', 'girl', 'hamster',\n",
        "               'house', 'kangaroo', 'keyboard', 'lamp', 'lawn_mower', 'leopard',\n",
        "               'lion', 'lizard', 'lobster', 'man', 'maple_tree', 'motorcycle',\n",
        "               'mountain', 'mouse', 'mushroom', 'oak_tree', 'orange', 'orchid',\n",
        "               'otter', 'palm_tree', 'pear', 'pickup_truck', 'pine_tree',\n",
        "               'plain', 'plate', 'poppy', 'porcupine', 'possum', 'rabbit',\n",
        "               'raccoon', 'ray', 'road', 'rocket', 'rose', 'sea', 'seal',\n",
        "               'shark', 'shrew', 'skunk', 'skyscraper', 'snail', 'snake',\n",
        "               'spider', 'squirrel', 'streetcar', 'sunflower', 'sweet_pepper',\n",
        "               'table', 'tank', 'telephone', 'television', 'tiger', 'tractor',\n",
        "               'train', 'trout', 'tulip', 'turtle', 'wardrobe', 'whale',\n",
        "               'willow_tree', 'wolf', 'woman', 'worm']\n",
        "\n",
        "# Se prueba con la función find_superclass la utilidad de estas listas para\n",
        "# visualizar mejor los datos (están todos en formato numérico y son 100 clases!\n",
        "# --> esto puede complicar el entendimiento de la base de datos debido a su\n",
        "# densidad).\n",
        "\n",
        "superclass = find_superclass(class_names[0])\n",
        "print(f\"La superclase de '{class_names[0]}' es '{superclass}'.\")"
      ],
      "metadata": {
        "id": "jKcWy4LFXrdO",
        "colab": {
          "base_uri": "https://localhost:8080/"
        },
        "outputId": "a1ac0717-2f94-4300-ac6e-3d8fb171d190"
      },
      "execution_count": 8,
      "outputs": [
        {
          "output_type": "stream",
          "name": "stdout",
          "text": [
            "La superclase de 'apple' es 'fruit and vegetables'.\n"
          ]
        }
      ]
    },
    {
      "cell_type": "markdown",
      "source": [
        "Visualizamos los datos de entrenamiento:"
      ],
      "metadata": {
        "id": "OCxq_OLkaRZ_"
      }
    },
    {
      "cell_type": "code",
      "source": [
        "#PRIMERA IMAGEN:\n",
        "imagen = X[0]\n",
        "train_labels = y.reshape(50000)\n",
        "print(\"Clase:\",class_names[train_labels[0]])\n",
        "superclass = find_superclass(class_names[train_labels[0]])\n",
        "print(f\"La superclase de '{class_names[train_labels[0]]}' es '{superclass}'.\")\n",
        "print(\"Imagen:\")\n",
        "# Se muestra la imagen usando imshow()\n",
        "plt.imshow(imagen)\n",
        "plt.show()"
      ],
      "metadata": {
        "id": "qBexnWLs58gm",
        "colab": {
          "base_uri": "https://localhost:8080/",
          "height": 484
        },
        "outputId": "faaa71da-e9a9-4dd5-fd3a-b4431e8eb92c"
      },
      "execution_count": 9,
      "outputs": [
        {
          "output_type": "stream",
          "name": "stdout",
          "text": [
            "Clase: cattle\n",
            "La superclase de 'cattle' es 'large omnivores and herbivores'.\n",
            "Imagen:\n"
          ]
        },
        {
          "output_type": "display_data",
          "data": {
            "text/plain": [
              "<Figure size 640x480 with 1 Axes>"
            ],
            "image/png": "[encoded data removed]"
          },
          "metadata": {}
        }
      ]
    },
    {
      "cell_type": "markdown",
      "source": [
        "Nótese que la etiqueta (cattle -> ganado) coincide con la imagen, confirmando la validez de los datos. Se prueba con un par más de imágenes:"
      ],
      "metadata": {
        "id": "2pfBfNbjb4QU"
      }
    },
    {
      "cell_type": "code",
      "source": [
        "#ÚLTIMA IMAGEN:\n",
        "imagen = X[49999]\n",
        "print(\"Clase:\",class_names[train_labels[49999]])\n",
        "superclass = find_superclass(class_names[train_labels[49999]])\n",
        "print(f\"La superclase de '{class_names[train_labels[49999]]}' es '{superclass}'.\")\n",
        "print(\"Imagen:\")\n",
        "# Se muestra la imagen usando imshow()\n",
        "plt.imshow(imagen)\n",
        "plt.show()"
      ],
      "metadata": {
        "id": "MWBfCaR8blbO",
        "colab": {
          "base_uri": "https://localhost:8080/",
          "height": 484
        },
        "outputId": "f5dd2f03-5342-409a-cbd2-18f47013ecb3"
      },
      "execution_count": 10,
      "outputs": [
        {
          "output_type": "stream",
          "name": "stdout",
          "text": [
            "Clase: shark\n",
            "La superclase de 'shark' es 'fish'.\n",
            "Imagen:\n"
          ]
        },
        {
          "output_type": "display_data",
          "data": {
            "text/plain": [
              "<Figure size 640x480 with 1 Axes>"
            ],
            "image/png": "[encoded data removed]"
          },
          "metadata": {}
        }
      ]
    },
    {
      "cell_type": "code",
      "source": [
        "#IMAGEN nº 12345:\n",
        "imagen = X[12345]\n",
        "print(\"Clase:\",class_names[train_labels[12345]])\n",
        "superclass = find_superclass(class_names[train_labels[12345]])\n",
        "print(f\"La superclase de '{class_names[train_labels[12345]]}' es '{superclass}'.\")\n",
        "print(\"Imagen:\")\n",
        "# Se muestra la imagen usando imshow()\n",
        "plt.imshow(imagen)\n",
        "plt.show()"
      ],
      "metadata": {
        "id": "CvdHjbmOcU4o",
        "colab": {
          "base_uri": "https://localhost:8080/",
          "height": 484
        },
        "outputId": "c238ac2f-a580-4296-8293-7357de31eb4b"
      },
      "execution_count": 11,
      "outputs": [
        {
          "output_type": "stream",
          "name": "stdout",
          "text": [
            "Clase: mountain\n",
            "La superclase de 'mountain' es 'large natural outdoor scenes'.\n",
            "Imagen:\n"
          ]
        },
        {
          "output_type": "display_data",
          "data": {
            "text/plain": [
              "<Figure size 640x480 with 1 Axes>"
            ],
            "image/png": "[encoded data removed]"
          },
          "metadata": {}
        }
      ]
    },
    {
      "cell_type": "markdown",
      "source": [
        "Se visualizan las distintas matrices rgb de la última imagen de los datos:"
      ],
      "metadata": {
        "id": "hnx4Sifffhg7"
      }
    },
    {
      "cell_type": "code",
      "source": [
        "for i, color in enumerate(['ROJO', 'VERDE', 'AZUL']):\n",
        "    # Se extrae la matriz del canal de color actual\n",
        "    matriz_color = np.take(X[49999], i, axis=2)\n",
        "    # Se configuran las opciones de impresión\n",
        "    np.set_printoptions(threshold=np.inf,precision=2,suppress=True,linewidth=140)\n",
        "    # Se imprimen la matriz junto con la etiqueta del color\n",
        "    print(f\"MATRIZ {color}:\\n{np.matrix(matriz_color)}\\n\")"
      ],
      "metadata": {
        "id": "FG_vo5W6dYlw",
        "colab": {
          "base_uri": "https://localhost:8080/"
        },
        "outputId": "27711b88-d08b-40bd-c34e-491fbccfb4dc"
      },
      "execution_count": 12,
      "outputs": [
        {
          "output_type": "stream",
          "name": "stdout",
          "text": [
            "MATRIZ ROJO:\n",
            "[[ 31  30  31  32  31  31  32  31  30  30  31  31  31  31  31  31  32  32  32  32  31  31  31  31  32  32  32  31  32  32  32  32]\n",
            " [ 29  28  30  31  31  31  32  31  30  28  27  28  28  27  27  27  28  28  28  28  28  28  28  29  30  31  31  30  32  32  32  31]\n",
            " [ 30  29  30  31  30  30  31  30  30  29  28  28  29  29  28  27  28  28  28  28  28  28  28  27  28  30  30  29  31  32  31  30]\n",
            " [ 31  30  30  30  30  30  30  29  29  28  29  29  29  30  29  28  29  29  29  29  29  29  29  28  27  30  30  30  31  31  30  29]\n",
            " [ 31  29  30  31  31  30  29  28  28  27  28  28  29  29  29  29  29  28  28  29  29  29  30  31  27  30  31  30  31  31  31  30]\n",
            " [ 31  29  30  31  31  30  30  29  28  28  28  28  29  29  29  29  29  28  28  28  29  29  29  29  30  29  29  30  31  31  31  30]\n",
            " [ 31  30  30  31  31  30  30  30  29  28  28  29  29  29  29  29  29  29  29  29  29  29  29  31  34  31  29  30  31  32  31  30]\n",
            " [ 31  30  30  31  31  30  30  30  29  28  28  29  29  29  29  29  28  28  29  29  28  28  29  31  32  32  29  30  31  32  31  30]\n",
            " [ 31  29  30  31  31  30  30  30  29  28  28  28  29  29  28  27  29  29  28  28  29  30  30  29  34  30  29  30  30  31  31  30]\n",
            " [ 30  29  30  31  31  30  30  30  29  28  28  28  29  29  30  30  34  34  32  32  33  34  32  30  35  32  29  30  30  31  31  30]\n",
            " [ 30  29  30  31  31  30  30  30  29  28  28  29  29  29  30  31  30  30  27  27  27  27  28  29  33  32  30  30  30  30  30  30]\n",
            " [ 30  29  30  31  30  30  30  30  29  28  28  29  30  29  26  26  29  30  30  30  31  31  29  28  30  28  31  30  30  30  30  29]\n",
            " [ 31  29  30  30  29  28  29  30  29  29  28  29  29  30  33  36  40  45  46  50  58  56  37  33  32  24  29  30  31  30  30  30]\n",
            " [ 29  28  29  31  31  30  29  27  26  29  32  32  32  31  30  31  35  39  43  49  58  61  48  36  37  37  32  26  29  32  33  32]\n",
            " [ 29  31  32  30  29  30  30  29  31  33  32  30  33  41  40  36  36  32  30  32  34  42  45  42  40  42  37  31  32  31  30  29]\n",
            " [ 32  29  27  28  32  35  41  36  34  30  27  29  33  32  30  35  38  43  33  33  32  30  31  33  32  31  31  32  33  30  28  28]\n",
            " [ 30  34  49  83 126  89  77  89  64  69  67  71  78  58  44  46  45  48  44  46  56  52  44  31  27  28  29  30  29  29  30  32]\n",
            " [ 49 121 160 180 205 132 108 137 124 126 122 138 145 111  72  64  58  42  36  38  52  58  49  33  29  29  29  31  32  31  30  29]\n",
            " [ 40 109 160 176 170 163 170 167 164 154 133 163 177 148  84  74  71  51  49  41  34  37  42  34  32  33  31  31  30  31  30  29]\n",
            " [ 33  35  51  77  95 121 143 168 202 192 172 179 169 146  95  87  80  67  59  62  47  29  28  28  27  28  27  28  30  29  29  31]\n",
            " [ 35  32  28  25  83 160 188 205 219 203 176 166 154 132 108 108  98  77  57  68  67  69  51  43  38  33  30  32  35  33  33  35]\n",
            " [ 31  32  35  31  59  98 121 142 157 159 142 139 131 113 114 104  89  72  52  36  39  78  87  68  52  41  36  35  31  28  31  34]\n",
            " [ 34  34  33  32  28  25  26  31  45  64  78  84  75  63  60  50  43  38  35  29  34  50  69  41  25  30  32  32  32  32  35  37]\n",
            " [ 35  35  34  33  32  32  32  29  26  27  31  31  29  30  31  31  32  33  34  34  32  32  35  36  37  36  32  31  33  33  34  35]\n",
            " [ 36  35  35  35  33  33  34  33  32  31  31  32  31  30  31  32  32  32  31  31  35  35  30  34  34  31  32  34  35  31  34  35]\n",
            " [ 37  36  36  36  34  33  33  33  31  31  32  33  33  33  32  31  31  30  30  32  32  32  34  31  31  33  34  34  36  37  36  36]\n",
            " [ 36  36  36  36  35  34  33  33  32  31  32  32  32  33  32  32  33  32  32  35  35  32  34  35  35  35  34  33  35  36  36  36]\n",
            " [ 36  36  36  36  36  34  34  34  34  33  33  33  33  32  32  32  34  33  34  35  36  35  34  35  36  37  36  35  36  36  36  36]\n",
            " [ 37  37  37  36  36  36  35  35  34  34  34  34  34  34  34  34  35  35  35  35  35  35  35  36  36  37  36  36  37  37  37  37]\n",
            " [ 39  38  38  37  37  37  37  36  36  36  36  36  36  36  36  36  37  37  37  36  36  35  35  36  36  37  37  37  39  39  38  39]\n",
            " [ 40  39  39  38  38  38  37  36  36  37  37  37  37  37  37  36  37  37  37  36  36  35  35  36  36  37  38  38  39  39  40  40]\n",
            " [ 40  40  40  40  39  39  37  37  38  37  36  36  36  37  36  36  36  36  36  37  37  36  36  38  38  38  39  40  42  41  39  40]]\n",
            "\n",
            "MATRIZ VERDE:\n",
            "[[ 67  68  69  69  71  72  72  73  74  75  75  76  76  77  77  77  76  76  76  76  76  75  75  75  74  73  73  72  71  70  70  69]\n",
            " [ 68  69  69  69  70  71  72  73  75  76  77  78  78  79  79  78  78  78  78  78  78  78  77  76  74  74  73  72  71  70  69  69]\n",
            " [ 67  68  69  70  71  72  72  74  76  77  77  77  78  80  79  78  78  77  77  77  78  78  77  77  76  76  75  74  73  72  70  69]\n",
            " [ 67  68  69  70  71  72  73  74  76  77  77  77  78  80  79  78  78  77  77  77  77  77  77  77  77  76  75  74  73  72  70  69]\n",
            " [ 68  68  69  70  72  72  73  74  76  77  78  78  79  79  79  79  79  78  78  78  77  77  76  75  77  76  74  73  72  71  70  69]\n",
            " [ 68  68  69  70  72  73  74  75  76  77  78  78  79  79  79  79  79  78  78  77  77  77  77  77  76  76  75  73  72  71  70  69]\n",
            " [ 68  69  69  70  72  73  74  75  76  78  78  79  79  79  79  79  79  79  79  78  77  77  77  77  72  75  75  73  72  72  70  69]\n",
            " [ 68  69  69  70  72  73  74  76  77  78  78  79  79  79  79  79  79  79  80  79  77  77  77  73  64  72  75  73  72  72  70  69]\n",
            " [ 68  68  69  70  72  73  74  76  77  78  78  78  79  79  79  79  79  79  79  80  79  78  77  73  60  71  74  72  72  71  70  69]\n",
            " [ 67  68  69  70  72  73  74  76  77  78  78  78  79  79  79  79  78  78  79  79  79  78  76  76  61  73  74  73  72  70  69  69]\n",
            " [ 67  68  69  70  71  72  74  76  77  78  78  79  80  80  80  80  80  81  82  82  81  80  82  86  67  72  73  73  72  70  69  69]\n",
            " [ 68  69  69  70  71  72  74  76  77  78  78  79  79  80  81  84  84  85  86  88  90  89  90  99  76  74  75  74  73  71  69  69]\n",
            " [ 67  69  70  70  72  74  74  75  76  78  80  83  89  97 107 117 126 134 140 145 150 146 126 119  96  81  75  72  72  71  70  68]\n",
            " [ 68  69  72  72  73  73  75  78  86  93 101 110 117 120 122 124 128 136 146 155 162 163 150 136 128 119 102  84  73  69  69  68]\n",
            " [ 68  69  72  75  77  80  88 101 111 114 117 123 128 133 134 132 125 117 112 119 130 141 144 139 138 144 144 124 100  80  70  68]\n",
            " [ 67  69  74  84  98 106 116 122 112 101 101 109 117 121 125 134 144 146 129 126 126 128 129 126 124 124 126 124 116 105  90  74]\n",
            " [ 76  99 124 156 187 139 138 174 148 149 152 157 171 162 155 163 169 169 158 161 173 168 159 138 122 109 101 100  99  99  98  89]\n",
            " [110 197 231 243 255 182 164 215 214 223 222 227 233 209 179 178 179 163 148 153 176 186 178 156 134 113  98  89  86  85  87  91]\n",
            " [ 90 171 226 242 238 235 238 238 241 236 222 238 252 236 181 175 170 151 145 144 148 151 156 143 126 111  98  87  79  77  78  83]\n",
            " [ 63  77 108 138 157 181 192 211 241 246 245 248 244 226 178 175 166 153 147 160 149 121 116 114 107 101  95  90  83  77  78  82]\n",
            " [ 61  64  65  69 134 211 230 242 253 254 248 238 235 215 188 193 181 157 140 154 145 143 131 127 121 116 114 112 102  89  80  74]\n",
            " [ 61  62  64  69 104 147 176 200 219 227 222 218 216 198 194 186 163 140 121 103 103 152 171 150 138 130 124 117 101  81  66  56]\n",
            " [ 58  59  61  65  65  65  71  83 104 134 152 157 147 131 123 108  96  89  86  75  87 123 150 123  93  83  77  69  61  58  61  60]\n",
            " [ 56  57  59  62  64  67  68  70  72  78  83  83  78  74  71  68  66  67  67  66  60  65  84  96  89  78  68  64  63  60  57  57]\n",
            " [ 54  55  56  58  61  63  64  66  68  68  68  69  68  67  67  66  65  65  63  63  60  58  60  63  69  74  72  69  70  62  55  54]\n",
            " [ 52  54  54  56  58  60  61  62  63  64  65  65  65  64  64  64  63  63  63  61  62  63  62  61  59  58  57  56  55  54  54  52]\n",
            " [ 50  52  53  55  56  57  59  60  61  62  62  62  62  61  61  60  60  60  60  59  60  59  57  58  57  56  56  56  55  53  52  50]\n",
            " [ 47  49  51  53  54  55  56  57  59  60  60  60  60  59  59  59  58  57  58  58  57  56  56  56  54  53  53  53  52  51  49  47]\n",
            " [ 44  45  47  49  51  52  52  54  56  57  57  57  57  56  56  57  56  55  55  55  55  54  54  53  52  50  50  49  48  47  46  44]\n",
            " [ 41  42  44  45  47  49  49  51  52  54  54  54  54  54  54  54  53  53  53  52  52  51  51  50  49  47  47  46  45  44  42  41]\n",
            " [ 39  40  41  42  44  45  46  48  49  51  52  52  52  52  51  51  50  50  50  50  50  49  49  47  46  44  44  43  41  41  41  39]\n",
            " [ 39  39  39  39  40  42  44  44  45  45  47  49  49  48  47  47  47  47  47  47  46  45  44  43  42  42  41  40  39  38  38  37]]\n",
            "\n",
            "MATRIZ AZUL:\n",
            "[[122 124 126 128 131 133 134 134 135 136 137 137 137 138 138 138 138 138 138 137 136 136 136 136 136 135 133 131 131 129 125 122]\n",
            " [126 128 130 132 135 136 133 134 134 136 137 138 138 138 138 138 138 138 138 137 136 136 136 138 138 138 135 133 133 131 127 124]\n",
            " [126 128 130 132 135 137 135 136 137 139 140 140 140 141 140 140 140 140 140 139 138 138 138 137 137 137 134 132 132 132 130 127]\n",
            " [126 128 130 132 133 135 136 137 138 139 140 140 141 143 142 141 140 139 140 139 139 139 139 136 133 135 134 132 131 131 130 128]\n",
            " [127 129 131 132 134 134 136 136 138 138 139 139 140 142 142 142 139 137 137 138 139 139 139 137 135 137 136 134 134 132 127 126]\n",
            " [127 129 131 132 134 134 137 137 138 138 139 139 141 142 142 142 140 139 139 139 139 139 138 136 140 137 135 134 134 132 127 126]\n",
            " [127 130 131 132 134 134 137 138 138 139 139 140 141 142 142 142 142 142 141 140 139 139 139 135 128 132 135 134 134 132 127 126]\n",
            " [127 130 131 132 134 135 137 138 139 139 139 140 141 142 142 142 143 143 143 141 139 139 140 129 102 123 137 134 134 132 127 126]\n",
            " [127 129 131 132 135 137 137 138 139 139 139 139 140 141 140 140 143 144 144 141 138 140 137 118  91 124 138 135 133 132 130 128]\n",
            " [127 128 130 132 135 137 137 138 139 139 139 139 140 140 140 140 143 143 143 143 140 137 130 119  95 128 137 134 132 131 130 127]\n",
            " [125 126 129 131 134 135 137 138 139 139 139 140 141 141 141 141 142 143 142 143 140 131 127 131 105 127 134 133 130 128 128 126]\n",
            " [123 125 127 130 132 134 137 138 139 139 139 140 140 140 140 142 142 143 144 145 143 135 132 144 115 126 133 132 129 127 126 124]\n",
            " [122 124 126 129 132 134 136 139 139 139 140 143 148 153 160 167 172 179 183 185 187 180 160 159 135 130 131 130 127 125 124 122]\n",
            " [121 123 125 128 131 132 133 138 141 144 152 161 165 165 165 166 169 176 184 187 191 192 179 167 164 161 151 136 128 124 122 121]\n",
            " [120 123 129 132 134 138 142 152 156 156 160 165 170 174 175 173 168 162 158 161 168 178 181 176 175 181 182 168 149 134 125 119]\n",
            " [118 123 132 135 138 146 154 162 156 145 145 153 162 167 172 181 185 186 171 169 168 169 170 169 166 165 167 166 159 150 138 123]\n",
            " [122 143 163 179 197 152 150 190 172 173 174 180 196 192 188 198 202 204 195 197 207 201 194 180 166 156 147 143 141 140 140 135]\n",
            " [143 211 232 235 248 180 165 215 215 224 222 225 227 214 204 204 204 199 189 190 212 218 209 194 177 163 147 134 125 123 127 136]\n",
            " [124 185 217 224 224 225 227 226 225 224 211 225 233 229 202 200 196 188 187 184 188 191 198 189 175 163 151 134 120 117 118 127]\n",
            " [106 114 136 162 168 176 179 198 227 228 226 230 222 220 194 196 189 185 182 195 184 162 166 167 159 151 147 140 130 123 125 129]\n",
            " [105 107 107 108 150 198 210 222 230 231 229 225 221 212 198 205 196 179 167 185 175 171 167 168 164 161 160 161 152 136 126 117]\n",
            " [102 102 103 108 138 163 185 205 217 218 213 217 216 205 206 197 180 162 148 134 129 170 192 183 174 169 167 164 148 123 102  90]\n",
            " [ 99 101 102 104 105 107 112 120 137 157 171 177 169 157 150 138 127 121 118 110 119 148 175 155 132 126 122 112 100  94  97  98]\n",
            " [ 96  98  99 100 103 107 107 109 112 118 123 123 118 113 111 108 105 105 106 104  98 101 116 128 125 117 105 100  98  98  98  94]\n",
            " [ 92  94  96  98 101 103 103 106 110 109 108 109 108 108 108 107 104 103 102 101  99  97  98 102 106 108 107 108 111 104  96  90]\n",
            " [ 88  90  93  95  98 101 103 103 102 102 103 104 103 104 103 102 102 102 101 101 102 102 102 100  98  98  98  97  97  94  90  88]\n",
            " [ 85  87  88  91  94  96  99  99  98 100 101 102 101 101 100 100 100 100 100 101 101 100  99  97  97  96  92  89  88  86  86  85]\n",
            " [ 83  83  85  87  90  92  93  94  95  97  98  98  98  99  99  99  99  98  99  98  97  96  95  94  93  92  89  86  86  85  83  82]\n",
            " [ 80  80  82  84  87  89  89  90  90  92  93  93  93  94  94  95  94  94  94  93  92  91  91  89  88  87  85  84  84  83  80  79]\n",
            " [ 76  76  78  80  83  85  85  86  87  88  89  89  89  90  90  90  90  89  89  88  87  87  87  85  84  83  82  80  80  79  77  76]\n",
            " [ 73  74  76  77  80  82  81  82  83  85  85  85  85  87  87  86  86  86  86  85  84  83  83  81  81  80  79  78  77  76  74  73]\n",
            " [ 70  71  72  72  74  77  78  78  79  79  80  80  81  83  82  82  82  82  82  82  81  80  79  78  77  77  77  77  75  72  69  67]]\n",
            "\n"
          ]
        }
      ]
    },
    {
      "cell_type": "markdown",
      "source": [
        "Visualizamos los datos de entrenamiento:"
      ],
      "metadata": {
        "id": "qEfHWBUqbtjs"
      }
    },
    {
      "cell_type": "code",
      "source": [
        "#PRIMERA IMAGEN:\n",
        "imagen = test_X[0]\n",
        "test_labels = test_y.reshape(10000)\n",
        "print(\"Clase:\",class_names[test_labels[0]])\n",
        "superclass = find_superclass(class_names[test_labels[0]])\n",
        "print(f\"La superclase de '{class_names[test_labels[0]]}' es '{superclass}'.\")\n",
        "print(\"Imagen:\")\n",
        "# Se muestra la imagen usando imshow()\n",
        "plt.imshow(imagen)\n",
        "plt.show()"
      ],
      "metadata": {
        "id": "e1tG4vdhgiZl",
        "colab": {
          "base_uri": "https://localhost:8080/",
          "height": 484
        },
        "outputId": "a171f4e1-64df-41fd-b31e-b4d642662784"
      },
      "execution_count": 13,
      "outputs": [
        {
          "output_type": "stream",
          "name": "stdout",
          "text": [
            "Clase: mountain\n",
            "La superclase de 'mountain' es 'large natural outdoor scenes'.\n",
            "Imagen:\n"
          ]
        },
        {
          "output_type": "display_data",
          "data": {
            "text/plain": [
              "<Figure size 640x480 with 1 Axes>"
            ],
            "image/png": "[encoded data removed]"
          },
          "metadata": {}
        }
      ]
    },
    {
      "cell_type": "markdown",
      "source": [
        "Nótese que la etiqueta (mountain) coincide con la imagen, confirmando la validez de los datos. Se prueba con un par más de imágenes:"
      ],
      "metadata": {
        "id": "iYHFvYD1jXYx"
      }
    },
    {
      "cell_type": "code",
      "source": [
        "#ÚLTIMA IMAGEN:\n",
        "imagen = test_X[9999]\n",
        "print(\"Clase:\",class_names[test_labels[9999]])\n",
        "superclass = find_superclass(class_names[test_labels[9999]])\n",
        "print(f\"La superclase de '{class_names[test_labels[9999]]}' es '{superclass}'.\")\n",
        "print(\"Imagen:\")\n",
        "# Se muestra la imagen usando imshow()\n",
        "plt.imshow(imagen)\n",
        "plt.show()"
      ],
      "metadata": {
        "colab": {
          "base_uri": "https://localhost:8080/",
          "height": 484
        },
        "id": "fcajbJmDjf18",
        "outputId": "8e17daea-2185-4e66-d8c4-60151ab6503c"
      },
      "execution_count": 14,
      "outputs": [
        {
          "output_type": "stream",
          "name": "stdout",
          "text": [
            "Clase: rose\n",
            "La superclase de 'rose' es 'flowers'.\n",
            "Imagen:\n"
          ]
        },
        {
          "output_type": "display_data",
          "data": {
            "text/plain": [
              "<Figure size 640x480 with 1 Axes>"
            ],
            "image/png": "[encoded data removed]"
          },
          "metadata": {}
        }
      ]
    },
    {
      "cell_type": "code",
      "source": [
        "#ÚLTIMA IMAGEN:\n",
        "imagen = test_X[3984]\n",
        "print(\"Clase:\",class_names[test_labels[3984]])\n",
        "superclass = find_superclass(class_names[test_labels[3984]])\n",
        "print(f\"La superclase de '{class_names[test_labels[3984]]}' es '{superclass}'.\")\n",
        "print(\"Imagen:\")\n",
        "# Se muestra la imagen usando imshow()\n",
        "plt.imshow(imagen)\n",
        "plt.show()"
      ],
      "metadata": {
        "colab": {
          "base_uri": "https://localhost:8080/",
          "height": 484
        },
        "id": "TbFlr69Mjupp",
        "outputId": "c3f481ba-689f-4731-e199-8dfd95f3ca6d"
      },
      "execution_count": 15,
      "outputs": [
        {
          "output_type": "stream",
          "name": "stdout",
          "text": [
            "Clase: lamp\n",
            "La superclase de 'lamp' es 'household electrical devices'.\n",
            "Imagen:\n"
          ]
        },
        {
          "output_type": "display_data",
          "data": {
            "text/plain": [
              "<Figure size 640x480 with 1 Axes>"
            ],
            "image/png": "[encoded data removed]"
          },
          "metadata": {}
        }
      ]
    },
    {
      "cell_type": "markdown",
      "source": [
        "Para continuar, con el objetivo de conocer el balance de las clases de la base de datos, se ejecuta el siguiente código:"
      ],
      "metadata": {
        "id": "Iora4cKJbjct"
      }
    },
    {
      "cell_type": "code",
      "source": [
        "index_count = Counter(train_labels)\n",
        "sorted_indices = sorted(index_count.items())\n",
        "for index, count in sorted_indices:\n",
        "    print(f'{class_names[index]}: {count}')"
      ],
      "metadata": {
        "colab": {
          "base_uri": "https://localhost:8080/"
        },
        "id": "VNZpQJQBi9EB",
        "outputId": "b0680d0b-66b7-4b78-f92b-42b268f300ef"
      },
      "execution_count": 16,
      "outputs": [
        {
          "output_type": "stream",
          "name": "stdout",
          "text": [
            "apple: 500\n",
            "aquarium_fish: 500\n",
            "baby: 500\n",
            "bear: 500\n",
            "beaver: 500\n",
            "bed: 500\n",
            "bee: 500\n",
            "beetle: 500\n",
            "bicycle: 500\n",
            "bottle: 500\n",
            "bowl: 500\n",
            "boy: 500\n",
            "bridge: 500\n",
            "bus: 500\n",
            "butterfly: 500\n",
            "camel: 500\n",
            "can: 500\n",
            "castle: 500\n",
            "caterpillar: 500\n",
            "cattle: 500\n",
            "chair: 500\n",
            "chimpanzee: 500\n",
            "clock: 500\n",
            "cloud: 500\n",
            "cockroach: 500\n",
            "couch: 500\n",
            "crab: 500\n",
            "crocodile: 500\n",
            "cup: 500\n",
            "dinosaur: 500\n",
            "dolphin: 500\n",
            "elephant: 500\n",
            "flatfish: 500\n",
            "forest: 500\n",
            "fox: 500\n",
            "girl: 500\n",
            "hamster: 500\n",
            "house: 500\n",
            "kangaroo: 500\n",
            "keyboard: 500\n",
            "lamp: 500\n",
            "lawn_mower: 500\n",
            "leopard: 500\n",
            "lion: 500\n",
            "lizard: 500\n",
            "lobster: 500\n",
            "man: 500\n",
            "maple_tree: 500\n",
            "motorcycle: 500\n",
            "mountain: 500\n",
            "mouse: 500\n",
            "mushroom: 500\n",
            "oak_tree: 500\n",
            "orange: 500\n",
            "orchid: 500\n",
            "otter: 500\n",
            "palm_tree: 500\n",
            "pear: 500\n",
            "pickup_truck: 500\n",
            "pine_tree: 500\n",
            "plain: 500\n",
            "plate: 500\n",
            "poppy: 500\n",
            "porcupine: 500\n",
            "possum: 500\n",
            "rabbit: 500\n",
            "raccoon: 500\n",
            "ray: 500\n",
            "road: 500\n",
            "rocket: 500\n",
            "rose: 500\n",
            "sea: 500\n",
            "seal: 500\n",
            "shark: 500\n",
            "shrew: 500\n",
            "skunk: 500\n",
            "skyscraper: 500\n",
            "snail: 500\n",
            "snake: 500\n",
            "spider: 500\n",
            "squirrel: 500\n",
            "streetcar: 500\n",
            "sunflower: 500\n",
            "sweet_pepper: 500\n",
            "table: 500\n",
            "tank: 500\n",
            "telephone: 500\n",
            "television: 500\n",
            "tiger: 500\n",
            "tractor: 500\n",
            "train: 500\n",
            "trout: 500\n",
            "tulip: 500\n",
            "turtle: 500\n",
            "wardrobe: 500\n",
            "whale: 500\n",
            "willow_tree: 500\n",
            "wolf: 500\n",
            "woman: 500\n",
            "worm: 500\n"
          ]
        }
      ]
    },
    {
      "cell_type": "markdown",
      "source": [
        "Se observa que la base de datos está perfectamente equilibrada, lo cual es una buena noticia para nosotros. Se realiza con las superclases también por terminar de validarlo."
      ],
      "metadata": {
        "id": "_tOAenk4fMey"
      }
    },
    {
      "cell_type": "code",
      "source": [
        "train_labels_superclass = np.floor_divide(y, 5)\n",
        "train_labels_superclass = train_labels_superclass.reshape(50000)\n",
        "index_count = Counter(train_labels_superclass)\n",
        "sorted_indices = sorted(index_count.items())\n",
        "for index, count in sorted_indices:\n",
        "    print(f'{super_class_names[index]}: {count}')"
      ],
      "metadata": {
        "colab": {
          "base_uri": "https://localhost:8080/"
        },
        "id": "EwfKHxLlx_yL",
        "outputId": "40cd0161-4182-4354-c943-c9693ca801fc"
      },
      "execution_count": 17,
      "outputs": [
        {
          "output_type": "stream",
          "name": "stdout",
          "text": [
            "aquatic mammals: 2500\n",
            "fish: 2500\n",
            "flowers: 2500\n",
            "food containers: 2500\n",
            "fruit and vegetables: 2500\n",
            "household electrical devices: 2500\n",
            "household furniture: 2500\n",
            "insects: 2500\n",
            "large carnivores: 2500\n",
            "large man-made outdoor things: 2500\n",
            "large natural outdoor scenes: 2500\n",
            "large omnivores and herbivores: 2500\n",
            "medium-sized mammals: 2500\n",
            "non-insect invertebrates: 2500\n",
            "people: 2500\n",
            "reptiles: 2500\n",
            "small mammals: 2500\n",
            "trees: 2500\n",
            "vehicles 1: 2500\n",
            "vehicles 2: 2500\n"
          ]
        }
      ]
    },
    {
      "cell_type": "markdown",
      "source": [
        "Para finalizar el pre-procesado de datos, se normalizan los datos, se tranforman las etiquetas a 'one-hot' encoding y se hace la partición de los datos en train-validation-test."
      ],
      "metadata": {
        "id": "2cHiwJFuVsMn"
      }
    },
    {
      "cell_type": "code",
      "source": [
        "X, test_X, y, test_y = train_test_split(np.concatenate((X, test_X)), np.concatenate((y, test_y)), test_size=1/6, random_state=23)\n",
        "\n",
        "# Se normalizan los datos:\n",
        "X = X.astype('float32')/255\n",
        "test_X = test_X.astype('float32')/255\n",
        "\n",
        "# Se convierten las etiquetas a codificación one-hot\n",
        "y_categorical = to_categorical(y)\n",
        "test_y_categorical = to_categorical(test_y)\n",
        "\n",
        "# Se dividen los datos en train y validation:\n",
        "train_X, val_X, train_y, val_y = train_test_split(X, y_categorical, test_size=0.2, random_state=89)\n",
        "print(train_X.shape)\n",
        "print(val_X.shape)\n",
        "print(train_y.shape)\n",
        "print(val_y.shape)\n",
        "\n",
        "datagencompleto = ImageDataGenerator(\n",
        "    rescale=1. / 255,\n",
        "    rotation_range=20,\n",
        "    width_shift_range=0.2,\n",
        "    height_shift_range=0.2,\n",
        "    horizontal_flip=True\n",
        ")\n",
        "datagenvalidacion = ImageDataGenerator(\n",
        "    rescale=1. / 255,\n",
        "    rotation_range=20,\n",
        "    width_shift_range=0.2,\n",
        "    height_shift_range=0.2,\n",
        "    horizontal_flip=True\n",
        ")\n",
        "datagencompleto.fit(X)\n",
        "datagenvalidacion.fit(train_X)"
      ],
      "metadata": {
        "id": "FKbYUP41ShA-",
        "colab": {
          "base_uri": "https://localhost:8080/"
        },
        "outputId": "45ba4ef1-503a-475b-84a2-aa326879918a"
      },
      "execution_count": 18,
      "outputs": [
        {
          "output_type": "stream",
          "name": "stdout",
          "text": [
            "(40000, 32, 32, 3)\n",
            "(10000, 32, 32, 3)\n",
            "(40000, 100)\n",
            "(10000, 100)\n"
          ]
        }
      ]
    },
    {
      "cell_type": "markdown",
      "source": [
        "# DESARROLLO DEL MODELO"
      ],
      "metadata": {
        "id": "W7loyJ6FSd9c"
      }
    },
    {
      "cell_type": "markdown",
      "source": [
        "Se comienza con un modelo sencillo de redes neuronales convolucionales, y a partir de este iremos construyendo nuestro modelo final. Para ello, utilizamos la misma arquitectura utilizada con la base de datos mnist de los dígitos del 0 al 9, la cuál era bastante simple, para ver qué resultados nos devuelve:"
      ],
      "metadata": {
        "id": "x2EyIm0NtYjj"
      }
    },
    {
      "cell_type": "code",
      "source": [
        "gc.collect()#LIMPIA BASURA\n",
        "model = Sequential()\n",
        "model.add(Conv2D(32, (5, 5), activation='relu', input_shape=(32, 32, 3)))\n",
        "model.add(MaxPooling2D((2, 2)))\n",
        "model.add(Conv2D(64, (5, 5), activation='relu'))\n",
        "model.add(MaxPooling2D((2, 2)))\n",
        "model.add(Flatten())\n",
        "model.add(Dense(100, activation='softmax'))"
      ],
      "metadata": {
        "id": "SNmUUi3JryWQ"
      },
      "execution_count": 19,
      "outputs": []
    },
    {
      "cell_type": "markdown",
      "source": [
        "Esta es la estructura del modelo primal elegido:"
      ],
      "metadata": {
        "id": "v1JkeJrAP5KZ"
      }
    },
    {
      "cell_type": "code",
      "source": [
        "model.summary()"
      ],
      "metadata": {
        "colab": {
          "base_uri": "https://localhost:8080/"
        },
        "id": "7uQP5k4mP9dc",
        "outputId": "f8249419-9bd8-42ac-f447-30d2eec4e204"
      },
      "execution_count": 20,
      "outputs": [
        {
          "output_type": "stream",
          "name": "stdout",
          "text": [
            "Model: \"sequential\"\n",
            "_________________________________________________________________\n",
            " Layer (type)                Output Shape              Param #   \n",
            "=================================================================\n",
            " conv2d (Conv2D)             (None, 28, 28, 32)        2432      \n",
            "                                                                 \n",
            " max_pooling2d (MaxPooling2  (None, 14, 14, 32)        0         \n",
            " D)                                                              \n",
            "                                                                 \n",
            " conv2d_1 (Conv2D)           (None, 10, 10, 64)        51264     \n",
            "                                                                 \n",
            " max_pooling2d_1 (MaxPoolin  (None, 5, 5, 64)          0         \n",
            " g2D)                                                            \n",
            "                                                                 \n",
            " flatten (Flatten)           (None, 1600)              0         \n",
            "                                                                 \n",
            " dense (Dense)               (None, 100)               160100    \n",
            "                                                                 \n",
            "=================================================================\n",
            "Total params: 213796 (835.14 KB)\n",
            "Trainable params: 213796 (835.14 KB)\n",
            "Non-trainable params: 0 (0.00 Byte)\n",
            "_________________________________________________________________\n"
          ]
        }
      ]
    },
    {
      "cell_type": "code",
      "source": [
        "keras.utils.plot_model(model, \"my_first_model.png\", show_shapes=True)"
      ],
      "metadata": {
        "colab": {
          "base_uri": "https://localhost:8080/",
          "height": 754
        },
        "id": "5zA0LMLuQozW",
        "outputId": "8a3c1d07-da39-4085-a7ff-bd4490a427df"
      },
      "execution_count": 21,
      "outputs": [
        {
          "output_type": "execute_result",
          "data": {
            "image/png": "[encoded data removed]",
            "text/plain": [
              "<IPython.core.display.Image object>"
            ]
          },
          "metadata": {},
          "execution_count": 21
        }
      ]
    },
    {
      "cell_type": "markdown",
      "source": [
        "Como el objetivo es optimizar la precisión de test, veamos que puntuación obtenemos con el modelo primal con 10 épocas y batch_size = 128:"
      ],
      "metadata": {
        "id": "Ky6vmhkEkRNW"
      }
    },
    {
      "cell_type": "code",
      "source": [
        "model.compile(loss='categorical_crossentropy',\n",
        "              optimizer='rmsprop',\n",
        "              metrics=['accuracy'])\n",
        "\n",
        "model.fit(datagencompleto.flow(X, y_categorical, batch_size=512), epochs=10, verbose=1)"
      ],
      "metadata": {
        "id": "ztvJdFT5Ahgb",
        "outputId": "ce165ad9-331a-4caf-d055-90636277fa9d",
        "colab": {
          "base_uri": "https://localhost:8080/"
        }
      },
      "execution_count": 23,
      "outputs": [
        {
          "output_type": "stream",
          "name": "stdout",
          "text": [
            "Epoch 1/10\n",
            "98/98 [==============================] - 41s 301ms/step - loss: 4.6054 - accuracy: 0.0091\n",
            "Epoch 2/10\n",
            "98/98 [==============================] - 31s 313ms/step - loss: 4.6053 - accuracy: 0.0100\n",
            "Epoch 3/10\n",
            "98/98 [==============================] - 30s 309ms/step - loss: 4.6053 - accuracy: 0.0100\n",
            "Epoch 4/10\n",
            "98/98 [==============================] - 32s 325ms/step - loss: 4.6052 - accuracy: 0.0104\n",
            "Epoch 5/10\n",
            "98/98 [==============================] - 32s 323ms/step - loss: 4.6052 - accuracy: 0.0104\n",
            "Epoch 6/10\n",
            "98/98 [==============================] - 31s 317ms/step - loss: 4.6052 - accuracy: 0.0105\n",
            "Epoch 7/10\n",
            "98/98 [==============================] - 30s 309ms/step - loss: 4.6052 - accuracy: 0.0102\n",
            "Epoch 8/10\n",
            "98/98 [==============================] - 31s 310ms/step - loss: 4.6052 - accuracy: 0.0097\n",
            "Epoch 9/10\n",
            "98/98 [==============================] - 30s 310ms/step - loss: 4.6052 - accuracy: 0.0104\n",
            "Epoch 10/10\n",
            "98/98 [==============================] - 30s 309ms/step - loss: 4.6052 - accuracy: 0.0102\n"
          ]
        },
        {
          "output_type": "execute_result",
          "data": {
            "text/plain": [
              "<keras.src.callbacks.History at 0x7e05dd8b4850>"
            ]
          },
          "metadata": {},
          "execution_count": 23
        }
      ]
    },
    {
      "cell_type": "code",
      "source": [
        "test_loss, test_acc = model.evaluate(test_X, test_y_categorical, verbose = 0)\n",
        "\n",
        "print('Test accuracy:', test_acc)"
      ],
      "metadata": {
        "id": "ZmyICWsPP8tg",
        "outputId": "68a57491-70cf-437b-aac9-b480c34fd5cf",
        "colab": {
          "base_uri": "https://localhost:8080/"
        }
      },
      "execution_count": 24,
      "outputs": [
        {
          "output_type": "stream",
          "name": "stdout",
          "text": [
            "Test accuracy: 0.008200000040233135\n"
          ]
        }
      ]
    },
    {
      "cell_type": "markdown",
      "source": [
        "Lo que se puede concluir de nuestro modelo primal es que, efectivamente tiene mucho margen de mejora, teniendo solo un (más o menos) 35% de precisión en el test (está claramente sobreentrenado). No obstante, cabe destacar que al menos, ya es mejor que el peor modelo posible, que sería elegir al azar un número del 1 al 100 y que esa fuese nuestra predicción, lo cuál tendría una probabilidad de acierto de 0.01."
      ],
      "metadata": {
        "id": "GjY5saJgkYYr"
      }
    },
    {
      "cell_type": "markdown",
      "source": [
        "-------------------------------------------------------\n",
        "\n",
        "DE CHATTY GEPETIENSE (SE SIGUE ESTE PROCESO):\n",
        "\n",
        "Desarrollar un modelo convolucional implica varias etapas, y el orden específico puede variar según las preferencias y necesidades específicas del problema. Sin embargo, aquí hay un orden general que puede ser efectivo:\n",
        "\n",
        "1. Diseñar la Arquitectura del Modelo:\n",
        "Comienza diseñando la arquitectura básica de tu modelo. Decide la cantidad de capas convolucionales, capas de pooling, capas totalmente conectadas y cualquier otro componente específico de la arquitectura. Asegúrate de que la arquitectura sea apropiada para la tarea que estás abordando.\n",
        "\n",
        "2. Ajustar Hiperparámetros:\n",
        "Una vez que tienes una arquitectura básica, comienza ajustando los hiperparámetros. Esto incluye la tasa de aprendizaje, tamaño de lote, número de épocas de entrenamiento, etc. Realiza experimentos para encontrar valores que resulten en un buen rendimiento del modelo.\n",
        "\n",
        "3. Agregar Regularización:\n",
        "Después de establecer una configuración inicial, considera la adición de técnicas de regularización. Puedes aplicar dropout en capas específicas, agregar regularización L1 o L2, o utilizar otras técnicas según sea necesario para prevenir el sobreajuste.\n",
        "\n",
        "4. Evitar Sobreajuste:\n",
        "Una vez que hayas aplicado regularización, observa cómo se comporta tu modelo en términos de sobreajuste. Puedes ajustar la cantidad de dropout, la fuerza de la regularización, o probar otras técnicas como aumento de datos para mejorar la capacidad de generalización del modelo.\n",
        "\n",
        "5. Ajuste Fino de Hiperparámetros:\n",
        "Realiza ajustes finos en los hiperparámetros para refinar el rendimiento del modelo. Esto puede incluir ajustes en la tasa de aprendizaje, la arquitectura de la red y otros hiperparámetros específicos.\n",
        "\n",
        "6. Optimización Adicional:\n",
        "Considera el uso de optimizadores más avanzados, como Adam, RMSprop, etc., y ajusta los parámetros específicos de estos optimizadores para optimizar aún más el rendimiento del modelo.\n",
        "\n",
        "7. Validación Cruzada:\n",
        "Utiliza la validación cruzada para evaluar el rendimiento del modelo en conjuntos de datos diferentes y asegurarte de que el rendimiento del modelo sea consistente en diversas particiones de datos.\n",
        "\n",
        "8. Pruebas en Conjunto de Pruebas:\n",
        "Después de ajustar y validar el modelo, prueba el modelo final en un conjunto de pruebas separado para obtener una evaluación final de su rendimiento.\n",
        "\n",
        "\n",
        "Recuerda que este orden es un marco general, y a menudo es un proceso iterativo. Puedes volver atrás y realizar ajustes en cualquier etapa según sea necesario para mejorar el rendimiento del modelo. Además, siempre es importante comprender bien el conjunto de datos y la naturaleza del problema para tomar decisiones informadas durante el desarrollo del modelo.\n",
        "\n",
        "-------------------------------------------------------"
      ],
      "metadata": {
        "id": "T1OLwVgDIYJg"
      }
    },
    {
      "cell_type": "markdown",
      "source": [
        "-------------------------------------------------------\n",
        "\n",
        "MIRAR https://github.com/autonomio/talos/blob/master/examples/A%20Very%20Short%20Introduction%20to%20Hyperparameter%20Optimization%20of%20Keras%20Models%20with%20Talos.ipynb y probar con Talos y ver si ajusta bien los hiperparámetros\n",
        "\n",
        "-------------------------------------------------------"
      ],
      "metadata": {
        "id": "yJqI1t2dL7Q5"
      }
    },
    {
      "cell_type": "markdown",
      "source": [
        "A continuación, se va a proceder a desarrollar una arquitectura para nuestro modelo que sea suficientemente buena para este problema de clasificación. Se considera la siquiente estructura:"
      ],
      "metadata": {
        "id": "L_Qe4puYJSZG"
      }
    },
    {
      "cell_type": "code",
      "source": [
        "model = Sequential()\n",
        "\n",
        "model.add(Conv2D(32, (3, 3), activation='relu', input_shape=(32, 32, 3)))\n",
        "model.add(BatchNormalization())\n",
        "model.add(MaxPooling2D((2, 2)))\n",
        "\n",
        "model.add(Conv2D(64, (3, 3), activation='relu'))\n",
        "model.add(BatchNormalization())\n",
        "model.add(MaxPooling2D((2, 2)))\n",
        "\n",
        "model.add(Conv2D(128, (3, 3), activation='relu'))\n",
        "model.add(BatchNormalization())\n",
        "model.add(MaxPooling2D((2, 2)))\n",
        "\n",
        "model.add(Flatten())\n",
        "model.add(Dense(512, activation='relu'))\n",
        "model.add(BatchNormalization())\n",
        "model.add(Dropout(0.5))  # Ajusta la tasa de dropout según sea necesario\n",
        "\n",
        "model.add(Dense(100, activation='softmax'))\n",
        "\n",
        "model.summary()"
      ],
      "metadata": {
        "colab": {
          "base_uri": "https://localhost:8080/"
        },
        "id": "qrd5fzyHHdZ_",
        "outputId": "23bf21f7-1a61-4431-9c12-5da6ec06ab5c"
      },
      "execution_count": 25,
      "outputs": [
        {
          "output_type": "stream",
          "name": "stdout",
          "text": [
            "Model: \"sequential_1\"\n",
            "_________________________________________________________________\n",
            " Layer (type)                Output Shape              Param #   \n",
            "=================================================================\n",
            " conv2d_2 (Conv2D)           (None, 30, 30, 32)        896       \n",
            "                                                                 \n",
            " batch_normalization (Batch  (None, 30, 30, 32)        128       \n",
            " Normalization)                                                  \n",
            "                                                                 \n",
            " max_pooling2d_2 (MaxPoolin  (None, 15, 15, 32)        0         \n",
            " g2D)                                                            \n",
            "                                                                 \n",
            " conv2d_3 (Conv2D)           (None, 13, 13, 64)        18496     \n",
            "                                                                 \n",
            " batch_normalization_1 (Bat  (None, 13, 13, 64)        256       \n",
            " chNormalization)                                                \n",
            "                                                                 \n",
            " max_pooling2d_3 (MaxPoolin  (None, 6, 6, 64)          0         \n",
            " g2D)                                                            \n",
            "                                                                 \n",
            " conv2d_4 (Conv2D)           (None, 4, 4, 128)         73856     \n",
            "                                                                 \n",
            " batch_normalization_2 (Bat  (None, 4, 4, 128)         512       \n",
            " chNormalization)                                                \n",
            "                                                                 \n",
            " max_pooling2d_4 (MaxPoolin  (None, 2, 2, 128)         0         \n",
            " g2D)                                                            \n",
            "                                                                 \n",
            " flatten_1 (Flatten)         (None, 512)               0         \n",
            "                                                                 \n",
            " dense_1 (Dense)             (None, 512)               262656    \n",
            "                                                                 \n",
            " batch_normalization_3 (Bat  (None, 512)               2048      \n",
            " chNormalization)                                                \n",
            "                                                                 \n",
            " dropout (Dropout)           (None, 512)               0         \n",
            "                                                                 \n",
            " dense_2 (Dense)             (None, 100)               51300     \n",
            "                                                                 \n",
            "=================================================================\n",
            "Total params: 410148 (1.56 MB)\n",
            "Trainable params: 408676 (1.56 MB)\n",
            "Non-trainable params: 1472 (5.75 KB)\n",
            "_________________________________________________________________\n"
          ]
        }
      ]
    },
    {
      "cell_type": "markdown",
      "source": [
        "Como se observa en el summary anterior, se añade otra secuencia de capas conv2D - MaxPool, y una capa Dense más antes de la capa 'softmax'. Nótese, que se ha cambiado el tamaño del kernel en todas las convolucionales. Esto es, principalmente porque en la última capa daba error debido a un problema con las dimensiones, y en parte porque esto hace que haya muchos menos parámetros entrenables, lo cual favorece la disminución del sobreentrenamiento (menos parámetros --> menos obtención de patrones por la red). También, se añaden dos tipos de capas nuevas: 'BatchNormalization' y 'Dropout'.\n",
        "**EXPLICAR ESTAS DOS CAPAS Y DEMOSTRAR QUE SE HA INVESTIGADO**\n",
        "Veamos si esta estructura mejora la precisión de test:"
      ],
      "metadata": {
        "id": "rncrycAhKCzj"
      }
    },
    {
      "cell_type": "code",
      "source": [
        "model.compile(optimizer='rmsprop', loss='categorical_crossentropy', metrics=['accuracy'])\n",
        "model.fit(X, y_categorical,\n",
        "          batch_size=128,\n",
        "          epochs=10,\n",
        "          verbose=1)\n",
        "test_loss, test_acc = model.evaluate(test_X, test_y_categorical, verbose = 0)\n",
        "print('Test accuracy:', test_acc)"
      ],
      "metadata": {
        "colab": {
          "base_uri": "https://localhost:8080/"
        },
        "id": "HsXdK-bRJNUy",
        "outputId": "55889879-49a4-4a21-b625-76a912300f56"
      },
      "execution_count": 26,
      "outputs": [
        {
          "output_type": "stream",
          "name": "stdout",
          "text": [
            "Epoch 1/10\n",
            "391/391 [==============================] - 8s 9ms/step - loss: 3.9382 - accuracy: 0.1455\n",
            "Epoch 2/10\n",
            "391/391 [==============================] - 3s 7ms/step - loss: 2.9856 - accuracy: 0.2684\n",
            "Epoch 3/10\n",
            "391/391 [==============================] - 3s 7ms/step - loss: 2.6062 - accuracy: 0.3418\n",
            "Epoch 4/10\n",
            "391/391 [==============================] - 3s 7ms/step - loss: 2.3580 - accuracy: 0.3936\n",
            "Epoch 5/10\n",
            "391/391 [==============================] - 3s 7ms/step - loss: 2.1931 - accuracy: 0.4269\n",
            "Epoch 6/10\n",
            "391/391 [==============================] - 3s 8ms/step - loss: 2.0441 - accuracy: 0.4590\n",
            "Epoch 7/10\n",
            "391/391 [==============================] - 3s 7ms/step - loss: 1.9360 - accuracy: 0.4852\n",
            "Epoch 8/10\n",
            "391/391 [==============================] - 3s 7ms/step - loss: 1.8261 - accuracy: 0.5077\n",
            "Epoch 9/10\n",
            "391/391 [==============================] - 3s 7ms/step - loss: 1.7402 - accuracy: 0.5288\n",
            "Epoch 10/10\n",
            "391/391 [==============================] - 3s 7ms/step - loss: 1.6515 - accuracy: 0.5478\n",
            "Test accuracy: 0.3797999918460846\n"
          ]
        }
      ]
    },
    {
      "cell_type": "markdown",
      "source": [
        "Se observa que con la nueva arquitectura, la precisión de test ha mejorado aproximadamente un 6%, estando en más o menos, 41% de precisión de test.\n",
        "\n",
        "Para continuar, se procede a probar una nueva estructura con más capas convolucionales, una capa dense más antes de la 'softmax' final y con el hiperparámetro 'padding' = 'same' con el objetivo de seguir maximizando la precisión de test. Esto lo que hace es que **EXPLICAR ESTO**. Veamos si mejora el modelo:"
      ],
      "metadata": {
        "id": "HIzmb7bzQN6D"
      }
    },
    {
      "cell_type": "code",
      "source": [
        "gc.collect()\n",
        "model = Sequential()\n",
        "model.add(Conv2D(32, (3, 3), activation='relu', padding='same', input_shape=(32, 32, 3)))\n",
        "model.add(Conv2D(64, (3, 3), padding='same', activation='relu'))\n",
        "model.add(BatchNormalization())\n",
        "model.add(MaxPooling2D((2, 2)))\n",
        "model.add(Conv2D(128, (3, 3), padding='same', activation='relu'))\n",
        "model.add(Conv2D(256, (3, 3), padding='same', activation='relu'))\n",
        "model.add(BatchNormalization())\n",
        "model.add(MaxPooling2D((2, 2)))\n",
        "model.add(Conv2D(512, (3, 3), padding='same', activation='relu'))\n",
        "model.add(Conv2D(1024, (3, 3), padding='same', activation='relu'))\n",
        "model.add(BatchNormalization())\n",
        "model.add(MaxPooling2D((2, 2)))\n",
        "model.add(Flatten())\n",
        "model.add(Dense(512, activation='relu'))\n",
        "model.add(BatchNormalization())\n",
        "model.add(Dropout(0.5))\n",
        "model.add(Dense(1024, activation='relu'))\n",
        "model.add(BatchNormalization())\n",
        "model.add(Dropout(0.5))\n",
        "model.add(Dense(100, activation='softmax'))\n",
        "model.summary()\n",
        "model.compile(loss='categorical_crossentropy',\n",
        "              optimizer='rmsprop',\n",
        "              metrics=['accuracy'])\n",
        "model.fit(X, y_categorical,\n",
        "          batch_size=128,\n",
        "          epochs=10,\n",
        "          verbose=1)\n",
        "test_loss, test_acc = model.evaluate(test_X, test_y_categorical, verbose = 0)\n",
        "print('\\n\\nTest accuracy:', test_acc)"
      ],
      "metadata": {
        "colab": {
          "base_uri": "https://localhost:8080/",
          "height": 1000
        },
        "id": "tE5N4KN95ooT",
        "outputId": "2d069ef4-ab2a-4411-a88c-0f1d5c6d716b"
      },
      "execution_count": 27,
      "outputs": [
        {
          "output_type": "stream",
          "name": "stdout",
          "text": [
            "Model: \"sequential_2\"\n",
            "_________________________________________________________________\n",
            " Layer (type)                Output Shape              Param #   \n",
            "=================================================================\n",
            " conv2d_5 (Conv2D)           (None, 32, 32, 32)        896       \n",
            "                                                                 \n",
            " conv2d_6 (Conv2D)           (None, 32, 32, 64)        18496     \n",
            "                                                                 \n",
            " batch_normalization_4 (Bat  (None, 32, 32, 64)        256       \n",
            " chNormalization)                                                \n",
            "                                                                 \n",
            " max_pooling2d_5 (MaxPoolin  (None, 16, 16, 64)        0         \n",
            " g2D)                                                            \n",
            "                                                                 \n",
            " conv2d_7 (Conv2D)           (None, 16, 16, 128)       73856     \n",
            "                                                                 \n",
            " conv2d_8 (Conv2D)           (None, 16, 16, 256)       295168    \n",
            "                                                                 \n",
            " batch_normalization_5 (Bat  (None, 16, 16, 256)       1024      \n",
            " chNormalization)                                                \n",
            "                                                                 \n",
            " max_pooling2d_6 (MaxPoolin  (None, 8, 8, 256)         0         \n",
            " g2D)                                                            \n",
            "                                                                 \n",
            " conv2d_9 (Conv2D)           (None, 8, 8, 512)         1180160   \n",
            "                                                                 \n",
            " conv2d_10 (Conv2D)          (None, 8, 8, 1024)        4719616   \n",
            "                                                                 \n",
            " batch_normalization_6 (Bat  (None, 8, 8, 1024)        4096      \n",
            " chNormalization)                                                \n",
            "                                                                 \n",
            " max_pooling2d_7 (MaxPoolin  (None, 4, 4, 1024)        0         \n",
            " g2D)                                                            \n",
            "                                                                 \n",
            " flatten_2 (Flatten)         (None, 16384)             0         \n",
            "                                                                 \n",
            " dense_3 (Dense)             (None, 512)               8389120   \n",
            "                                                                 \n",
            " batch_normalization_7 (Bat  (None, 512)               2048      \n",
            " chNormalization)                                                \n",
            "                                                                 \n",
            " dropout_1 (Dropout)         (None, 512)               0         \n",
            "                                                                 \n",
            " dense_4 (Dense)             (None, 1024)              525312    \n",
            "                                                                 \n",
            " batch_normalization_8 (Bat  (None, 1024)              4096      \n",
            " chNormalization)                                                \n",
            "                                                                 \n",
            " dropout_2 (Dropout)         (None, 1024)              0         \n",
            "                                                                 \n",
            " dense_5 (Dense)             (None, 100)               102500    \n",
            "                                                                 \n",
            "=================================================================\n",
            "Total params: 15316644 (58.43 MB)\n",
            "Trainable params: 15310884 (58.41 MB)\n",
            "Non-trainable params: 5760 (22.50 KB)\n",
            "_________________________________________________________________\n",
            "Epoch 1/10\n",
            "169/391 [===========>..................] - ETA: 4s - loss: 4.9897 - accuracy: 0.0486"
          ]
        },
        {
          "output_type": "error",
          "ename": "KeyboardInterrupt",
          "evalue": "ignored",
          "traceback": [
            "\u001b[0;31m---------------------------------------------------------------------------\u001b[0m",
            "\u001b[0;31mKeyboardInterrupt\u001b[0m                         Traceback (most recent call last)",
            "\u001b[0;32m<ipython-input-27-91b05fb10471>\u001b[0m in \u001b[0;36m<cell line: 27>\u001b[0;34m()\u001b[0m\n\u001b[1;32m     25\u001b[0m               \u001b[0moptimizer\u001b[0m\u001b[0;34m=\u001b[0m\u001b[0;34m'rmsprop'\u001b[0m\u001b[0;34m,\u001b[0m\u001b[0;34m\u001b[0m\u001b[0;34m\u001b[0m\u001b[0m\n\u001b[1;32m     26\u001b[0m               metrics=['accuracy'])\n\u001b[0;32m---> 27\u001b[0;31m model.fit(X, y_categorical,\n\u001b[0m\u001b[1;32m     28\u001b[0m           \u001b[0mbatch_size\u001b[0m\u001b[0;34m=\u001b[0m\u001b[0;36m128\u001b[0m\u001b[0;34m,\u001b[0m\u001b[0;34m\u001b[0m\u001b[0;34m\u001b[0m\u001b[0m\n\u001b[1;32m     29\u001b[0m           \u001b[0mepochs\u001b[0m\u001b[0;34m=\u001b[0m\u001b[0;36m10\u001b[0m\u001b[0;34m,\u001b[0m\u001b[0;34m\u001b[0m\u001b[0;34m\u001b[0m\u001b[0m\n",
            "\u001b[0;32m/usr/local/lib/python3.10/dist-packages/keras/src/utils/traceback_utils.py\u001b[0m in \u001b[0;36merror_handler\u001b[0;34m(*args, **kwargs)\u001b[0m\n\u001b[1;32m     63\u001b[0m         \u001b[0mfiltered_tb\u001b[0m \u001b[0;34m=\u001b[0m \u001b[0;32mNone\u001b[0m\u001b[0;34m\u001b[0m\u001b[0;34m\u001b[0m\u001b[0m\n\u001b[1;32m     64\u001b[0m         \u001b[0;32mtry\u001b[0m\u001b[0;34m:\u001b[0m\u001b[0;34m\u001b[0m\u001b[0;34m\u001b[0m\u001b[0m\n\u001b[0;32m---> 65\u001b[0;31m             \u001b[0;32mreturn\u001b[0m \u001b[0mfn\u001b[0m\u001b[0;34m(\u001b[0m\u001b[0;34m*\u001b[0m\u001b[0margs\u001b[0m\u001b[0;34m,\u001b[0m \u001b[0;34m**\u001b[0m\u001b[0mkwargs\u001b[0m\u001b[0;34m)\u001b[0m\u001b[0;34m\u001b[0m\u001b[0;34m\u001b[0m\u001b[0m\n\u001b[0m\u001b[1;32m     66\u001b[0m         \u001b[0;32mexcept\u001b[0m \u001b[0mException\u001b[0m \u001b[0;32mas\u001b[0m \u001b[0me\u001b[0m\u001b[0;34m:\u001b[0m\u001b[0;34m\u001b[0m\u001b[0;34m\u001b[0m\u001b[0m\n\u001b[1;32m     67\u001b[0m             \u001b[0mfiltered_tb\u001b[0m \u001b[0;34m=\u001b[0m \u001b[0m_process_traceback_frames\u001b[0m\u001b[0;34m(\u001b[0m\u001b[0me\u001b[0m\u001b[0;34m.\u001b[0m\u001b[0m__traceback__\u001b[0m\u001b[0;34m)\u001b[0m\u001b[0;34m\u001b[0m\u001b[0;34m\u001b[0m\u001b[0m\n",
            "\u001b[0;32m/usr/local/lib/python3.10/dist-packages/keras/src/engine/training.py\u001b[0m in \u001b[0;36mfit\u001b[0;34m(self, x, y, batch_size, epochs, verbose, callbacks, validation_split, validation_data, shuffle, class_weight, sample_weight, initial_epoch, steps_per_epoch, validation_steps, validation_batch_size, validation_freq, max_queue_size, workers, use_multiprocessing)\u001b[0m\n\u001b[1;32m   1781\u001b[0m                         ):\n\u001b[1;32m   1782\u001b[0m                             \u001b[0mcallbacks\u001b[0m\u001b[0;34m.\u001b[0m\u001b[0mon_train_batch_begin\u001b[0m\u001b[0;34m(\u001b[0m\u001b[0mstep\u001b[0m\u001b[0;34m)\u001b[0m\u001b[0;34m\u001b[0m\u001b[0;34m\u001b[0m\u001b[0m\n\u001b[0;32m-> 1783\u001b[0;31m                             \u001b[0mtmp_logs\u001b[0m \u001b[0;34m=\u001b[0m \u001b[0mself\u001b[0m\u001b[0;34m.\u001b[0m\u001b[0mtrain_function\u001b[0m\u001b[0;34m(\u001b[0m\u001b[0miterator\u001b[0m\u001b[0;34m)\u001b[0m\u001b[0;34m\u001b[0m\u001b[0;34m\u001b[0m\u001b[0m\n\u001b[0m\u001b[1;32m   1784\u001b[0m                             \u001b[0;32mif\u001b[0m \u001b[0mdata_handler\u001b[0m\u001b[0;34m.\u001b[0m\u001b[0mshould_sync\u001b[0m\u001b[0;34m:\u001b[0m\u001b[0;34m\u001b[0m\u001b[0;34m\u001b[0m\u001b[0m\n\u001b[1;32m   1785\u001b[0m                                 \u001b[0mcontext\u001b[0m\u001b[0;34m.\u001b[0m\u001b[0masync_wait\u001b[0m\u001b[0;34m(\u001b[0m\u001b[0;34m)\u001b[0m\u001b[0;34m\u001b[0m\u001b[0;34m\u001b[0m\u001b[0m\n",
            "\u001b[0;32m/usr/local/lib/python3.10/dist-packages/tensorflow/python/util/traceback_utils.py\u001b[0m in \u001b[0;36merror_handler\u001b[0;34m(*args, **kwargs)\u001b[0m\n\u001b[1;32m    148\u001b[0m     \u001b[0mfiltered_tb\u001b[0m \u001b[0;34m=\u001b[0m \u001b[0;32mNone\u001b[0m\u001b[0;34m\u001b[0m\u001b[0;34m\u001b[0m\u001b[0m\n\u001b[1;32m    149\u001b[0m     \u001b[0;32mtry\u001b[0m\u001b[0;34m:\u001b[0m\u001b[0;34m\u001b[0m\u001b[0;34m\u001b[0m\u001b[0m\n\u001b[0;32m--> 150\u001b[0;31m       \u001b[0;32mreturn\u001b[0m \u001b[0mfn\u001b[0m\u001b[0;34m(\u001b[0m\u001b[0;34m*\u001b[0m\u001b[0margs\u001b[0m\u001b[0;34m,\u001b[0m \u001b[0;34m**\u001b[0m\u001b[0mkwargs\u001b[0m\u001b[0;34m)\u001b[0m\u001b[0;34m\u001b[0m\u001b[0;34m\u001b[0m\u001b[0m\n\u001b[0m\u001b[1;32m    151\u001b[0m     \u001b[0;32mexcept\u001b[0m \u001b[0mException\u001b[0m \u001b[0;32mas\u001b[0m \u001b[0me\u001b[0m\u001b[0;34m:\u001b[0m\u001b[0;34m\u001b[0m\u001b[0;34m\u001b[0m\u001b[0m\n\u001b[1;32m    152\u001b[0m       \u001b[0mfiltered_tb\u001b[0m \u001b[0;34m=\u001b[0m \u001b[0m_process_traceback_frames\u001b[0m\u001b[0;34m(\u001b[0m\u001b[0me\u001b[0m\u001b[0;34m.\u001b[0m\u001b[0m__traceback__\u001b[0m\u001b[0;34m)\u001b[0m\u001b[0;34m\u001b[0m\u001b[0;34m\u001b[0m\u001b[0m\n",
            "\u001b[0;32m/usr/local/lib/python3.10/dist-packages/tensorflow/python/eager/polymorphic_function/polymorphic_function.py\u001b[0m in \u001b[0;36m__call__\u001b[0;34m(self, *args, **kwds)\u001b[0m\n\u001b[1;32m    829\u001b[0m \u001b[0;34m\u001b[0m\u001b[0m\n\u001b[1;32m    830\u001b[0m       \u001b[0;32mwith\u001b[0m \u001b[0mOptionalXlaContext\u001b[0m\u001b[0;34m(\u001b[0m\u001b[0mself\u001b[0m\u001b[0;34m.\u001b[0m\u001b[0m_jit_compile\u001b[0m\u001b[0;34m)\u001b[0m\u001b[0;34m:\u001b[0m\u001b[0;34m\u001b[0m\u001b[0;34m\u001b[0m\u001b[0m\n\u001b[0;32m--> 831\u001b[0;31m         \u001b[0mresult\u001b[0m \u001b[0;34m=\u001b[0m \u001b[0mself\u001b[0m\u001b[0;34m.\u001b[0m\u001b[0m_call\u001b[0m\u001b[0;34m(\u001b[0m\u001b[0;34m*\u001b[0m\u001b[0margs\u001b[0m\u001b[0;34m,\u001b[0m \u001b[0;34m**\u001b[0m\u001b[0mkwds\u001b[0m\u001b[0;34m)\u001b[0m\u001b[0;34m\u001b[0m\u001b[0;34m\u001b[0m\u001b[0m\n\u001b[0m\u001b[1;32m    832\u001b[0m \u001b[0;34m\u001b[0m\u001b[0m\n\u001b[1;32m    833\u001b[0m       \u001b[0mnew_tracing_count\u001b[0m \u001b[0;34m=\u001b[0m \u001b[0mself\u001b[0m\u001b[0;34m.\u001b[0m\u001b[0mexperimental_get_tracing_count\u001b[0m\u001b[0;34m(\u001b[0m\u001b[0;34m)\u001b[0m\u001b[0;34m\u001b[0m\u001b[0;34m\u001b[0m\u001b[0m\n",
            "\u001b[0;32m/usr/local/lib/python3.10/dist-packages/tensorflow/python/eager/polymorphic_function/polymorphic_function.py\u001b[0m in \u001b[0;36m_call\u001b[0;34m(self, *args, **kwds)\u001b[0m\n\u001b[1;32m    865\u001b[0m       \u001b[0;31m# In this case we have created variables on the first call, so we run the\u001b[0m\u001b[0;34m\u001b[0m\u001b[0;34m\u001b[0m\u001b[0m\n\u001b[1;32m    866\u001b[0m       \u001b[0;31m# defunned version which is guaranteed to never create variables.\u001b[0m\u001b[0;34m\u001b[0m\u001b[0;34m\u001b[0m\u001b[0m\n\u001b[0;32m--> 867\u001b[0;31m       return tracing_compilation.call_function(\n\u001b[0m\u001b[1;32m    868\u001b[0m           \u001b[0margs\u001b[0m\u001b[0;34m,\u001b[0m \u001b[0mkwds\u001b[0m\u001b[0;34m,\u001b[0m \u001b[0mself\u001b[0m\u001b[0;34m.\u001b[0m\u001b[0m_no_variable_creation_config\u001b[0m\u001b[0;34m\u001b[0m\u001b[0;34m\u001b[0m\u001b[0m\n\u001b[1;32m    869\u001b[0m       )\n",
            "\u001b[0;32m/usr/local/lib/python3.10/dist-packages/tensorflow/python/eager/polymorphic_function/tracing_compilation.py\u001b[0m in \u001b[0;36mcall_function\u001b[0;34m(args, kwargs, tracing_options)\u001b[0m\n\u001b[1;32m    137\u001b[0m   \u001b[0mbound_args\u001b[0m \u001b[0;34m=\u001b[0m \u001b[0mfunction\u001b[0m\u001b[0;34m.\u001b[0m\u001b[0mfunction_type\u001b[0m\u001b[0;34m.\u001b[0m\u001b[0mbind\u001b[0m\u001b[0;34m(\u001b[0m\u001b[0;34m*\u001b[0m\u001b[0margs\u001b[0m\u001b[0;34m,\u001b[0m \u001b[0;34m**\u001b[0m\u001b[0mkwargs\u001b[0m\u001b[0;34m)\u001b[0m\u001b[0;34m\u001b[0m\u001b[0;34m\u001b[0m\u001b[0m\n\u001b[1;32m    138\u001b[0m   \u001b[0mflat_inputs\u001b[0m \u001b[0;34m=\u001b[0m \u001b[0mfunction\u001b[0m\u001b[0;34m.\u001b[0m\u001b[0mfunction_type\u001b[0m\u001b[0;34m.\u001b[0m\u001b[0munpack_inputs\u001b[0m\u001b[0;34m(\u001b[0m\u001b[0mbound_args\u001b[0m\u001b[0;34m)\u001b[0m\u001b[0;34m\u001b[0m\u001b[0;34m\u001b[0m\u001b[0m\n\u001b[0;32m--> 139\u001b[0;31m   return function._call_flat(  # pylint: disable=protected-access\n\u001b[0m\u001b[1;32m    140\u001b[0m       \u001b[0mflat_inputs\u001b[0m\u001b[0;34m,\u001b[0m \u001b[0mcaptured_inputs\u001b[0m\u001b[0;34m=\u001b[0m\u001b[0mfunction\u001b[0m\u001b[0;34m.\u001b[0m\u001b[0mcaptured_inputs\u001b[0m\u001b[0;34m\u001b[0m\u001b[0;34m\u001b[0m\u001b[0m\n\u001b[1;32m    141\u001b[0m   )\n",
            "\u001b[0;32m/usr/local/lib/python3.10/dist-packages/tensorflow/python/eager/polymorphic_function/concrete_function.py\u001b[0m in \u001b[0;36m_call_flat\u001b[0;34m(self, tensor_inputs, captured_inputs)\u001b[0m\n\u001b[1;32m   1262\u001b[0m         and executing_eagerly):\n\u001b[1;32m   1263\u001b[0m       \u001b[0;31m# No tape is watching; skip to running the function.\u001b[0m\u001b[0;34m\u001b[0m\u001b[0;34m\u001b[0m\u001b[0m\n\u001b[0;32m-> 1264\u001b[0;31m       \u001b[0;32mreturn\u001b[0m \u001b[0mself\u001b[0m\u001b[0;34m.\u001b[0m\u001b[0m_inference_function\u001b[0m\u001b[0;34m.\u001b[0m\u001b[0mflat_call\u001b[0m\u001b[0;34m(\u001b[0m\u001b[0margs\u001b[0m\u001b[0;34m)\u001b[0m\u001b[0;34m\u001b[0m\u001b[0;34m\u001b[0m\u001b[0m\n\u001b[0m\u001b[1;32m   1265\u001b[0m     forward_backward = self._select_forward_and_backward_functions(\n\u001b[1;32m   1266\u001b[0m         \u001b[0margs\u001b[0m\u001b[0;34m,\u001b[0m\u001b[0;34m\u001b[0m\u001b[0;34m\u001b[0m\u001b[0m\n",
            "\u001b[0;32m/usr/local/lib/python3.10/dist-packages/tensorflow/python/eager/polymorphic_function/atomic_function.py\u001b[0m in \u001b[0;36mflat_call\u001b[0;34m(self, args)\u001b[0m\n\u001b[1;32m    215\u001b[0m   \u001b[0;32mdef\u001b[0m \u001b[0mflat_call\u001b[0m\u001b[0;34m(\u001b[0m\u001b[0mself\u001b[0m\u001b[0;34m,\u001b[0m \u001b[0margs\u001b[0m\u001b[0;34m:\u001b[0m \u001b[0mSequence\u001b[0m\u001b[0;34m[\u001b[0m\u001b[0mcore\u001b[0m\u001b[0;34m.\u001b[0m\u001b[0mTensor\u001b[0m\u001b[0;34m]\u001b[0m\u001b[0;34m)\u001b[0m \u001b[0;34m->\u001b[0m \u001b[0mAny\u001b[0m\u001b[0;34m:\u001b[0m\u001b[0;34m\u001b[0m\u001b[0;34m\u001b[0m\u001b[0m\n\u001b[1;32m    216\u001b[0m     \u001b[0;34m\"\"\"Calls with tensor inputs and returns the structured output.\"\"\"\u001b[0m\u001b[0;34m\u001b[0m\u001b[0;34m\u001b[0m\u001b[0m\n\u001b[0;32m--> 217\u001b[0;31m     \u001b[0mflat_outputs\u001b[0m \u001b[0;34m=\u001b[0m \u001b[0mself\u001b[0m\u001b[0;34m(\u001b[0m\u001b[0;34m*\u001b[0m\u001b[0margs\u001b[0m\u001b[0;34m)\u001b[0m\u001b[0;34m\u001b[0m\u001b[0;34m\u001b[0m\u001b[0m\n\u001b[0m\u001b[1;32m    218\u001b[0m     \u001b[0;32mreturn\u001b[0m \u001b[0mself\u001b[0m\u001b[0;34m.\u001b[0m\u001b[0mfunction_type\u001b[0m\u001b[0;34m.\u001b[0m\u001b[0mpack_output\u001b[0m\u001b[0;34m(\u001b[0m\u001b[0mflat_outputs\u001b[0m\u001b[0;34m)\u001b[0m\u001b[0;34m\u001b[0m\u001b[0;34m\u001b[0m\u001b[0m\n\u001b[1;32m    219\u001b[0m \u001b[0;34m\u001b[0m\u001b[0m\n",
            "\u001b[0;32m/usr/local/lib/python3.10/dist-packages/tensorflow/python/eager/polymorphic_function/atomic_function.py\u001b[0m in \u001b[0;36m__call__\u001b[0;34m(self, *args)\u001b[0m\n\u001b[1;32m    250\u001b[0m         \u001b[0;32mwith\u001b[0m \u001b[0mrecord\u001b[0m\u001b[0;34m.\u001b[0m\u001b[0mstop_recording\u001b[0m\u001b[0;34m(\u001b[0m\u001b[0;34m)\u001b[0m\u001b[0;34m:\u001b[0m\u001b[0;34m\u001b[0m\u001b[0;34m\u001b[0m\u001b[0m\n\u001b[1;32m    251\u001b[0m           \u001b[0;32mif\u001b[0m \u001b[0mself\u001b[0m\u001b[0;34m.\u001b[0m\u001b[0m_bound_context\u001b[0m\u001b[0;34m.\u001b[0m\u001b[0mexecuting_eagerly\u001b[0m\u001b[0;34m(\u001b[0m\u001b[0;34m)\u001b[0m\u001b[0;34m:\u001b[0m\u001b[0;34m\u001b[0m\u001b[0;34m\u001b[0m\u001b[0m\n\u001b[0;32m--> 252\u001b[0;31m             outputs = self._bound_context.call_function(\n\u001b[0m\u001b[1;32m    253\u001b[0m                 \u001b[0mself\u001b[0m\u001b[0;34m.\u001b[0m\u001b[0mname\u001b[0m\u001b[0;34m,\u001b[0m\u001b[0;34m\u001b[0m\u001b[0;34m\u001b[0m\u001b[0m\n\u001b[1;32m    254\u001b[0m                 \u001b[0mlist\u001b[0m\u001b[0;34m(\u001b[0m\u001b[0margs\u001b[0m\u001b[0;34m)\u001b[0m\u001b[0;34m,\u001b[0m\u001b[0;34m\u001b[0m\u001b[0;34m\u001b[0m\u001b[0m\n",
            "\u001b[0;32m/usr/local/lib/python3.10/dist-packages/tensorflow/python/eager/context.py\u001b[0m in \u001b[0;36mcall_function\u001b[0;34m(self, name, tensor_inputs, num_outputs)\u001b[0m\n\u001b[1;32m   1477\u001b[0m     \u001b[0mcancellation_context\u001b[0m \u001b[0;34m=\u001b[0m \u001b[0mcancellation\u001b[0m\u001b[0;34m.\u001b[0m\u001b[0mcontext\u001b[0m\u001b[0;34m(\u001b[0m\u001b[0;34m)\u001b[0m\u001b[0;34m\u001b[0m\u001b[0;34m\u001b[0m\u001b[0m\n\u001b[1;32m   1478\u001b[0m     \u001b[0;32mif\u001b[0m \u001b[0mcancellation_context\u001b[0m \u001b[0;32mis\u001b[0m \u001b[0;32mNone\u001b[0m\u001b[0;34m:\u001b[0m\u001b[0;34m\u001b[0m\u001b[0;34m\u001b[0m\u001b[0m\n\u001b[0;32m-> 1479\u001b[0;31m       outputs = execute.execute(\n\u001b[0m\u001b[1;32m   1480\u001b[0m           \u001b[0mname\u001b[0m\u001b[0;34m.\u001b[0m\u001b[0mdecode\u001b[0m\u001b[0;34m(\u001b[0m\u001b[0;34m\"utf-8\"\u001b[0m\u001b[0;34m)\u001b[0m\u001b[0;34m,\u001b[0m\u001b[0;34m\u001b[0m\u001b[0;34m\u001b[0m\u001b[0m\n\u001b[1;32m   1481\u001b[0m           \u001b[0mnum_outputs\u001b[0m\u001b[0;34m=\u001b[0m\u001b[0mnum_outputs\u001b[0m\u001b[0;34m,\u001b[0m\u001b[0;34m\u001b[0m\u001b[0;34m\u001b[0m\u001b[0m\n",
            "\u001b[0;32m/usr/local/lib/python3.10/dist-packages/tensorflow/python/eager/execute.py\u001b[0m in \u001b[0;36mquick_execute\u001b[0;34m(op_name, num_outputs, inputs, attrs, ctx, name)\u001b[0m\n\u001b[1;32m     58\u001b[0m         \u001b[0;32mfor\u001b[0m \u001b[0mt\u001b[0m \u001b[0;32min\u001b[0m \u001b[0minputs\u001b[0m\u001b[0;34m\u001b[0m\u001b[0;34m\u001b[0m\u001b[0m\n\u001b[1;32m     59\u001b[0m     ]\n\u001b[0;32m---> 60\u001b[0;31m     tensors = pywrap_tfe.TFE_Py_Execute(ctx._handle, device_name, op_name,\n\u001b[0m\u001b[1;32m     61\u001b[0m                                         inputs, attrs, num_outputs)\n\u001b[1;32m     62\u001b[0m   \u001b[0;32mexcept\u001b[0m \u001b[0mcore\u001b[0m\u001b[0;34m.\u001b[0m\u001b[0m_NotOkStatusException\u001b[0m \u001b[0;32mas\u001b[0m \u001b[0me\u001b[0m\u001b[0;34m:\u001b[0m\u001b[0;34m\u001b[0m\u001b[0;34m\u001b[0m\u001b[0m\n",
            "\u001b[0;31mKeyboardInterrupt\u001b[0m: "
          ]
        }
      ]
    },
    {
      "cell_type": "markdown",
      "source": [
        "Esta última da de media da más o menos 50%. Veamos con validation_data:"
      ],
      "metadata": {
        "id": "S4ZUPufGQ_ZK"
      }
    },
    {
      "cell_type": "code",
      "source": [
        "gc.collect()\n",
        "model = Sequential()\n",
        "model.add(Conv2D(32, (3, 3), activation='relu', padding='same', input_shape=(32, 32, 3)))\n",
        "model.add(BatchNormalization())\n",
        "model.add(Conv2D(64, (3, 3), padding='same', activation='relu'))\n",
        "model.add(BatchNormalization())\n",
        "model.add(MaxPooling2D((2, 2)))\n",
        "model.add(Conv2D(128, (3, 3), padding='same', activation='relu'))\n",
        "model.add(BatchNormalization())\n",
        "model.add(Conv2D(256, (3, 3), padding='same', activation='relu'))\n",
        "model.add(BatchNormalization())\n",
        "model.add(MaxPooling2D((2, 2)))\n",
        "model.add(Conv2D(512, (3, 3), padding='same', activation='relu'))\n",
        "model.add(BatchNormalization())\n",
        "model.add(Conv2D(1024, (3, 3), padding='same', activation='relu'))\n",
        "model.add(BatchNormalization())\n",
        "model.add(MaxPooling2D((2, 2)))\n",
        "model.add(Flatten())\n",
        "model.add(Dense(512, activation='relu', kernel_regularizer=l2(0.001)))\n",
        "model.add(BatchNormalization())\n",
        "model.add(Dropout(0.5))\n",
        "model.add(Dense(1024, activation='relu', kernel_regularizer=l2(0.001)))\n",
        "model.add(BatchNormalization())\n",
        "model.add(Dropout(0.5))\n",
        "model.add(Dense(100, activation='softmax', kernel_regularizer=l2(0.001)))\n",
        "#model.summary()\n",
        "model.compile(loss='categorical_crossentropy',\n",
        "              optimizer='rmsprop',\n",
        "              metrics=['accuracy'])\n",
        "history = model.fit(datagenvalidacion.flow(train_X, train_y, batch_size=128), epochs=100, verbose=1, validation_data=(val_X, val_y))\n",
        "train_loss = history.history['loss']\n",
        "train_acc = history.history['accuracy']\n",
        "val_loss = history.history['val_loss']\n",
        "val_acc = history.history['val_accuracy']\n",
        "print('\\n RENDIMIENTO ENTRENAMIENTO:')\n",
        "evaluar_rendimiento_validacion(train_loss,train_acc, val_loss, val_acc)\n",
        "# test_loss, test_acc = model.evaluate(test_X, test_y_categorical, verbose = 0)\n",
        "# print('\\n\\nTest accuracy:', test_acc)"
      ],
      "metadata": {
        "colab": {
          "base_uri": "https://localhost:8080/",
          "height": 1000
        },
        "id": "go_7caGhSTTs",
        "outputId": "0c9878a7-345e-4220-99bf-b0dee9190a71"
      },
      "execution_count": 28,
      "outputs": [
        {
          "output_type": "stream",
          "name": "stdout",
          "text": [
            "Epoch 1/100\n",
            "313/313 [==============================] - 34s 98ms/step - loss: 6.1907 - accuracy: 0.0598 - val_loss: 124.9814 - val_accuracy: 0.0105\n",
            "Epoch 2/100\n",
            "313/313 [==============================] - 30s 96ms/step - loss: 4.8676 - accuracy: 0.1208 - val_loss: 49983.2539 - val_accuracy: 0.0104\n",
            "Epoch 3/100\n",
            "313/313 [==============================] - 31s 99ms/step - loss: 4.4577 - accuracy: 0.1628 - val_loss: 1955600.6250 - val_accuracy: 0.0098\n",
            "Epoch 4/100\n",
            "313/313 [==============================] - 31s 99ms/step - loss: 4.1572 - accuracy: 0.2085 - val_loss: 10106567.0000 - val_accuracy: 0.0146\n",
            "Epoch 5/100\n",
            "313/313 [==============================] - 32s 101ms/step - loss: 3.9240 - accuracy: 0.2560 - val_loss: 4558038.5000 - val_accuracy: 0.0136\n",
            "Epoch 6/100\n",
            "313/313 [==============================] - 32s 101ms/step - loss: 3.7570 - accuracy: 0.2992 - val_loss: 64575564.0000 - val_accuracy: 0.0101\n",
            "Epoch 7/100\n",
            "313/313 [==============================] - 30s 96ms/step - loss: 3.6397 - accuracy: 0.3410 - val_loss: 159986320.0000 - val_accuracy: 0.0101\n",
            "Epoch 8/100\n",
            "313/313 [==============================] - 30s 96ms/step - loss: 3.5440 - accuracy: 0.3733 - val_loss: 146905888.0000 - val_accuracy: 0.0096\n",
            "Epoch 9/100\n",
            "313/313 [==============================] - 30s 96ms/step - loss: 3.4690 - accuracy: 0.4028 - val_loss: 173883536.0000 - val_accuracy: 0.0101\n",
            "Epoch 10/100\n",
            "313/313 [==============================] - 31s 99ms/step - loss: 3.4060 - accuracy: 0.4296 - val_loss: 36903640.0000 - val_accuracy: 0.0101\n",
            "Epoch 11/100\n",
            "313/313 [==============================] - 30s 96ms/step - loss: 3.3778 - accuracy: 0.4471 - val_loss: 35013396.0000 - val_accuracy: 0.0096\n",
            "Epoch 12/100\n",
            "313/313 [==============================] - 31s 99ms/step - loss: 3.3662 - accuracy: 0.4605 - val_loss: 5791614.5000 - val_accuracy: 0.0101\n",
            "Epoch 13/100\n",
            "313/313 [==============================] - 31s 100ms/step - loss: 3.2903 - accuracy: 0.4773 - val_loss: 5404848.0000 - val_accuracy: 0.0101\n",
            "Epoch 14/100\n",
            "313/313 [==============================] - 31s 100ms/step - loss: 3.2221 - accuracy: 0.4983 - val_loss: 8465668.0000 - val_accuracy: 0.0101\n",
            "Epoch 15/100\n",
            "313/313 [==============================] - 31s 100ms/step - loss: 3.1775 - accuracy: 0.5092 - val_loss: 77603.1484 - val_accuracy: 0.0112\n",
            "Epoch 16/100\n",
            "313/313 [==============================] - 32s 101ms/step - loss: 3.1092 - accuracy: 0.5251 - val_loss: 88475.9297 - val_accuracy: 0.0112\n",
            "Epoch 17/100\n",
            "313/313 [==============================] - 32s 101ms/step - loss: 3.0696 - accuracy: 0.5343 - val_loss: 610894.1250 - val_accuracy: 0.0122\n",
            "Epoch 18/100\n",
            "313/313 [==============================] - 30s 97ms/step - loss: 3.0190 - accuracy: 0.5474 - val_loss: 76513.1172 - val_accuracy: 0.0113\n",
            "Epoch 19/100\n",
            "313/313 [==============================] - 31s 100ms/step - loss: 2.9793 - accuracy: 0.5537 - val_loss: 88587.8828 - val_accuracy: 0.0149\n",
            "Epoch 20/100\n",
            "313/313 [==============================] - 30s 95ms/step - loss: 2.9210 - accuracy: 0.5670 - val_loss: 237775.7656 - val_accuracy: 0.0110\n",
            "Epoch 21/100\n",
            "313/313 [==============================] - 31s 100ms/step - loss: 2.8715 - accuracy: 0.5781 - val_loss: 171489.7656 - val_accuracy: 0.0118\n",
            "Epoch 22/100\n",
            "313/313 [==============================] - 31s 97ms/step - loss: 2.8382 - accuracy: 0.5859 - val_loss: 75619.2578 - val_accuracy: 0.0178\n",
            "Epoch 23/100\n",
            "313/313 [==============================] - 30s 96ms/step - loss: 2.8058 - accuracy: 0.5915 - val_loss: 33334.2305 - val_accuracy: 0.0130\n",
            "Epoch 24/100\n",
            "313/313 [==============================] - 30s 96ms/step - loss: 2.7560 - accuracy: 0.5993 - val_loss: 72813.8750 - val_accuracy: 0.0185\n",
            "Epoch 25/100\n",
            "313/313 [==============================] - 30s 96ms/step - loss: 2.7243 - accuracy: 0.6063 - val_loss: 54734.8867 - val_accuracy: 0.0163\n",
            "Epoch 26/100\n",
            "313/313 [==============================] - 30s 95ms/step - loss: 2.6660 - accuracy: 0.6177 - val_loss: 60148.7539 - val_accuracy: 0.0166\n",
            "Epoch 27/100\n",
            "313/313 [==============================] - 31s 99ms/step - loss: 2.6405 - accuracy: 0.6207 - val_loss: 50461.5352 - val_accuracy: 0.0122\n",
            "Epoch 28/100\n",
            "313/313 [==============================] - 31s 99ms/step - loss: 2.6031 - accuracy: 0.6289 - val_loss: 58972.6797 - val_accuracy: 0.0098\n",
            "Epoch 29/100\n",
            "313/313 [==============================] - 31s 99ms/step - loss: 2.5619 - accuracy: 0.6361 - val_loss: 78879.3828 - val_accuracy: 0.0120\n",
            "Epoch 30/100\n",
            "313/313 [==============================] - 31s 100ms/step - loss: 2.5299 - accuracy: 0.6418 - val_loss: 64191.6094 - val_accuracy: 0.0119\n",
            "Epoch 31/100\n",
            "313/313 [==============================] - 31s 100ms/step - loss: 2.5097 - accuracy: 0.6463 - val_loss: 107251.7734 - val_accuracy: 0.0117\n",
            "Epoch 32/100\n",
            "313/313 [==============================] - 31s 100ms/step - loss: 2.4785 - accuracy: 0.6525 - val_loss: 68853.5547 - val_accuracy: 0.0114\n",
            "Epoch 33/100\n",
            "313/313 [==============================] - 31s 100ms/step - loss: 2.4406 - accuracy: 0.6601 - val_loss: 36233.1406 - val_accuracy: 0.0116\n",
            "Epoch 34/100\n",
            "313/313 [==============================] - 31s 100ms/step - loss: 2.4233 - accuracy: 0.6637 - val_loss: 37996.8633 - val_accuracy: 0.0104\n",
            "Epoch 35/100\n",
            "313/313 [==============================] - 30s 97ms/step - loss: 2.3913 - accuracy: 0.6702 - val_loss: 26770.8281 - val_accuracy: 0.0115\n",
            "Epoch 36/100\n",
            "313/313 [==============================] - 32s 101ms/step - loss: 2.3581 - accuracy: 0.6781 - val_loss: 29872.1152 - val_accuracy: 0.0111\n",
            "Epoch 37/100\n",
            "313/313 [==============================] - 31s 98ms/step - loss: 2.3682 - accuracy: 0.6731 - val_loss: 60623.0664 - val_accuracy: 0.0117\n",
            "Epoch 38/100\n",
            "313/313 [==============================] - 32s 101ms/step - loss: 2.3367 - accuracy: 0.6805 - val_loss: 24240.8711 - val_accuracy: 0.0115\n",
            "Epoch 39/100\n",
            "313/313 [==============================] - 31s 100ms/step - loss: 2.3235 - accuracy: 0.6799 - val_loss: 82187.4844 - val_accuracy: 0.0108\n",
            "Epoch 40/100\n",
            "313/313 [==============================] - 31s 100ms/step - loss: 2.2899 - accuracy: 0.6881 - val_loss: 20601.4453 - val_accuracy: 0.0119\n",
            "Epoch 41/100\n",
            "313/313 [==============================] - 31s 100ms/step - loss: 2.2757 - accuracy: 0.6927 - val_loss: 28947.9199 - val_accuracy: 0.0100\n",
            "Epoch 42/100\n",
            "313/313 [==============================] - 30s 96ms/step - loss: 2.2522 - accuracy: 0.6986 - val_loss: 22169.4785 - val_accuracy: 0.0115\n",
            "Epoch 43/100\n",
            "313/313 [==============================] - 31s 101ms/step - loss: 2.2329 - accuracy: 0.7027 - val_loss: 31922.7363 - val_accuracy: 0.0090\n",
            "Epoch 44/100\n",
            "313/313 [==============================] - 30s 96ms/step - loss: 2.2050 - accuracy: 0.7064 - val_loss: 29323.7832 - val_accuracy: 0.0100\n",
            "Epoch 45/100\n",
            "313/313 [==============================] - 31s 100ms/step - loss: 2.1904 - accuracy: 0.7097 - val_loss: 57461.1758 - val_accuracy: 0.0086\n",
            "Epoch 46/100\n",
            "313/313 [==============================] - 30s 97ms/step - loss: 2.1600 - accuracy: 0.7166 - val_loss: 26611.8281 - val_accuracy: 0.0106\n",
            "Epoch 47/100\n",
            "313/313 [==============================] - 32s 101ms/step - loss: 2.1397 - accuracy: 0.7217 - val_loss: 45548.1641 - val_accuracy: 0.0107\n",
            "Epoch 48/100\n",
            "313/313 [==============================] - 32s 102ms/step - loss: 2.1286 - accuracy: 0.7240 - val_loss: 33221.2070 - val_accuracy: 0.0109\n",
            "Epoch 49/100\n",
            "313/313 [==============================] - 31s 98ms/step - loss: 2.1064 - accuracy: 0.7279 - val_loss: 65095.6172 - val_accuracy: 0.0108\n",
            "Epoch 50/100\n",
            "313/313 [==============================] - 31s 98ms/step - loss: 2.1004 - accuracy: 0.7311 - val_loss: 33211.8750 - val_accuracy: 0.0079\n",
            "Epoch 51/100\n",
            "313/313 [==============================] - 31s 100ms/step - loss: 2.2139 - accuracy: 0.7042 - val_loss: 59472.1289 - val_accuracy: 0.0087\n",
            "Epoch 52/100\n",
            "313/313 [==============================] - 31s 100ms/step - loss: 2.1362 - accuracy: 0.7239 - val_loss: 51512.5156 - val_accuracy: 0.0094\n",
            "Epoch 53/100\n",
            "313/313 [==============================] - 31s 98ms/step - loss: 2.0952 - accuracy: 0.7297 - val_loss: 78510.8125 - val_accuracy: 0.0112\n",
            "Epoch 54/100\n",
            "313/313 [==============================] - 31s 99ms/step - loss: 2.0667 - accuracy: 0.7334 - val_loss: 43904.2031 - val_accuracy: 0.0116\n",
            "Epoch 55/100\n",
            "313/313 [==============================] - 31s 99ms/step - loss: 2.0430 - accuracy: 0.7410 - val_loss: 70015.2656 - val_accuracy: 0.0095\n",
            "Epoch 56/100\n",
            "313/313 [==============================] - 31s 99ms/step - loss: 2.0346 - accuracy: 0.7419 - val_loss: 61131.5469 - val_accuracy: 0.0162\n",
            "Epoch 57/100\n",
            "313/313 [==============================] - 31s 100ms/step - loss: 2.0185 - accuracy: 0.7467 - val_loss: 116452.9531 - val_accuracy: 0.0095\n",
            "Epoch 58/100\n",
            "313/313 [==============================] - 32s 104ms/step - loss: 1.9887 - accuracy: 0.7523 - val_loss: 80023.9531 - val_accuracy: 0.0111\n",
            "Epoch 59/100\n",
            "313/313 [==============================] - 33s 104ms/step - loss: 1.9874 - accuracy: 0.7534 - val_loss: 62119.4688 - val_accuracy: 0.0106\n",
            "Epoch 60/100\n",
            "313/313 [==============================] - 32s 101ms/step - loss: 1.9727 - accuracy: 0.7584 - val_loss: 46921.0703 - val_accuracy: 0.0120\n",
            "Epoch 61/100\n",
            "313/313 [==============================] - 32s 102ms/step - loss: 1.9478 - accuracy: 0.7606 - val_loss: 82727.0547 - val_accuracy: 0.0107\n",
            "Epoch 62/100\n",
            "313/313 [==============================] - 32s 101ms/step - loss: 1.9576 - accuracy: 0.7583 - val_loss: 101873.2734 - val_accuracy: 0.0109\n",
            "Epoch 63/100\n",
            "313/313 [==============================] - 32s 103ms/step - loss: 1.9442 - accuracy: 0.7627 - val_loss: 120693.2578 - val_accuracy: 0.0117\n",
            "Epoch 64/100\n",
            "313/313 [==============================] - 32s 101ms/step - loss: 1.9243 - accuracy: 0.7673 - val_loss: 159157.9062 - val_accuracy: 0.0116\n",
            "Epoch 65/100\n",
            "313/313 [==============================] - 32s 102ms/step - loss: 1.9166 - accuracy: 0.7668 - val_loss: 158328.7656 - val_accuracy: 0.0114\n",
            "Epoch 66/100\n",
            "313/313 [==============================] - 32s 101ms/step - loss: 1.9043 - accuracy: 0.7702 - val_loss: 105611.1562 - val_accuracy: 0.0112\n",
            "Epoch 67/100\n",
            "313/313 [==============================] - 31s 100ms/step - loss: 1.8891 - accuracy: 0.7731 - val_loss: 120343.9844 - val_accuracy: 0.0125\n",
            "Epoch 68/100\n",
            "313/313 [==============================] - 31s 98ms/step - loss: 1.8725 - accuracy: 0.7759 - val_loss: 160462.6094 - val_accuracy: 0.0065\n",
            "Epoch 69/100\n",
            "313/313 [==============================] - 31s 100ms/step - loss: 1.8490 - accuracy: 0.7782 - val_loss: 84112.8359 - val_accuracy: 0.0103\n",
            "Epoch 70/100\n",
            "313/313 [==============================] - 31s 100ms/step - loss: 1.8410 - accuracy: 0.7830 - val_loss: 144783.9531 - val_accuracy: 0.0111\n",
            "Epoch 71/100\n",
            "313/313 [==============================] - 32s 102ms/step - loss: 1.8421 - accuracy: 0.7839 - val_loss: 64023.5273 - val_accuracy: 0.0062\n",
            "Epoch 72/100\n",
            "313/313 [==============================] - 32s 102ms/step - loss: 1.8191 - accuracy: 0.7868 - val_loss: 98570.3125 - val_accuracy: 0.0111\n",
            "Epoch 73/100\n",
            "313/313 [==============================] - 32s 102ms/step - loss: 1.8148 - accuracy: 0.7875 - val_loss: 101925.0000 - val_accuracy: 0.0092\n",
            "Epoch 74/100\n",
            "313/313 [==============================] - 31s 98ms/step - loss: 1.7908 - accuracy: 0.7914 - val_loss: 100186.0000 - val_accuracy: 0.0104\n",
            "Epoch 75/100\n",
            "313/313 [==============================] - 31s 99ms/step - loss: 1.7916 - accuracy: 0.7929 - val_loss: 111729.4219 - val_accuracy: 0.0055\n",
            "Epoch 76/100\n",
            "313/313 [==============================] - 32s 103ms/step - loss: 1.7909 - accuracy: 0.7929 - val_loss: 103516.5859 - val_accuracy: 0.0107\n",
            "Epoch 77/100\n",
            "313/313 [==============================] - 32s 102ms/step - loss: 1.7670 - accuracy: 0.7971 - val_loss: 95958.0703 - val_accuracy: 0.0093\n",
            "Epoch 78/100\n",
            "313/313 [==============================] - 32s 102ms/step - loss: 1.7392 - accuracy: 0.8023 - val_loss: 109572.7734 - val_accuracy: 0.0123\n",
            "Epoch 79/100\n",
            "313/313 [==============================] - 31s 100ms/step - loss: 1.7273 - accuracy: 0.8028 - val_loss: 118129.6797 - val_accuracy: 0.0111\n",
            "Epoch 80/100\n",
            "313/313 [==============================] - 32s 102ms/step - loss: 1.7375 - accuracy: 0.8005 - val_loss: 241686.1250 - val_accuracy: 0.0111\n",
            "Epoch 81/100\n",
            "313/313 [==============================] - 32s 103ms/step - loss: 1.8612 - accuracy: 0.7793 - val_loss: 268328.0000 - val_accuracy: 0.0111\n",
            "Epoch 82/100\n",
            "313/313 [==============================] - 31s 98ms/step - loss: 1.8017 - accuracy: 0.7944 - val_loss: 98040.0000 - val_accuracy: 0.0123\n",
            "Epoch 83/100\n",
            "313/313 [==============================] - 31s 98ms/step - loss: 1.7329 - accuracy: 0.8044 - val_loss: 127319.4766 - val_accuracy: 0.0093\n",
            "Epoch 84/100\n",
            "313/313 [==============================] - 31s 98ms/step - loss: 1.7003 - accuracy: 0.8086 - val_loss: 145456.3906 - val_accuracy: 0.0063\n",
            "Epoch 85/100\n",
            "313/313 [==============================] - 32s 103ms/step - loss: 1.6914 - accuracy: 0.8106 - val_loss: 152047.4219 - val_accuracy: 0.0121\n",
            "Epoch 86/100\n",
            "313/313 [==============================] - 31s 100ms/step - loss: 1.6781 - accuracy: 0.8130 - val_loss: 118998.4219 - val_accuracy: 0.0078\n",
            "Epoch 87/100\n",
            "313/313 [==============================] - 32s 102ms/step - loss: 1.6785 - accuracy: 0.8157 - val_loss: 83473.7656 - val_accuracy: 0.0146\n",
            "Epoch 88/100\n",
            "313/313 [==============================] - 31s 98ms/step - loss: 1.6756 - accuracy: 0.8148 - val_loss: 86380.3750 - val_accuracy: 0.0133\n",
            "Epoch 89/100\n",
            "313/313 [==============================] - 31s 98ms/step - loss: 1.6557 - accuracy: 0.8188 - val_loss: 114777.0859 - val_accuracy: 0.0116\n",
            "Epoch 90/100\n",
            "313/313 [==============================] - 30s 97ms/step - loss: 1.6488 - accuracy: 0.8191 - val_loss: 78732.6641 - val_accuracy: 0.0138\n",
            "Epoch 91/100\n",
            "313/313 [==============================] - 31s 98ms/step - loss: 1.6475 - accuracy: 0.8210 - val_loss: 73717.7656 - val_accuracy: 0.0119\n",
            "Epoch 92/100\n",
            "313/313 [==============================] - 32s 102ms/step - loss: 1.6432 - accuracy: 0.8216 - val_loss: 84616.3359 - val_accuracy: 0.0125\n",
            "Epoch 93/100\n",
            "313/313 [==============================] - 32s 102ms/step - loss: 1.6350 - accuracy: 0.8228 - val_loss: 80562.9453 - val_accuracy: 0.0167\n",
            "Epoch 94/100\n",
            "313/313 [==============================] - 32s 102ms/step - loss: 1.6211 - accuracy: 0.8261 - val_loss: 74241.0312 - val_accuracy: 0.0121\n",
            "Epoch 95/100\n",
            "313/313 [==============================] - 31s 99ms/step - loss: 1.6127 - accuracy: 0.8274 - val_loss: 91002.5312 - val_accuracy: 0.0162\n",
            "Epoch 96/100\n",
            "313/313 [==============================] - 31s 99ms/step - loss: 1.6057 - accuracy: 0.8259 - val_loss: 106983.4609 - val_accuracy: 0.0144\n",
            "Epoch 97/100\n",
            "313/313 [==============================] - 31s 98ms/step - loss: 1.6134 - accuracy: 0.8274 - val_loss: 90014.7969 - val_accuracy: 0.0131\n",
            "Epoch 98/100\n",
            "313/313 [==============================] - 32s 102ms/step - loss: 1.5922 - accuracy: 0.8317 - val_loss: 70324.2188 - val_accuracy: 0.0124\n",
            "Epoch 99/100\n",
            "313/313 [==============================] - 32s 103ms/step - loss: 1.5892 - accuracy: 0.8300 - val_loss: 52725.6328 - val_accuracy: 0.0153\n",
            "Epoch 100/100\n",
            "313/313 [==============================] - 32s 103ms/step - loss: 1.5736 - accuracy: 0.8340 - val_loss: 42634.8320 - val_accuracy: 0.0103\n",
            "\n",
            " RENDIMIENTO ENTRENAMIENTO:\n"
          ]
        },
        {
          "output_type": "display_data",
          "data": {
            "text/plain": [
              "<Figure size 1000x400 with 2 Axes>"
            ],
            "image/png": "[encoded data removed]"
          },
          "metadata": {}
        }
      ]
    },
    {
      "cell_type": "code",
      "source": [
        "test_loss, test_acc = model.evaluate(test_X, test_y_categorical, verbose = 0)\n",
        "print('\\n\\nTest accuracy:', test_acc)"
      ],
      "metadata": {
        "id": "OFek8zLSPtFS"
      },
      "execution_count": null,
      "outputs": []
    },
    {
      "cell_type": "markdown",
      "source": [
        "REGULARIZER NO FUNCIONA:"
      ],
      "metadata": {
        "id": "qdMlMoPJQ4Wo"
      }
    },
    {
      "cell_type": "markdown",
      "source": [
        "CALLBACK PARA GUARDAR MEJOR MODELO EN FUNCION DE LA VALIDACION:"
      ],
      "metadata": {
        "id": "Ww03NNdPZVjN"
      }
    },
    {
      "cell_type": "code",
      "source": [
        "# from keras.callbacks import ModelCheckpoint\n",
        "\n",
        "# # Crear un callback para guardar el mejor modelo\n",
        "# checkpoint = ModelCheckpoint('mejor_modelo.h5', save_best_only=True)\n",
        "\n",
        "# # Entrenar el modelo con el callback\n",
        "# modelo.fit(X_train, y_train, epochs=10, validation_data=(X_val, y_val), callbacks=[checkpoint])"
      ],
      "metadata": {
        "id": "v4ysyXyRZb4q"
      },
      "execution_count": null,
      "outputs": []
    },
    {
      "cell_type": "markdown",
      "source": [
        "CALLBACK PARA REDUCIR EL LEARNING RATE EN FUNCION DE LA VALIDACION:"
      ],
      "metadata": {
        "id": "PzebCmuJaIOL"
      }
    },
    {
      "cell_type": "code",
      "source": [
        "# # Crear un callback para reducir la tasa de aprendizaje\n",
        "# reduce_lr = ReduceLROnPlateau(factor=0.5, patience=3)\n",
        "\n",
        "# # Entrenar el modelo con el callback\n",
        "# modelo.fit(X_train, y_train, epochs=10, validation_data=(X_val, y_val), callbacks=[reduce_lr])"
      ],
      "metadata": {
        "id": "wluR1pBgaOAn"
      },
      "execution_count": null,
      "outputs": []
    },
    {
      "cell_type": "markdown",
      "source": [
        "Se prueba a cambiar la inicialización de los pesos a"
      ],
      "metadata": {
        "id": "YuC18CyXF8ox"
      }
    },
    {
      "cell_type": "code",
      "source": [
        "# gc.collect()\n",
        "# model = Sequential()\n",
        "# model.add(Conv2D(32, (3, 3), activation='relu', padding = 'same', input_shape=(32, 32, 3)))\n",
        "# model.add(Conv2D(32, (3, 3), padding = 'same', activation='relu'))\n",
        "# model.add(BatchNormalization())\n",
        "# model.add(MaxPooling2D((2, 2)))\n",
        "# model.add(Conv2D(32, (3, 3), padding = 'same', activation='relu'))\n",
        "# model.add(Conv2D(32, (3, 3), padding = 'same', activation='relu'))\n",
        "# model.add(BatchNormalization())\n",
        "# model.add(MaxPooling2D((2, 2)))\n",
        "# model.add(Conv2D(32, (3, 3), padding = 'same', activation='relu'))\n",
        "# model.add(Conv2D(32, (3, 3), padding = 'same', activation='relu'))\n",
        "# model.add(BatchNormalization())\n",
        "# model.add(MaxPooling2D((2, 2)))\n",
        "# model.add(Flatten())\n",
        "# model.add(Dense(512, activation='relu'))\n",
        "# model.add(BatchNormalization())\n",
        "# model.add(Dropout(0.5))\n",
        "# model.add(Dense(1024, activation='relu'))\n",
        "# model.add(BatchNormalization())\n",
        "# model.add(Dropout(0.5))\n",
        "# model.add(Dense(100, activation='softmax'))\n",
        "# model.summary()\n",
        "# model.compile(loss='categorical_crossentropy',\n",
        "#               optimizer='rmsprop',\n",
        "#               metrics=['accuracy'])\n",
        "# history = model.fit(X, y_categorical,\n",
        "#           batch_size=128,\n",
        "#           epochs=10,\n",
        "#           verbose=1)\n",
        "# test_loss, test_acc = model.evaluate(test_X, test_y_categorical, verbose = 0)\n",
        "# print('\\n\\nTest accuracy:', test_acc)"
      ],
      "metadata": {
        "id": "ZOz-OuilF7SX"
      },
      "execution_count": null,
      "outputs": []
    },
    {
      "cell_type": "code",
      "source": [
        "# train_loss = history.history['loss']\n",
        "# train_acc = history.history['accuracy']\n",
        "# val_loss = history.history['val_loss']\n",
        "# val_acc = history.history['val_accuracy']\n",
        "# print('\\n RENDIMIENTO ENTRENAMIENTO:')\n",
        "# evaluar_rendimiento_validacion(train_loss,train_acc, val_loss, val_acc)"
      ],
      "metadata": {
        "id": "5fzt7EKOzAuC"
      },
      "execution_count": null,
      "outputs": []
    },
    {
      "cell_type": "code",
      "source": [
        "# #SE AJUSTAN LAS ÉPOCAS A 10\n",
        "# gc.collect()#LIMPIA BASURA\n",
        "# model = Sequential()\n",
        "# model.add(Conv2D(32, (5, 5), activation='relu', input_shape=(32, 32, 3)))\n",
        "# model.add(MaxPooling2D((2, 2)))\n",
        "# model.add(Conv2D(64, (5, 5), activation='relu'))\n",
        "# model.add(MaxPooling2D((2, 2)))\n",
        "# model.add(Flatten())\n",
        "# model.add(Dense(100, activation='softmax'))\n",
        "# model.compile(loss='categorical_crossentropy',\n",
        "#               optimizer='rmsprop',\n",
        "#               metrics=['accuracy'])\n",
        "\n",
        "# history = model.fit(Xnorm, y_categorical,\n",
        "#                     batch_size=100,\n",
        "#                     epochs=10,\n",
        "#                     verbose=1)"
      ],
      "metadata": {
        "id": "_9o58tOG9cLo"
      },
      "execution_count": null,
      "outputs": []
    },
    {
      "cell_type": "code",
      "source": [
        "# test_loss, test_acc = model.evaluate(test_Xnorm, test_y_categorical, verbose = 0)\n",
        "\n",
        "# print('Test accuracy:', test_acc)"
      ],
      "metadata": {
        "id": "NORpbwiM-xff"
      },
      "execution_count": null,
      "outputs": []
    },
    {
      "cell_type": "markdown",
      "source": [
        "BORRADOR:\n",
        "UN MODELO QUE DA 90% ACCURACY TIENE MÁS O MENOS LA SIGUIENTE ESTRUCTURA: (AL FINAL CREO QUE NO DABA 90% ACCURACY, OLVIDENLO)"
      ],
      "metadata": {
        "id": "xNmZTJLWfMkM"
      }
    },
    {
      "cell_type": "code",
      "source": [
        "# import gc\n",
        "# gc.collect()\n",
        "# model = Sequential()\n",
        "# model.add(Conv2D(32, (3, 3), activation='relu', input_shape=(32, 32, 3)))\n",
        "# model.add(MaxPooling2D((2, 2)))\n",
        "# model.add(Conv2D(64, (3, 3), activation='relu'))\n",
        "# model.add(MaxPooling2D((2, 2)))\n",
        "# model.add(Flatten())\n",
        "# model.add(Dense(256, activation='relu'))\n",
        "# model.add(Dense(128, activation='relu'))\n",
        "# model.add(Dense(100, activation='softmax'))\n",
        "# model.compile(loss='categorical_crossentropy',\n",
        "#               optimizer='rmsprop',\n",
        "#               metrics=['accuracy'])\n",
        "\n",
        "# history = model.fit(Xnorm, y_categorical,\n",
        "#           batch_size=500,\n",
        "#           epochs=5,\n",
        "#           verbose=1)"
      ],
      "metadata": {
        "id": "9Xv7tKcMfp_9"
      },
      "execution_count": null,
      "outputs": []
    },
    {
      "cell_type": "markdown",
      "source": [
        "BORRADOR:\n",
        "UN POSIBLE MODELO QUE INTEGRARÍA LA SUPERCLASE COMO PARÁMETRO:"
      ],
      "metadata": {
        "id": "U1YuExLqnTHs"
      }
    },
    {
      "cell_type": "code",
      "source": [
        "# from tensorflow.keras.models import Model\n",
        "# from tensorflow.keras.layers import Input, Conv2D, MaxPooling2D, Flatten, Dense, Embedding, Concatenate\n",
        "\n",
        "# # Supongamos que tienes 20 superclases en CIFAR-100\n",
        "# num_superclases = 20\n",
        "\n",
        "# # Entrada para la imagen\n",
        "# input_imagen = Input(shape=(32, 32, 3), name='input_imagen')\n",
        "\n",
        "# # Entrada para la superclase (asumiendo que es un número entero entre 0 y 19)\n",
        "# input_superclase = Input(shape=(1,), name='input_superclase', dtype='int32')\n",
        "\n",
        "# # Capa de incrustación para convertir la superclase en un vector denso\n",
        "# embedding_superclase = Embedding(input_dim=num_superclases, output_dim=10)(input_superclase)\n",
        "# embedding_superclase = Flatten()(embedding_superclase)\n",
        "\n",
        "# # Capas convolucionales y de pooling para la imagen\n",
        "# x = Conv2D(32, (5, 5), activation='relu')(input_imagen)\n",
        "# x = MaxPooling2D((2, 2))(x)\n",
        "# x = Conv2D(64, (5, 5), activation='relu')(x)\n",
        "# x = MaxPooling2D((2, 2))(x)\n",
        "# x = Flatten()(x)\n",
        "\n",
        "# # Concatenar las salidas de la imagen y la superclase\n",
        "# concatenated = Concatenate()([x, embedding_superclase])\n",
        "\n",
        "# # Capa densa para la salida final\n",
        "# output = Dense(100, activation='softmax')(concatenated)\n",
        "\n",
        "# # Crear el modelo\n",
        "# model = Model(inputs=[input_imagen, input_superclase], outputs=output)\n",
        "\n",
        "# # Compilar el modelo y especificar las funciones de pérdida, optimizador, etc.\n",
        "# model.compile(optimizer='adam', loss='categorical_crossentropy', metrics=['accuracy'])"
      ],
      "metadata": {
        "id": "fxDzN81kmXAw"
      },
      "execution_count": null,
      "outputs": []
    }
  ]
}