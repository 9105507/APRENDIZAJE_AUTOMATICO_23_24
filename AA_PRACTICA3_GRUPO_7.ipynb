{
  "nbformat": 4,
  "nbformat_minor": 0,
  "metadata": {
    "colab": {
      "provenance": [],
      "include_colab_link": true
    },
    "kernelspec": {
      "name": "python3",
      "display_name": "Python 3"
    },
    "language_info": {
      "name": "python"
    }
  },
  "cells": [
    {
      "cell_type": "markdown",
      "metadata": {
        "id": "view-in-github",
        "colab_type": "text"
      },
      "source": [
        "<a href=\"https://colab.research.google.com/github/9105507/APRENDIZAJE_AUTOMATICO_23_24/blob/main/AA_PRACTICA3_GRUPO_7.ipynb\" target=\"_parent\"><img src=\"https://colab.research.google.com/assets/colab-badge.svg\" alt=\"Open In Colab\"/></a>"
      ]
    },
    {
      "cell_type": "markdown",
      "source": [
        "\n",
        "# **Grupo 7**\n",
        "Miguel Ángel Rojo\n",
        "\n",
        "Miguel Poyatos García-Lorenzana\n",
        "\n",
        "Jorge Barcenilla González"
      ],
      "metadata": {
        "id": "qnvj58zMJhcG"
      }
    },
    {
      "cell_type": "markdown",
      "source": [
        "Utilizaremos la **biblioteca Python Keras** para aprender a **clasificar** prendas de ropa.\n",
        "\n",
        "**PROBLEMA:**\n",
        "- Clasificación de imágenes en escala de grises de números escritos a mano (28 x 28 píxeles) en sus 10 categorías (de 0 a 9)\n",
        "- Usaremos 60K imágenes de entrenamiento, más de 10K imágenes de prueba todas ellas recopiladas por el National Institute of Standards an Technology (NIST de MNIST) en los años ochenta.\n",
        "- Este es el \"Hola Mundo\" del Deep Learning\n",
        "- El conjunto de datos MNIST está precargado en Keras en la forma de un conjunto de cuatro matrices Numpy\n",
        "- Algunas muestras"
      ],
      "metadata": {
        "id": "wU1L_F0GHxKQ"
      }
    },
    {
      "cell_type": "markdown",
      "source": [
        "# Inicialización de datos"
      ],
      "metadata": {
        "id": "qpSpEvcxSZls"
      }
    },
    {
      "cell_type": "code",
      "source": [
        "%tensorflow_version 2.x\n",
        "import tensorflow as tf\n",
        "from tensorflow import keras\n",
        "\n",
        "import numpy as np\n",
        "import matplotlib.pyplot as plt\n",
        "\n",
        "print(tf.__version__)#"
      ],
      "metadata": {
        "id": "ofw6MsykIP4E",
        "outputId": "11894bc0-d111-4956-c9a4-0a8ccfd4d18a",
        "colab": {
          "base_uri": "https://localhost:8080/"
        }
      },
      "execution_count": null,
      "outputs": [
        {
          "output_type": "stream",
          "name": "stdout",
          "text": [
            "Colab only includes TensorFlow 2.x; %tensorflow_version has no effect.\n",
            "2.14.0\n"
          ]
        }
      ]
    },
    {
      "cell_type": "code",
      "source": [
        "from keras import utils\n",
        "from keras.utils import to_categorical\n",
        "import tensorflow as tf\n",
        "\n",
        "cifar100 = tf.keras.datasets.cifar100\n",
        "(train_images, train_labels), (test_images, test_labels) = cifar100.load_data()\n",
        "\n",
        "print(train_images.shape)\n",
        "print(train_labels.shape)\n",
        "print(test_images.shape)\n",
        "print(test_labels.shape)"
      ],
      "metadata": {
        "colab": {
          "base_uri": "https://localhost:8080/"
        },
        "id": "8JdaRTscrB4W",
        "outputId": "a4356b97-3951-4e3b-c81f-3a6fbfc8c6a4"
      },
      "execution_count": null,
      "outputs": [
        {
          "output_type": "stream",
          "name": "stdout",
          "text": [
            "Downloading data from https://www.cs.toronto.edu/~kriz/cifar-100-python.tar.gz\n",
            "169001437/169001437 [==============================] - 2s 0us/step\n",
            "(50000, 32, 32, 3)\n",
            "(50000, 1)\n",
            "(10000, 32, 32, 3)\n",
            "(10000, 1)\n"
          ]
        }
      ]
    },
    {
      "cell_type": "code",
      "source": [
        "# Importar el módulo matplotlib\n",
        "import matplotlib.pyplot as plt\n",
        "\n",
        "# Supongamos que tienes un array de datos de una imagen\n",
        "imagen = train_images[0]\n",
        "\n",
        "# Mostrar la imagen usando imshow()\n",
        "plt.imshow(imagen)\n",
        "plt.show()"
      ],
      "metadata": {
        "colab": {
          "base_uri": "https://localhost:8080/",
          "height": 430
        },
        "id": "4dZ0KLiGUWhQ",
        "outputId": "f5518f7d-9207-49fd-f07b-28ff821a53b2"
      },
      "execution_count": null,
      "outputs": [
        {
          "output_type": "display_data",
          "data": {
            "text/plain": [
              "<Figure size 640x480 with 1 Axes>"
            ],
            "image/png": "[encoded data removed]"
          },
          "metadata": {}
        }
      ]
    },
    {
      "cell_type": "code",
      "source": [
        "import numpy as np\n",
        "\n",
        "# Lista con las classes\n",
        "class_names = [\"beaver\", \"dolphin\", \"otter\", \"seal\", \"whale\",\n",
        "               \"aquarium fish\", \"flatfish\", \"ray\", \"shark\", \"trout\",\n",
        "               \"orchids\", \"poppies\", \"roses\", \"sunflowers\", \"tulips\",\n",
        "               \"bottles\", \"bowls\", \"cans\", \"cups\", \"plates\",\n",
        "               \"apples\", \"mushrooms\", \"oranges\", \"pears\", \"sweet peppers\",\n",
        "               \"clock\", \"computer keyboard\", \"lamp\", \"telephone\", \"television\",\n",
        "               \"bed\", \"chair\", \"couch\", \"table\", \"wardrobe\",\n",
        "               \"bee\", \"beetle\", \"butterfly\", \"caterpillar\", \"cockroach\",\n",
        "               \"bear\", \"leopard\", \"lion\", \"tiger\", \"wolf\",\n",
        "               \"bridge\", \"castle\", \"house\", \"road\", \"skyscraper\",\n",
        "               \"cloud\", \"forest\", \"mountain\", \"plain\", \"sea\",\n",
        "               \"camel\", \"cattle\", \"chimpanzee\", \"elephant\", \"kangaroo\",\n",
        "               \"fox\", \"porcupine\", \"possum\", \"raccoon\", \"skunk\",\n",
        "               \"crab\", \"lobster\", \"snail\", \"spider\", \"worm\",\n",
        "               \"baby\", \"boy\", \"girl\", \"man\", \"woman\",\n",
        "               \"crocodile\", \"dinosaur\", \"lizard\", \"snake\", \"turtle\",\n",
        "               \"hamster\", \"mouse\", \"rabbit\", \"shrew\", \"squirrel\",\n",
        "               \"maple\", \"oak\", \"palm\", \"pine\", \"willow\",\n",
        "               \"bicycle\", \"bus\", \"motorcycle\", \"pickup truck\", \"train\",\n",
        "               \"lawn-mower\", \"rocket\", \"streetcar\", \"tank\", \"tractor\"]\n",
        "\n",
        "# Crear una lista con los nombres de las superclases\n",
        "super_class_names = [\"aquatic mammals\",\n",
        "                     \"fish\",\n",
        "                     \"flowers\",\n",
        "                     \"food containers\",\n",
        "                     \"fruit and vegetables\",\n",
        "                     \"household electrical devices\",\n",
        "                     \"household furniture\",\n",
        "                     \"insects\", \"large carnivores\",\n",
        "                     \"large man-made outdoor things\",\n",
        "                     \"large natural outdoor scenes\",\n",
        "                     \"large omnivores and herbivores\",\n",
        "                     \"medium-sized mammals\",\n",
        "                     \"non-insect invertebrates\",\n",
        "                     \"people\",\n",
        "                     \"reptiles\",\n",
        "                     \"small mammals\",\n",
        "                     \"trees\",\n",
        "                     \"vehicles 1\",\n",
        "                     \"vehicles 2\"]"
      ],
      "metadata": {
        "id": "UDKDHiXzgYzR"
      },
      "execution_count": null,
      "outputs": []
    },
    {
      "cell_type": "code",
      "source": [
        "# Crear un array con los índices de las superclases\n",
        "train_labels_superclass = np.floor_divide(train_labels, 5)\n",
        "print(f'El array train_labels_superclass es:\\n{train_labels_superclass}')"
      ],
      "metadata": {
        "colab": {
          "base_uri": "https://localhost:8080/"
        },
        "id": "bsbWPX-PiyH_",
        "outputId": "0d168429-4079-4acd-f353-c035c8cd3077"
      },
      "execution_count": null,
      "outputs": [
        {
          "output_type": "stream",
          "name": "stdout",
          "text": [
            "El array train_labels_superclass es:\n",
            "[[ 3]\n",
            " [ 5]\n",
            " [ 0]\n",
            " ...\n",
            " [ 0]\n",
            " [ 1]\n",
            " [14]]\n"
          ]
        }
      ]
    },
    {
      "cell_type": "code",
      "source": [
        "import numpy as np\n",
        "from collections import Counter\n",
        "\n",
        "train_labels = train_labels.reshape(50000)\n",
        "\n",
        "# Create a counter for the indices\n",
        "index_count = Counter(train_labels)\n",
        "\n",
        "# Sort the indices\n",
        "sorted_indices = sorted(index_count.items())\n",
        "\n",
        "# Print the count of each index and the corresponding class name\n",
        "for index, count in sorted_indices:\n",
        "    print(f'{class_names[index]}: {count}')"
      ],
      "metadata": {
        "colab": {
          "base_uri": "https://localhost:8080/"
        },
        "id": "VNZpQJQBi9EB",
        "outputId": "3740670c-7daa-462e-bad1-295f78eb7664"
      },
      "execution_count": null,
      "outputs": [
        {
          "output_type": "stream",
          "name": "stdout",
          "text": [
            "beaver: 500\n",
            "dolphin: 500\n",
            "otter: 500\n",
            "seal: 500\n",
            "whale: 500\n",
            "aquarium fish: 500\n",
            "flatfish: 500\n",
            "ray: 500\n",
            "shark: 500\n",
            "trout: 500\n",
            "orchids: 500\n",
            "poppies: 500\n",
            "roses: 500\n",
            "sunflowers: 500\n",
            "tulips: 500\n",
            "bottles: 500\n",
            "bowls: 500\n",
            "cans: 500\n",
            "cups: 500\n",
            "plates: 500\n",
            "apples: 500\n",
            "mushrooms: 500\n",
            "oranges: 500\n",
            "pears: 500\n",
            "sweet peppers: 500\n",
            "clock: 500\n",
            "computer keyboard: 500\n",
            "lamp: 500\n",
            "telephone: 500\n",
            "television: 500\n",
            "bed: 500\n",
            "chair: 500\n",
            "couch: 500\n",
            "table: 500\n",
            "wardrobe: 500\n",
            "bee: 500\n",
            "beetle: 500\n",
            "butterfly: 500\n",
            "caterpillar: 500\n",
            "cockroach: 500\n",
            "bear: 500\n",
            "leopard: 500\n",
            "lion: 500\n",
            "tiger: 500\n",
            "wolf: 500\n",
            "bridge: 500\n",
            "castle: 500\n",
            "house: 500\n",
            "road: 500\n",
            "skyscraper: 500\n",
            "cloud: 500\n",
            "forest: 500\n",
            "mountain: 500\n",
            "plain: 500\n",
            "sea: 500\n",
            "camel: 500\n",
            "cattle: 500\n",
            "chimpanzee: 500\n",
            "elephant: 500\n",
            "kangaroo: 500\n",
            "fox: 500\n",
            "porcupine: 500\n",
            "possum: 500\n",
            "raccoon: 500\n",
            "skunk: 500\n",
            "crab: 500\n",
            "lobster: 500\n",
            "snail: 500\n",
            "spider: 500\n",
            "worm: 500\n",
            "baby: 500\n",
            "boy: 500\n",
            "girl: 500\n",
            "man: 500\n",
            "woman: 500\n",
            "crocodile: 500\n",
            "dinosaur: 500\n",
            "lizard: 500\n",
            "snake: 500\n",
            "turtle: 500\n",
            "hamster: 500\n",
            "mouse: 500\n",
            "rabbit: 500\n",
            "shrew: 500\n",
            "squirrel: 500\n",
            "maple: 500\n",
            "oak: 500\n",
            "palm: 500\n",
            "pine: 500\n",
            "willow: 500\n",
            "bicycle: 500\n",
            "bus: 500\n",
            "motorcycle: 500\n",
            "pickup truck: 500\n",
            "train: 500\n",
            "lawn-mower: 500\n",
            "rocket: 500\n",
            "streetcar: 500\n",
            "tank: 500\n",
            "tractor: 500\n"
          ]
        }
      ]
    },
    {
      "cell_type": "code",
      "source": [
        "import numpy as np\n",
        "from collections import Counter\n",
        "\n",
        "train_labels_superclass = train_labels_superclass.reshape(50000)\n",
        "\n",
        "# Create a counter for the indices\n",
        "index_count = Counter(train_labels_superclass)\n",
        "\n",
        "# Sort the indices\n",
        "sorted_indices = sorted(index_count.items())\n",
        "\n",
        "# Print the count of each index and the corresponding class name\n",
        "for index, count in sorted_indices:\n",
        "    print(f'{super_class_names[index]}: {count}')"
      ],
      "metadata": {
        "colab": {
          "base_uri": "https://localhost:8080/"
        },
        "id": "EwfKHxLlx_yL",
        "outputId": "8b3b1e51-bd41-4738-cd43-66eaef892cc5"
      },
      "execution_count": null,
      "outputs": [
        {
          "output_type": "stream",
          "name": "stdout",
          "text": [
            "aquatic mammals: 2500\n",
            "fish: 2500\n",
            "flowers: 2500\n",
            "food containers: 2500\n",
            "fruit and vegetables: 2500\n",
            "household electrical devices: 2500\n",
            "household furniture: 2500\n",
            "insects: 2500\n",
            "large carnivores: 2500\n",
            "large man-made outdoor things: 2500\n",
            "large natural outdoor scenes: 2500\n",
            "large omnivores and herbivores: 2500\n",
            "medium-sized mammals: 2500\n",
            "non-insect invertebrates: 2500\n",
            "people: 2500\n",
            "reptiles: 2500\n",
            "small mammals: 2500\n",
            "trees: 2500\n",
            "vehicles 1: 2500\n",
            "vehicles 2: 2500\n"
          ]
        }
      ]
    },
    {
      "cell_type": "markdown",
      "source": [
        "# VISUALIZAR"
      ],
      "metadata": {
        "id": "EgbPBsBXZ1Q5"
      }
    },
    {
      "cell_type": "code",
      "source": [
        "train_labels.shape"
      ],
      "metadata": {
        "colab": {
          "base_uri": "https://localhost:8080/"
        },
        "id": "iGNSW6-0VtE3",
        "outputId": "cd8e6113-ae5f-4354-cd14-15ef57bc219f"
      },
      "execution_count": null,
      "outputs": [
        {
          "output_type": "execute_result",
          "data": {
            "text/plain": [
              "(50000, 1)"
            ]
          },
          "metadata": {},
          "execution_count": 8
        }
      ]
    },
    {
      "cell_type": "markdown",
      "source": [
        "Echamos un vistazo a los **datos de entrenamiento**:"
      ],
      "metadata": {
        "id": "k8wNhvQTZ4ff"
      }
    },
    {
      "cell_type": "code",
      "source": [
        "len(train_labels)"
      ],
      "metadata": {
        "colab": {
          "base_uri": "https://localhost:8080/"
        },
        "id": "WC7prAfabcUN",
        "outputId": "bc983148-894d-42ac-8475-7b210ba3e73c"
      },
      "execution_count": null,
      "outputs": [
        {
          "output_type": "execute_result",
          "data": {
            "text/plain": [
              "50000"
            ]
          },
          "metadata": {},
          "execution_count": 72
        }
      ]
    },
    {
      "cell_type": "code",
      "source": [
        "train_labels"
      ],
      "metadata": {
        "colab": {
          "base_uri": "https://localhost:8080/"
        },
        "id": "_4jhU7XJbfHL",
        "outputId": "e41cab49-3d9e-4d45-9aa5-a6b0bed9818f"
      },
      "execution_count": null,
      "outputs": [
        {
          "output_type": "execute_result",
          "data": {
            "text/plain": [
              "array([[19],\n",
              "       [29],\n",
              "       [ 0],\n",
              "       ...,\n",
              "       [ 3],\n",
              "       [ 7],\n",
              "       [73]])"
            ]
          },
          "metadata": {},
          "execution_count": 10
        }
      ]
    },
    {
      "cell_type": "code",
      "source": [
        "print(train_images.shape)"
      ],
      "metadata": {
        "colab": {
          "base_uri": "https://localhost:8080/"
        },
        "id": "NQyB3wtUZ3zL",
        "outputId": "b417b4e5-45ed-47f5-8866-606f8ad9ccfa"
      },
      "execution_count": null,
      "outputs": [
        {
          "output_type": "stream",
          "name": "stdout",
          "text": [
            "(50000, 32, 32, 3)\n"
          ]
        }
      ]
    },
    {
      "cell_type": "code",
      "source": [
        "# Veamos el elemento 0 (que vemos que es un dinosaurio) y pintémoslo con matplotlib\n",
        "digit = train_images[0]\n",
        "plt.imshow(digit, cmap=plt.cm.binary)\n",
        "plt.show()"
      ],
      "metadata": {
        "colab": {
          "base_uri": "https://localhost:8080/",
          "height": 430
        },
        "id": "MWBfCaR8blbO",
        "outputId": "a713e6b9-0cbb-4508-9914-286460448775"
      },
      "execution_count": null,
      "outputs": [
        {
          "output_type": "display_data",
          "data": {
            "text/plain": [
              "<Figure size 640x480 with 1 Axes>"
            ],
            "image/png": "[encoded data removed]"
          },
          "metadata": {}
        }
      ]
    },
    {
      "cell_type": "code",
      "source": [
        "# La matriz de rojos\n",
        "red_matrix = np.take(digit, 0, axis=2)\n",
        "\n",
        "\n",
        "# Vemos la matriz de la imagen número 30.000 (28x28)\n",
        "np.set_printoptions(precision=2, suppress=True, linewidth=145)\n",
        "print(np.matrix(red_matrix))"
      ],
      "metadata": {
        "colab": {
          "base_uri": "https://localhost:8080/"
        },
        "id": "YTBOKaluZ-hL",
        "outputId": "3c6efdf8-547e-4e08-b95a-ac5049347733"
      },
      "execution_count": null,
      "outputs": [
        {
          "output_type": "stream",
          "name": "stdout",
          "text": [
            "[[255 253 253 ... 253 253 255]\n",
            " [255 255 255 ... 255 255 255]\n",
            " [255 255 255 ... 255 255 255]\n",
            " ...\n",
            " [255 255 255 ... 255 255 255]\n",
            " [255 255 255 ... 255 255 255]\n",
            " [255 253 253 ... 253 253 255]]\n"
          ]
        }
      ]
    },
    {
      "cell_type": "code",
      "source": [
        "# La imagen anterior corresponde con el número 3. Hasta se puede intuir....\n",
        "class_names[train_labels[30000][0]]"
      ],
      "metadata": {
        "colab": {
          "base_uri": "https://localhost:8080/",
          "height": 35
        },
        "id": "3VL9K4cAaCNb",
        "outputId": "f46d2af3-b14d-4612-b79f-5547e2d2b3af"
      },
      "execution_count": null,
      "outputs": [
        {
          "output_type": "execute_result",
          "data": {
            "text/plain": [
              "'cockroach'"
            ],
            "application/vnd.google.colaboratory.intrinsic+json": {
              "type": "string"
            }
          },
          "metadata": {},
          "execution_count": 68
        }
      ]
    },
    {
      "cell_type": "code",
      "source": [
        "# Veamos el elemento 30000 y pintémoslo con matplotlib\n",
        "digit = train_images[30000]\n",
        "plt.imshow(digit, cmap=plt.cm.binary)\n",
        "plt.show()"
      ],
      "metadata": {
        "colab": {
          "base_uri": "https://localhost:8080/",
          "height": 430
        },
        "id": "fDymEdmeaEbF",
        "outputId": "6740201d-d187-48cd-dca0-1f34f0530143"
      },
      "execution_count": null,
      "outputs": [
        {
          "output_type": "display_data",
          "data": {
            "text/plain": [
              "<Figure size 640x480 with 1 Axes>"
            ],
            "image/png": "[encoded data removed]"
          },
          "metadata": {}
        }
      ]
    },
    {
      "cell_type": "markdown",
      "source": [
        "Los **datos de prueba**:"
      ],
      "metadata": {
        "id": "qEfHWBUqbtjs"
      }
    },
    {
      "cell_type": "code",
      "source": [
        "test_images.shape"
      ],
      "metadata": {
        "colab": {
          "base_uri": "https://localhost:8080/"
        },
        "id": "tXjDoku2buQv",
        "outputId": "1a65cded-f63c-4e23-860e-a2ae4fc0c52f"
      },
      "execution_count": null,
      "outputs": [
        {
          "output_type": "execute_result",
          "data": {
            "text/plain": [
              "(10000, 32, 32, 3)"
            ]
          },
          "metadata": {},
          "execution_count": 61
        }
      ]
    },
    {
      "cell_type": "code",
      "source": [
        "len(test_labels)"
      ],
      "metadata": {
        "id": "6VsXh3UNbwMj"
      },
      "execution_count": null,
      "outputs": []
    },
    {
      "cell_type": "code",
      "source": [
        "# Veamos el elemento 0 de test (que vemos que es un t) y pintémoslo con matplotlib\n",
        "digit = test_images[0]\n",
        "plt.imshow(digit, cmap=plt.cm.binary)\n",
        "plt.show()"
      ],
      "metadata": {
        "id": "C0Ogm6mZbz8W"
      },
      "execution_count": null,
      "outputs": []
    },
    {
      "cell_type": "code",
      "source": [
        "train_labels"
      ],
      "metadata": {
        "id": "ufNBIhBjb0jY"
      },
      "execution_count": null,
      "outputs": []
    },
    {
      "cell_type": "markdown",
      "source": [
        "# MODELO"
      ],
      "metadata": {
        "id": "W7loyJ6FSd9c"
      }
    },
    {
      "cell_type": "code",
      "source": [
        "# Convertir las etiquetas a codificación one-hot\n",
        "train_labels = to_categorical(train_labels)\n",
        "test_labels = to_categorical(test_labels)"
      ],
      "metadata": {
        "id": "lgYBSo0CI19t"
      },
      "execution_count": null,
      "outputs": []
    },
    {
      "cell_type": "code",
      "source": [
        "from tensorflow.keras import Sequential\n",
        "from tensorflow.keras.layers import Conv2D\n",
        "from tensorflow.keras.layers import MaxPooling2D\n",
        "from tensorflow.keras.layers import Dense\n",
        "from tensorflow.keras.layers import Flatten\n",
        "\n",
        "\n",
        "model = Sequential()\n",
        "model.add(Conv2D(32, (5, 5), activation='relu', input_shape=(32, 32, 3)))\n",
        "model.add(MaxPooling2D((2, 2)))\n",
        "model.add(Conv2D(64, (5, 5), activation='relu'))\n",
        "model.add(MaxPooling2D((2, 2)))\n",
        "model.add(Flatten())\n",
        "model.add(Dense(100, activation='softmax'))\n",
        "model.summary()"
      ],
      "metadata": {
        "colab": {
          "base_uri": "https://localhost:8080/"
        },
        "id": "SNmUUi3JryWQ",
        "outputId": "e184959c-b2b0-4c82-c313-5d792a9b72c8"
      },
      "execution_count": null,
      "outputs": [
        {
          "output_type": "stream",
          "name": "stdout",
          "text": [
            "Model: \"sequential_4\"\n",
            "_________________________________________________________________\n",
            " Layer (type)                Output Shape              Param #   \n",
            "=================================================================\n",
            " conv2d_8 (Conv2D)           (None, 28, 28, 32)        2432      \n",
            "                                                                 \n",
            " max_pooling2d_8 (MaxPoolin  (None, 14, 14, 32)        0         \n",
            " g2D)                                                            \n",
            "                                                                 \n",
            " conv2d_9 (Conv2D)           (None, 10, 10, 64)        51264     \n",
            "                                                                 \n",
            " max_pooling2d_9 (MaxPoolin  (None, 5, 5, 64)          0         \n",
            " g2D)                                                            \n",
            "                                                                 \n",
            " flatten_4 (Flatten)         (None, 1600)              0         \n",
            "                                                                 \n",
            " dense_4 (Dense)             (None, 100)               160100    \n",
            "                                                                 \n",
            "=================================================================\n",
            "Total params: 213796 (835.14 KB)\n",
            "Trainable params: 213796 (835.14 KB)\n",
            "Non-trainable params: 0 (0.00 Byte)\n",
            "_________________________________________________________________\n"
          ]
        }
      ]
    },
    {
      "cell_type": "code",
      "source": [
        "model.compile(loss='categorical_crossentropy',\n",
        "              optimizer='rmsprop',\n",
        "              metrics=['accuracy'])\n",
        "\n",
        "model.fit(train_images, train_labels,\n",
        "          batch_size=500,\n",
        "          epochs=5,\n",
        "          verbose=1)\n",
        "\n",
        "test_loss, test_acc = model.evaluate(test_images, test_labels)\n",
        "\n",
        "print('Test accuracy:', test_acc)"
      ],
      "metadata": {
        "colab": {
          "base_uri": "https://localhost:8080/"
        },
        "id": "gth_YZAIrxv9",
        "outputId": "01bf48b7-0680-4ce2-e3b1-31c981a9ab1f"
      },
      "execution_count": null,
      "outputs": [
        {
          "output_type": "stream",
          "name": "stdout",
          "text": [
            "Epoch 1/5\n",
            "100/100 [==============================] - 84s 834ms/step - loss: 6.6393 - accuracy: 0.0171\n",
            "Epoch 2/5\n",
            "100/100 [==============================] - 87s 873ms/step - loss: 4.5814 - accuracy: 0.0258\n",
            "Epoch 3/5\n",
            "100/100 [==============================] - 83s 831ms/step - loss: 4.5105 - accuracy: 0.0382\n",
            "Epoch 4/5\n",
            "100/100 [==============================] - 82s 824ms/step - loss: 4.4504 - accuracy: 0.0504\n",
            "Epoch 5/5\n",
            "100/100 [==============================] - 83s 829ms/step - loss: 4.4324 - accuracy: 0.0701\n",
            "313/313 [==============================] - 5s 16ms/step - loss: 4.4424 - accuracy: 0.0499\n",
            "Test accuracy: 0.04989999905228615\n"
          ]
        }
      ]
    },
    {
      "cell_type": "markdown",
      "source": [
        "## Multiples casos"
      ],
      "metadata": {
        "id": "HSdOWAe4s_Su"
      }
    },
    {
      "cell_type": "code",
      "source": [
        "# casos = {\n",
        "#     1: {'Neuronas_capa_1': 10, 'Función de activación': 'relu', 'Optimizador': 'sgd'},\n",
        "#     2: {'Neuronas_capa_1': 10, 'Función de activación': 'relu', 'Optimizador': 'rmsprop'},\n",
        "#     3: {'Neuronas_capa_1': 10, 'Función de activación': 'sigmoid', 'Optimizador': 'sgd'},\n",
        "#     4: {'Neuronas_capa_1': 10, 'Función de activación': 'sigmoid', 'Optimizador': 'rmsprop'},\n",
        "#     5: {'Neuronas_capa_1': 512, 'Función de activación': 'relu', 'Optimizador': 'sgd'},\n",
        "#     6: {'Neuronas_capa_1': 512, 'Función de activación': 'relu', 'Optimizador': 'rmsprop'},\n",
        "#     7: {'Neuronas_capa_1': 512, 'Función de activación': 'sigmoid', 'Optimizador': 'sgd'},\n",
        "#     8: {'Neuronas_capa_1': 512, 'Función de activación': 'sigmoid', 'Optimizador': 'rmsprop'}\n",
        "# }\n",
        "\n",
        "# train_images = train_images.reshape((60000, 28 * 28))\n",
        "# train_images = train_images.astype('float32') / 255\n",
        "# test_images = test_images.reshape((10000, 28 * 28))\n",
        "# test_images = test_images.astype('float32') / 255\n",
        "\n",
        "# train_labels = to_categorical(train_labels)\n",
        "# test_labels = to_categorical(test_labels)\n",
        "\n",
        "# modelos = []\n",
        "\n",
        "# for i in range(1,9):\n",
        "#     network = models.Sequential()\n",
        "\n",
        "#     print(\"\\n\\n=======================================================================\")\n",
        "#     print(\"CASO \", i)\n",
        "#     print(\"=======================================================================\")\n",
        "\n",
        "#     # DATOS DEL CASO\n",
        "#     n_neuronas = casos[i]['Neuronas_capa_1']\n",
        "#     f_activacion = casos[i]['Función de activación']\n",
        "#     optimizador = casos[i]['Optimizador']\n",
        "\n",
        "#     print(\"\\nCaracterísticas del caso:\")\n",
        "#     print(f\" - Número de neuronas en la capa 1: {n_neuronas}\")\n",
        "#     print(f\" - Función de activación: {f_activacion}\")\n",
        "#     print(f\" - Optimizador: {optimizador}\")\n",
        "\n",
        "#     # MODELO:\n",
        "#     network.add(layers.Dense(n_neuronas, activation=f_activacion, input_shape=(28*28,)))\n",
        "#     network.add(layers.Dense(10, activation='softmax'))\n",
        "\n",
        "#     print(\"\\nSUMMARY\")\n",
        "#     network.summary()\n",
        "\n",
        "#     network.compile(optimizer=optimizador, loss='categorical_crossentropy', metrics=['accuracy'])\n",
        "\n",
        "#     print(\"\\nENTRENAMIENTO:\")\n",
        "#     network.fit(train_images, train_labels, epochs=5, batch_size=128)\n",
        "\n",
        "#     modelos.append(network)\n",
        "\n",
        "#     print(\"\\nVALIDACIÓN:\")\n",
        "#     test_loss, test_acc = network.evaluate(test_images, test_labels)\n",
        "\n",
        "#     print('\\ntest_loss:', test_loss)\n",
        "#     print('test_acc:', test_acc)"
      ],
      "metadata": {
        "id": "JhAhibs6N8VD"
      },
      "execution_count": null,
      "outputs": []
    },
    {
      "cell_type": "markdown",
      "source": [
        "## Graficas rendimiento"
      ],
      "metadata": {
        "id": "-YCwPDYWkNJn"
      }
    },
    {
      "cell_type": "code",
      "source": [
        "def evaluar_rendimiento(train_loss, train_acc, val_loss, val_acc):\n",
        "    # Configuración de la figura para las gráficas\n",
        "    fig, axs = plt.subplots(1, 2, figsize=(10, 4))\n",
        "\n",
        "    # Gráfica de pérdida\n",
        "    axs[0].plot(range(1, len(train_loss) + 1), train_loss, label='Pérdida de entrenamiento')\n",
        "    axs[0].plot(range(1, len(val_loss) + 1), val_loss, label='Pérdida de validación')\n",
        "    axs[0].set_xlabel('Época')\n",
        "    axs[0].set_ylabel('Pérdida')\n",
        "    axs[0].legend()\n",
        "    axs[0].set_title('Gráfica de Pérdida')\n",
        "\n",
        "    # Gráfica de precisión\n",
        "    axs[1].plot(range(1, len(train_acc) + 1), train_acc, label='Precisión de entrenamiento')\n",
        "    axs[1].plot(range(1, len(val_acc) + 1), val_acc, label='Precisión de validación')\n",
        "    axs[1].set_xlabel('Época')\n",
        "    axs[1].set_ylabel('Precisión')\n",
        "    axs[1].legend()\n",
        "    axs[1].set_title('Gráfica de Precisión')\n",
        "\n",
        "    plt.show()"
      ],
      "metadata": {
        "id": "mIPnMqXNsd5Y"
      },
      "execution_count": null,
      "outputs": []
    },
    {
      "cell_type": "code",
      "source": [
        "(train_images, train_labels), (test_images, test_labels) = fashion_mnist.load_data()\n",
        "\n",
        "train_images = train_images.reshape((60000, 28 * 28))\n",
        "train_images = train_images.astype('float32') / 255\n",
        "test_images = test_images.reshape((10000, 28 * 28))\n",
        "test_images = test_images.astype('float32') / 255\n",
        "\n",
        "print('Comprobamos la forma de las imagenes:')\n",
        "print(train_images.shape)\n",
        "\n",
        "train_labels = to_categorical(train_labels)\n",
        "test_labels = to_categorical(test_labels)\n",
        "print('Comprobamos la forma de las etiquetas:')\n",
        "print(train_labels.shape)"
      ],
      "metadata": {
        "id": "7S1pOUSnwZ1s"
      },
      "execution_count": null,
      "outputs": []
    },
    {
      "cell_type": "code",
      "source": [
        "train_labels"
      ],
      "metadata": {
        "id": "SQC2tT-uwg44"
      },
      "execution_count": null,
      "outputs": []
    },
    {
      "cell_type": "code",
      "source": [
        "(train_images, train_labels), (test_images, test_labels) = fashion_mnist.load_data()\n",
        "\n",
        "train_images = train_images.reshape((60000, 28 * 28))\n",
        "train_images = train_images.astype('float32') / 255\n",
        "test_images = test_images.reshape((10000, 28 * 28))\n",
        "test_images = test_images.astype('float32') / 255\n",
        "\n",
        "train_labels = to_categorical(train_labels)\n",
        "test_labels = to_categorical(test_labels)\n",
        "\n",
        "print('Comprobamos la forma de las imagenes:')\n",
        "print(train_images.shape)\n",
        "\n",
        "print('Comprobamos la forma de las etiquetas:')\n",
        "print(train_labels.shape)\n",
        "\n",
        "network = models.Sequential()\n",
        "network.add(layers.Dense(10, \"relu\", input_shape=(28*28,)))\n",
        "network.add(layers.Dense(10, activation='softmax'))\n",
        "network.compile(optimizer=\"sgd\", loss='categorical_crossentropy', metrics=['accuracy'])\n",
        "\n",
        "# Entrenamiento de la red neuronal\n",
        "history = network.fit(train_images, train_labels, epochs=5, batch_size=128, validation_data=(test_images, test_labels))\n",
        "\n",
        "# Los valores de pérdida y precisión en cada época se guardan en el atributo history\n",
        "train_loss = history.history['loss']\n",
        "train_acc = history.history['accuracy']\n",
        "val_loss = history.history['val_loss']\n",
        "val_acc = history.history['val_accuracy']\n",
        "\n",
        "evaluar_rendimiento(train_loss,train_acc,val_loss,val_acc)\n",
        "\n",
        "plt.show()"
      ],
      "metadata": {
        "id": "uFUqbRASlW5l"
      },
      "execution_count": null,
      "outputs": []
    },
    {
      "cell_type": "markdown",
      "source": [
        "# PREDICCIONES"
      ],
      "metadata": {
        "id": "xIXb04HYYzQw"
      }
    },
    {
      "cell_type": "code",
      "source": [
        "# Veamos el elemento 12 de test y pintémoslo con matplotlib\n",
        "from keras.datasets import fashion_mnist\n",
        "(train_images, train_labels), (test_images, test_labels) = fashion_mnist.load_data()\n",
        "import matplotlib.pyplot as plt\n",
        "digit = test_images[11]\n",
        "plt.imshow(digit, cmap=plt.cm.binary)\n",
        "plt.show()"
      ],
      "metadata": {
        "id": "CitTUgbjY4AZ"
      },
      "execution_count": null,
      "outputs": []
    },
    {
      "cell_type": "code",
      "source": [
        "train_images = train_images.reshape((60000, 28 * 28))\n",
        "test_images = test_images.reshape((10000, 28 * 28))\n",
        "\n",
        "train_images = train_images.astype('float32') / 255\n",
        "test_images = test_images.astype('float32') / 255\n",
        "\n",
        "from keras import utils\n",
        "from keras.utils import to_categorical\n",
        "# from keras.utils.np_utils import to_categorical\n",
        "\n",
        "print(\"=VEMOS LAS ETIQUETAS DE TEST ORIGINALES================================\")\n",
        "print(test_labels)\n",
        "print(\"=======================================================================\")\n",
        "test_labels = to_categorical(test_labels)\n",
        "print(\"=VEMOS LAS ETIQUETAS DE TEST AL PASARLAS POR to_categorical============\")\n",
        "print(test_labels)\n",
        "print(\"=======================================================================\")\n",
        "\n",
        "# Hacemos las predicciones con las imágenes de Test\n",
        "predictions = network.predict(test_images)\n",
        "\n",
        "print(\"=VEMOS LA PREDICCIÓN DEL ELEMENTO 12 (QUE DEBERÍA SER UN 6)============\")\n",
        "print(predictions[11])\n",
        "print(\"=======================================================================\")\n",
        "print(\"=VEMOS LA PREDICCIÓN DEL ELEMENTO 12 (QUE DEBERÍA SER UN 6)============\")\n",
        "print(np.argmax(predictions[11]))\n",
        "print(\"=======================================================================\")\n",
        "print(\"=LA SUMA DE TODAS LAS PREDICCIONES PARA EL ELEMENTO 12 DEBERÍA SER 1===\")\n",
        "print(np.sum(predictions[11]))\n",
        "print(\"=======================================================================\")\n",
        "print(\"=PINTAMOS TODAS LAS PREDICCIONES=======================================\")\n",
        "print(predictions)"
      ],
      "metadata": {
        "id": "k65x7jHxY674"
      },
      "execution_count": null,
      "outputs": []
    },
    {
      "cell_type": "code",
      "source": [
        "def plot_image(i, predictions_array, true_label, img):\n",
        "  predictions_array, true_label, img = predictions_array, true_label[i], img[i]\n",
        "  plt.grid(False)\n",
        "  plt.xticks([])\n",
        "  plt.yticks([])\n",
        "\n",
        "  plt.imshow(img, cmap=plt.cm.binary)\n",
        "\n",
        "  predicted_label = np.argmax(predictions_array)\n",
        "  if np.max(predicted_label) == true_label:\n",
        "    color = 'green'\n",
        "  else:\n",
        "    color = 'red'\n",
        "\n",
        "  plt.xlabel(\"{}[{:1.0f}] {:2.0f}% \\n({}[{:1.0f}])\".format(class_names[predicted_label],\n",
        "                                predicted_label,\n",
        "                                100*np.max(predictions_array),\n",
        "                                class_names[true_label],\n",
        "                                true_label),\n",
        "                                color=color)\n",
        "\n",
        "def plot_value_array(i, predictions_array, true_label):\n",
        "  predictions_array, true_label = predictions_array, true_label[i]\n",
        "  plt.grid(False)\n",
        "  plt.xticks(range(10))\n",
        "  plt.yticks([])\n",
        "\n",
        "  thisplot = plt.bar(range(10), predictions_array, color=\"#777777\")\n",
        "  plt.ylim([0, 1])\n",
        "  predicted_label = np.argmax(predictions_array)\n",
        "\n",
        "  if predicted_label == true_label:\n",
        "     thisplot[predicted_label].set_color('green')\n",
        "  else:\n",
        "     thisplot[predicted_label].set_color('red')"
      ],
      "metadata": {
        "id": "BD3p42YZY--3"
      },
      "execution_count": null,
      "outputs": []
    },
    {
      "cell_type": "code",
      "source": [
        "from keras.datasets import mnist\n",
        "import numpy as np\n",
        "import matplotlib.pyplot as plt\n",
        "\n",
        "class_names = ['T-shirt/top', 'Trouser', 'Pullover', 'Dress', 'Coat',\n",
        "               'Sandal', 'Shirt', 'Sneaker', 'Bag', 'Ankle boot']\n",
        "\n",
        "\n",
        "(train_images, train_labels), (test_images, test_labels) = fashion_mnist.load_data()\n",
        "train_images = train_images.reshape((60000, 28 * 28))\n",
        "test_images = test_images.reshape((10000, 28 * 28))\n",
        "\n",
        "train_images = train_images.astype('float32') / 255\n",
        "test_images = test_images.astype('float32') / 255\n",
        "\n",
        "predictions = network.predict(test_images)\n",
        "\n",
        "for i in range(20):\n",
        "  plt.figure(figsize=(6,3))\n",
        "  plt.subplot(1,2,1)\n",
        "  plot_image(i, predictions[i], test_labels, test_images.reshape(10000,28,28))\n",
        "  plt.subplot(1,2,2)\n",
        "  plot_value_array(i, predictions[i],  test_labels)\n",
        "  plt.show()\n",
        "  plt.clf()"
      ],
      "metadata": {
        "id": "MNtmtxB6ZB8U"
      },
      "execution_count": null,
      "outputs": []
    },
    {
      "cell_type": "markdown",
      "source": [
        "# TEST"
      ],
      "metadata": {
        "id": "OOFYw0lpRI8f"
      }
    },
    {
      "cell_type": "code",
      "source": [
        "# 8.- VERIFICAMOS NUESTRO MODELO YA ENTRENADO, CONTRA EL CONJUNTO DE PRUEBAS\n",
        "test_loss, test_acc = network.evaluate(test_images, test_labels)\n",
        "# HEMOS UTILIZADO MENOS DE 20 LÍNEAS DE CÓDIGO..."
      ],
      "metadata": {
        "id": "9FAuaj1DRIde"
      },
      "execution_count": null,
      "outputs": []
    },
    {
      "cell_type": "code",
      "source": [
        "# Look at confusion matrix\n",
        "# Note, this code is taken straight from the SKLEARN website, an nice way of\n",
        "# viewing confusion matrix.\n",
        "def plot_confusion_matrix(cm, classes,\n",
        "                          normalize=False,\n",
        "                          title='Confusion matrix',\n",
        "                          cmap=plt.cm.Blues):\n",
        "    \"\"\"\n",
        "    This function prints and plots the confusion matrix.\n",
        "    Normalization can be applied by setting `normalize=True`.\n",
        "    \"\"\"\n",
        "    plt.imshow(cm, interpolation='nearest', cmap=cmap)\n",
        "    plt.title(title)\n",
        "    plt.colorbar()\n",
        "    tick_marks = np.arange(len(classes))\n",
        "    plt.xticks(tick_marks, classes, rotation=45)\n",
        "    plt.yticks(tick_marks, classes)\n",
        "\n",
        "    if normalize:\n",
        "        cm = cm.astype('float') / cm.sum(axis=1)[:, np.newaxis]\n",
        "\n",
        "    thresh = cm.max() / 2.\n",
        "    for i, j in itertools.product(range(cm.shape[0]), range(cm.shape[1])):\n",
        "        plt.text(j, i, cm[i, j],\n",
        "                 horizontalalignment=\"center\",\n",
        "                 color=\"white\" if cm[i, j] > thresh else \"black\")\n",
        "\n",
        "    plt.tight_layout()\n",
        "    plt.ylabel('Observación')\n",
        "    plt.xlabel('Predicción')"
      ],
      "metadata": {
        "id": "Phw8Hik5RB3J"
      },
      "execution_count": null,
      "outputs": []
    },
    {
      "cell_type": "code",
      "source": [
        "from collections import Counter\n",
        "from sklearn.metrics import confusion_matrix\n",
        "import itertools\n",
        "import numpy as np\n",
        "\n",
        "# Predicción de valores desde el dataset de validación\n",
        "Y_pred = network.predict(test_images)\n",
        "print(\"=VALORES QUE PREDICE EL MODELO ENTRENADO CON LAS IMAGENES DE TEST======\")\n",
        "print(\"=RECORDAR QUE LA PRIMERA IMAGEN DE TEST ERA UN 7=======================\")\n",
        "print(Y_pred[0])\n",
        "print(\"=======================================================================\")\n",
        "# Convertir en predicciones de clases desde los vectores one-hot encoding\n",
        "Y_pred_classes = np.argmax(Y_pred, axis = 1)\n",
        "print(\"=CONVERSION DE PREDICCIONES EN CLASES DESDE VECTORES ONE-HOT ENCODING==\")\n",
        "print(Y_pred_classes)\n",
        "print(\"=======================================================================\")\n",
        "# Convertir en clases de observación desde los vectores one-hot encoding\n",
        "Y_true = test_labels  # Aquí se ha cambiado 'np.argmax(test_labels)' por 'test_labels'\n",
        "print(\"=CONVERSION DE VALORES REALES EN CLASES DESDE VECTORES ONE-HOT ENCODING\")\n",
        "print(Y_true)\n",
        "print(\"=======================================================================\")\n",
        "# Computar la matriz de confusión\n",
        "confusion_mtx = confusion_matrix(Y_true, Y_pred_classes)\n",
        "print(\"=MATRIZ DE CONFUSION CON VALORES REALES FRENTE A LOS PREDICHOS=========\")\n",
        "print(confusion_mtx)\n",
        "print(\"=======================================================================\")\n",
        "# Dibujar la matriz de confusión\n",
        "print(\"=PINTAMOS LA MATRIZ DE CONFUSION=======================================\")\n",
        "plot_confusion_matrix(confusion_mtx, classes = range(10))"
      ],
      "metadata": {
        "id": "ep5Pe0xkQK96"
      },
      "execution_count": null,
      "outputs": []
    }
  ]
}