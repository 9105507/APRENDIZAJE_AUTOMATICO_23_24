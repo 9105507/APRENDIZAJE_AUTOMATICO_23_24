{
  "nbformat": 4,
  "nbformat_minor": 0,
  "metadata": {
    "colab": {
      "provenance": [],
      "include_colab_link": true
    },
    "kernelspec": {
      "name": "python3",
      "display_name": "Python 3"
    },
    "language_info": {
      "name": "python"
    }
  },
  "cells": [
    {
      "cell_type": "markdown",
      "metadata": {
        "id": "view-in-github",
        "colab_type": "text"
      },
      "source": [
        "<a href=\"https://colab.research.google.com/github/9105507/APRENDIZAJE_AUTOMATICO_23_24/blob/main/AA_PRACTICA3_GRUPO_7.ipynb\" target=\"_parent\"><img src=\"https://colab.research.google.com/assets/colab-badge.svg\" alt=\"Open In Colab\"/></a>"
      ]
    },
    {
      "cell_type": "markdown",
      "source": [
        "\n",
        "# **Grupo 7**\n",
        "Miguel Ángel Rojo\n",
        "\n",
        "Miguel Poyatos García-Lorenzana\n",
        "\n",
        "Jorge Barcenilla González"
      ],
      "metadata": {
        "id": "qnvj58zMJhcG"
      }
    },
    {
      "cell_type": "markdown",
      "source": [
        "# INTRODUCCIÓN"
      ],
      "metadata": {
        "id": "faIUrrjW1N2p"
      }
    },
    {
      "cell_type": "markdown",
      "source": [
        "En esta práctica se va a desarrollar una Red Neuronal Convolucional con el objetivo de obtener el mejor resultado posible en la precisión de los datos de test para la base de datos denominada CIFAR100.\n",
        "\n",
        "CIFAR-100 es un conjunto de datos utilizado en el campo de la visión por computadora y el aprendizaje profundo. Es una versión más avanzada y compleja del conjunto de datos CIFAR-10. La sigla CIFAR significa \"Canadian Institute for Advanced Research\" (Instituto Canadiense de Investigación Avanzada). El conjunto de datos CIFAR-100 consta de 60,000 imágenes a color de 32x32 píxeles, pero a diferencia de CIFAR-10, cada imagen se clasifica en una de las 100 clases diferentes en lugar de solo 10. Estas 100 clases se dividen en 20 superclases, cada una de las cuales contiene 5 clases individuales. Aquí la lista de las diferentes clases con sus correspondientes superclases:\n",
        "\n",
        "  | Clase                   | Superclase                       |\n",
        "  |-------------------------|----------------------------------|\n",
        "  | beaver                  | aquatic mammals                  |\n",
        "  | dolphin                 | aquatic mammals                  |\n",
        "  | otter                   | aquatic mammals                  |\n",
        "  | seal                    | aquatic mammals                  |\n",
        "  | whale                   | aquatic mammals                  |\n",
        "  | aquarium fish           | fish                             |\n",
        "  | flatfish                | fish                             |\n",
        "  | ray                     | fish                             |\n",
        "  | shark                   | fish                             |\n",
        "  | trout                   | fish                             |\n",
        "  | orchids                 | flowers                          |\n",
        "  | poppies                 | flowers                          |\n",
        "  | roses                   | flowers                          |\n",
        "  | sunflowers              | flowers                          |\n",
        "  | tulips                  | flowers                          |\n",
        "  | bottles                 | food containers                  |\n",
        "  | bowls                   | food containers                  |\n",
        "  | cans                    | food containers                  |\n",
        "  | cups                    | food containers                  |\n",
        "  | plates                  | food containers                  |\n",
        "  | apples                  | fruit and vegetables             |\n",
        "  | mushrooms               | fruit and vegetables             |\n",
        "  | oranges                 | fruit and vegetables             |\n",
        "  | pears                   | fruit and vegetables             |\n",
        "  | sweet peppers           | fruit and vegetables             |\n",
        "  | clock                   | household electrical devices     |\n",
        "  | computer keyboard       | household electrical devices     |\n",
        "  | lamp                    | household electrical devices     |\n",
        "  | telephone               | household electrical devices     |\n",
        "  | television              | household electrical devices     |\n",
        "  | bed                     | household furniture              |\n",
        "  | chair                   | household furniture              |\n",
        "  | couch                   | household furniture              |\n",
        "  | table                   | household furniture              |\n",
        "  | wardrobe                | household furniture              |\n",
        "  | bee                     | insects                          |\n",
        "  | beetle                  | insects                          |\n",
        "  | butterfly               | insects                          |\n",
        "  | caterpillar             | insects                          |\n",
        "  | cockroach               | insects                          |\n",
        "  | bear                    | large carnivores                 |\n",
        "  | leopard                 | large carnivores                 |\n",
        "  | lion                    | large carnivores                 |\n",
        "  | tiger                   | large carnivores                 |\n",
        "  | wolf                    | large carnivores                 |\n",
        "  | bridge                  | large man-made outdoor things    |\n",
        "  | castle                  | large man-made outdoor things    |\n",
        "  | house                   | large man-made outdoor things    |\n",
        "  | road                    | large man-made outdoor things    |\n",
        "  | skyscraper              | large man-made outdoor things    |\n",
        "  | cloud                   | large natural outdoor scenes     |\n",
        "  | forest                  | large natural outdoor scenes     |\n",
        "  | mountain                | large natural outdoor scenes     |\n",
        "  | plain                   | large natural outdoor scenes     |\n",
        "  | sea                     | large natural outdoor scenes     |\n",
        "  | camel                   | large omnivores and herbivores   |\n",
        "  | cattle                  | large omnivores and herbivores   |\n",
        "  | chimpanzee              | large omnivores and herbivores   |\n",
        "  | elephant                | large omnivores and herbivores   |\n",
        "  | kangaroo                | large omnivores and herbivores   |\n",
        "  | fox                     | medium-sized mammals              |\n",
        "  | porcupine               | medium-sized mammals              |\n",
        "  | possum                  | medium-sized mammals              |\n",
        "  | raccoon                 | medium-sized mammals              |\n",
        "  | skunk                   | medium-sized mammals              |\n",
        "  | crab                    | non-insect invertebrates          |\n",
        "  | lobster                 | non-insect invertebrates          |\n",
        "  | snail                   | non-insect invertebrates          |\n",
        "  | spider                  | non-insect invertebrates          |\n",
        "  | worm                    | non-insect invertebrates          |\n",
        "  | baby                    | people                           |\n",
        "  | boy                     | people                           |\n",
        "  | girl                    | people                           |\n",
        "  | man                     | people                           |\n",
        "  | woman                   | people                           |\n",
        "  | crocodile               | reptiles                         |\n",
        "  | dinosaur                | reptiles                         |\n",
        "  | lizard                  | reptiles                         |\n",
        "  | snake                   | reptiles                         |\n",
        "  | turtle                  | reptiles                         |\n",
        "  | hamster                 | small mammals                    |\n",
        "  | mouse                   | small mammals                    |\n",
        "  | rabbit                  | small mammals                    |\n",
        "  | shrew                   | small mammals                    |\n",
        "  | squirrel                | small mammals                    |\n",
        "  | maple                   | trees                            |\n",
        "  | oak                     | trees                            |\n",
        "  | palm                    | trees                            |\n",
        "  | pine                    | trees                            |\n",
        "  | willow                  | trees                            |\n",
        "  | bicycle                 | vehicles 1                       |\n",
        "  | bus                     | vehicles 1                       |\n",
        "  | motorcycle              | vehicles 1                       |\n",
        "  | pickup truck            | vehicles 1                       |\n",
        "  | train                   | vehicles 1                       |\n",
        "  | lawn-mower              | vehicles 2                       |\n",
        "  | rocket                  | vehicles 2                       |\n",
        "  | streetcar               | vehicles 2                       |\n",
        "  | tank                    | vehicles 2                       |\n",
        "  | tractor                 | vehicles 2                       |\n",
        "\n",
        "El objetivo es crear un modelo de redes neuronales convolucionales que reconozca y clasifique estas imágenes en sus clases correspondientes, maximizando la puntuación de test. Este modelo será definido, configurado, entrenado, evaluado y mejorado progresivamente a lo largo de esta práctica."
      ],
      "metadata": {
        "id": "DWGFVs-mzOH8"
      }
    },
    {
      "cell_type": "markdown",
      "source": [
        "# FUNCIONES IMPORTANTES:"
      ],
      "metadata": {
        "id": "-YCwPDYWkNJn"
      }
    },
    {
      "cell_type": "markdown",
      "source": [
        "**COMENTAR CADA UNA DE ESTAS FUNCIONES Y EXPLICAR PARA QUE SE USAN/HAN USADO!!!!**"
      ],
      "metadata": {
        "id": "SDFvVWfIrMjr"
      }
    },
    {
      "cell_type": "code",
      "source": [
        "def unpickle(file):\n",
        "    import pickle\n",
        "    with open(file, 'rb') as fo:\n",
        "        dict = pickle.load(fo, encoding='bytes')\n",
        "    return dict"
      ],
      "metadata": {
        "id": "scHQXgTdPAFl"
      },
      "execution_count": 47,
      "outputs": []
    },
    {
      "cell_type": "code",
      "source": [
        "def evaluar_rendimiento(train_loss, train_acc, val_loss, val_acc):\n",
        "    # Configuración de la figura para las gráficas\n",
        "    fig, axs = plt.subplots(1, 2, figsize=(10, 4))\n",
        "\n",
        "    # Gráfica de pérdida\n",
        "    axs[0].plot(range(1, len(train_loss) + 1), train_loss, label='Pérdida de entrenamiento')\n",
        "    axs[0].plot(range(1, len(val_loss) + 1), val_loss, label='Pérdida de validación')\n",
        "    axs[0].set_xlabel('Época')\n",
        "    axs[0].set_ylabel('Pérdida')\n",
        "    axs[0].legend()\n",
        "    axs[0].set_title('Gráfica de Pérdida')\n",
        "\n",
        "    # Gráfica de precisión\n",
        "    axs[1].plot(range(1, len(train_acc) + 1), train_acc, label='Precisión de entrenamiento')\n",
        "    axs[1].plot(range(1, len(val_acc) + 1), val_acc, label='Precisión de validación')\n",
        "    axs[1].set_xlabel('Época')\n",
        "    axs[1].set_ylabel('Precisión')\n",
        "    axs[1].legend()\n",
        "    axs[1].set_title('Gráfica de Precisión')\n",
        "\n",
        "    plt.show()"
      ],
      "metadata": {
        "id": "mIPnMqXNsd5Y"
      },
      "execution_count": 48,
      "outputs": []
    },
    {
      "cell_type": "code",
      "source": [
        "global super_to_sub\n",
        "super_to_sub = {\n",
        "    \"aquatic mammals\": ['beaver', 'dolphin', 'otter', 'seal', 'whale'],\n",
        "    \"fish\": ['aquarium_fish', 'flatfish', 'ray', 'shark', 'trout'],\n",
        "    \"flowers\": ['orchid', 'poppy', 'rose', 'sunflower', 'tulip'],\n",
        "    \"food containers\": ['bottle', 'bowl', 'can', 'cup', 'plate'],\n",
        "    \"fruit and vegetables\": ['apple', 'mushroom', 'orange', 'pear', 'sweet_pepper'],\n",
        "    \"household electrical devices\": ['clock', 'keyboard', 'lamp', 'telephone', 'television'],\n",
        "    \"household furniture\": ['bed', 'chair', 'couch', 'table', 'wardrobe'],\n",
        "    \"insects\": ['bee', 'beetle', 'butterfly', 'caterpillar', 'cockroach'],\n",
        "    \"large carnivores\": ['bear', 'leopard', 'lion', 'tiger', 'wolf'],\n",
        "    \"large man-made outdoor things\": ['bridge', 'castle', 'house', 'road', 'skyscraper'],\n",
        "    \"large natural outdoor scenes\": ['cloud', 'forest', 'mountain', 'plain', 'sea'],\n",
        "    \"large omnivores and herbivores\": ['camel', 'cattle', 'chimpanzee', 'elephant', 'kangaroo'],\n",
        "    \"medium-sized mammals\": ['fox', 'porcupine', 'possum', 'raccoon', 'skunk'],\n",
        "    \"non-insect invertebrates\": ['crab', 'lobster', 'snail', 'spider', 'worm'],\n",
        "    \"people\": ['baby', 'boy', 'girl', 'man', 'woman'],\n",
        "    \"reptiles\": ['crocodile', 'dinosaur', 'lizard', 'snake', 'turtle'],\n",
        "    \"small mammals\": ['hamster', 'mouse', 'rabbit', 'shrew', 'squirrel'],\n",
        "    \"trees\": ['maple_tree', 'oak_tree', 'palm_tree', 'pine_tree', 'willow_tree'],\n",
        "    \"vehicles 1\": ['bicycle', 'bus', 'motorcycle', 'pickup_truck', 'train'],\n",
        "    \"vehicles 2\": ['lawn_mower', 'rocket', 'streetcar', 'tank', 'tractor']}\n",
        "def find_superclass(class_name):\n",
        "  for superclass, classes in super_to_sub.items():\n",
        "      if class_name in classes:\n",
        "          return superclass\n",
        "  return None\n",
        "def find_superclass_index(class_name):\n",
        "  for superclass, classes in super_to_sub.items():\n",
        "      if class_name in classes:\n",
        "          # Busca el índice de la superclase en la lista de nombres de superclases\n",
        "          return super_class_names.index(superclass)\n",
        "  return None"
      ],
      "metadata": {
        "id": "ADK9Qry_Xxsq"
      },
      "execution_count": 49,
      "outputs": []
    },
    {
      "cell_type": "markdown",
      "source": [
        "# Inicialización de datos\n",
        "En primer lugar, se importan todas las librerías que son necesarias a lo largo de esta práctica:"
      ],
      "metadata": {
        "id": "qpSpEvcxSZls"
      }
    },
    {
      "cell_type": "code",
      "source": [
        "%tensorflow_version 2.x\n",
        "import tensorflow as tf\n",
        "from tensorflow import keras\n",
        "from keras import utils\n",
        "from keras.utils import to_categorical\n",
        "import numpy as np\n",
        "import matplotlib.pyplot as plt\n",
        "from collections import Counter"
      ],
      "metadata": {
        "id": "ofw6MsykIP4E",
        "colab": {
          "base_uri": "https://localhost:8080/"
        },
        "outputId": "7e1e50c6-a7d8-4c5f-bfe5-aba2faefafda"
      },
      "execution_count": 50,
      "outputs": [
        {
          "output_type": "stream",
          "name": "stdout",
          "text": [
            "Colab only includes TensorFlow 2.x; %tensorflow_version has no effect.\n"
          ]
        }
      ]
    },
    {
      "cell_type": "markdown",
      "source": [
        "También, se comprueba que se está utilizando una version de TensorFlow 2.0.0 o superior:"
      ],
      "metadata": {
        "id": "Z925HhSm13H5"
      }
    },
    {
      "cell_type": "code",
      "source": [
        "print(tf.__version__)"
      ],
      "metadata": {
        "id": "ixsbgWZH1z4W",
        "colab": {
          "base_uri": "https://localhost:8080/"
        },
        "outputId": "be3c8e50-c3eb-49fd-8630-2290c0ab2ca3"
      },
      "execution_count": 51,
      "outputs": [
        {
          "output_type": "stream",
          "name": "stdout",
          "text": [
            "2.14.0\n"
          ]
        }
      ]
    },
    {
      "cell_type": "markdown",
      "source": [
        "A continuación, se cargan los datos de entrenamiento y de test a partir del método 'keras.datasets.cifar100'. Estos datos son los que se van a estar utilizando a lo largo de toda esta práctica."
      ],
      "metadata": {
        "id": "Crh-M7xp2RR5"
      }
    },
    {
      "cell_type": "code",
      "source": [
        "cifar100 = keras.datasets.cifar100\n",
        "(X, y), (test_X, test_y) = cifar100.load_data()"
      ],
      "metadata": {
        "id": "8JdaRTscrB4W"
      },
      "execution_count": 52,
      "outputs": []
    },
    {
      "cell_type": "markdown",
      "metadata": {
        "id": "WDfSY9jsaYgV"
      },
      "source": [
        "# Pre procesado de datos / Visualización de los datos"
      ]
    },
    {
      "cell_type": "markdown",
      "source": [
        "Se comprueba que se han descargado las 60000 imágenes en cuestión:"
      ],
      "metadata": {
        "id": "1TLrSimlbebw"
      }
    },
    {
      "cell_type": "code",
      "source": [
        "print(\"TAMAÑO TRAIN_DATA:\",X.shape)\n",
        "print(\"TAMAÑO TEST_DATA:\",test_X.shape)\n",
        "print(\"TAMAÑO TRAIN_LABELS:\",y.shape)\n",
        "print(\"TAMAÑO TEST_LABELS:\",test_y.shape)"
      ],
      "metadata": {
        "id": "YO7A-RLoaiB7",
        "colab": {
          "base_uri": "https://localhost:8080/"
        },
        "outputId": "a80dc556-1220-4cc1-ac50-c8a4aaf7df3b"
      },
      "execution_count": 53,
      "outputs": [
        {
          "output_type": "stream",
          "name": "stdout",
          "text": [
            "TAMAÑO TRAIN_DATA: (50000, 32, 32, 3)\n",
            "TAMAÑO TEST_DATA: (10000, 32, 32, 3)\n",
            "TAMAÑO TRAIN_LABELS: (50000, 1)\n",
            "TAMAÑO TEST_LABELS: (10000, 1)\n"
          ]
        }
      ]
    },
    {
      "cell_type": "markdown",
      "source": [
        "Se presentan las listas 'super_class_names', 'class_names'. Se presentan estas listas para comprobar los datos que se han descargado de cifar100 con fines de visualización de datos."
      ],
      "metadata": {
        "id": "3OYMx8uvX7NK"
      }
    },
    {
      "cell_type": "code",
      "source": [
        "super_class_names = [\"aquatic mammals\",\n",
        "                     \"fish\",\n",
        "                     \"flowers\",\n",
        "                     \"food containers\",\n",
        "                     \"fruit and vegetables\",\n",
        "                     \"household electrical devices\",\n",
        "                     \"household furniture\",\n",
        "                     \"insects\", \"large carnivores\",\n",
        "                     \"large man-made outdoor things\",\n",
        "                     \"large natural outdoor scenes\",\n",
        "                     \"large omnivores and herbivores\",\n",
        "                     \"medium-sized mammals\",\n",
        "                     \"non-insect invertebrates\",\n",
        "                     \"people\",\n",
        "                     \"reptiles\",\n",
        "                     \"small mammals\",\n",
        "                     \"trees\",\n",
        "                     \"vehicles 1\",\n",
        "                     \"vehicles 2\"]\n",
        "\n",
        "class_names = ['apple', 'aquarium_fish', 'baby', 'bear', 'beaver', 'bed',\n",
        "               'bee', 'beetle', 'bicycle', 'bottle', 'bowl', 'boy', 'bridge',\n",
        "               'bus', 'butterfly', 'camel', 'can', 'castle', 'caterpillar',\n",
        "               'cattle', 'chair', 'chimpanzee', 'clock', 'cloud', 'cockroach',\n",
        "               'couch', 'crab', 'crocodile', 'cup', 'dinosaur', 'dolphin',\n",
        "               'elephant', 'flatfish', 'forest', 'fox', 'girl', 'hamster',\n",
        "               'house', 'kangaroo', 'keyboard', 'lamp', 'lawn_mower', 'leopard',\n",
        "               'lion', 'lizard', 'lobster', 'man', 'maple_tree', 'motorcycle',\n",
        "               'mountain', 'mouse', 'mushroom', 'oak_tree', 'orange', 'orchid',\n",
        "               'otter', 'palm_tree', 'pear', 'pickup_truck', 'pine_tree',\n",
        "               'plain', 'plate', 'poppy', 'porcupine', 'possum', 'rabbit',\n",
        "               'raccoon', 'ray', 'road', 'rocket', 'rose', 'sea', 'seal',\n",
        "               'shark', 'shrew', 'skunk', 'skyscraper', 'snail', 'snake',\n",
        "               'spider', 'squirrel', 'streetcar', 'sunflower', 'sweet_pepper',\n",
        "               'table', 'tank', 'telephone', 'television', 'tiger', 'tractor',\n",
        "               'train', 'trout', 'tulip', 'turtle', 'wardrobe', 'whale',\n",
        "               'willow_tree', 'wolf', 'woman', 'worm']\n",
        "\n",
        "# Se prueba con la función find_superclass la utilidad de estas listas para\n",
        "# visualizar mejor los datos (están todos en formato numérico y son 100 clases!\n",
        "# --> esto puede complicar el entendimiento de la base de datos debido a su\n",
        "# densidad).\n",
        "index = 0\n",
        "superclass = find_superclass(class_names[index])\n",
        "print(f\"La superclase de '{class_names[index]}' es '{superclass}'.\")"
      ],
      "metadata": {
        "id": "jKcWy4LFXrdO",
        "colab": {
          "base_uri": "https://localhost:8080/"
        },
        "outputId": "e92c4c0c-ba2c-4853-f41a-5468616077e6"
      },
      "execution_count": 54,
      "outputs": [
        {
          "output_type": "stream",
          "name": "stdout",
          "text": [
            "La superclase de 'apple' es 'fruit and vegetables'.\n"
          ]
        }
      ]
    },
    {
      "cell_type": "markdown",
      "source": [
        "Visualizamos los datos de entrenamiento:"
      ],
      "metadata": {
        "id": "OCxq_OLkaRZ_"
      }
    },
    {
      "cell_type": "code",
      "source": [
        "#PRIMERA IMAGEN:\n",
        "imagen = X[0]\n",
        "train_labels = y.reshape(50000)\n",
        "print(\"Clase:\",class_names[train_labels[0]])\n",
        "superclass = find_superclass(class_names[train_labels[0]])\n",
        "print(f\"La superclase de '{class_names[train_labels[0]]}' es '{superclass}'.\")\n",
        "print(\"Imagen:\")\n",
        "# Se muestra la imagen usando imshow()\n",
        "plt.imshow(imagen)\n",
        "plt.show()"
      ],
      "metadata": {
        "id": "qBexnWLs58gm",
        "colab": {
          "base_uri": "https://localhost:8080/",
          "height": 482
        },
        "outputId": "85e1bd94-5425-450a-c440-086030761b51"
      },
      "execution_count": 55,
      "outputs": [
        {
          "output_type": "stream",
          "name": "stdout",
          "text": [
            "Clase: cattle\n",
            "La superclase de 'cattle' es 'large omnivores and herbivores'.\n",
            "Imagen:\n"
          ]
        },
        {
          "output_type": "display_data",
          "data": {
            "text/plain": [
              "<Figure size 640x480 with 1 Axes>"
            ],
            "image/png": "[encoded data removed]"
          },
          "metadata": {}
        }
      ]
    },
    {
      "cell_type": "markdown",
      "source": [
        "Nótese que la etiqueta (cattle -> ganado) coincide con la imagen, confirmando la validez de los datos. Se prueba con un par más de imágenes:"
      ],
      "metadata": {
        "id": "2pfBfNbjb4QU"
      }
    },
    {
      "cell_type": "code",
      "source": [
        "#ÚLTIMA IMAGEN:\n",
        "imagen = X[49999]\n",
        "print(\"Clase:\",class_names[train_labels[49999]])\n",
        "superclass = find_superclass(class_names[train_labels[49999]])\n",
        "print(f\"La superclase de '{class_names[train_labels[49999]]}' es '{superclass}'.\")\n",
        "print(\"Imagen:\")\n",
        "# Se muestra la imagen usando imshow()\n",
        "plt.imshow(imagen)\n",
        "plt.show()"
      ],
      "metadata": {
        "id": "MWBfCaR8blbO",
        "colab": {
          "base_uri": "https://localhost:8080/",
          "height": 482
        },
        "outputId": "d35646a2-c6e7-4b6d-8d2c-f2c6813005e1"
      },
      "execution_count": 56,
      "outputs": [
        {
          "output_type": "stream",
          "name": "stdout",
          "text": [
            "Clase: shark\n",
            "La superclase de 'shark' es 'fish'.\n",
            "Imagen:\n"
          ]
        },
        {
          "output_type": "display_data",
          "data": {
            "text/plain": [
              "<Figure size 640x480 with 1 Axes>"
            ],
            "image/png": "[encoded data removed]"
          },
          "metadata": {}
        }
      ]
    },
    {
      "cell_type": "code",
      "source": [
        "#IMAGEN nº 12345:\n",
        "imagen = X[12345]\n",
        "print(\"Clase:\",class_names[train_labels[12345]])\n",
        "superclass = find_superclass(class_names[train_labels[12345]])\n",
        "print(f\"La superclase de '{class_names[train_labels[12345]]}' es '{superclass}'.\")\n",
        "print(\"Imagen:\")\n",
        "# Se muestra la imagen usando imshow()\n",
        "plt.imshow(imagen)\n",
        "plt.show()"
      ],
      "metadata": {
        "id": "CvdHjbmOcU4o",
        "colab": {
          "base_uri": "https://localhost:8080/",
          "height": 482
        },
        "outputId": "5a6a22da-1005-4049-f3f7-419594279a52"
      },
      "execution_count": 57,
      "outputs": [
        {
          "output_type": "stream",
          "name": "stdout",
          "text": [
            "Clase: mountain\n",
            "La superclase de 'mountain' es 'large natural outdoor scenes'.\n",
            "Imagen:\n"
          ]
        },
        {
          "output_type": "display_data",
          "data": {
            "text/plain": [
              "<Figure size 640x480 with 1 Axes>"
            ],
            "image/png": "[encoded data removed]"
          },
          "metadata": {}
        }
      ]
    },
    {
      "cell_type": "markdown",
      "source": [
        "Se visualizan las distintas matrices rgb de la última imagen de los datos:"
      ],
      "metadata": {
        "id": "hnx4Sifffhg7"
      }
    },
    {
      "cell_type": "code",
      "source": [
        "for i, color in enumerate(['ROJO', 'VERDE', 'AZUL']):\n",
        "    # Se extrae la matriz del canal de color actual\n",
        "    matriz_color = np.take(X[49999], i, axis=2)\n",
        "    # Se configuran las opciones de impresión\n",
        "    np.set_printoptions(threshold=np.inf,precision=2,suppress=True,linewidth=145)\n",
        "    # Se imprimen la matriz junto con la etiqueta del color\n",
        "    print(f\"MATRIZ {color}:\\n{np.matrix(matriz_color)}\\n\")"
      ],
      "metadata": {
        "id": "FG_vo5W6dYlw",
        "colab": {
          "base_uri": "https://localhost:8080/"
        },
        "outputId": "adde037b-472c-4fa4-d4e0-424b3f6599dd"
      },
      "execution_count": 68,
      "outputs": [
        {
          "output_type": "stream",
          "name": "stdout",
          "text": [
            "MATRIZ ROJO:\n",
            "[[ 31  30  31  32  31  31  32  31  30  30  31  31  31  31  31  31  32  32  32  32  31  31  31  31  32  32  32  31  32  32  32  32]\n",
            " [ 29  28  30  31  31  31  32  31  30  28  27  28  28  27  27  27  28  28  28  28  28  28  28  29  30  31  31  30  32  32  32  31]\n",
            " [ 30  29  30  31  30  30  31  30  30  29  28  28  29  29  28  27  28  28  28  28  28  28  28  27  28  30  30  29  31  32  31  30]\n",
            " [ 31  30  30  30  30  30  30  29  29  28  29  29  29  30  29  28  29  29  29  29  29  29  29  28  27  30  30  30  31  31  30  29]\n",
            " [ 31  29  30  31  31  30  29  28  28  27  28  28  29  29  29  29  29  28  28  29  29  29  30  31  27  30  31  30  31  31  31  30]\n",
            " [ 31  29  30  31  31  30  30  29  28  28  28  28  29  29  29  29  29  28  28  28  29  29  29  29  30  29  29  30  31  31  31  30]\n",
            " [ 31  30  30  31  31  30  30  30  29  28  28  29  29  29  29  29  29  29  29  29  29  29  29  31  34  31  29  30  31  32  31  30]\n",
            " [ 31  30  30  31  31  30  30  30  29  28  28  29  29  29  29  29  28  28  29  29  28  28  29  31  32  32  29  30  31  32  31  30]\n",
            " [ 31  29  30  31  31  30  30  30  29  28  28  28  29  29  28  27  29  29  28  28  29  30  30  29  34  30  29  30  30  31  31  30]\n",
            " [ 30  29  30  31  31  30  30  30  29  28  28  28  29  29  30  30  34  34  32  32  33  34  32  30  35  32  29  30  30  31  31  30]\n",
            " [ 30  29  30  31  31  30  30  30  29  28  28  29  29  29  30  31  30  30  27  27  27  27  28  29  33  32  30  30  30  30  30  30]\n",
            " [ 30  29  30  31  30  30  30  30  29  28  28  29  30  29  26  26  29  30  30  30  31  31  29  28  30  28  31  30  30  30  30  29]\n",
            " [ 31  29  30  30  29  28  29  30  29  29  28  29  29  30  33  36  40  45  46  50  58  56  37  33  32  24  29  30  31  30  30  30]\n",
            " [ 29  28  29  31  31  30  29  27  26  29  32  32  32  31  30  31  35  39  43  49  58  61  48  36  37  37  32  26  29  32  33  32]\n",
            " [ 29  31  32  30  29  30  30  29  31  33  32  30  33  41  40  36  36  32  30  32  34  42  45  42  40  42  37  31  32  31  30  29]\n",
            " [ 32  29  27  28  32  35  41  36  34  30  27  29  33  32  30  35  38  43  33  33  32  30  31  33  32  31  31  32  33  30  28  28]\n",
            " [ 30  34  49  83 126  89  77  89  64  69  67  71  78  58  44  46  45  48  44  46  56  52  44  31  27  28  29  30  29  29  30  32]\n",
            " [ 49 121 160 180 205 132 108 137 124 126 122 138 145 111  72  64  58  42  36  38  52  58  49  33  29  29  29  31  32  31  30  29]\n",
            " [ 40 109 160 176 170 163 170 167 164 154 133 163 177 148  84  74  71  51  49  41  34  37  42  34  32  33  31  31  30  31  30  29]\n",
            " [ 33  35  51  77  95 121 143 168 202 192 172 179 169 146  95  87  80  67  59  62  47  29  28  28  27  28  27  28  30  29  29  31]\n",
            " [ 35  32  28  25  83 160 188 205 219 203 176 166 154 132 108 108  98  77  57  68  67  69  51  43  38  33  30  32  35  33  33  35]\n",
            " [ 31  32  35  31  59  98 121 142 157 159 142 139 131 113 114 104  89  72  52  36  39  78  87  68  52  41  36  35  31  28  31  34]\n",
            " [ 34  34  33  32  28  25  26  31  45  64  78  84  75  63  60  50  43  38  35  29  34  50  69  41  25  30  32  32  32  32  35  37]\n",
            " [ 35  35  34  33  32  32  32  29  26  27  31  31  29  30  31  31  32  33  34  34  32  32  35  36  37  36  32  31  33  33  34  35]\n",
            " [ 36  35  35  35  33  33  34  33  32  31  31  32  31  30  31  32  32  32  31  31  35  35  30  34  34  31  32  34  35  31  34  35]\n",
            " [ 37  36  36  36  34  33  33  33  31  31  32  33  33  33  32  31  31  30  30  32  32  32  34  31  31  33  34  34  36  37  36  36]\n",
            " [ 36  36  36  36  35  34  33  33  32  31  32  32  32  33  32  32  33  32  32  35  35  32  34  35  35  35  34  33  35  36  36  36]\n",
            " [ 36  36  36  36  36  34  34  34  34  33  33  33  33  32  32  32  34  33  34  35  36  35  34  35  36  37  36  35  36  36  36  36]\n",
            " [ 37  37  37  36  36  36  35  35  34  34  34  34  34  34  34  34  35  35  35  35  35  35  35  36  36  37  36  36  37  37  37  37]\n",
            " [ 39  38  38  37  37  37  37  36  36  36  36  36  36  36  36  36  37  37  37  36  36  35  35  36  36  37  37  37  39  39  38  39]\n",
            " [ 40  39  39  38  38  38  37  36  36  37  37  37  37  37  37  36  37  37  37  36  36  35  35  36  36  37  38  38  39  39  40  40]\n",
            " [ 40  40  40  40  39  39  37  37  38  37  36  36  36  37  36  36  36  36  36  37  37  36  36  38  38  38  39  40  42  41  39  40]]\n",
            "\n",
            "MATRIZ VERDE:\n",
            "[[ 67  68  69  69  71  72  72  73  74  75  75  76  76  77  77  77  76  76  76  76  76  75  75  75  74  73  73  72  71  70  70  69]\n",
            " [ 68  69  69  69  70  71  72  73  75  76  77  78  78  79  79  78  78  78  78  78  78  78  77  76  74  74  73  72  71  70  69  69]\n",
            " [ 67  68  69  70  71  72  72  74  76  77  77  77  78  80  79  78  78  77  77  77  78  78  77  77  76  76  75  74  73  72  70  69]\n",
            " [ 67  68  69  70  71  72  73  74  76  77  77  77  78  80  79  78  78  77  77  77  77  77  77  77  77  76  75  74  73  72  70  69]\n",
            " [ 68  68  69  70  72  72  73  74  76  77  78  78  79  79  79  79  79  78  78  78  77  77  76  75  77  76  74  73  72  71  70  69]\n",
            " [ 68  68  69  70  72  73  74  75  76  77  78  78  79  79  79  79  79  78  78  77  77  77  77  77  76  76  75  73  72  71  70  69]\n",
            " [ 68  69  69  70  72  73  74  75  76  78  78  79  79  79  79  79  79  79  79  78  77  77  77  77  72  75  75  73  72  72  70  69]\n",
            " [ 68  69  69  70  72  73  74  76  77  78  78  79  79  79  79  79  79  79  80  79  77  77  77  73  64  72  75  73  72  72  70  69]\n",
            " [ 68  68  69  70  72  73  74  76  77  78  78  78  79  79  79  79  79  79  79  80  79  78  77  73  60  71  74  72  72  71  70  69]\n",
            " [ 67  68  69  70  72  73  74  76  77  78  78  78  79  79  79  79  78  78  79  79  79  78  76  76  61  73  74  73  72  70  69  69]\n",
            " [ 67  68  69  70  71  72  74  76  77  78  78  79  80  80  80  80  80  81  82  82  81  80  82  86  67  72  73  73  72  70  69  69]\n",
            " [ 68  69  69  70  71  72  74  76  77  78  78  79  79  80  81  84  84  85  86  88  90  89  90  99  76  74  75  74  73  71  69  69]\n",
            " [ 67  69  70  70  72  74  74  75  76  78  80  83  89  97 107 117 126 134 140 145 150 146 126 119  96  81  75  72  72  71  70  68]\n",
            " [ 68  69  72  72  73  73  75  78  86  93 101 110 117 120 122 124 128 136 146 155 162 163 150 136 128 119 102  84  73  69  69  68]\n",
            " [ 68  69  72  75  77  80  88 101 111 114 117 123 128 133 134 132 125 117 112 119 130 141 144 139 138 144 144 124 100  80  70  68]\n",
            " [ 67  69  74  84  98 106 116 122 112 101 101 109 117 121 125 134 144 146 129 126 126 128 129 126 124 124 126 124 116 105  90  74]\n",
            " [ 76  99 124 156 187 139 138 174 148 149 152 157 171 162 155 163 169 169 158 161 173 168 159 138 122 109 101 100  99  99  98  89]\n",
            " [110 197 231 243 255 182 164 215 214 223 222 227 233 209 179 178 179 163 148 153 176 186 178 156 134 113  98  89  86  85  87  91]\n",
            " [ 90 171 226 242 238 235 238 238 241 236 222 238 252 236 181 175 170 151 145 144 148 151 156 143 126 111  98  87  79  77  78  83]\n",
            " [ 63  77 108 138 157 181 192 211 241 246 245 248 244 226 178 175 166 153 147 160 149 121 116 114 107 101  95  90  83  77  78  82]\n",
            " [ 61  64  65  69 134 211 230 242 253 254 248 238 235 215 188 193 181 157 140 154 145 143 131 127 121 116 114 112 102  89  80  74]\n",
            " [ 61  62  64  69 104 147 176 200 219 227 222 218 216 198 194 186 163 140 121 103 103 152 171 150 138 130 124 117 101  81  66  56]\n",
            " [ 58  59  61  65  65  65  71  83 104 134 152 157 147 131 123 108  96  89  86  75  87 123 150 123  93  83  77  69  61  58  61  60]\n",
            " [ 56  57  59  62  64  67  68  70  72  78  83  83  78  74  71  68  66  67  67  66  60  65  84  96  89  78  68  64  63  60  57  57]\n",
            " [ 54  55  56  58  61  63  64  66  68  68  68  69  68  67  67  66  65  65  63  63  60  58  60  63  69  74  72  69  70  62  55  54]\n",
            " [ 52  54  54  56  58  60  61  62  63  64  65  65  65  64  64  64  63  63  63  61  62  63  62  61  59  58  57  56  55  54  54  52]\n",
            " [ 50  52  53  55  56  57  59  60  61  62  62  62  62  61  61  60  60  60  60  59  60  59  57  58  57  56  56  56  55  53  52  50]\n",
            " [ 47  49  51  53  54  55  56  57  59  60  60  60  60  59  59  59  58  57  58  58  57  56  56  56  54  53  53  53  52  51  49  47]\n",
            " [ 44  45  47  49  51  52  52  54  56  57  57  57  57  56  56  57  56  55  55  55  55  54  54  53  52  50  50  49  48  47  46  44]\n",
            " [ 41  42  44  45  47  49  49  51  52  54  54  54  54  54  54  54  53  53  53  52  52  51  51  50  49  47  47  46  45  44  42  41]\n",
            " [ 39  40  41  42  44  45  46  48  49  51  52  52  52  52  51  51  50  50  50  50  50  49  49  47  46  44  44  43  41  41  41  39]\n",
            " [ 39  39  39  39  40  42  44  44  45  45  47  49  49  48  47  47  47  47  47  47  46  45  44  43  42  42  41  40  39  38  38  37]]\n",
            "\n",
            "MATRIZ AZUL:\n",
            "[[122 124 126 128 131 133 134 134 135 136 137 137 137 138 138 138 138 138 138 137 136 136 136 136 136 135 133 131 131 129 125 122]\n",
            " [126 128 130 132 135 136 133 134 134 136 137 138 138 138 138 138 138 138 138 137 136 136 136 138 138 138 135 133 133 131 127 124]\n",
            " [126 128 130 132 135 137 135 136 137 139 140 140 140 141 140 140 140 140 140 139 138 138 138 137 137 137 134 132 132 132 130 127]\n",
            " [126 128 130 132 133 135 136 137 138 139 140 140 141 143 142 141 140 139 140 139 139 139 139 136 133 135 134 132 131 131 130 128]\n",
            " [127 129 131 132 134 134 136 136 138 138 139 139 140 142 142 142 139 137 137 138 139 139 139 137 135 137 136 134 134 132 127 126]\n",
            " [127 129 131 132 134 134 137 137 138 138 139 139 141 142 142 142 140 139 139 139 139 139 138 136 140 137 135 134 134 132 127 126]\n",
            " [127 130 131 132 134 134 137 138 138 139 139 140 141 142 142 142 142 142 141 140 139 139 139 135 128 132 135 134 134 132 127 126]\n",
            " [127 130 131 132 134 135 137 138 139 139 139 140 141 142 142 142 143 143 143 141 139 139 140 129 102 123 137 134 134 132 127 126]\n",
            " [127 129 131 132 135 137 137 138 139 139 139 139 140 141 140 140 143 144 144 141 138 140 137 118  91 124 138 135 133 132 130 128]\n",
            " [127 128 130 132 135 137 137 138 139 139 139 139 140 140 140 140 143 143 143 143 140 137 130 119  95 128 137 134 132 131 130 127]\n",
            " [125 126 129 131 134 135 137 138 139 139 139 140 141 141 141 141 142 143 142 143 140 131 127 131 105 127 134 133 130 128 128 126]\n",
            " [123 125 127 130 132 134 137 138 139 139 139 140 140 140 140 142 142 143 144 145 143 135 132 144 115 126 133 132 129 127 126 124]\n",
            " [122 124 126 129 132 134 136 139 139 139 140 143 148 153 160 167 172 179 183 185 187 180 160 159 135 130 131 130 127 125 124 122]\n",
            " [121 123 125 128 131 132 133 138 141 144 152 161 165 165 165 166 169 176 184 187 191 192 179 167 164 161 151 136 128 124 122 121]\n",
            " [120 123 129 132 134 138 142 152 156 156 160 165 170 174 175 173 168 162 158 161 168 178 181 176 175 181 182 168 149 134 125 119]\n",
            " [118 123 132 135 138 146 154 162 156 145 145 153 162 167 172 181 185 186 171 169 168 169 170 169 166 165 167 166 159 150 138 123]\n",
            " [122 143 163 179 197 152 150 190 172 173 174 180 196 192 188 198 202 204 195 197 207 201 194 180 166 156 147 143 141 140 140 135]\n",
            " [143 211 232 235 248 180 165 215 215 224 222 225 227 214 204 204 204 199 189 190 212 218 209 194 177 163 147 134 125 123 127 136]\n",
            " [124 185 217 224 224 225 227 226 225 224 211 225 233 229 202 200 196 188 187 184 188 191 198 189 175 163 151 134 120 117 118 127]\n",
            " [106 114 136 162 168 176 179 198 227 228 226 230 222 220 194 196 189 185 182 195 184 162 166 167 159 151 147 140 130 123 125 129]\n",
            " [105 107 107 108 150 198 210 222 230 231 229 225 221 212 198 205 196 179 167 185 175 171 167 168 164 161 160 161 152 136 126 117]\n",
            " [102 102 103 108 138 163 185 205 217 218 213 217 216 205 206 197 180 162 148 134 129 170 192 183 174 169 167 164 148 123 102  90]\n",
            " [ 99 101 102 104 105 107 112 120 137 157 171 177 169 157 150 138 127 121 118 110 119 148 175 155 132 126 122 112 100  94  97  98]\n",
            " [ 96  98  99 100 103 107 107 109 112 118 123 123 118 113 111 108 105 105 106 104  98 101 116 128 125 117 105 100  98  98  98  94]\n",
            " [ 92  94  96  98 101 103 103 106 110 109 108 109 108 108 108 107 104 103 102 101  99  97  98 102 106 108 107 108 111 104  96  90]\n",
            " [ 88  90  93  95  98 101 103 103 102 102 103 104 103 104 103 102 102 102 101 101 102 102 102 100  98  98  98  97  97  94  90  88]\n",
            " [ 85  87  88  91  94  96  99  99  98 100 101 102 101 101 100 100 100 100 100 101 101 100  99  97  97  96  92  89  88  86  86  85]\n",
            " [ 83  83  85  87  90  92  93  94  95  97  98  98  98  99  99  99  99  98  99  98  97  96  95  94  93  92  89  86  86  85  83  82]\n",
            " [ 80  80  82  84  87  89  89  90  90  92  93  93  93  94  94  95  94  94  94  93  92  91  91  89  88  87  85  84  84  83  80  79]\n",
            " [ 76  76  78  80  83  85  85  86  87  88  89  89  89  90  90  90  90  89  89  88  87  87  87  85  84  83  82  80  80  79  77  76]\n",
            " [ 73  74  76  77  80  82  81  82  83  85  85  85  85  87  87  86  86  86  86  85  84  83  83  81  81  80  79  78  77  76  74  73]\n",
            " [ 70  71  72  72  74  77  78  78  79  79  80  80  81  83  82  82  82  82  82  82  81  80  79  78  77  77  77  77  75  72  69  67]]\n",
            "\n"
          ]
        }
      ]
    },
    {
      "cell_type": "markdown",
      "source": [
        "Visualizamos los datos de entrenamiento:"
      ],
      "metadata": {
        "id": "qEfHWBUqbtjs"
      }
    },
    {
      "cell_type": "code",
      "source": [
        "#PRIMERA IMAGEN:\n",
        "imagen = test_X[0]\n",
        "test_labels = test_y.reshape(10000)\n",
        "print(\"Clase:\",class_names[test_labels[0]])\n",
        "superclass = find_superclass(class_names[test_labels[0]])\n",
        "print(f\"La superclase de '{class_names[test_labels[0]]}' es '{superclass}'.\")\n",
        "print(\"Imagen:\")\n",
        "# Se muestra la imagen usando imshow()\n",
        "plt.imshow(imagen)\n",
        "plt.show()"
      ],
      "metadata": {
        "id": "e1tG4vdhgiZl",
        "colab": {
          "base_uri": "https://localhost:8080/",
          "height": 482
        },
        "outputId": "342d7eb3-02fd-46b2-ef66-f0b24a19dbc8"
      },
      "execution_count": 59,
      "outputs": [
        {
          "output_type": "stream",
          "name": "stdout",
          "text": [
            "Clase: mountain\n",
            "La superclase de 'mountain' es 'large natural outdoor scenes'.\n",
            "Imagen:\n"
          ]
        },
        {
          "output_type": "display_data",
          "data": {
            "text/plain": [
              "<Figure size 640x480 with 1 Axes>"
            ],
            "image/png": "[encoded data removed]"
          },
          "metadata": {}
        }
      ]
    },
    {
      "cell_type": "markdown",
      "source": [
        "Nótese que la etiqueta (mountain) coincide con la imagen, confirmando la validez de los datos. Se prueba con un par más de imágenes:"
      ],
      "metadata": {
        "id": "iYHFvYD1jXYx"
      }
    },
    {
      "cell_type": "code",
      "source": [
        "#ÚLTIMA IMAGEN:\n",
        "imagen = test_X[9999]\n",
        "print(\"Clase:\",class_names[test_labels[9999]])\n",
        "superclass = find_superclass(class_names[test_labels[9999]])\n",
        "print(f\"La superclase de '{class_names[test_labels[9999]]}' es '{superclass}'.\")\n",
        "print(\"Imagen:\")\n",
        "# Se muestra la imagen usando imshow()\n",
        "plt.imshow(imagen)\n",
        "plt.show()"
      ],
      "metadata": {
        "colab": {
          "base_uri": "https://localhost:8080/",
          "height": 482
        },
        "id": "fcajbJmDjf18",
        "outputId": "08e923f8-ab9b-427b-862f-3cf2f371669c"
      },
      "execution_count": 60,
      "outputs": [
        {
          "output_type": "stream",
          "name": "stdout",
          "text": [
            "Clase: rose\n",
            "La superclase de 'rose' es 'flowers'.\n",
            "Imagen:\n"
          ]
        },
        {
          "output_type": "display_data",
          "data": {
            "text/plain": [
              "<Figure size 640x480 with 1 Axes>"
            ],
            "image/png": "[encoded data removed]"
          },
          "metadata": {}
        }
      ]
    },
    {
      "cell_type": "code",
      "source": [
        "#ÚLTIMA IMAGEN:\n",
        "imagen = test_X[3984]\n",
        "print(\"Clase:\",class_names[test_labels[3984]])\n",
        "superclass = find_superclass(class_names[test_labels[3984]])\n",
        "print(f\"La superclase de '{class_names[test_labels[3984]]}' es '{superclass}'.\")\n",
        "print(\"Imagen:\")\n",
        "# Se muestra la imagen usando imshow()\n",
        "plt.imshow(imagen)\n",
        "plt.show()"
      ],
      "metadata": {
        "colab": {
          "base_uri": "https://localhost:8080/",
          "height": 482
        },
        "id": "TbFlr69Mjupp",
        "outputId": "e3658215-10e2-457b-ba2d-6826a5693544"
      },
      "execution_count": 61,
      "outputs": [
        {
          "output_type": "stream",
          "name": "stdout",
          "text": [
            "Clase: lamp\n",
            "La superclase de 'lamp' es 'household electrical devices'.\n",
            "Imagen:\n"
          ]
        },
        {
          "output_type": "display_data",
          "data": {
            "text/plain": [
              "<Figure size 640x480 with 1 Axes>"
            ],
            "image/png": "[encoded data removed]"
          },
          "metadata": {}
        }
      ]
    },
    {
      "cell_type": "markdown",
      "source": [
        "Para continuar, con el objetivo de conocer el balance de las clases de la base de datos, se ejecuta el siguiente código:"
      ],
      "metadata": {
        "id": "Iora4cKJbjct"
      }
    },
    {
      "cell_type": "code",
      "source": [
        "index_count = Counter(train_labels)\n",
        "sorted_indices = sorted(index_count.items())\n",
        "for index, count in sorted_indices:\n",
        "    print(f'{class_names[index]}: {count}')"
      ],
      "metadata": {
        "colab": {
          "base_uri": "https://localhost:8080/"
        },
        "id": "VNZpQJQBi9EB",
        "outputId": "56d1d998-d54c-46df-fe56-d41d0855a952"
      },
      "execution_count": 62,
      "outputs": [
        {
          "output_type": "stream",
          "name": "stdout",
          "text": [
            "apple: 500\n",
            "aquarium_fish: 500\n",
            "baby: 500\n",
            "bear: 500\n",
            "beaver: 500\n",
            "bed: 500\n",
            "bee: 500\n",
            "beetle: 500\n",
            "bicycle: 500\n",
            "bottle: 500\n",
            "bowl: 500\n",
            "boy: 500\n",
            "bridge: 500\n",
            "bus: 500\n",
            "butterfly: 500\n",
            "camel: 500\n",
            "can: 500\n",
            "castle: 500\n",
            "caterpillar: 500\n",
            "cattle: 500\n",
            "chair: 500\n",
            "chimpanzee: 500\n",
            "clock: 500\n",
            "cloud: 500\n",
            "cockroach: 500\n",
            "couch: 500\n",
            "crab: 500\n",
            "crocodile: 500\n",
            "cup: 500\n",
            "dinosaur: 500\n",
            "dolphin: 500\n",
            "elephant: 500\n",
            "flatfish: 500\n",
            "forest: 500\n",
            "fox: 500\n",
            "girl: 500\n",
            "hamster: 500\n",
            "house: 500\n",
            "kangaroo: 500\n",
            "keyboard: 500\n",
            "lamp: 500\n",
            "lawn_mower: 500\n",
            "leopard: 500\n",
            "lion: 500\n",
            "lizard: 500\n",
            "lobster: 500\n",
            "man: 500\n",
            "maple_tree: 500\n",
            "motorcycle: 500\n",
            "mountain: 500\n",
            "mouse: 500\n",
            "mushroom: 500\n",
            "oak_tree: 500\n",
            "orange: 500\n",
            "orchid: 500\n",
            "otter: 500\n",
            "palm_tree: 500\n",
            "pear: 500\n",
            "pickup_truck: 500\n",
            "pine_tree: 500\n",
            "plain: 500\n",
            "plate: 500\n",
            "poppy: 500\n",
            "porcupine: 500\n",
            "possum: 500\n",
            "rabbit: 500\n",
            "raccoon: 500\n",
            "ray: 500\n",
            "road: 500\n",
            "rocket: 500\n",
            "rose: 500\n",
            "sea: 500\n",
            "seal: 500\n",
            "shark: 500\n",
            "shrew: 500\n",
            "skunk: 500\n",
            "skyscraper: 500\n",
            "snail: 500\n",
            "snake: 500\n",
            "spider: 500\n",
            "squirrel: 500\n",
            "streetcar: 500\n",
            "sunflower: 500\n",
            "sweet_pepper: 500\n",
            "table: 500\n",
            "tank: 500\n",
            "telephone: 500\n",
            "television: 500\n",
            "tiger: 500\n",
            "tractor: 500\n",
            "train: 500\n",
            "trout: 500\n",
            "tulip: 500\n",
            "turtle: 500\n",
            "wardrobe: 500\n",
            "whale: 500\n",
            "willow_tree: 500\n",
            "wolf: 500\n",
            "woman: 500\n",
            "worm: 500\n"
          ]
        }
      ]
    },
    {
      "cell_type": "markdown",
      "source": [
        "Se observa que la base de datos está perfectamente equilibrada, lo cual es una buena noticia para nosotros. Se realiza con las superclases también por terminar de validarlo."
      ],
      "metadata": {
        "id": "_tOAenk4fMey"
      }
    },
    {
      "cell_type": "code",
      "source": [
        "train_labels_superclass = np.floor_divide(y, 5)\n",
        "train_labels_superclass = train_labels_superclass.reshape(50000)\n",
        "index_count = Counter(train_labels_superclass)\n",
        "sorted_indices = sorted(index_count.items())\n",
        "for index, count in sorted_indices:\n",
        "    print(f'{super_class_names[index]}: {count}')"
      ],
      "metadata": {
        "colab": {
          "base_uri": "https://localhost:8080/"
        },
        "id": "EwfKHxLlx_yL",
        "outputId": "7b0f32ba-141b-42af-d518-08f891124160"
      },
      "execution_count": 63,
      "outputs": [
        {
          "output_type": "stream",
          "name": "stdout",
          "text": [
            "aquatic mammals: 2500\n",
            "fish: 2500\n",
            "flowers: 2500\n",
            "food containers: 2500\n",
            "fruit and vegetables: 2500\n",
            "household electrical devices: 2500\n",
            "household furniture: 2500\n",
            "insects: 2500\n",
            "large carnivores: 2500\n",
            "large man-made outdoor things: 2500\n",
            "large natural outdoor scenes: 2500\n",
            "large omnivores and herbivores: 2500\n",
            "medium-sized mammals: 2500\n",
            "non-insect invertebrates: 2500\n",
            "people: 2500\n",
            "reptiles: 2500\n",
            "small mammals: 2500\n",
            "trees: 2500\n",
            "vehicles 1: 2500\n",
            "vehicles 2: 2500\n"
          ]
        }
      ]
    },
    {
      "cell_type": "markdown",
      "source": [
        "Para finalizar el pre-procesado de datos, se normalizan los datos, se tranforman las etiquetas a 'one-hot' encoding y se hace la partición de los datos en train-validation-test."
      ],
      "metadata": {
        "id": "2cHiwJFuVsMn"
      }
    },
    {
      "cell_type": "code",
      "source": [
        "# Se normalizan los datos:\n",
        "Xnorm = X/255\n",
        "test_Xnorm = test_X/255\n",
        "\n",
        "# Se convierten las etiquetas a codificación one-hot\n",
        "y_categorical = to_categorical(y)\n",
        "test_y_categorical = to_categorical(test_y)\n",
        "\n",
        "# Se dividen los datos en train y validation:\n",
        "train_X = Xnorm[:47000]\n",
        "train_y = y_categorical[:47000]\n",
        "val_X = Xnorm[-3000:]\n",
        "val_y = y_categorical[-3000:]"
      ],
      "metadata": {
        "id": "FKbYUP41ShA-"
      },
      "execution_count": 64,
      "outputs": []
    },
    {
      "cell_type": "markdown",
      "source": [
        "# DESARROLLO DEL MODELO"
      ],
      "metadata": {
        "id": "W7loyJ6FSd9c"
      }
    },
    {
      "cell_type": "code",
      "source": [
        "# Convertir las etiquetas a codificación one-hot\n",
        "train_labels = to_categorical(train_labels)\n",
        "test_labels = to_categorical(test_labels)"
      ],
      "metadata": {
        "id": "lgYBSo0CI19t"
      },
      "execution_count": 65,
      "outputs": []
    },
    {
      "cell_type": "code",
      "source": [
        "# from tensorflow.keras import Sequential\n",
        "# from tensorflow.keras.layers import Conv2D\n",
        "# from tensorflow.keras.layers import MaxPooling2D\n",
        "# from tensorflow.keras.layers import Dense\n",
        "# from tensorflow.keras.layers import Flatten\n",
        "\n",
        "\n",
        "# model = Sequential()\n",
        "# model.add(Conv2D(32, (5, 5), activation='relu', input_shape=(32, 32, 3)))\n",
        "# model.add(MaxPooling2D((2, 2)))\n",
        "# model.add(Conv2D(64, (5, 5), activation='relu'))\n",
        "# model.add(MaxPooling2D((2, 2)))\n",
        "# model.add(Flatten())\n",
        "# model.add(Dense(100, activation='softmax'))\n",
        "# model.summary()"
      ],
      "metadata": {
        "id": "SNmUUi3JryWQ"
      },
      "execution_count": 66,
      "outputs": []
    },
    {
      "cell_type": "code",
      "source": [
        "# model.compile(loss='categorical_crossentropy',\n",
        "#               optimizer='rmsprop',\n",
        "#               metrics=['accuracy'])\n",
        "\n",
        "# model.fit(train_images, train_labels,\n",
        "#           batch_size=500,\n",
        "#           epochs=5,\n",
        "#           verbose=1)\n",
        "\n",
        "# test_loss, test_acc = model.evaluate(test_images, test_labels)\n",
        "\n",
        "# print('Test accuracy:', test_acc)"
      ],
      "metadata": {
        "id": "gth_YZAIrxv9"
      },
      "execution_count": 67,
      "outputs": []
    }
  ]
}