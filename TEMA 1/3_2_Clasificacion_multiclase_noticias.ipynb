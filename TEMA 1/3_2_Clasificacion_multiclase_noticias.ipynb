{
  "nbformat": 4,
  "nbformat_minor": 0,
  "metadata": {
    "kernelspec": {
      "display_name": "Python 3",
      "name": "python3"
    },
    "language_info": {
      "codemirror_mode": {
        "name": "ipython",
        "version": 3
      },
      "file_extension": ".py",
      "mimetype": "text/x-python",
      "name": "python",
      "nbconvert_exporter": "python",
      "pygments_lexer": "ipython3",
      "version": "3.5.2"
    },
    "colab": {
      "name": "3_2_Clasificacion_multiclase_noticias.ipynb",
      "provenance": [],
      "gpuType": "T4",
      "include_colab_link": true
    },
    "accelerator": "GPU"
  },
  "cells": [
    {
      "cell_type": "markdown",
      "metadata": {
        "id": "view-in-github",
        "colab_type": "text"
      },
      "source": [
        "<a href=\"https://colab.research.google.com/github/9105507/APRENDIZAJE_AUTOMATICO_23_24/blob/main/TEMA%201/3_2_Clasificacion_multiclase_noticias.ipynb\" target=\"_parent\"><img src=\"https://colab.research.google.com/assets/colab-badge.svg\" alt=\"Open In Colab\"/></a>"
      ]
    },
    {
      "cell_type": "code",
      "metadata": {
        "id": "Dmi65Nt7nxld",
        "colab": {
          "base_uri": "https://localhost:8080/",
          "height": 35
        },
        "outputId": "7833e301-d03a-43b0-9490-b618293819f0"
      },
      "source": [
        "import keras\n",
        "keras.__version__"
      ],
      "execution_count": 103,
      "outputs": [
        {
          "output_type": "execute_result",
          "data": {
            "text/plain": [
              "'2.13.1'"
            ],
            "application/vnd.google.colaboratory.intrinsic+json": {
              "type": "string"
            }
          },
          "metadata": {},
          "execution_count": 103
        }
      ]
    },
    {
      "cell_type": "markdown",
      "metadata": {
        "id": "TkrnDKKMnxlg"
      },
      "source": [
        "# Clasificación de noticias: un ejemplo de clasificación multiclase\n",
        "----\n",
        "Ya hemos visto cómo clasificar las entradas vectoriales en dos clases mutuamente excluyentes utilizando una red neuronal densamente conectada.\n",
        "Pero, ¿qué pasa cuando tienes más de dos clases?\n",
        "\n",
        "Ahora crearemos una red para clasificar las noticias de Reuters en **46 temas mutuamente excluyentes**. Como cada noticia debe clasificarse en una sola categoría, es un problema de **\"clasificación multiclase de una sola etiqueta\"**."
      ]
    },
    {
      "cell_type": "markdown",
      "metadata": {
        "id": "Izoyxmwbnxli"
      },
      "source": [
        "## El conjunto de datos de Reuters\n",
        "\n",
        "El Reuters dataset es un conjunto de noticias breves y sus temas, publicado por Reuters en 1986. Son 46 temas diferentes; **algunos temas están más representados que otros**, pero cada uno tiene, al menos, **10 ejemplos en el conjunto** de entrenamiento.\n",
        "\n",
        "Al igual que IMDB y MNIST, el conjunto de datos de Reuters viene **empaquetado como parte de Keras**."
      ]
    },
    {
      "cell_type": "code",
      "metadata": {
        "collapsed": true,
        "id": "9NaMkWBXnxli"
      },
      "source": [
        "from keras.datasets import reuters\n",
        "\n",
        "(train_data, train_labels), (test_data, test_labels) = reuters.load_data(num_words=10000)"
      ],
      "execution_count": 104,
      "outputs": []
    },
    {
      "cell_type": "markdown",
      "metadata": {
        "id": "CozwLpAvnxli"
      },
      "source": [
        "Al igual que con el conjunto de datos de IMDB, el argumento `num_words = 10000` restringe los datos a las **10.000 palabras más frecuentes** que se encuentran en los datos.\n",
        "\n",
        "Tenemos 8.982 ejemplos de entrenamiento y 2.246 ejemplos de prueba:"
      ]
    },
    {
      "cell_type": "code",
      "metadata": {
        "id": "0HJcxlr1nxlj",
        "colab": {
          "base_uri": "https://localhost:8080/"
        },
        "outputId": "6472ca23-980c-41c9-e031-9016aca237d3"
      },
      "source": [
        "len(train_data)"
      ],
      "execution_count": 105,
      "outputs": [
        {
          "output_type": "execute_result",
          "data": {
            "text/plain": [
              "8982"
            ]
          },
          "metadata": {},
          "execution_count": 105
        }
      ]
    },
    {
      "cell_type": "code",
      "metadata": {
        "id": "LbKH6-Cpnxlj",
        "colab": {
          "base_uri": "https://localhost:8080/"
        },
        "outputId": "da5fbc3c-e211-4ce7-ae59-2841891b316d"
      },
      "source": [
        "len(test_data)"
      ],
      "execution_count": 106,
      "outputs": [
        {
          "output_type": "execute_result",
          "data": {
            "text/plain": [
              "2246"
            ]
          },
          "metadata": {},
          "execution_count": 106
        }
      ]
    },
    {
      "cell_type": "markdown",
      "metadata": {
        "id": "rRQ7AWE5nxlk"
      },
      "source": [
        "Al igual que con las críticas de IMDB, cada ejemplo es una lista de números enteros (índices de palabras):"
      ]
    },
    {
      "cell_type": "code",
      "metadata": {
        "id": "x7Sfvxm-nxlk",
        "colab": {
          "base_uri": "https://localhost:8080/"
        },
        "outputId": "dbb12d5f-fb97-4992-c1d3-0876176e031d"
      },
      "source": [
        "train_data[10]"
      ],
      "execution_count": 107,
      "outputs": [
        {
          "output_type": "execute_result",
          "data": {
            "text/plain": [
              "[1,\n",
              " 245,\n",
              " 273,\n",
              " 207,\n",
              " 156,\n",
              " 53,\n",
              " 74,\n",
              " 160,\n",
              " 26,\n",
              " 14,\n",
              " 46,\n",
              " 296,\n",
              " 26,\n",
              " 39,\n",
              " 74,\n",
              " 2979,\n",
              " 3554,\n",
              " 14,\n",
              " 46,\n",
              " 4689,\n",
              " 4329,\n",
              " 86,\n",
              " 61,\n",
              " 3499,\n",
              " 4795,\n",
              " 14,\n",
              " 61,\n",
              " 451,\n",
              " 4329,\n",
              " 17,\n",
              " 12]"
            ]
          },
          "metadata": {},
          "execution_count": 107
        }
      ]
    },
    {
      "cell_type": "markdown",
      "metadata": {
        "id": "ys_v0Ykknxlk"
      },
      "source": [
        "Así es como podemos decodificarlo para volverlo a convertir en palabras, por si tenéis curiosidad:"
      ]
    },
    {
      "cell_type": "code",
      "metadata": {
        "collapsed": true,
        "id": "B4N2Ygn0nxll"
      },
      "source": [
        "word_index = reuters.get_word_index()\n",
        "reverse_word_index = dict([(value, key) for (key, value) in word_index.items()])\n",
        "# Los índices están desviados en 3 porque 0, 1 y 2 don índices reservados para\n",
        "# \"relleno\", \"comienzo de secuencia\" y \"desconocido\"\n",
        "decoded_newswire = ' '.join([reverse_word_index.get(i - 3, '?') for i in train_data[0]])"
      ],
      "execution_count": 108,
      "outputs": []
    },
    {
      "cell_type": "code",
      "metadata": {
        "id": "wMcRFJbXnxll",
        "colab": {
          "base_uri": "https://localhost:8080/",
          "height": 53
        },
        "outputId": "873e8d24-4406-4543-cc46-59b9b9fc4367"
      },
      "source": [
        "decoded_newswire"
      ],
      "execution_count": 109,
      "outputs": [
        {
          "output_type": "execute_result",
          "data": {
            "text/plain": [
              "'? ? ? said as a result of its december acquisition of space co it expects earnings per share in 1987 of 1 15 to 1 30 dlrs per share up from 70 cts in 1986 the company said pretax net should rise to nine to 10 mln dlrs from six mln dlrs in 1986 and rental operation revenues to 19 to 22 mln dlrs from 12 5 mln dlrs it said cash flow per share this year should be 2 50 to three dlrs reuter 3'"
            ],
            "application/vnd.google.colaboratory.intrinsic+json": {
              "type": "string"
            }
          },
          "metadata": {},
          "execution_count": 109
        }
      ]
    },
    {
      "cell_type": "markdown",
      "metadata": {
        "id": "9AyXoYH0nxlm"
      },
      "source": [
        "La etiqueta asociada con el ejemplo es un entero entre 0 y 45 (un índice del tema)"
      ]
    },
    {
      "cell_type": "code",
      "metadata": {
        "id": "Oxcy5sxjnxlm",
        "colab": {
          "base_uri": "https://localhost:8080/"
        },
        "outputId": "b00e5157-d0f8-4ef2-bb61-94ec6092718b"
      },
      "source": [
        "train_labels[10]"
      ],
      "execution_count": 110,
      "outputs": [
        {
          "output_type": "execute_result",
          "data": {
            "text/plain": [
              "3"
            ]
          },
          "metadata": {},
          "execution_count": 110
        }
      ]
    },
    {
      "cell_type": "markdown",
      "metadata": {
        "id": "DOzhvd6Znxlm"
      },
      "source": [
        "## Preparando los datos\n",
        "\n",
        "Podemor vectorizar los datos con el mismo código que en ejemplo de las críticas de cine."
      ]
    },
    {
      "cell_type": "code",
      "metadata": {
        "collapsed": true,
        "id": "x2ERdKRQnxlm"
      },
      "source": [
        "import numpy as np\n",
        "\n",
        "def vectorize_sequences(sequences, dimension=10000):\n",
        "    results = np.zeros((len(sequences), dimension))\n",
        "    for i, sequence in enumerate(sequences):\n",
        "        results[i, sequence] = 1.\n",
        "    return results\n",
        "\n",
        "# Datos de entrenamiento vectorizados\n",
        "x_train = vectorize_sequences(train_data)\n",
        "# Datos de test vectorizados\n",
        "x_test = vectorize_sequences(test_data)"
      ],
      "execution_count": 111,
      "outputs": []
    },
    {
      "cell_type": "markdown",
      "metadata": {
        "id": "wPom4deInxln"
      },
      "source": [
        "Para vectorizar las etiquetas, hay dos posibilidades\n",
        "1. Podríamos simplemente convertir la lista de etiquetas como un tensor entero\n",
        "2. Podríamos usar un \"one-hot\"codification. La codificación one-hot es un formato ampliamente utilizado para datos categóricos, también llamado \"codificación categórica\".\n",
        "\n",
        "En nuestro caso, la codificación **one-hot** de nuestras etiquetas consiste en incrustar cada etiqueta como un **vector con todo ceros (46), salvo un 1 en el lugar del índice de la etiqueta**:"
      ]
    },
    {
      "cell_type": "code",
      "metadata": {
        "collapsed": true,
        "id": "TH9mRCzInxln",
        "outputId": "e240a089-063f-46a7-8dc8-418da9e56b0c",
        "colab": {
          "base_uri": "https://localhost:8080/"
        }
      },
      "source": [
        "def to_one_hot(labels, dimension=46):\n",
        "    results = np.zeros((len(labels), dimension))\n",
        "    for i, label in enumerate(labels):\n",
        "        results[i, label] = 1.\n",
        "    return results\n",
        "\n",
        "# Datos de entrenamiento vectorizados\n",
        "one_hot_train_labels = to_one_hot(train_labels)\n",
        "# Datos de test vectorizados\n",
        "one_hot_test_labels = to_one_hot(test_labels)\n",
        "print(one_hot_test_labels)"
      ],
      "execution_count": 112,
      "outputs": [
        {
          "output_type": "stream",
          "name": "stdout",
          "text": [
            "[[0. 0. 0. ... 0. 0. 0.]\n",
            " [0. 0. 0. ... 0. 0. 0.]\n",
            " [0. 1. 0. ... 0. 0. 0.]\n",
            " ...\n",
            " [0. 0. 0. ... 0. 0. 0.]\n",
            " [0. 0. 0. ... 0. 0. 0.]\n",
            " [0. 0. 0. ... 0. 0. 0.]]\n"
          ]
        }
      ]
    },
    {
      "cell_type": "markdown",
      "metadata": {
        "id": "-FUV8ItHnxln"
      },
      "source": [
        "Tener en cuenta que hay una manera integrada de hacer esto en Keras, que ya hemos visto en nuestro ejemplo de MNIST:"
      ]
    },
    {
      "cell_type": "code",
      "metadata": {
        "collapsed": true,
        "id": "oLUqfGUCnxlo",
        "outputId": "f0130d14-cdf7-4c31-dbec-3cbf4041535a",
        "colab": {
          "base_uri": "https://localhost:8080/"
        }
      },
      "source": [
        "from keras.utils import to_categorical\n",
        "\n",
        "one_hot_train_labels = to_categorical(train_labels)\n",
        "one_hot_test_labels = to_categorical(test_labels)\n",
        "print(one_hot_test_labels)"
      ],
      "execution_count": 113,
      "outputs": [
        {
          "output_type": "stream",
          "name": "stdout",
          "text": [
            "[[0. 0. 0. ... 0. 0. 0.]\n",
            " [0. 0. 0. ... 0. 0. 0.]\n",
            " [0. 1. 0. ... 0. 0. 0.]\n",
            " ...\n",
            " [0. 0. 0. ... 0. 0. 0.]\n",
            " [0. 0. 0. ... 0. 0. 0.]\n",
            " [0. 0. 0. ... 0. 0. 0.]]\n"
          ]
        }
      ]
    },
    {
      "cell_type": "markdown",
      "metadata": {
        "id": "0y7X1miPnxlo"
      },
      "source": [
        "## Crear la red\n",
        "\n",
        "\n",
        "Este problema de clasificación es parecido al anterior de películas solo que con una nueva restricción: el número de clases de salida ha pasado de 2 a 46, es decir, **la dimensionalidad del espacio de salida es mucho mayor**.\n",
        "\n",
        "En una pila de capas `Dense` como la que estábamos usando, **cada capa solo puede acceder a la información presente en la salida de la capa anterior**.\n",
        "**Si una capa abandona una información relevante para el problema de clasificación, dicha información nunca podrá ser recuperada por capas posteriores**: **cada capa puede, potencialmente, convertirse en un \"cuello de botella\" u obstáculo para la información\"**. En nuestro ejemplo anterior, estábamos usando capas intermedias de 16 dimensiones, pero un espacio de **16 dimensiones puede ser demasiado limitado para aprender a separar 46 clases diferentes**: capas tan pequeñas pueden actuar como cuellos de botella de información, abandonando permanentemente información relevante.\n",
        "\n",
        "REGLA PARA NO CREAR CUELLOS DE BOTELLAS: Nº CLASES + 40%NUMCLASES\n",
        "\n",
        "Por esta razón usaremos capas más grandes. **Vayamos con 64 unidades**:"
      ]
    },
    {
      "cell_type": "code",
      "metadata": {
        "collapsed": true,
        "id": "9DauD9tcnxlo"
      },
      "source": [
        "from keras import models\n",
        "from keras import layers\n",
        "\n",
        "model = models.Sequential()\n",
        "model.add(layers.Dense(64, activation='relu', input_shape=(10000,)))\n",
        "model.add(layers.Dense(64, activation='relu'))\n",
        "model.add(layers.Dense(46, activation='softmax'))"
      ],
      "execution_count": 114,
      "outputs": []
    },
    {
      "cell_type": "markdown",
      "metadata": {
        "id": "yIZfUHTTnxlo"
      },
      "source": [
        "Hay otras dos cosas que debe tener en cuenta sobre esta arquitectura:\n",
        "\n",
        "* Terminamos la red con una capa \"Densa\" de tamaño 46. Para cada muestra de entrada, nuestra red generará un vector de 46 dimensiones. Cada entrada en este vector (cada dimensión) codificará una clase de salida diferente.\n",
        "* La última capa utiliza una activación \"softmax\". Esto significa que la red\n",
        "genera una **distribución de probabilidad** sobre las 46 clases de salida diferentes, es decir, para cada muestra de entrada, la red producirá un\n",
        "vector de salida de 46 dimensiones donde \"salida [i]\" es la probabilidad de que la muestra pertenezca a la clase \"i\". Las 46 puntuaciones sumarán 1.\n",
        "\n",
        "La mejor función de pérdida para usar en este caso es `categorical_crossentropy`. **Mide la distancia entre dos distribuciones de probabilidad**: en nuestro caso, **entre la distribución de probabilidad de salida de nuestra red y la distribución real de las etiquetas**. **Minimizando el distancia entre estas dos distribuciones**, entrenamos nuestra red para generar algo lo más cercano posible a las etiquetas verdaderas."
      ]
    },
    {
      "cell_type": "code",
      "metadata": {
        "collapsed": true,
        "id": "H58tHWI6nxlp"
      },
      "source": [
        "model.compile(optimizer='rmsprop',\n",
        "              loss='categorical_crossentropy',\n",
        "              metrics=['accuracy'])"
      ],
      "execution_count": 115,
      "outputs": []
    },
    {
      "cell_type": "markdown",
      "metadata": {
        "id": "k_ZvZWM6nxlp"
      },
      "source": [
        "## Validar el enfoque:\n",
        "\n",
        "Vamos a separar 1.000 muestras en los datos de entrenamiento para utilizarlas como conjunto de validación :"
      ]
    },
    {
      "cell_type": "code",
      "metadata": {
        "collapsed": true,
        "id": "8C9_lrCUnxlp"
      },
      "source": [
        "x_val = x_train[:1000]\n",
        "partial_x_train = x_train[1000:]\n",
        "\n",
        "y_val = one_hot_train_labels[:1000]\n",
        "partial_y_train = one_hot_train_labels[1000:]"
      ],
      "execution_count": 116,
      "outputs": []
    },
    {
      "cell_type": "markdown",
      "metadata": {
        "id": "H_sWy-GOnxlp"
      },
      "source": [
        "Ahora entrenamos nuestra red con 20 épocas:"
      ]
    },
    {
      "cell_type": "code",
      "metadata": {
        "id": "0nmfVLisnxlq",
        "colab": {
          "base_uri": "https://localhost:8080/"
        },
        "outputId": "574c8099-afce-4cc2-c6b6-401f91b568bd"
      },
      "source": [
        "history = model.fit(partial_x_train,\n",
        "                    partial_y_train,\n",
        "                    epochs=20,\n",
        "                    batch_size=512,\n",
        "                    validation_data=(x_val, y_val))"
      ],
      "execution_count": 117,
      "outputs": [
        {
          "output_type": "stream",
          "name": "stdout",
          "text": [
            "Epoch 1/20\n",
            "16/16 [==============================] - 2s 43ms/step - loss: 2.6787 - accuracy: 0.5150 - val_loss: 1.7837 - val_accuracy: 0.6190\n",
            "Epoch 2/20\n",
            "16/16 [==============================] - 0s 19ms/step - loss: 1.4991 - accuracy: 0.6835 - val_loss: 1.4030 - val_accuracy: 0.6910\n",
            "Epoch 3/20\n",
            "16/16 [==============================] - 0s 19ms/step - loss: 1.1596 - accuracy: 0.7463 - val_loss: 1.1880 - val_accuracy: 0.7420\n",
            "Epoch 4/20\n",
            "16/16 [==============================] - 0s 17ms/step - loss: 0.9482 - accuracy: 0.7962 - val_loss: 1.0726 - val_accuracy: 0.7690\n",
            "Epoch 5/20\n",
            "16/16 [==============================] - 0s 18ms/step - loss: 0.7848 - accuracy: 0.8277 - val_loss: 1.0092 - val_accuracy: 0.7910\n",
            "Epoch 6/20\n",
            "16/16 [==============================] - 0s 21ms/step - loss: 0.6561 - accuracy: 0.8587 - val_loss: 0.9442 - val_accuracy: 0.7930\n",
            "Epoch 7/20\n",
            "16/16 [==============================] - 0s 18ms/step - loss: 0.5467 - accuracy: 0.8816 - val_loss: 0.9066 - val_accuracy: 0.8120\n",
            "Epoch 8/20\n",
            "16/16 [==============================] - 0s 19ms/step - loss: 0.4574 - accuracy: 0.9015 - val_loss: 0.9040 - val_accuracy: 0.7980\n",
            "Epoch 9/20\n",
            "16/16 [==============================] - 0s 17ms/step - loss: 0.3819 - accuracy: 0.9186 - val_loss: 0.8575 - val_accuracy: 0.8150\n",
            "Epoch 10/20\n",
            "16/16 [==============================] - 0s 18ms/step - loss: 0.3304 - accuracy: 0.9291 - val_loss: 0.8505 - val_accuracy: 0.8180\n",
            "Epoch 11/20\n",
            "16/16 [==============================] - 0s 17ms/step - loss: 0.2820 - accuracy: 0.9376 - val_loss: 0.8595 - val_accuracy: 0.8080\n",
            "Epoch 12/20\n",
            "16/16 [==============================] - 0s 21ms/step - loss: 0.2452 - accuracy: 0.9446 - val_loss: 0.8546 - val_accuracy: 0.8180\n",
            "Epoch 13/20\n",
            "16/16 [==============================] - 0s 17ms/step - loss: 0.2232 - accuracy: 0.9474 - val_loss: 0.9047 - val_accuracy: 0.8090\n",
            "Epoch 14/20\n",
            "16/16 [==============================] - 0s 17ms/step - loss: 0.1957 - accuracy: 0.9505 - val_loss: 0.8805 - val_accuracy: 0.8150\n",
            "Epoch 15/20\n",
            "16/16 [==============================] - 0s 17ms/step - loss: 0.1771 - accuracy: 0.9525 - val_loss: 0.8692 - val_accuracy: 0.8220\n",
            "Epoch 16/20\n",
            "16/16 [==============================] - 0s 18ms/step - loss: 0.1700 - accuracy: 0.9506 - val_loss: 0.8959 - val_accuracy: 0.8110\n",
            "Epoch 17/20\n",
            "16/16 [==============================] - 0s 17ms/step - loss: 0.1571 - accuracy: 0.9539 - val_loss: 0.9655 - val_accuracy: 0.8000\n",
            "Epoch 18/20\n",
            "16/16 [==============================] - 0s 20ms/step - loss: 0.1439 - accuracy: 0.9567 - val_loss: 0.9400 - val_accuracy: 0.8040\n",
            "Epoch 19/20\n",
            "16/16 [==============================] - 0s 20ms/step - loss: 0.1407 - accuracy: 0.9563 - val_loss: 0.9216 - val_accuracy: 0.8200\n",
            "Epoch 20/20\n",
            "16/16 [==============================] - 0s 16ms/step - loss: 0.1283 - accuracy: 0.9560 - val_loss: 0.9245 - val_accuracy: 0.8210\n"
          ]
        }
      ]
    },
    {
      "cell_type": "markdown",
      "metadata": {
        "id": "xtxo4WFmnxlq"
      },
      "source": [
        "Vamos a ver las curvas de pérdida y precisión:"
      ]
    },
    {
      "cell_type": "code",
      "metadata": {
        "id": "PkGCFJ1-nxlq",
        "colab": {
          "base_uri": "https://localhost:8080/",
          "height": 474
        },
        "outputId": "e9d06648-ae3b-4e10-c00b-e5d148712c26"
      },
      "source": [
        "import matplotlib.pyplot as plt\n",
        "\n",
        "loss = history.history['loss']\n",
        "val_loss = history.history['val_loss']\n",
        "\n",
        "epochs = range(1, len(loss) + 1)\n",
        "\n",
        "plt.plot(epochs, loss, 'bo', label='Pérdida del entreno')\n",
        "plt.plot(epochs, val_loss, 'b', label='Pérdida de la validación')\n",
        "plt.title('Perdidas del entreno y la validación')\n",
        "plt.xlabel('Épocas')\n",
        "plt.ylabel('Pérdida')\n",
        "plt.legend()\n",
        "\n",
        "plt.show()"
      ],
      "execution_count": 118,
      "outputs": [
        {
          "output_type": "display_data",
          "data": {
            "text/plain": [
              "<Figure size 640x480 with 1 Axes>"
            ],
            "image/png": "[encoded data removed]"
          },
          "metadata": {}
        }
      ]
    },
    {
      "cell_type": "code",
      "metadata": {
        "id": "P3dcRt8inxlq",
        "colab": {
          "base_uri": "https://localhost:8080/",
          "height": 474
        },
        "outputId": "156493c5-a069-4837-de7f-c8e3438a9fad"
      },
      "source": [
        "plt.clf()   # Limpiamos el gráfico\n",
        "\n",
        "acc = history.history['accuracy']\n",
        "val_acc = history.history['val_accuracy']\n",
        "\n",
        "plt.plot(epochs, acc, 'bo', label='Precisión de entrenamiento')\n",
        "plt.plot(epochs, val_acc, 'b', label='Precisión de validación')\n",
        "plt.title('Precisión de entreno y validación')\n",
        "plt.xlabel('Épocas')\n",
        "plt.ylabel('Precisión')\n",
        "plt.legend()\n",
        "\n",
        "plt.show()"
      ],
      "execution_count": 119,
      "outputs": [
        {
          "output_type": "display_data",
          "data": {
            "text/plain": [
              "<Figure size 640x480 with 1 Axes>"
            ],
            "image/png": "[encoded data removed]"
          },
          "metadata": {}
        }
      ]
    },
    {
      "cell_type": "markdown",
      "metadata": {
        "id": "GPrPZk-xnxlr"
      },
      "source": [
        "Parece que la red comienza a sobreajustarse después de 10 repeticiones (épocas). Entrenemos una nueva red desde cero durante 10 épocas, luego evaluémosla con el conjunto de prueba:"
      ]
    },
    {
      "cell_type": "code",
      "metadata": {
        "id": "mGO6girWnxlr",
        "colab": {
          "base_uri": "https://localhost:8080/"
        },
        "outputId": "eca8f6db-b216-486f-bd93-ec53134353bf"
      },
      "source": [
        "model = models.Sequential()\n",
        "model.add(layers.Dense(64, activation='relu', input_shape=(10000,)))\n",
        "model.add(layers.Dense(64, activation='relu'))\n",
        "model.add(layers.Dense(46, activation='softmax'))\n",
        "\n",
        "model.compile(optimizer='rmsprop',\n",
        "              loss='categorical_crossentropy',\n",
        "              metrics=['accuracy'])\n",
        "# Entreno con todos los datos durante 10 épocas\n",
        "model.fit(x_train,\n",
        "          one_hot_train_labels,\n",
        "          epochs=10,\n",
        "          batch_size=512)\n",
        "results = model.evaluate(x_test, one_hot_test_labels)"
      ],
      "execution_count": 120,
      "outputs": [
        {
          "output_type": "stream",
          "name": "stdout",
          "text": [
            "Epoch 1/10\n",
            "18/18 [==============================] - 2s 17ms/step - loss: 2.8837 - accuracy: 0.4786\n",
            "Epoch 2/10\n",
            "18/18 [==============================] - 0s 15ms/step - loss: 1.5537 - accuracy: 0.6867\n",
            "Epoch 3/10\n",
            "18/18 [==============================] - 0s 14ms/step - loss: 1.1756 - accuracy: 0.7476\n",
            "Epoch 4/10\n",
            "18/18 [==============================] - 0s 14ms/step - loss: 0.9621 - accuracy: 0.7957\n",
            "Epoch 5/10\n",
            "18/18 [==============================] - 0s 13ms/step - loss: 0.7914 - accuracy: 0.8332\n",
            "Epoch 6/10\n",
            "18/18 [==============================] - 0s 14ms/step - loss: 0.6648 - accuracy: 0.8583\n",
            "Epoch 7/10\n",
            "18/18 [==============================] - 0s 14ms/step - loss: 0.5532 - accuracy: 0.8829\n",
            "Epoch 8/10\n",
            "18/18 [==============================] - 0s 14ms/step - loss: 0.4708 - accuracy: 0.8994\n",
            "Epoch 9/10\n",
            "18/18 [==============================] - 0s 14ms/step - loss: 0.3952 - accuracy: 0.9153\n",
            "Epoch 10/10\n",
            "18/18 [==============================] - 0s 14ms/step - loss: 0.3419 - accuracy: 0.9250\n",
            "71/71 [==============================] - 0s 3ms/step - loss: 0.9180 - accuracy: 0.7930\n"
          ]
        }
      ]
    },
    {
      "cell_type": "code",
      "metadata": {
        "id": "1EG6Oap7nxls",
        "colab": {
          "base_uri": "https://localhost:8080/"
        },
        "outputId": "9547e398-5e38-4573-90b0-3d0567d46d41"
      },
      "source": [
        "results"
      ],
      "execution_count": 121,
      "outputs": [
        {
          "output_type": "execute_result",
          "data": {
            "text/plain": [
              "[0.9179919958114624, 0.792965292930603]"
            ]
          },
          "metadata": {},
          "execution_count": 121
        }
      ]
    },
    {
      "cell_type": "markdown",
      "metadata": {
        "id": "RiPAYJiwnxls"
      },
      "source": [
        "Este enfoque alcanza una precisión de ~ 78%. **Con un problema de clasificación binaria equilibrada, la precisión alcanzada por un clasificador puramente aleatorio sería del 50%**, pero en **nuestro caso** está más **cerca del 19%**, por lo que nuestros **resultados parecen bastante buenos**, al menos **en comparación con una línea de base aleatoria**:"
      ]
    },
    {
      "cell_type": "code",
      "metadata": {
        "id": "LFolLeyfnxls",
        "colab": {
          "base_uri": "https://localhost:8080/"
        },
        "outputId": "011774ca-831e-42b1-bed0-4e87822fa75f"
      },
      "source": [
        "import copy\n",
        "\n",
        "test_labels_copy = copy.copy(test_labels)\n",
        "np.random.shuffle(test_labels_copy)\n",
        "float(np.sum(np.array(test_labels) == np.array(test_labels_copy))) / len(test_labels)"
      ],
      "execution_count": 122,
      "outputs": [
        {
          "output_type": "execute_result",
          "data": {
            "text/plain": [
              "0.18521816562778273"
            ]
          },
          "metadata": {},
          "execution_count": 122
        }
      ]
    },
    {
      "cell_type": "markdown",
      "metadata": {
        "id": "0riNA9vQnxlt"
      },
      "source": [
        "## Generar predicciones en datos nuevos\n",
        "\n",
        "Podemos verificar que el método `predict` de nuestra instancia del modelo devuelve una distribución de probabilidad sobre los 46 temas. Generemos tema\n",
        "predicciones para todos los datos de prueba:"
      ]
    },
    {
      "cell_type": "code",
      "metadata": {
        "collapsed": true,
        "id": "gOZrZvFmnxlt",
        "outputId": "84959432-0560-4a1b-dad3-d17f57ba1705",
        "colab": {
          "base_uri": "https://localhost:8080/"
        }
      },
      "source": [
        "predictions = model.predict(x_test)"
      ],
      "execution_count": 123,
      "outputs": [
        {
          "output_type": "stream",
          "name": "stdout",
          "text": [
            "71/71 [==============================] - 0s 2ms/step\n"
          ]
        }
      ]
    },
    {
      "cell_type": "markdown",
      "metadata": {
        "id": "1bL0CtdInxlt"
      },
      "source": [
        "Cada entrada en `predictions` es un vector de longitud 46:"
      ]
    },
    {
      "cell_type": "code",
      "metadata": {
        "id": "tdlqjT_Mnxlt",
        "colab": {
          "base_uri": "https://localhost:8080/"
        },
        "outputId": "73005634-0e9b-4c14-a6e1-cc0fa00c6c6a"
      },
      "source": [
        "predictions[0].shape"
      ],
      "execution_count": 124,
      "outputs": [
        {
          "output_type": "execute_result",
          "data": {
            "text/plain": [
              "(46,)"
            ]
          },
          "metadata": {},
          "execution_count": 124
        }
      ]
    },
    {
      "cell_type": "markdown",
      "metadata": {
        "id": "x3nDGb7lnxlt"
      },
      "source": [
        "Los coeficientes en este vector suman 1:"
      ]
    },
    {
      "cell_type": "code",
      "metadata": {
        "id": "ha0GKlU7nxlu",
        "colab": {
          "base_uri": "https://localhost:8080/"
        },
        "outputId": "16b3850b-990f-4722-b3ac-19a6a00c29a5"
      },
      "source": [
        "np.sum(predictions[0])"
      ],
      "execution_count": 125,
      "outputs": [
        {
          "output_type": "execute_result",
          "data": {
            "text/plain": [
              "1.0000001"
            ]
          },
          "metadata": {},
          "execution_count": 125
        }
      ]
    },
    {
      "cell_type": "markdown",
      "metadata": {
        "id": "zF6lPgbJnxlu"
      },
      "source": [
        "La mayor entrada es la clase predicha, es decir, la clase con la probabilidad más elevada:"
      ]
    },
    {
      "cell_type": "code",
      "metadata": {
        "id": "FkZyZdwdnxlu",
        "colab": {
          "base_uri": "https://localhost:8080/"
        },
        "outputId": "b607bc69-eb89-4129-80ac-1befc4994430"
      },
      "source": [
        "np.argmax(predictions[0])"
      ],
      "execution_count": 126,
      "outputs": [
        {
          "output_type": "execute_result",
          "data": {
            "text/plain": [
              "4"
            ]
          },
          "metadata": {},
          "execution_count": 126
        }
      ]
    },
    {
      "cell_type": "markdown",
      "metadata": {
        "id": "y7EzvpvYnxlu"
      },
      "source": [
        "## Una forma diferente de manejar las etiquetas y la pérdida\n",
        "\n",
        "Mencionamos anteriormente que otra forma de codificar las etiquetas sería convertirlas en un tensor entero, como tal:"
      ]
    },
    {
      "cell_type": "code",
      "metadata": {
        "collapsed": true,
        "id": "oSa9FT4qnxlv",
        "outputId": "9cea52a7-95a1-441b-d20f-f6adee4a9602",
        "colab": {
          "base_uri": "https://localhost:8080/"
        }
      },
      "source": [
        "y_train = np.array(train_labels)\n",
        "y_test = np.array(test_labels)\n",
        "print(test_labels)"
      ],
      "execution_count": 127,
      "outputs": [
        {
          "output_type": "stream",
          "name": "stdout",
          "text": [
            "[ 3 10  1 ...  3  3 24]\n"
          ]
        }
      ]
    },
    {
      "cell_type": "markdown",
      "metadata": {
        "id": "-JSB82gnnxlv"
      },
      "source": [
        "Lo único que cambiaría es la **elección de la función de pérdida**. Nuestra pérdida anterior, `categorical_crossentropy`, espera que las etiquetas sigan una codificación categórica. Con etiquetas enteras, deberíamos usar `sparse_categorical_crossentropy`:"
      ]
    },
    {
      "cell_type": "code",
      "metadata": {
        "collapsed": true,
        "id": "j13JZMBInxlv"
      },
      "source": [
        "model.compile(optimizer='rmsprop', loss='sparse_categorical_crossentropy', metrics=['acc'])"
      ],
      "execution_count": 128,
      "outputs": []
    },
    {
      "cell_type": "markdown",
      "metadata": {
        "id": "eY3c2X5Tnxlv"
      },
      "source": [
        "Esta **nueva función de pérdida sigue siendo matemáticamente la misma** que `categorical_crossentropy`; simplemente tiene una **interfaz diferente**."
      ]
    },
    {
      "cell_type": "markdown",
      "metadata": {
        "id": "k5OWwHpEnxlv"
      },
      "source": [
        "## Lo importante de tener capas intermedias lo bastante grandes:\n",
        "\n",
        "Mencionamos anteriormente que dado que nuestras **salidas finales eran de 46 dimensiones**, **deberíamos evitar capas intermedias con mucho menos de 46 unidades ocultas**. Ahora intentemos ver **qué sucede cuando introducimos un cuello de botella de información** al tener capas intermedias significativamente menores que\n",
        "46 dimensiones, p. Ej. 4 dimensiones."
      ]
    },
    {
      "cell_type": "code",
      "metadata": {
        "id": "MfIYddxPnxlw",
        "colab": {
          "base_uri": "https://localhost:8080/"
        },
        "outputId": "80e6eabf-e729-4c17-e0cf-6df3f8df16c6"
      },
      "source": [
        "model = models.Sequential()\n",
        "model.add(layers.Dense(64, activation='relu', input_shape=(10000,)))\n",
        "model.add(layers.Dense(4, activation='relu'))\n",
        "model.add(layers.Dense(46, activation='softmax'))\n",
        "\n",
        "model.compile(optimizer='rmsprop',\n",
        "              loss='categorical_crossentropy',\n",
        "              metrics=['accuracy'])\n",
        "model.fit(partial_x_train,\n",
        "          partial_y_train,\n",
        "          epochs=20,\n",
        "          batch_size=128,\n",
        "          validation_data=(x_val, y_val))"
      ],
      "execution_count": 129,
      "outputs": [
        {
          "output_type": "stream",
          "name": "stdout",
          "text": [
            "Epoch 1/20\n",
            "63/63 [==============================] - 2s 10ms/step - loss: 2.8595 - accuracy: 0.2838 - val_loss: 2.1079 - val_accuracy: 0.5520\n",
            "Epoch 2/20\n",
            "63/63 [==============================] - 0s 6ms/step - loss: 1.7574 - accuracy: 0.5886 - val_loss: 1.6492 - val_accuracy: 0.6030\n",
            "Epoch 3/20\n",
            "63/63 [==============================] - 0s 6ms/step - loss: 1.4808 - accuracy: 0.6176 - val_loss: 1.5352 - val_accuracy: 0.6090\n",
            "Epoch 4/20\n",
            "63/63 [==============================] - 0s 7ms/step - loss: 1.3224 - accuracy: 0.6545 - val_loss: 1.4365 - val_accuracy: 0.6560\n",
            "Epoch 5/20\n",
            "63/63 [==============================] - 0s 6ms/step - loss: 1.1950 - accuracy: 0.6884 - val_loss: 1.3965 - val_accuracy: 0.6570\n",
            "Epoch 6/20\n",
            "63/63 [==============================] - 0s 7ms/step - loss: 1.0919 - accuracy: 0.7008 - val_loss: 1.3479 - val_accuracy: 0.6680\n",
            "Epoch 7/20\n",
            "63/63 [==============================] - 0s 6ms/step - loss: 0.9998 - accuracy: 0.7136 - val_loss: 1.3154 - val_accuracy: 0.6810\n",
            "Epoch 8/20\n",
            "63/63 [==============================] - 0s 7ms/step - loss: 0.9225 - accuracy: 0.7459 - val_loss: 1.3863 - val_accuracy: 0.6900\n",
            "Epoch 9/20\n",
            "63/63 [==============================] - 0s 6ms/step - loss: 0.8579 - accuracy: 0.7661 - val_loss: 1.3360 - val_accuracy: 0.6950\n",
            "Epoch 10/20\n",
            "63/63 [==============================] - 0s 7ms/step - loss: 0.8017 - accuracy: 0.7762 - val_loss: 1.3229 - val_accuracy: 0.7050\n",
            "Epoch 11/20\n",
            "63/63 [==============================] - 0s 7ms/step - loss: 0.7506 - accuracy: 0.7924 - val_loss: 1.3442 - val_accuracy: 0.7010\n",
            "Epoch 12/20\n",
            "63/63 [==============================] - 0s 6ms/step - loss: 0.7057 - accuracy: 0.8061 - val_loss: 1.3632 - val_accuracy: 0.7090\n",
            "Epoch 13/20\n",
            "63/63 [==============================] - 0s 6ms/step - loss: 0.6638 - accuracy: 0.8269 - val_loss: 1.3986 - val_accuracy: 0.7080\n",
            "Epoch 14/20\n",
            "63/63 [==============================] - 0s 6ms/step - loss: 0.6280 - accuracy: 0.8363 - val_loss: 1.4222 - val_accuracy: 0.7110\n",
            "Epoch 15/20\n",
            "63/63 [==============================] - 0s 7ms/step - loss: 0.5955 - accuracy: 0.8458 - val_loss: 1.4384 - val_accuracy: 0.7180\n",
            "Epoch 16/20\n",
            "63/63 [==============================] - 0s 7ms/step - loss: 0.5659 - accuracy: 0.8514 - val_loss: 1.5104 - val_accuracy: 0.7110\n",
            "Epoch 17/20\n",
            "63/63 [==============================] - 0s 7ms/step - loss: 0.5400 - accuracy: 0.8574 - val_loss: 1.5539 - val_accuracy: 0.7050\n",
            "Epoch 18/20\n",
            "63/63 [==============================] - 0s 7ms/step - loss: 0.5154 - accuracy: 0.8612 - val_loss: 1.5622 - val_accuracy: 0.7090\n",
            "Epoch 19/20\n",
            "63/63 [==============================] - 0s 7ms/step - loss: 0.4965 - accuracy: 0.8642 - val_loss: 1.5691 - val_accuracy: 0.7130\n",
            "Epoch 20/20\n",
            "63/63 [==============================] - 0s 7ms/step - loss: 0.4774 - accuracy: 0.8676 - val_loss: 1.6096 - val_accuracy: 0.7140\n"
          ]
        },
        {
          "output_type": "execute_result",
          "data": {
            "text/plain": [
              "<keras.src.callbacks.History at 0x7ddccd090850>"
            ]
          },
          "metadata": {},
          "execution_count": 129
        }
      ]
    },
    {
      "cell_type": "markdown",
      "metadata": {
        "id": "yEHDBm4Dnxlw"
      },
      "source": [
        "Ahora la red llega aproximadamente al 71% de exactitud de la validación, **una caída absoluta del 8%**. Esta caída se debe principalmente al hecho de que ahora **estamos tratando de comprimir mucha información (información suficiente para recuperar los hiperplanos de separación de 46 clases) en un espacio intermedio de muy pocas dimensiones**. La red es **capaz de meter la mayor parte de la información necesaria en estas representaciones de 4 dimensiones, pero no toda**."
      ]
    },
    {
      "cell_type": "markdown",
      "metadata": {
        "id": "DAITmJA4nxlw"
      },
      "source": [
        "## Más experimentos\n",
        "\n",
        "* Intenta usar capas más grandes o más pequeñas: 32 unidades, 128 unidades ...\n",
        "* Estábamos usando dos capas ocultas. Ahora intenta crear una sola capa oculta o tres capas ocultas."
      ]
    },
    {
      "cell_type": "markdown",
      "metadata": {
        "id": "f3RF6XMlnxlx"
      },
      "source": [
        "## Resumen\n",
        "\n",
        "Esto es lo que debéis sacar de este ejemplo:\n",
        "\n",
        "* Si estáis **intentando clasificar puntos de datos entre N clases, vuestra red debería terminar con una capa `Dense` de tamaño N**.\n",
        "* En un problema de **clasificación de una sola etiqueta asignada y varias clases**, la red debe **terminar con una activación tipo \"softmax\"**, de modo que genere un distribución de probabilidad sobre las N clases de salida.\n",
        "* **`categorical_crossentropy` es casi siempre la función de pérdida que debe usar para estos problemas**. Minimiza la distancia entre las distribuciones de probabilidad producidas por la red y la verdadera distribución de los objetivos.\n",
        "* Hay **dos formas de manejar etiquetas en clasificación multiclase**:\n",
        "  - Codificar las etiquetas a través de \"codificación categórica\" ​​(también conocida como **\"codificación one-hot\"**) y **usar `categorical_crossentropy` como su función de pérdida**.\n",
        "  - Codificando las **etiquetas como números enteros** y usando la **función de pérdida `sparse_categorical_crossentropy`**.\n",
        "* Si necesitamos **clasificar datos en una gran cantidad de categorías**, debemos **evitar crear cuellos de botella de información** en la red al tener capas intermedias que son demasiado pequeñas."
      ]
    },
    {
      "cell_type": "markdown",
      "metadata": {
        "id": "-F0O6iSjQHWq"
      },
      "source": [
        "---"
      ]
    }
  ]
}