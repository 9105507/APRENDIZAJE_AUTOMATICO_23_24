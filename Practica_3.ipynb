{
  "nbformat": 4,
  "nbformat_minor": 0,
  "metadata": {
    "colab": {
      "provenance": [],
      "include_colab_link": true
    },
    "kernelspec": {
      "name": "python3",
      "display_name": "Python 3"
    },
    "language_info": {
      "name": "python"
    }
  },
  "cells": [
    {
      "cell_type": "markdown",
      "metadata": {
        "id": "view-in-github",
        "colab_type": "text"
      },
      "source": [
        "<a href=\"https://colab.research.google.com/github/9105507/APRENDIZAJE_AUTOMATICO_23_24/blob/main/Practica_3.ipynb\" target=\"_parent\"><img src=\"https://colab.research.google.com/assets/colab-badge.svg\" alt=\"Open In Colab\"/></a>"
      ]
    },
    {
      "cell_type": "markdown",
      "source": [
        "\n",
        "# **Grupo 7**\n",
        "Miguel Ángel Rojo\n",
        "\n",
        "Miguel Poyatos García-Lorenzana\n",
        "\n",
        "Jorge Barcenilla González"
      ],
      "metadata": {
        "id": "qnvj58zMJhcG"
      }
    },
    {
      "cell_type": "markdown",
      "source": [
        "Utilizaremos la **biblioteca Python Keras** para aprender a **clasificar** prendas de ropa.\n",
        "\n",
        "**PROBLEMA:**\n",
        "- Clasificación de imágenes en escala de grises de números escritos a mano (28 x 28 píxeles) en sus 10 categorías (de 0 a 9)\n",
        "- Usaremos 60K imágenes de entrenamiento, más de 10K imágenes de prueba todas ellas recopiladas por el National Institute of Standards an Technology (NIST de MNIST) en los años ochenta.\n",
        "- Este es el \"Hola Mundo\" del Deep Learning\n",
        "- El conjunto de datos MNIST está precargado en Keras en la forma de un conjunto de cuatro matrices Numpy\n",
        "- Algunas muestras"
      ],
      "metadata": {
        "id": "wU1L_F0GHxKQ"
      }
    },
    {
      "cell_type": "markdown",
      "source": [
        "# Inicialización de datos"
      ],
      "metadata": {
        "id": "qpSpEvcxSZls"
      }
    },
    {
      "cell_type": "code",
      "source": [
        "%tensorflow_version 2.x\n",
        "import tensorflow as tf\n",
        "from tensorflow import keras\n",
        "\n",
        "import numpy as np\n",
        "import matplotlib.pyplot as plt\n",
        "\n",
        "print(tf.__version__)#"
      ],
      "metadata": {
        "id": "ofw6MsykIP4E",
        "outputId": "f6a566df-5639-4472-b488-0ad8680b3b1e",
        "colab": {
          "base_uri": "https://localhost:8080/"
        }
      },
      "execution_count": null,
      "outputs": [
        {
          "output_type": "stream",
          "name": "stdout",
          "text": [
            "Colab only includes TensorFlow 2.x; %tensorflow_version has no effect.\n",
            "2.14.0\n"
          ]
        }
      ]
    },
    {
      "cell_type": "code",
      "source": [
        "from keras import utils\n",
        "from keras.utils import to_categorical\n",
        "import tensorflow as tf\n",
        "\n",
        "cifar100 = tf.keras.datasets.cifar100\n",
        "(train_images, train_labels), (test_images, test_labels) = cifar100.load_data()\n",
        "\n",
        "print(train_images.shape)\n",
        "print(train_labels.shape)\n",
        "print(test_images.shape)\n",
        "print(test_labels.shape)"
      ],
      "metadata": {
        "colab": {
          "base_uri": "https://localhost:8080/"
        },
        "id": "8JdaRTscrB4W",
        "outputId": "0dfabf7c-47c2-4f64-a48c-02b1ae4bd785"
      },
      "execution_count": null,
      "outputs": [
        {
          "output_type": "stream",
          "name": "stdout",
          "text": [
            "(50000, 32, 32, 3)\n",
            "(50000, 1)\n",
            "(10000, 32, 32, 3)\n",
            "(10000, 1)\n"
          ]
        }
      ]
    },
    {
      "cell_type": "code",
      "source": [
        "# Importar el módulo matplotlib\n",
        "import matplotlib.pyplot as plt\n",
        "\n",
        "# Supongamos que tienes un array de datos de una imagen\n",
        "imagen = train_images[0]\n",
        "\n",
        "# Mostrar la imagen usando imshow()\n",
        "plt.imshow(imagen)\n",
        "plt.show()"
      ],
      "metadata": {
        "colab": {
          "base_uri": "https://localhost:8080/",
          "height": 430
        },
        "id": "4dZ0KLiGUWhQ",
        "outputId": "55513065-6a74-4c18-f0d8-62788eca1ec0"
      },
      "execution_count": null,
      "outputs": [
        {
          "output_type": "display_data",
          "data": {
            "text/plain": [
              "<Figure size 640x480 with 1 Axes>"
            ],
            "image/png": "[encoded data removed]"
          },
          "metadata": {}
        }
      ]
    },
    {
      "cell_type": "code",
      "source": [
        "import numpy as np\n",
        "\n",
        "# Lista con las classes\n",
        "class_names = [\"beaver\", \"dolphin\", \"otter\", \"seal\", \"whale\",\n",
        "               \"aquarium fish\", \"flatfish\", \"ray\", \"shark\", \"trout\",\n",
        "               \"orchids\", \"poppies\", \"roses\", \"sunflowers\", \"tulips\",\n",
        "               \"bottles\", \"bowls\", \"cans\", \"cups\", \"plates\",\n",
        "               \"apples\", \"mushrooms\", \"oranges\", \"pears\", \"sweet peppers\",\n",
        "               \"clock\", \"computer keyboard\", \"lamp\", \"telephone\", \"television\",\n",
        "               \"bed\", \"chair\", \"couch\", \"table\", \"wardrobe\",\n",
        "               \"bee\", \"beetle\", \"butterfly\", \"caterpillar\", \"cockroach\",\n",
        "               \"bear\", \"leopard\", \"lion\", \"tiger\", \"wolf\",\n",
        "               \"bridge\", \"castle\", \"house\", \"road\", \"skyscraper\",\n",
        "               \"cloud\", \"forest\", \"mountain\", \"plain\", \"sea\",\n",
        "               \"camel\", \"cattle\", \"chimpanzee\", \"elephant\", \"kangaroo\",\n",
        "               \"fox\", \"porcupine\", \"possum\", \"raccoon\", \"skunk\",\n",
        "               \"crab\", \"lobster\", \"snail\", \"spider\", \"worm\",\n",
        "               \"baby\", \"boy\", \"girl\", \"man\", \"woman\",\n",
        "               \"crocodile\", \"dinosaur\", \"lizard\", \"snake\", \"turtle\",\n",
        "               \"hamster\", \"mouse\", \"rabbit\", \"shrew\", \"squirrel\",\n",
        "               \"maple\", \"oak\", \"palm\", \"pine\", \"willow\",\n",
        "               \"bicycle\", \"bus\", \"motorcycle\", \"pickup truck\", \"train\",\n",
        "               \"lawn-mower\", \"rocket\", \"streetcar\", \"tank\", \"tractor\"]\n",
        "\n",
        "# Crear una lista con los nombres de las superclases\n",
        "super_class_names = [\"aquatic mammals\",\n",
        "                     \"fish\",\n",
        "                     \"flowers\",\n",
        "                     \"food containers\",\n",
        "                     \"fruit and vegetables\",\n",
        "                     \"household electrical devices\",\n",
        "                     \"household furniture\",\n",
        "                     \"insects\", \"large carnivores\",\n",
        "                     \"large man-made outdoor things\",\n",
        "                     \"large natural outdoor scenes\",\n",
        "                     \"large omnivores and herbivores\",\n",
        "                     \"medium-sized mammals\",\n",
        "                     \"non-insect invertebrates\",\n",
        "                     \"people\",\n",
        "                     \"reptiles\",\n",
        "                     \"small mammals\",\n",
        "                     \"trees\",\n",
        "                     \"vehicles 1\",\n",
        "                     \"vehicles 2\"]"
      ],
      "metadata": {
        "id": "UDKDHiXzgYzR"
      },
      "execution_count": null,
      "outputs": []
    },
    {
      "cell_type": "code",
      "source": [
        "# Crear un array con los índices de las superclases\n",
        "train_labels_superclass = np.floor_divide(train_labels, 5)\n",
        "print(f'El array train_labels_superclass es:\\n{train_labels_superclass}')"
      ],
      "metadata": {
        "colab": {
          "base_uri": "https://localhost:8080/"
        },
        "id": "bsbWPX-PiyH_",
        "outputId": "f98f1731-d71e-4d44-eaaa-0dbc02c06710"
      },
      "execution_count": null,
      "outputs": [
        {
          "output_type": "stream",
          "name": "stdout",
          "text": [
            "El array train_labels_superclass es:\n",
            "[[ 3]\n",
            " [ 5]\n",
            " [ 0]\n",
            " ...\n",
            " [ 0]\n",
            " [ 1]\n",
            " [14]]\n"
          ]
        }
      ]
    },
    {
      "cell_type": "code",
      "source": [
        "import numpy as np\n",
        "from collections import Counter\n",
        "\n",
        "train_labels_reshape = train_labels.reshape(50000)\n",
        "\n",
        "# Create a counter for the indices\n",
        "index_count = Counter(train_labels_reshape)\n",
        "\n",
        "# Sort the indices\n",
        "sorted_indices = sorted(index_count.items())\n",
        "\n",
        "# Print the count of each index and the corresponding class name\n",
        "for index, count in sorted_indices:\n",
        "    print(f'{class_names[index]}: {count}')"
      ],
      "metadata": {
        "colab": {
          "base_uri": "https://localhost:8080/"
        },
        "id": "VNZpQJQBi9EB",
        "outputId": "4aa0ee48-9d55-43e2-9628-26c40c6f0bd9"
      },
      "execution_count": null,
      "outputs": [
        {
          "output_type": "stream",
          "name": "stdout",
          "text": [
            "beaver: 500\n",
            "dolphin: 500\n",
            "otter: 500\n",
            "seal: 500\n",
            "whale: 500\n",
            "aquarium fish: 500\n",
            "flatfish: 500\n",
            "ray: 500\n",
            "shark: 500\n",
            "trout: 500\n",
            "orchids: 500\n",
            "poppies: 500\n",
            "roses: 500\n",
            "sunflowers: 500\n",
            "tulips: 500\n",
            "bottles: 500\n",
            "bowls: 500\n",
            "cans: 500\n",
            "cups: 500\n",
            "plates: 500\n",
            "apples: 500\n",
            "mushrooms: 500\n",
            "oranges: 500\n",
            "pears: 500\n",
            "sweet peppers: 500\n",
            "clock: 500\n",
            "computer keyboard: 500\n",
            "lamp: 500\n",
            "telephone: 500\n",
            "television: 500\n",
            "bed: 500\n",
            "chair: 500\n",
            "couch: 500\n",
            "table: 500\n",
            "wardrobe: 500\n",
            "bee: 500\n",
            "beetle: 500\n",
            "butterfly: 500\n",
            "caterpillar: 500\n",
            "cockroach: 500\n",
            "bear: 500\n",
            "leopard: 500\n",
            "lion: 500\n",
            "tiger: 500\n",
            "wolf: 500\n",
            "bridge: 500\n",
            "castle: 500\n",
            "house: 500\n",
            "road: 500\n",
            "skyscraper: 500\n",
            "cloud: 500\n",
            "forest: 500\n",
            "mountain: 500\n",
            "plain: 500\n",
            "sea: 500\n",
            "camel: 500\n",
            "cattle: 500\n",
            "chimpanzee: 500\n",
            "elephant: 500\n",
            "kangaroo: 500\n",
            "fox: 500\n",
            "porcupine: 500\n",
            "possum: 500\n",
            "raccoon: 500\n",
            "skunk: 500\n",
            "crab: 500\n",
            "lobster: 500\n",
            "snail: 500\n",
            "spider: 500\n",
            "worm: 500\n",
            "baby: 500\n",
            "boy: 500\n",
            "girl: 500\n",
            "man: 500\n",
            "woman: 500\n",
            "crocodile: 500\n",
            "dinosaur: 500\n",
            "lizard: 500\n",
            "snake: 500\n",
            "turtle: 500\n",
            "hamster: 500\n",
            "mouse: 500\n",
            "rabbit: 500\n",
            "shrew: 500\n",
            "squirrel: 500\n",
            "maple: 500\n",
            "oak: 500\n",
            "palm: 500\n",
            "pine: 500\n",
            "willow: 500\n",
            "bicycle: 500\n",
            "bus: 500\n",
            "motorcycle: 500\n",
            "pickup truck: 500\n",
            "train: 500\n",
            "lawn-mower: 500\n",
            "rocket: 500\n",
            "streetcar: 500\n",
            "tank: 500\n",
            "tractor: 500\n"
          ]
        }
      ]
    },
    {
      "cell_type": "code",
      "source": [
        "import numpy as np\n",
        "from collections import Counter\n",
        "\n",
        "train_labels_superclass_reshape = train_labels_superclass.reshape(50000)\n",
        "\n",
        "# Create a counter for the indices\n",
        "index_count = Counter(train_labels_superclass_reshape)\n",
        "\n",
        "# Sort the indices\n",
        "sorted_indices = sorted(index_count.items())\n",
        "\n",
        "# Print the count of each index and the corresponding class name\n",
        "for index, count in sorted_indices:\n",
        "    print(f'{super_class_names[index]}: {count}')"
      ],
      "metadata": {
        "colab": {
          "base_uri": "https://localhost:8080/"
        },
        "id": "EwfKHxLlx_yL",
        "outputId": "8a800e55-970f-43e1-b3c6-3c051e1184b5"
      },
      "execution_count": null,
      "outputs": [
        {
          "output_type": "stream",
          "name": "stdout",
          "text": [
            "aquatic mammals: 2500\n",
            "fish: 2500\n",
            "flowers: 2500\n",
            "food containers: 2500\n",
            "fruit and vegetables: 2500\n",
            "household electrical devices: 2500\n",
            "household furniture: 2500\n",
            "insects: 2500\n",
            "large carnivores: 2500\n",
            "large man-made outdoor things: 2500\n",
            "large natural outdoor scenes: 2500\n",
            "large omnivores and herbivores: 2500\n",
            "medium-sized mammals: 2500\n",
            "non-insect invertebrates: 2500\n",
            "people: 2500\n",
            "reptiles: 2500\n",
            "small mammals: 2500\n",
            "trees: 2500\n",
            "vehicles 1: 2500\n",
            "vehicles 2: 2500\n"
          ]
        }
      ]
    },
    {
      "cell_type": "markdown",
      "source": [
        "# VISUALIZAR"
      ],
      "metadata": {
        "id": "EgbPBsBXZ1Q5"
      }
    },
    {
      "cell_type": "code",
      "source": [
        "train_labels.shape"
      ],
      "metadata": {
        "colab": {
          "base_uri": "https://localhost:8080/"
        },
        "id": "iGNSW6-0VtE3",
        "outputId": "bda5fd07-17a6-4851-c9fb-eab4680db65c"
      },
      "execution_count": null,
      "outputs": [
        {
          "output_type": "execute_result",
          "data": {
            "text/plain": [
              "(50000, 1)"
            ]
          },
          "metadata": {},
          "execution_count": 30
        }
      ]
    },
    {
      "cell_type": "markdown",
      "source": [
        "Echamos un vistazo a los **datos de entrenamiento**:"
      ],
      "metadata": {
        "id": "k8wNhvQTZ4ff"
      }
    },
    {
      "cell_type": "code",
      "source": [
        "len(train_labels)"
      ],
      "metadata": {
        "colab": {
          "base_uri": "https://localhost:8080/"
        },
        "id": "WC7prAfabcUN",
        "outputId": "afa55912-5dd4-4bd2-b420-f946ec96d52d"
      },
      "execution_count": null,
      "outputs": [
        {
          "output_type": "execute_result",
          "data": {
            "text/plain": [
              "60000"
            ]
          },
          "metadata": {},
          "execution_count": 33
        }
      ]
    },
    {
      "cell_type": "code",
      "source": [
        "train_labels"
      ],
      "metadata": {
        "colab": {
          "base_uri": "https://localhost:8080/"
        },
        "id": "_4jhU7XJbfHL",
        "outputId": "a426eac4-087d-4b43-c8df-670712716432"
      },
      "execution_count": null,
      "outputs": [
        {
          "output_type": "execute_result",
          "data": {
            "text/plain": [
              "array([[0., 0., 0., ..., 0., 0., 0.],\n",
              "       [1., 0., 0., ..., 0., 0., 0.],\n",
              "       [0., 0., 0., ..., 0., 0., 0.],\n",
              "       ...,\n",
              "       [0., 0., 0., ..., 0., 0., 0.],\n",
              "       [0., 0., 0., ..., 0., 0., 0.],\n",
              "       [0., 0., 0., ..., 0., 1., 0.]], dtype=float32)"
            ]
          },
          "metadata": {},
          "execution_count": 17
        }
      ]
    },
    {
      "cell_type": "code",
      "source": [
        "print(train_images.shape)"
      ],
      "metadata": {
        "colab": {
          "base_uri": "https://localhost:8080/"
        },
        "id": "NQyB3wtUZ3zL",
        "outputId": "5902f146-fa77-41cf-ab89-306780893100"
      },
      "execution_count": null,
      "outputs": [
        {
          "output_type": "stream",
          "name": "stdout",
          "text": [
            "(60000, 28, 28, 1)\n"
          ]
        }
      ]
    },
    {
      "cell_type": "code",
      "source": [
        "# Veamos el elemento 0 (que vemos que es un 5) y pintémoslo con matplotlib\n",
        "digit = train_images[1]\n",
        "plt.imshow(digit, cmap=plt.cm.binary)\n",
        "plt.show()"
      ],
      "metadata": {
        "colab": {
          "base_uri": "https://localhost:8080/",
          "height": 430
        },
        "id": "MWBfCaR8blbO",
        "outputId": "479c5756-4ce8-4639-e3c4-a969460bdf72"
      },
      "execution_count": null,
      "outputs": [
        {
          "output_type": "display_data",
          "data": {
            "text/plain": [
              "<Figure size 640x480 with 1 Axes>"
            ],
            "image/png": "[encoded data removed]"
          },
          "metadata": {}
        }
      ]
    },
    {
      "cell_type": "code",
      "source": [
        "# Vemos la matriz de la imagen número 30.000 (28x28)\n",
        "np.set_printoptions(precision=2, suppress=True, linewidth=145)\n",
        "print(np.matrix(train_images[30000]))"
      ],
      "metadata": {
        "colab": {
          "base_uri": "https://localhost:8080/"
        },
        "id": "YTBOKaluZ-hL",
        "outputId": "c73a4bc1-d7a5-4dcb-e5ce-11dea6dcffae"
      },
      "execution_count": null,
      "outputs": [
        {
          "output_type": "stream",
          "name": "stdout",
          "text": [
            "[[0.   0.   0.   0.   0.   0.   0.   0.   0.   0.   0.   0.   0.   0.   0.   0.   0.   0.   0.   0.   0.   0.   0.   0.   0.   0.   0.   0.  ]\n",
            " [0.   0.   0.   0.   0.   0.   0.   0.   0.   0.   0.   0.   0.   0.   0.   0.   0.   0.   0.   0.   0.   0.   0.   0.   0.   0.   0.   0.  ]\n",
            " [0.   0.   0.   0.   0.   0.   0.   0.   0.   0.   0.   0.   0.   0.   0.   0.   0.   0.   0.   0.   0.   0.   0.   0.   0.   0.   0.   0.  ]\n",
            " [0.   0.   0.   0.   0.   0.   0.   0.   0.   0.   0.   0.   0.   0.   0.   0.   0.   0.   0.   0.   0.   0.   0.   0.   0.   0.   0.   0.  ]\n",
            " [0.   0.   0.   0.   0.   0.   0.   0.   0.   0.   0.   0.   0.   0.   0.   0.   0.   0.   0.   0.   0.   0.   0.   0.   0.   0.   0.   0.  ]\n",
            " [0.   0.   0.   0.   0.   0.   0.   0.   0.   0.   0.18 0.61 0.8  1.   1.   0.44 0.   0.   0.   0.   0.   0.   0.   0.   0.   0.   0.   0.  ]\n",
            " [0.   0.   0.   0.   0.   0.   0.   0.   0.21 0.82 0.96 0.99 0.99 0.99 0.94 0.98 0.2  0.   0.   0.   0.   0.   0.   0.   0.   0.   0.   0.  ]\n",
            " [0.   0.   0.   0.   0.   0.   0.   0.29 0.95 0.97 0.83 0.5  0.22 0.22 0.48 0.99 0.37 0.   0.   0.   0.   0.   0.   0.   0.   0.   0.   0.  ]\n",
            " [0.   0.   0.   0.   0.   0.   0.4  0.99 0.83 0.25 0.   0.   0.   0.   0.26 0.99 0.83 0.   0.   0.   0.   0.   0.   0.   0.   0.   0.   0.  ]\n",
            " [0.   0.   0.   0.   0.   0.   0.49 0.56 0.06 0.   0.   0.   0.   0.   0.26 0.99 0.89 0.   0.   0.   0.   0.   0.   0.   0.   0.   0.   0.  ]\n",
            " [0.   0.   0.   0.   0.   0.   0.   0.   0.   0.   0.   0.   0.   0.   0.45 0.99 0.56 0.   0.   0.   0.   0.   0.   0.   0.   0.   0.   0.  ]\n",
            " [0.   0.   0.   0.   0.   0.   0.   0.   0.   0.   0.   0.   0.   0.13 1.   0.99 0.47 0.   0.   0.   0.   0.   0.   0.   0.   0.   0.   0.  ]\n",
            " [0.   0.   0.   0.   0.   0.   0.   0.   0.   0.   0.   0.   0.03 0.51 1.   0.99 0.99 0.96 0.37 0.   0.   0.   0.   0.   0.   0.   0.   0.  ]\n",
            " [0.   0.   0.   0.   0.   0.   0.   0.   0.   0.   0.   0.   0.47 0.99 1.   0.93 0.88 0.99 0.96 0.2  0.   0.   0.   0.   0.   0.   0.   0.  ]\n",
            " [0.   0.   0.   0.   0.   0.   0.   0.   0.   0.   0.   0.16 0.95 0.85 0.26 0.13 0.01 0.47 0.99 0.69 0.   0.   0.   0.   0.   0.   0.   0.  ]\n",
            " [0.   0.   0.   0.   0.   0.   0.   0.   0.   0.   0.   0.   0.45 0.24 0.   0.   0.   0.   0.93 0.97 0.18 0.   0.   0.   0.   0.   0.   0.  ]\n",
            " [0.   0.   0.   0.   0.   0.   0.   0.   0.   0.   0.   0.   0.   0.   0.   0.   0.   0.   0.4  0.99 0.53 0.01 0.   0.   0.   0.   0.   0.  ]\n",
            " [0.   0.   0.   0.   0.   0.   0.   0.   0.   0.   0.   0.   0.   0.   0.   0.   0.   0.   0.11 0.9  0.99 0.18 0.   0.   0.   0.   0.   0.  ]\n",
            " [0.   0.   0.   0.   0.   0.   0.   0.   0.   0.   0.   0.   0.   0.   0.   0.   0.   0.   0.   0.44 0.99 0.4  0.   0.   0.   0.   0.   0.  ]\n",
            " [0.   0.   0.   0.   0.   0.   0.   0.   0.   0.   0.   0.   0.   0.   0.   0.   0.   0.   0.38 0.95 0.93 0.05 0.   0.   0.   0.   0.   0.  ]\n",
            " [0.   0.   0.   0.   0.   0.   0.   0.   0.   0.01 0.07 0.06 0.   0.   0.   0.   0.   0.02 0.72 0.98 0.61 0.   0.   0.   0.   0.   0.   0.  ]\n",
            " [0.   0.   0.   0.   0.   0.   0.   0.   0.   0.34 0.99 0.93 0.1  0.   0.   0.   0.14 0.66 0.99 0.65 0.   0.   0.   0.   0.   0.   0.   0.  ]\n",
            " [0.   0.   0.   0.   0.   0.   0.   0.   0.   0.21 0.93 0.99 0.31 0.   0.38 0.78 0.97 0.99 0.66 0.09 0.   0.   0.   0.   0.   0.   0.   0.  ]\n",
            " [0.   0.   0.   0.   0.   0.   0.   0.   0.   0.   0.35 0.99 0.98 0.85 0.94 0.97 0.87 0.4  0.07 0.   0.   0.   0.   0.   0.   0.   0.   0.  ]\n",
            " [0.   0.   0.   0.   0.   0.   0.   0.   0.   0.   0.   0.33 0.94 0.99 0.67 0.22 0.   0.   0.   0.   0.   0.   0.   0.   0.   0.   0.   0.  ]\n",
            " [0.   0.   0.   0.   0.   0.   0.   0.   0.   0.   0.   0.   0.   0.   0.   0.   0.   0.   0.   0.   0.   0.   0.   0.   0.   0.   0.   0.  ]\n",
            " [0.   0.   0.   0.   0.   0.   0.   0.   0.   0.   0.   0.   0.   0.   0.   0.   0.   0.   0.   0.   0.   0.   0.   0.   0.   0.   0.   0.  ]\n",
            " [0.   0.   0.   0.   0.   0.   0.   0.   0.   0.   0.   0.   0.   0.   0.   0.   0.   0.   0.   0.   0.   0.   0.   0.   0.   0.   0.   0.  ]]\n"
          ]
        }
      ]
    },
    {
      "cell_type": "code",
      "source": [
        "# La imagen anterior corresponde con el número 3. Hasta se puede intuir....\n",
        "train_labels[30000]"
      ],
      "metadata": {
        "colab": {
          "base_uri": "https://localhost:8080/"
        },
        "id": "3VL9K4cAaCNb",
        "outputId": "4cc2d6b0-c386-45cf-9a34-31543844640f"
      },
      "execution_count": null,
      "outputs": [
        {
          "output_type": "execute_result",
          "data": {
            "text/plain": [
              "array([0., 0., 0., 1., 0., 0., 0., 0., 0., 0.], dtype=float32)"
            ]
          },
          "metadata": {},
          "execution_count": 21
        }
      ]
    },
    {
      "cell_type": "code",
      "source": [
        "# Veamos el elemento 30000 y pintémoslo con matplotlib\n",
        "digit = train_images[30000]\n",
        "plt.imshow(digit, cmap=plt.cm.binary)\n",
        "plt.show()"
      ],
      "metadata": {
        "colab": {
          "base_uri": "https://localhost:8080/",
          "height": 430
        },
        "id": "fDymEdmeaEbF",
        "outputId": "9f2882d3-9617-4226-bfd2-833b025091e6"
      },
      "execution_count": null,
      "outputs": [
        {
          "output_type": "display_data",
          "data": {
            "text/plain": [
              "<Figure size 640x480 with 1 Axes>"
            ],
            "image/png": "[encoded data removed]"
          },
          "metadata": {}
        }
      ]
    },
    {
      "cell_type": "markdown",
      "source": [
        "Los **datos de prueba**:"
      ],
      "metadata": {
        "id": "qEfHWBUqbtjs"
      }
    },
    {
      "cell_type": "code",
      "source": [
        "test_images.shape"
      ],
      "metadata": {
        "colab": {
          "base_uri": "https://localhost:8080/"
        },
        "id": "tXjDoku2buQv",
        "outputId": "f946f31f-156a-442b-ddc8-3a48ec13efcf"
      },
      "execution_count": null,
      "outputs": [
        {
          "output_type": "execute_result",
          "data": {
            "text/plain": [
              "(10000, 28, 28, 1)"
            ]
          },
          "metadata": {},
          "execution_count": 23
        }
      ]
    },
    {
      "cell_type": "code",
      "source": [
        "len(test_labels)"
      ],
      "metadata": {
        "colab": {
          "base_uri": "https://localhost:8080/"
        },
        "id": "6VsXh3UNbwMj",
        "outputId": "1719c931-8d2b-4ddf-be96-3633de150b63"
      },
      "execution_count": null,
      "outputs": [
        {
          "output_type": "execute_result",
          "data": {
            "text/plain": [
              "10000"
            ]
          },
          "metadata": {},
          "execution_count": 24
        }
      ]
    },
    {
      "cell_type": "code",
      "source": [
        "# Veamos el elemento 0 de test (que vemos que es un t) y pintémoslo con matplotlib\n",
        "digit = test_images[0]\n",
        "plt.imshow(digit, cmap=plt.cm.binary)\n",
        "plt.show()"
      ],
      "metadata": {
        "colab": {
          "base_uri": "https://localhost:8080/",
          "height": 430
        },
        "id": "C0Ogm6mZbz8W",
        "outputId": "76b307a5-7280-4b1d-957b-6ad2a14f5008"
      },
      "execution_count": null,
      "outputs": [
        {
          "output_type": "display_data",
          "data": {
            "text/plain": [
              "<Figure size 640x480 with 1 Axes>"
            ],
            "image/png": "[encoded data removed]"
          },
          "metadata": {}
        }
      ]
    },
    {
      "cell_type": "code",
      "source": [
        "train_labels"
      ],
      "metadata": {
        "colab": {
          "base_uri": "https://localhost:8080/"
        },
        "id": "ufNBIhBjb0jY",
        "outputId": "4a2b346c-cb6b-478e-fa83-ed72ffc350bd"
      },
      "execution_count": null,
      "outputs": [
        {
          "output_type": "execute_result",
          "data": {
            "text/plain": [
              "array([[0., 0., 0., ..., 0., 0., 0.],\n",
              "       [1., 0., 0., ..., 0., 0., 0.],\n",
              "       [0., 0., 0., ..., 0., 0., 0.],\n",
              "       ...,\n",
              "       [0., 0., 0., ..., 0., 0., 0.],\n",
              "       [0., 0., 0., ..., 0., 0., 0.],\n",
              "       [0., 0., 0., ..., 0., 1., 0.]], dtype=float32)"
            ]
          },
          "metadata": {},
          "execution_count": 26
        }
      ]
    },
    {
      "cell_type": "markdown",
      "source": [
        "# MODELO"
      ],
      "metadata": {
        "id": "W7loyJ6FSd9c"
      }
    },
    {
      "cell_type": "code",
      "source": [
        "from tensorflow.keras import Sequential\n",
        "from tensorflow.keras.layers import Conv2D\n",
        "from tensorflow.keras.layers import MaxPooling2D\n",
        "from tensorflow.keras.layers import Dense\n",
        "from tensorflow.keras.layers import Flatten\n",
        "\n",
        "\n",
        "model = Sequential()\n",
        "model.add(Conv2D(32, (5, 5), activation='relu', input_shape=(28, 28, 1)))\n",
        "model.add(MaxPooling2D((2, 2)))\n",
        "model.add(Conv2D(64, (5, 5), activation='relu'))\n",
        "model.add(MaxPooling2D((2, 2)))\n",
        "model.add(Flatten())\n",
        "model.add(Dense(10, activation='softmax'))\n",
        "model.summary()"
      ],
      "metadata": {
        "colab": {
          "base_uri": "https://localhost:8080/"
        },
        "id": "SNmUUi3JryWQ",
        "outputId": "d38cbeb6-a240-4b9c-866e-c4903e5641d4"
      },
      "execution_count": null,
      "outputs": [
        {
          "output_type": "stream",
          "name": "stdout",
          "text": [
            "Model: \"sequential_4\"\n",
            "_________________________________________________________________\n",
            " Layer (type)                Output Shape              Param #   \n",
            "=================================================================\n",
            " conv2d_7 (Conv2D)           (None, 24, 24, 32)        832       \n",
            "                                                                 \n",
            " max_pooling2d_7 (MaxPoolin  (None, 12, 12, 32)        0         \n",
            " g2D)                                                            \n",
            "                                                                 \n",
            " conv2d_8 (Conv2D)           (None, 8, 8, 64)          51264     \n",
            "                                                                 \n",
            " max_pooling2d_8 (MaxPoolin  (None, 4, 4, 64)          0         \n",
            " g2D)                                                            \n",
            "                                                                 \n",
            " flatten_2 (Flatten)         (None, 1024)              0         \n",
            "                                                                 \n",
            " dense_2 (Dense)             (None, 10)                10250     \n",
            "                                                                 \n",
            "=================================================================\n",
            "Total params: 62346 (243.54 KB)\n",
            "Trainable params: 62346 (243.54 KB)\n",
            "Non-trainable params: 0 (0.00 Byte)\n",
            "_________________________________________________________________\n"
          ]
        }
      ]
    },
    {
      "cell_type": "code",
      "source": [
        "model.compile(loss='categorical_crossentropy',\n",
        "              optimizer='sgd',\n",
        "              metrics=['accuracy'])\n",
        "\n",
        "model.fit(train_images, train_labels,\n",
        "          batch_size=100,\n",
        "          epochs=5,\n",
        "          verbose=1)\n",
        "\n",
        "test_loss, test_acc = model.evaluate(test_images, test_labels)\n",
        "\n",
        "print('Test accuracy:', test_acc)"
      ],
      "metadata": {
        "colab": {
          "base_uri": "https://localhost:8080/",
          "height": 460
        },
        "id": "gth_YZAIrxv9",
        "outputId": "ad7c748c-3698-4c3f-f06b-092fedf36ccc"
      },
      "execution_count": null,
      "outputs": [
        {
          "output_type": "stream",
          "name": "stdout",
          "text": [
            "Epoch 1/5\n",
            "600/600 [==============================] - 65s 107ms/step - loss: 0.8874 - accuracy: 0.7701\n",
            "Epoch 2/5\n",
            "474/600 [======================>.......] - ETA: 15s - loss: 0.2543 - accuracy: 0.9263"
          ]
        },
        {
          "output_type": "error",
          "ename": "KeyboardInterrupt",
          "evalue": "ignored",
          "traceback": [
            "\u001b[0;31m---------------------------------------------------------------------------\u001b[0m",
            "\u001b[0;31mKeyboardInterrupt\u001b[0m                         Traceback (most recent call last)",
            "\u001b[0;32m<ipython-input-13-7944c7233e2c>\u001b[0m in \u001b[0;36m<cell line: 5>\u001b[0;34m()\u001b[0m\n\u001b[1;32m      3\u001b[0m               metrics=['accuracy'])\n\u001b[1;32m      4\u001b[0m \u001b[0;34m\u001b[0m\u001b[0m\n\u001b[0;32m----> 5\u001b[0;31m model.fit(train_images, train_labels,\n\u001b[0m\u001b[1;32m      6\u001b[0m           \u001b[0mbatch_size\u001b[0m\u001b[0;34m=\u001b[0m\u001b[0;36m100\u001b[0m\u001b[0;34m,\u001b[0m\u001b[0;34m\u001b[0m\u001b[0;34m\u001b[0m\u001b[0m\n\u001b[1;32m      7\u001b[0m           \u001b[0mepochs\u001b[0m\u001b[0;34m=\u001b[0m\u001b[0;36m5\u001b[0m\u001b[0;34m,\u001b[0m\u001b[0;34m\u001b[0m\u001b[0;34m\u001b[0m\u001b[0m\n",
            "\u001b[0;32m/usr/local/lib/python3.10/dist-packages/keras/src/utils/traceback_utils.py\u001b[0m in \u001b[0;36merror_handler\u001b[0;34m(*args, **kwargs)\u001b[0m\n\u001b[1;32m     63\u001b[0m         \u001b[0mfiltered_tb\u001b[0m \u001b[0;34m=\u001b[0m \u001b[0;32mNone\u001b[0m\u001b[0;34m\u001b[0m\u001b[0;34m\u001b[0m\u001b[0m\n\u001b[1;32m     64\u001b[0m         \u001b[0;32mtry\u001b[0m\u001b[0;34m:\u001b[0m\u001b[0;34m\u001b[0m\u001b[0;34m\u001b[0m\u001b[0m\n\u001b[0;32m---> 65\u001b[0;31m             \u001b[0;32mreturn\u001b[0m \u001b[0mfn\u001b[0m\u001b[0;34m(\u001b[0m\u001b[0;34m*\u001b[0m\u001b[0margs\u001b[0m\u001b[0;34m,\u001b[0m \u001b[0;34m**\u001b[0m\u001b[0mkwargs\u001b[0m\u001b[0;34m)\u001b[0m\u001b[0;34m\u001b[0m\u001b[0;34m\u001b[0m\u001b[0m\n\u001b[0m\u001b[1;32m     66\u001b[0m         \u001b[0;32mexcept\u001b[0m \u001b[0mException\u001b[0m \u001b[0;32mas\u001b[0m \u001b[0me\u001b[0m\u001b[0;34m:\u001b[0m\u001b[0;34m\u001b[0m\u001b[0;34m\u001b[0m\u001b[0m\n\u001b[1;32m     67\u001b[0m             \u001b[0mfiltered_tb\u001b[0m \u001b[0;34m=\u001b[0m \u001b[0m_process_traceback_frames\u001b[0m\u001b[0;34m(\u001b[0m\u001b[0me\u001b[0m\u001b[0;34m.\u001b[0m\u001b[0m__traceback__\u001b[0m\u001b[0;34m)\u001b[0m\u001b[0;34m\u001b[0m\u001b[0;34m\u001b[0m\u001b[0m\n",
            "\u001b[0;32m/usr/local/lib/python3.10/dist-packages/keras/src/engine/training.py\u001b[0m in \u001b[0;36mfit\u001b[0;34m(self, x, y, batch_size, epochs, verbose, callbacks, validation_split, validation_data, shuffle, class_weight, sample_weight, initial_epoch, steps_per_epoch, validation_steps, validation_batch_size, validation_freq, max_queue_size, workers, use_multiprocessing)\u001b[0m\n\u001b[1;32m   1781\u001b[0m                         ):\n\u001b[1;32m   1782\u001b[0m                             \u001b[0mcallbacks\u001b[0m\u001b[0;34m.\u001b[0m\u001b[0mon_train_batch_begin\u001b[0m\u001b[0;34m(\u001b[0m\u001b[0mstep\u001b[0m\u001b[0;34m)\u001b[0m\u001b[0;34m\u001b[0m\u001b[0;34m\u001b[0m\u001b[0m\n\u001b[0;32m-> 1783\u001b[0;31m                             \u001b[0mtmp_logs\u001b[0m \u001b[0;34m=\u001b[0m \u001b[0mself\u001b[0m\u001b[0;34m.\u001b[0m\u001b[0mtrain_function\u001b[0m\u001b[0;34m(\u001b[0m\u001b[0miterator\u001b[0m\u001b[0;34m)\u001b[0m\u001b[0;34m\u001b[0m\u001b[0;34m\u001b[0m\u001b[0m\n\u001b[0m\u001b[1;32m   1784\u001b[0m                             \u001b[0;32mif\u001b[0m \u001b[0mdata_handler\u001b[0m\u001b[0;34m.\u001b[0m\u001b[0mshould_sync\u001b[0m\u001b[0;34m:\u001b[0m\u001b[0;34m\u001b[0m\u001b[0;34m\u001b[0m\u001b[0m\n\u001b[1;32m   1785\u001b[0m                                 \u001b[0mcontext\u001b[0m\u001b[0;34m.\u001b[0m\u001b[0masync_wait\u001b[0m\u001b[0;34m(\u001b[0m\u001b[0;34m)\u001b[0m\u001b[0;34m\u001b[0m\u001b[0;34m\u001b[0m\u001b[0m\n",
            "\u001b[0;32m/usr/local/lib/python3.10/dist-packages/tensorflow/python/util/traceback_utils.py\u001b[0m in \u001b[0;36merror_handler\u001b[0;34m(*args, **kwargs)\u001b[0m\n\u001b[1;32m    148\u001b[0m     \u001b[0mfiltered_tb\u001b[0m \u001b[0;34m=\u001b[0m \u001b[0;32mNone\u001b[0m\u001b[0;34m\u001b[0m\u001b[0;34m\u001b[0m\u001b[0m\n\u001b[1;32m    149\u001b[0m     \u001b[0;32mtry\u001b[0m\u001b[0;34m:\u001b[0m\u001b[0;34m\u001b[0m\u001b[0;34m\u001b[0m\u001b[0m\n\u001b[0;32m--> 150\u001b[0;31m       \u001b[0;32mreturn\u001b[0m \u001b[0mfn\u001b[0m\u001b[0;34m(\u001b[0m\u001b[0;34m*\u001b[0m\u001b[0margs\u001b[0m\u001b[0;34m,\u001b[0m \u001b[0;34m**\u001b[0m\u001b[0mkwargs\u001b[0m\u001b[0;34m)\u001b[0m\u001b[0;34m\u001b[0m\u001b[0;34m\u001b[0m\u001b[0m\n\u001b[0m\u001b[1;32m    151\u001b[0m     \u001b[0;32mexcept\u001b[0m \u001b[0mException\u001b[0m \u001b[0;32mas\u001b[0m \u001b[0me\u001b[0m\u001b[0;34m:\u001b[0m\u001b[0;34m\u001b[0m\u001b[0;34m\u001b[0m\u001b[0m\n\u001b[1;32m    152\u001b[0m       \u001b[0mfiltered_tb\u001b[0m \u001b[0;34m=\u001b[0m \u001b[0m_process_traceback_frames\u001b[0m\u001b[0;34m(\u001b[0m\u001b[0me\u001b[0m\u001b[0;34m.\u001b[0m\u001b[0m__traceback__\u001b[0m\u001b[0;34m)\u001b[0m\u001b[0;34m\u001b[0m\u001b[0;34m\u001b[0m\u001b[0m\n",
            "\u001b[0;32m/usr/local/lib/python3.10/dist-packages/tensorflow/python/eager/polymorphic_function/polymorphic_function.py\u001b[0m in \u001b[0;36m__call__\u001b[0;34m(self, *args, **kwds)\u001b[0m\n\u001b[1;32m    829\u001b[0m \u001b[0;34m\u001b[0m\u001b[0m\n\u001b[1;32m    830\u001b[0m       \u001b[0;32mwith\u001b[0m \u001b[0mOptionalXlaContext\u001b[0m\u001b[0;34m(\u001b[0m\u001b[0mself\u001b[0m\u001b[0;34m.\u001b[0m\u001b[0m_jit_compile\u001b[0m\u001b[0;34m)\u001b[0m\u001b[0;34m:\u001b[0m\u001b[0;34m\u001b[0m\u001b[0;34m\u001b[0m\u001b[0m\n\u001b[0;32m--> 831\u001b[0;31m         \u001b[0mresult\u001b[0m \u001b[0;34m=\u001b[0m \u001b[0mself\u001b[0m\u001b[0;34m.\u001b[0m\u001b[0m_call\u001b[0m\u001b[0;34m(\u001b[0m\u001b[0;34m*\u001b[0m\u001b[0margs\u001b[0m\u001b[0;34m,\u001b[0m \u001b[0;34m**\u001b[0m\u001b[0mkwds\u001b[0m\u001b[0;34m)\u001b[0m\u001b[0;34m\u001b[0m\u001b[0;34m\u001b[0m\u001b[0m\n\u001b[0m\u001b[1;32m    832\u001b[0m \u001b[0;34m\u001b[0m\u001b[0m\n\u001b[1;32m    833\u001b[0m       \u001b[0mnew_tracing_count\u001b[0m \u001b[0;34m=\u001b[0m \u001b[0mself\u001b[0m\u001b[0;34m.\u001b[0m\u001b[0mexperimental_get_tracing_count\u001b[0m\u001b[0;34m(\u001b[0m\u001b[0;34m)\u001b[0m\u001b[0;34m\u001b[0m\u001b[0;34m\u001b[0m\u001b[0m\n",
            "\u001b[0;32m/usr/local/lib/python3.10/dist-packages/tensorflow/python/eager/polymorphic_function/polymorphic_function.py\u001b[0m in \u001b[0;36m_call\u001b[0;34m(self, *args, **kwds)\u001b[0m\n\u001b[1;32m    865\u001b[0m       \u001b[0;31m# In this case we have created variables on the first call, so we run the\u001b[0m\u001b[0;34m\u001b[0m\u001b[0;34m\u001b[0m\u001b[0m\n\u001b[1;32m    866\u001b[0m       \u001b[0;31m# defunned version which is guaranteed to never create variables.\u001b[0m\u001b[0;34m\u001b[0m\u001b[0;34m\u001b[0m\u001b[0m\n\u001b[0;32m--> 867\u001b[0;31m       return tracing_compilation.call_function(\n\u001b[0m\u001b[1;32m    868\u001b[0m           \u001b[0margs\u001b[0m\u001b[0;34m,\u001b[0m \u001b[0mkwds\u001b[0m\u001b[0;34m,\u001b[0m \u001b[0mself\u001b[0m\u001b[0;34m.\u001b[0m\u001b[0m_no_variable_creation_config\u001b[0m\u001b[0;34m\u001b[0m\u001b[0;34m\u001b[0m\u001b[0m\n\u001b[1;32m    869\u001b[0m       )\n",
            "\u001b[0;32m/usr/local/lib/python3.10/dist-packages/tensorflow/python/eager/polymorphic_function/tracing_compilation.py\u001b[0m in \u001b[0;36mcall_function\u001b[0;34m(args, kwargs, tracing_options)\u001b[0m\n\u001b[1;32m    137\u001b[0m   \u001b[0mbound_args\u001b[0m \u001b[0;34m=\u001b[0m \u001b[0mfunction\u001b[0m\u001b[0;34m.\u001b[0m\u001b[0mfunction_type\u001b[0m\u001b[0;34m.\u001b[0m\u001b[0mbind\u001b[0m\u001b[0;34m(\u001b[0m\u001b[0;34m*\u001b[0m\u001b[0margs\u001b[0m\u001b[0;34m,\u001b[0m \u001b[0;34m**\u001b[0m\u001b[0mkwargs\u001b[0m\u001b[0;34m)\u001b[0m\u001b[0;34m\u001b[0m\u001b[0;34m\u001b[0m\u001b[0m\n\u001b[1;32m    138\u001b[0m   \u001b[0mflat_inputs\u001b[0m \u001b[0;34m=\u001b[0m \u001b[0mfunction\u001b[0m\u001b[0;34m.\u001b[0m\u001b[0mfunction_type\u001b[0m\u001b[0;34m.\u001b[0m\u001b[0munpack_inputs\u001b[0m\u001b[0;34m(\u001b[0m\u001b[0mbound_args\u001b[0m\u001b[0;34m)\u001b[0m\u001b[0;34m\u001b[0m\u001b[0;34m\u001b[0m\u001b[0m\n\u001b[0;32m--> 139\u001b[0;31m   return function._call_flat(  # pylint: disable=protected-access\n\u001b[0m\u001b[1;32m    140\u001b[0m       \u001b[0mflat_inputs\u001b[0m\u001b[0;34m,\u001b[0m \u001b[0mcaptured_inputs\u001b[0m\u001b[0;34m=\u001b[0m\u001b[0mfunction\u001b[0m\u001b[0;34m.\u001b[0m\u001b[0mcaptured_inputs\u001b[0m\u001b[0;34m\u001b[0m\u001b[0;34m\u001b[0m\u001b[0m\n\u001b[1;32m    141\u001b[0m   )\n",
            "\u001b[0;32m/usr/local/lib/python3.10/dist-packages/tensorflow/python/eager/polymorphic_function/concrete_function.py\u001b[0m in \u001b[0;36m_call_flat\u001b[0;34m(self, tensor_inputs, captured_inputs)\u001b[0m\n\u001b[1;32m   1262\u001b[0m         and executing_eagerly):\n\u001b[1;32m   1263\u001b[0m       \u001b[0;31m# No tape is watching; skip to running the function.\u001b[0m\u001b[0;34m\u001b[0m\u001b[0;34m\u001b[0m\u001b[0m\n\u001b[0;32m-> 1264\u001b[0;31m       \u001b[0;32mreturn\u001b[0m \u001b[0mself\u001b[0m\u001b[0;34m.\u001b[0m\u001b[0m_inference_function\u001b[0m\u001b[0;34m.\u001b[0m\u001b[0mflat_call\u001b[0m\u001b[0;34m(\u001b[0m\u001b[0margs\u001b[0m\u001b[0;34m)\u001b[0m\u001b[0;34m\u001b[0m\u001b[0;34m\u001b[0m\u001b[0m\n\u001b[0m\u001b[1;32m   1265\u001b[0m     forward_backward = self._select_forward_and_backward_functions(\n\u001b[1;32m   1266\u001b[0m         \u001b[0margs\u001b[0m\u001b[0;34m,\u001b[0m\u001b[0;34m\u001b[0m\u001b[0;34m\u001b[0m\u001b[0m\n",
            "\u001b[0;32m/usr/local/lib/python3.10/dist-packages/tensorflow/python/eager/polymorphic_function/atomic_function.py\u001b[0m in \u001b[0;36mflat_call\u001b[0;34m(self, args)\u001b[0m\n\u001b[1;32m    215\u001b[0m   \u001b[0;32mdef\u001b[0m \u001b[0mflat_call\u001b[0m\u001b[0;34m(\u001b[0m\u001b[0mself\u001b[0m\u001b[0;34m,\u001b[0m \u001b[0margs\u001b[0m\u001b[0;34m:\u001b[0m \u001b[0mSequence\u001b[0m\u001b[0;34m[\u001b[0m\u001b[0mcore\u001b[0m\u001b[0;34m.\u001b[0m\u001b[0mTensor\u001b[0m\u001b[0;34m]\u001b[0m\u001b[0;34m)\u001b[0m \u001b[0;34m->\u001b[0m \u001b[0mAny\u001b[0m\u001b[0;34m:\u001b[0m\u001b[0;34m\u001b[0m\u001b[0;34m\u001b[0m\u001b[0m\n\u001b[1;32m    216\u001b[0m     \u001b[0;34m\"\"\"Calls with tensor inputs and returns the structured output.\"\"\"\u001b[0m\u001b[0;34m\u001b[0m\u001b[0;34m\u001b[0m\u001b[0m\n\u001b[0;32m--> 217\u001b[0;31m     \u001b[0mflat_outputs\u001b[0m \u001b[0;34m=\u001b[0m \u001b[0mself\u001b[0m\u001b[0;34m(\u001b[0m\u001b[0;34m*\u001b[0m\u001b[0margs\u001b[0m\u001b[0;34m)\u001b[0m\u001b[0;34m\u001b[0m\u001b[0;34m\u001b[0m\u001b[0m\n\u001b[0m\u001b[1;32m    218\u001b[0m     \u001b[0;32mreturn\u001b[0m \u001b[0mself\u001b[0m\u001b[0;34m.\u001b[0m\u001b[0mfunction_type\u001b[0m\u001b[0;34m.\u001b[0m\u001b[0mpack_output\u001b[0m\u001b[0;34m(\u001b[0m\u001b[0mflat_outputs\u001b[0m\u001b[0;34m)\u001b[0m\u001b[0;34m\u001b[0m\u001b[0;34m\u001b[0m\u001b[0m\n\u001b[1;32m    219\u001b[0m \u001b[0;34m\u001b[0m\u001b[0m\n",
            "\u001b[0;32m/usr/local/lib/python3.10/dist-packages/tensorflow/python/eager/polymorphic_function/atomic_function.py\u001b[0m in \u001b[0;36m__call__\u001b[0;34m(self, *args)\u001b[0m\n\u001b[1;32m    250\u001b[0m         \u001b[0;32mwith\u001b[0m \u001b[0mrecord\u001b[0m\u001b[0;34m.\u001b[0m\u001b[0mstop_recording\u001b[0m\u001b[0;34m(\u001b[0m\u001b[0;34m)\u001b[0m\u001b[0;34m:\u001b[0m\u001b[0;34m\u001b[0m\u001b[0;34m\u001b[0m\u001b[0m\n\u001b[1;32m    251\u001b[0m           \u001b[0;32mif\u001b[0m \u001b[0mself\u001b[0m\u001b[0;34m.\u001b[0m\u001b[0m_bound_context\u001b[0m\u001b[0;34m.\u001b[0m\u001b[0mexecuting_eagerly\u001b[0m\u001b[0;34m(\u001b[0m\u001b[0;34m)\u001b[0m\u001b[0;34m:\u001b[0m\u001b[0;34m\u001b[0m\u001b[0;34m\u001b[0m\u001b[0m\n\u001b[0;32m--> 252\u001b[0;31m             outputs = self._bound_context.call_function(\n\u001b[0m\u001b[1;32m    253\u001b[0m                 \u001b[0mself\u001b[0m\u001b[0;34m.\u001b[0m\u001b[0mname\u001b[0m\u001b[0;34m,\u001b[0m\u001b[0;34m\u001b[0m\u001b[0;34m\u001b[0m\u001b[0m\n\u001b[1;32m    254\u001b[0m                 \u001b[0mlist\u001b[0m\u001b[0;34m(\u001b[0m\u001b[0margs\u001b[0m\u001b[0;34m)\u001b[0m\u001b[0;34m,\u001b[0m\u001b[0;34m\u001b[0m\u001b[0;34m\u001b[0m\u001b[0m\n",
            "\u001b[0;32m/usr/local/lib/python3.10/dist-packages/tensorflow/python/eager/context.py\u001b[0m in \u001b[0;36mcall_function\u001b[0;34m(self, name, tensor_inputs, num_outputs)\u001b[0m\n\u001b[1;32m   1477\u001b[0m     \u001b[0mcancellation_context\u001b[0m \u001b[0;34m=\u001b[0m \u001b[0mcancellation\u001b[0m\u001b[0;34m.\u001b[0m\u001b[0mcontext\u001b[0m\u001b[0;34m(\u001b[0m\u001b[0;34m)\u001b[0m\u001b[0;34m\u001b[0m\u001b[0;34m\u001b[0m\u001b[0m\n\u001b[1;32m   1478\u001b[0m     \u001b[0;32mif\u001b[0m \u001b[0mcancellation_context\u001b[0m \u001b[0;32mis\u001b[0m \u001b[0;32mNone\u001b[0m\u001b[0;34m:\u001b[0m\u001b[0;34m\u001b[0m\u001b[0;34m\u001b[0m\u001b[0m\n\u001b[0;32m-> 1479\u001b[0;31m       outputs = execute.execute(\n\u001b[0m\u001b[1;32m   1480\u001b[0m           \u001b[0mname\u001b[0m\u001b[0;34m.\u001b[0m\u001b[0mdecode\u001b[0m\u001b[0;34m(\u001b[0m\u001b[0;34m\"utf-8\"\u001b[0m\u001b[0;34m)\u001b[0m\u001b[0;34m,\u001b[0m\u001b[0;34m\u001b[0m\u001b[0;34m\u001b[0m\u001b[0m\n\u001b[1;32m   1481\u001b[0m           \u001b[0mnum_outputs\u001b[0m\u001b[0;34m=\u001b[0m\u001b[0mnum_outputs\u001b[0m\u001b[0;34m,\u001b[0m\u001b[0;34m\u001b[0m\u001b[0;34m\u001b[0m\u001b[0m\n",
            "\u001b[0;32m/usr/local/lib/python3.10/dist-packages/tensorflow/python/eager/execute.py\u001b[0m in \u001b[0;36mquick_execute\u001b[0;34m(op_name, num_outputs, inputs, attrs, ctx, name)\u001b[0m\n\u001b[1;32m     58\u001b[0m         \u001b[0;32mfor\u001b[0m \u001b[0mt\u001b[0m \u001b[0;32min\u001b[0m \u001b[0minputs\u001b[0m\u001b[0;34m\u001b[0m\u001b[0;34m\u001b[0m\u001b[0m\n\u001b[1;32m     59\u001b[0m     ]\n\u001b[0;32m---> 60\u001b[0;31m     tensors = pywrap_tfe.TFE_Py_Execute(ctx._handle, device_name, op_name,\n\u001b[0m\u001b[1;32m     61\u001b[0m                                         inputs, attrs, num_outputs)\n\u001b[1;32m     62\u001b[0m   \u001b[0;32mexcept\u001b[0m \u001b[0mcore\u001b[0m\u001b[0;34m.\u001b[0m\u001b[0m_NotOkStatusException\u001b[0m \u001b[0;32mas\u001b[0m \u001b[0me\u001b[0m\u001b[0;34m:\u001b[0m\u001b[0;34m\u001b[0m\u001b[0;34m\u001b[0m\u001b[0m\n",
            "\u001b[0;31mKeyboardInterrupt\u001b[0m: "
          ]
        }
      ]
    },
    {
      "cell_type": "markdown",
      "source": [
        "## Multiples casos"
      ],
      "metadata": {
        "id": "HSdOWAe4s_Su"
      }
    },
    {
      "cell_type": "code",
      "source": [
        "casos = {\n",
        "    1: {'Neuronas_capa_1': 10, 'Función de activación': 'relu', 'Optimizador': 'sgd'},\n",
        "    2: {'Neuronas_capa_1': 10, 'Función de activación': 'relu', 'Optimizador': 'rmsprop'},\n",
        "    3: {'Neuronas_capa_1': 10, 'Función de activación': 'sigmoid', 'Optimizador': 'sgd'},\n",
        "    4: {'Neuronas_capa_1': 10, 'Función de activación': 'sigmoid', 'Optimizador': 'rmsprop'},\n",
        "    5: {'Neuronas_capa_1': 512, 'Función de activación': 'relu', 'Optimizador': 'sgd'},\n",
        "    6: {'Neuronas_capa_1': 512, 'Función de activación': 'relu', 'Optimizador': 'rmsprop'},\n",
        "    7: {'Neuronas_capa_1': 512, 'Función de activación': 'sigmoid', 'Optimizador': 'sgd'},\n",
        "    8: {'Neuronas_capa_1': 512, 'Función de activación': 'sigmoid', 'Optimizador': 'rmsprop'}\n",
        "}\n",
        "\n",
        "train_images = train_images.reshape((60000, 28 * 28))\n",
        "train_images = train_images.astype('float32') / 255\n",
        "test_images = test_images.reshape((10000, 28 * 28))\n",
        "test_images = test_images.astype('float32') / 255\n",
        "\n",
        "train_labels = to_categorical(train_labels)\n",
        "test_labels = to_categorical(test_labels)\n",
        "\n",
        "modelos = []\n",
        "\n",
        "for i in range(1,9):\n",
        "    network = models.Sequential()\n",
        "\n",
        "    print(\"\\n\\n=======================================================================\")\n",
        "    print(\"CASO \", i)\n",
        "    print(\"=======================================================================\")\n",
        "\n",
        "    # DATOS DEL CASO\n",
        "    n_neuronas = casos[i]['Neuronas_capa_1']\n",
        "    f_activacion = casos[i]['Función de activación']\n",
        "    optimizador = casos[i]['Optimizador']\n",
        "\n",
        "    print(\"\\nCaracterísticas del caso:\")\n",
        "    print(f\" - Número de neuronas en la capa 1: {n_neuronas}\")\n",
        "    print(f\" - Función de activación: {f_activacion}\")\n",
        "    print(f\" - Optimizador: {optimizador}\")\n",
        "\n",
        "    # MODELO:\n",
        "    network.add(layers.Dense(n_neuronas, activation=f_activacion, input_shape=(28*28,)))\n",
        "    network.add(layers.Dense(10, activation='softmax'))\n",
        "\n",
        "    print(\"\\nSUMMARY\")\n",
        "    network.summary()\n",
        "\n",
        "    network.compile(optimizer=optimizador, loss='categorical_crossentropy', metrics=['accuracy'])\n",
        "\n",
        "    print(\"\\nENTRENAMIENTO:\")\n",
        "    network.fit(train_images, train_labels, epochs=5, batch_size=128)\n",
        "\n",
        "    modelos.append(network)\n",
        "\n",
        "    print(\"\\nVALIDACIÓN:\")\n",
        "    test_loss, test_acc = network.evaluate(test_images, test_labels)\n",
        "\n",
        "    print('\\ntest_loss:', test_loss)\n",
        "    print('test_acc:', test_acc)"
      ],
      "metadata": {
        "colab": {
          "base_uri": "https://localhost:8080/",
          "height": 252
        },
        "id": "JhAhibs6N8VD",
        "outputId": "32a7e45e-b0e5-4eb4-a0c1-8aca79769f6b"
      },
      "execution_count": null,
      "outputs": [
        {
          "output_type": "error",
          "ename": "NameError",
          "evalue": "ignored",
          "traceback": [
            "\u001b[0;31m---------------------------------------------------------------------------\u001b[0m",
            "\u001b[0;31mNameError\u001b[0m                                 Traceback (most recent call last)",
            "\u001b[0;32m<ipython-input-7-b2f00d053acf>\u001b[0m in \u001b[0;36m<cell line: 17>\u001b[0;34m()\u001b[0m\n\u001b[1;32m     15\u001b[0m \u001b[0mtest_images\u001b[0m \u001b[0;34m=\u001b[0m \u001b[0mtest_images\u001b[0m\u001b[0;34m.\u001b[0m\u001b[0mastype\u001b[0m\u001b[0;34m(\u001b[0m\u001b[0;34m'float32'\u001b[0m\u001b[0;34m)\u001b[0m \u001b[0;34m/\u001b[0m \u001b[0;36m255\u001b[0m\u001b[0;34m\u001b[0m\u001b[0;34m\u001b[0m\u001b[0m\n\u001b[1;32m     16\u001b[0m \u001b[0;34m\u001b[0m\u001b[0m\n\u001b[0;32m---> 17\u001b[0;31m \u001b[0mtrain_labels\u001b[0m \u001b[0;34m=\u001b[0m \u001b[0mto_categorical\u001b[0m\u001b[0;34m(\u001b[0m\u001b[0mtrain_labels\u001b[0m\u001b[0;34m)\u001b[0m\u001b[0;34m\u001b[0m\u001b[0;34m\u001b[0m\u001b[0m\n\u001b[0m\u001b[1;32m     18\u001b[0m \u001b[0mtest_labels\u001b[0m \u001b[0;34m=\u001b[0m \u001b[0mto_categorical\u001b[0m\u001b[0;34m(\u001b[0m\u001b[0mtest_labels\u001b[0m\u001b[0;34m)\u001b[0m\u001b[0;34m\u001b[0m\u001b[0;34m\u001b[0m\u001b[0m\n\u001b[1;32m     19\u001b[0m \u001b[0;34m\u001b[0m\u001b[0m\n",
            "\u001b[0;31mNameError\u001b[0m: name 'to_categorical' is not defined"
          ]
        }
      ]
    },
    {
      "cell_type": "markdown",
      "source": [
        "## Graficas rendimiento"
      ],
      "metadata": {
        "id": "-YCwPDYWkNJn"
      }
    },
    {
      "cell_type": "code",
      "source": [
        "def evaluar_rendimiento(train_loss, train_acc, val_loss, val_acc):\n",
        "    # Configuración de la figura para las gráficas\n",
        "    fig, axs = plt.subplots(1, 2, figsize=(10, 4))\n",
        "\n",
        "    # Gráfica de pérdida\n",
        "    axs[0].plot(range(1, len(train_loss) + 1), train_loss, label='Pérdida de entrenamiento')\n",
        "    axs[0].plot(range(1, len(val_loss) + 1), val_loss, label='Pérdida de validación')\n",
        "    axs[0].set_xlabel('Época')\n",
        "    axs[0].set_ylabel('Pérdida')\n",
        "    axs[0].legend()\n",
        "    axs[0].set_title('Gráfica de Pérdida')\n",
        "\n",
        "    # Gráfica de precisión\n",
        "    axs[1].plot(range(1, len(train_acc) + 1), train_acc, label='Precisión de entrenamiento')\n",
        "    axs[1].plot(range(1, len(val_acc) + 1), val_acc, label='Precisión de validación')\n",
        "    axs[1].set_xlabel('Época')\n",
        "    axs[1].set_ylabel('Precisión')\n",
        "    axs[1].legend()\n",
        "    axs[1].set_title('Gráfica de Precisión')\n",
        "\n",
        "    plt.show()"
      ],
      "metadata": {
        "id": "mIPnMqXNsd5Y"
      },
      "execution_count": null,
      "outputs": []
    },
    {
      "cell_type": "code",
      "source": [
        "(train_images, train_labels), (test_images, test_labels) = fashion_mnist.load_data()\n",
        "\n",
        "train_images = train_images.reshape((60000, 28 * 28))\n",
        "train_images = train_images.astype('float32') / 255\n",
        "test_images = test_images.reshape((10000, 28 * 28))\n",
        "test_images = test_images.astype('float32') / 255\n",
        "\n",
        "print('Comprobamos la forma de las imagenes:')\n",
        "print(train_images.shape)\n",
        "\n",
        "train_labels = to_categorical(train_labels)\n",
        "test_labels = to_categorical(test_labels)\n",
        "print('Comprobamos la forma de las etiquetas:')\n",
        "print(train_labels.shape)"
      ],
      "metadata": {
        "colab": {
          "base_uri": "https://localhost:8080/"
        },
        "id": "7S1pOUSnwZ1s",
        "outputId": "66d9421d-2a13-4d01-8357-a1ddddb89876"
      },
      "execution_count": null,
      "outputs": [
        {
          "output_type": "stream",
          "name": "stdout",
          "text": [
            "Comprobamos la forma de las imagenes:\n",
            "(60000, 784)\n",
            "Comprobamos la forma de las etiquetas:\n",
            "(60000, 10)\n"
          ]
        }
      ]
    },
    {
      "cell_type": "code",
      "source": [
        "train_labels"
      ],
      "metadata": {
        "colab": {
          "base_uri": "https://localhost:8080/"
        },
        "id": "SQC2tT-uwg44",
        "outputId": "02664544-4379-45f9-a7e6-94c064cdb2a0"
      },
      "execution_count": null,
      "outputs": [
        {
          "output_type": "execute_result",
          "data": {
            "text/plain": [
              "array([[0., 0., 0., ..., 0., 0., 1.],\n",
              "       [1., 0., 0., ..., 0., 0., 0.],\n",
              "       [1., 0., 0., ..., 0., 0., 0.],\n",
              "       ...,\n",
              "       [0., 0., 0., ..., 0., 0., 0.],\n",
              "       [1., 0., 0., ..., 0., 0., 0.],\n",
              "       [0., 0., 0., ..., 0., 0., 0.]], dtype=float32)"
            ]
          },
          "metadata": {},
          "execution_count": 65
        }
      ]
    },
    {
      "cell_type": "code",
      "source": [
        "(train_images, train_labels), (test_images, test_labels) = fashion_mnist.load_data()\n",
        "\n",
        "train_images = train_images.reshape((60000, 28 * 28))\n",
        "train_images = train_images.astype('float32') / 255\n",
        "test_images = test_images.reshape((10000, 28 * 28))\n",
        "test_images = test_images.astype('float32') / 255\n",
        "\n",
        "train_labels = to_categorical(train_labels)\n",
        "test_labels = to_categorical(test_labels)\n",
        "\n",
        "print('Comprobamos la forma de las imagenes:')\n",
        "print(train_images.shape)\n",
        "\n",
        "print('Comprobamos la forma de las etiquetas:')\n",
        "print(train_labels.shape)\n",
        "\n",
        "network = models.Sequential()\n",
        "network.add(layers.Dense(10, \"relu\", input_shape=(28*28,)))\n",
        "network.add(layers.Dense(10, activation='softmax'))\n",
        "network.compile(optimizer=\"sgd\", loss='categorical_crossentropy', metrics=['accuracy'])\n",
        "\n",
        "# Entrenamiento de la red neuronal\n",
        "history = network.fit(train_images, train_labels, epochs=5, batch_size=128, validation_data=(test_images, test_labels))\n",
        "\n",
        "# Los valores de pérdida y precisión en cada época se guardan en el atributo history\n",
        "train_loss = history.history['loss']\n",
        "train_acc = history.history['accuracy']\n",
        "val_loss = history.history['val_loss']\n",
        "val_acc = history.history['val_accuracy']\n",
        "\n",
        "evaluar_rendimiento(train_loss,train_acc,val_loss,val_acc)\n",
        "\n",
        "plt.show()"
      ],
      "metadata": {
        "colab": {
          "base_uri": "https://localhost:8080/",
          "height": 615
        },
        "id": "uFUqbRASlW5l",
        "outputId": "d1e5c4ba-713c-421f-aa1a-3893b4150977"
      },
      "execution_count": null,
      "outputs": [
        {
          "output_type": "stream",
          "name": "stdout",
          "text": [
            "Comprobamos la forma de las imagenes:\n",
            "(60000, 784)\n",
            "Comprobamos la forma de las etiquetas:\n",
            "(60000, 10)\n",
            "Epoch 1/5\n",
            "469/469 [==============================] - 2s 3ms/step - loss: 1.6777 - accuracy: 0.4616 - val_loss: 1.1155 - val_accuracy: 0.6552\n",
            "Epoch 2/5\n",
            "469/469 [==============================] - 2s 4ms/step - loss: 0.9158 - accuracy: 0.6950 - val_loss: 0.8260 - val_accuracy: 0.7092\n",
            "Epoch 3/5\n",
            "469/469 [==============================] - 1s 3ms/step - loss: 0.7586 - accuracy: 0.7377 - val_loss: 0.7374 - val_accuracy: 0.7465\n",
            "Epoch 4/5\n",
            "469/469 [==============================] - 1s 3ms/step - loss: 0.6858 - accuracy: 0.7677 - val_loss: 0.6805 - val_accuracy: 0.7698\n",
            "Epoch 5/5\n",
            "469/469 [==============================] - 1s 3ms/step - loss: 0.6372 - accuracy: 0.7853 - val_loss: 0.6418 - val_accuracy: 0.7835\n"
          ]
        },
        {
          "output_type": "display_data",
          "data": {
            "text/plain": [
              "<Figure size 1000x400 with 2 Axes>"
            ],
            "image/png": "[encoded data removed]"
          },
          "metadata": {}
        }
      ]
    },
    {
      "cell_type": "markdown",
      "source": [
        "# PREDICCIONES"
      ],
      "metadata": {
        "id": "xIXb04HYYzQw"
      }
    },
    {
      "cell_type": "code",
      "source": [
        "# Veamos el elemento 12 de test y pintémoslo con matplotlib\n",
        "from keras.datasets import fashion_mnist\n",
        "(train_images, train_labels), (test_images, test_labels) = fashion_mnist.load_data()\n",
        "import matplotlib.pyplot as plt\n",
        "digit = test_images[11]\n",
        "plt.imshow(digit, cmap=plt.cm.binary)\n",
        "plt.show()"
      ],
      "metadata": {
        "id": "CitTUgbjY4AZ",
        "colab": {
          "base_uri": "https://localhost:8080/",
          "height": 575
        },
        "outputId": "080c52bb-e3fe-46db-8706-d94a5dc09a9b"
      },
      "execution_count": null,
      "outputs": [
        {
          "output_type": "stream",
          "name": "stdout",
          "text": [
            "Downloading data from https://storage.googleapis.com/tensorflow/tf-keras-datasets/train-labels-idx1-ubyte.gz\n",
            "29515/29515 [==============================] - 0s 0us/step\n",
            "Downloading data from https://storage.googleapis.com/tensorflow/tf-keras-datasets/train-images-idx3-ubyte.gz\n",
            "26421880/26421880 [==============================] - 0s 0us/step\n",
            "Downloading data from https://storage.googleapis.com/tensorflow/tf-keras-datasets/t10k-labels-idx1-ubyte.gz\n",
            "5148/5148 [==============================] - 0s 0us/step\n",
            "Downloading data from https://storage.googleapis.com/tensorflow/tf-keras-datasets/t10k-images-idx3-ubyte.gz\n",
            "4422102/4422102 [==============================] - 0s 0us/step\n"
          ]
        },
        {
          "output_type": "display_data",
          "data": {
            "text/plain": [
              "<Figure size 640x480 with 1 Axes>"
            ],
            "image/png": "[encoded data removed]"
          },
          "metadata": {}
        }
      ]
    },
    {
      "cell_type": "code",
      "source": [
        "train_images = train_images.reshape((60000, 28 * 28))\n",
        "test_images = test_images.reshape((10000, 28 * 28))\n",
        "\n",
        "train_images = train_images.astype('float32') / 255\n",
        "test_images = test_images.astype('float32') / 255\n",
        "\n",
        "from keras import utils\n",
        "from keras.utils import to_categorical\n",
        "# from keras.utils.np_utils import to_categorical\n",
        "\n",
        "print(\"=VEMOS LAS ETIQUETAS DE TEST ORIGINALES================================\")\n",
        "print(test_labels)\n",
        "print(\"=======================================================================\")\n",
        "test_labels = to_categorical(test_labels)\n",
        "print(\"=VEMOS LAS ETIQUETAS DE TEST AL PASARLAS POR to_categorical============\")\n",
        "print(test_labels)\n",
        "print(\"=======================================================================\")\n",
        "\n",
        "# Hacemos las predicciones con las imágenes de Test\n",
        "predictions = network.predict(test_images)\n",
        "\n",
        "print(\"=VEMOS LA PREDICCIÓN DEL ELEMENTO 12 (QUE DEBERÍA SER UN 6)============\")\n",
        "print(predictions[11])\n",
        "print(\"=======================================================================\")\n",
        "print(\"=VEMOS LA PREDICCIÓN DEL ELEMENTO 12 (QUE DEBERÍA SER UN 6)============\")\n",
        "print(np.argmax(predictions[11]))\n",
        "print(\"=======================================================================\")\n",
        "print(\"=LA SUMA DE TODAS LAS PREDICCIONES PARA EL ELEMENTO 12 DEBERÍA SER 1===\")\n",
        "print(np.sum(predictions[11]))\n",
        "print(\"=======================================================================\")\n",
        "print(\"=PINTAMOS TODAS LAS PREDICCIONES=======================================\")\n",
        "print(predictions)"
      ],
      "metadata": {
        "id": "k65x7jHxY674",
        "colab": {
          "base_uri": "https://localhost:8080/"
        },
        "outputId": "10d91595-4c1d-4cf7-fead-62870e04c12a"
      },
      "execution_count": null,
      "outputs": [
        {
          "output_type": "stream",
          "name": "stdout",
          "text": [
            "=VEMOS LAS ETIQUETAS DE TEST ORIGINALES================================\n",
            "[9 2 1 ... 8 1 5]\n",
            "=======================================================================\n",
            "=VEMOS LAS ETIQUETAS DE TEST AL PASARLAS POR to_categorical============\n",
            "[[0. 0. 0. ... 0. 0. 1.]\n",
            " [0. 0. 1. ... 0. 0. 0.]\n",
            " [0. 1. 0. ... 0. 0. 0.]\n",
            " ...\n",
            " [0. 0. 0. ... 0. 1. 0.]\n",
            " [0. 1. 0. ... 0. 0. 0.]\n",
            " [0. 0. 0. ... 0. 0. 0.]]\n",
            "=======================================================================\n",
            "313/313 [==============================] - 1s 2ms/step\n",
            "=VEMOS LA PREDICCIÓN DEL ELEMENTO 12 (QUE DEBERÍA SER UN 6)============\n",
            "[0.   0.   0.   0.   0.   0.85 0.   0.02 0.   0.02]\n",
            "=======================================================================\n",
            "=VEMOS LA PREDICCIÓN DEL ELEMENTO 12 (QUE DEBERÍA SER UN 6)============\n",
            "5\n",
            "=======================================================================\n",
            "=LA SUMA DE TODAS LAS PREDICCIONES PARA EL ELEMENTO 12 DEBERÍA SER 1===\n",
            "0.8894334\n",
            "=======================================================================\n",
            "=PINTAMOS TODAS LAS PREDICCIONES=======================================\n",
            "[[0.   0.   0.   ... 0.09 0.   0.97]\n",
            " [0.02 0.   1.   ... 0.   0.   0.  ]\n",
            " [0.   1.   0.   ... 0.   0.   0.  ]\n",
            " ...\n",
            " [0.01 0.   0.   ... 0.   0.35 0.  ]\n",
            " [0.   1.   0.   ... 0.   0.   0.  ]\n",
            " [0.   0.   0.   ... 0.18 0.02 0.  ]]\n"
          ]
        }
      ]
    },
    {
      "cell_type": "code",
      "source": [
        "def plot_image(i, predictions_array, true_label, img):\n",
        "  predictions_array, true_label, img = predictions_array, true_label[i], img[i]\n",
        "  plt.grid(False)\n",
        "  plt.xticks([])\n",
        "  plt.yticks([])\n",
        "\n",
        "  plt.imshow(img, cmap=plt.cm.binary)\n",
        "\n",
        "  predicted_label = np.argmax(predictions_array)\n",
        "  if np.max(predicted_label) == true_label:\n",
        "    color = 'green'\n",
        "  else:\n",
        "    color = 'red'\n",
        "\n",
        "  plt.xlabel(\"{}[{:1.0f}] {:2.0f}% \\n({}[{:1.0f}])\".format(class_names[predicted_label],\n",
        "                                predicted_label,\n",
        "                                100*np.max(predictions_array),\n",
        "                                class_names[true_label],\n",
        "                                true_label),\n",
        "                                color=color)\n",
        "\n",
        "def plot_value_array(i, predictions_array, true_label):\n",
        "  predictions_array, true_label = predictions_array, true_label[i]\n",
        "  plt.grid(False)\n",
        "  plt.xticks(range(10))\n",
        "  plt.yticks([])\n",
        "\n",
        "  thisplot = plt.bar(range(10), predictions_array, color=\"#777777\")\n",
        "  plt.ylim([0, 1])\n",
        "  predicted_label = np.argmax(predictions_array)\n",
        "\n",
        "  if predicted_label == true_label:\n",
        "     thisplot[predicted_label].set_color('green')\n",
        "  else:\n",
        "     thisplot[predicted_label].set_color('red')"
      ],
      "metadata": {
        "id": "BD3p42YZY--3"
      },
      "execution_count": null,
      "outputs": []
    },
    {
      "cell_type": "code",
      "source": [
        "from keras.datasets import mnist\n",
        "import numpy as np\n",
        "import matplotlib.pyplot as plt\n",
        "\n",
        "class_names = ['T-shirt/top', 'Trouser', 'Pullover', 'Dress', 'Coat',\n",
        "               'Sandal', 'Shirt', 'Sneaker', 'Bag', 'Ankle boot']\n",
        "\n",
        "\n",
        "(train_images, train_labels), (test_images, test_labels) = fashion_mnist.load_data()\n",
        "train_images = train_images.reshape((60000, 28 * 28))\n",
        "test_images = test_images.reshape((10000, 28 * 28))\n",
        "\n",
        "train_images = train_images.astype('float32') / 255\n",
        "test_images = test_images.astype('float32') / 255\n",
        "\n",
        "predictions = network.predict(test_images)\n",
        "\n",
        "for i in range(20):\n",
        "  plt.figure(figsize=(6,3))\n",
        "  plt.subplot(1,2,1)\n",
        "  plot_image(i, predictions[i], test_labels, test_images.reshape(10000,28,28))\n",
        "  plt.subplot(1,2,2)\n",
        "  plot_value_array(i, predictions[i],  test_labels)\n",
        "  plt.show()\n",
        "  plt.clf()"
      ],
      "metadata": {
        "id": "MNtmtxB6ZB8U",
        "colab": {
          "base_uri": "https://localhost:8080/",
          "height": 245
        },
        "outputId": "5334f413-c12f-4799-cac7-ba9479b9b730"
      },
      "execution_count": null,
      "outputs": [
        {
          "output_type": "error",
          "ename": "NameError",
          "evalue": "ignored",
          "traceback": [
            "\u001b[0;31m---------------------------------------------------------------------------\u001b[0m",
            "\u001b[0;31mNameError\u001b[0m                                 Traceback (most recent call last)",
            "\u001b[0;32m<ipython-input-1-e102b5819b48>\u001b[0m in \u001b[0;36m<cell line: 9>\u001b[0;34m()\u001b[0m\n\u001b[1;32m      7\u001b[0m \u001b[0;34m\u001b[0m\u001b[0m\n\u001b[1;32m      8\u001b[0m \u001b[0;34m\u001b[0m\u001b[0m\n\u001b[0;32m----> 9\u001b[0;31m \u001b[0;34m(\u001b[0m\u001b[0mtrain_images\u001b[0m\u001b[0;34m,\u001b[0m \u001b[0mtrain_labels\u001b[0m\u001b[0;34m)\u001b[0m\u001b[0;34m,\u001b[0m \u001b[0;34m(\u001b[0m\u001b[0mtest_images\u001b[0m\u001b[0;34m,\u001b[0m \u001b[0mtest_labels\u001b[0m\u001b[0;34m)\u001b[0m \u001b[0;34m=\u001b[0m \u001b[0mfashion_mnist\u001b[0m\u001b[0;34m.\u001b[0m\u001b[0mload_data\u001b[0m\u001b[0;34m(\u001b[0m\u001b[0;34m)\u001b[0m\u001b[0;34m\u001b[0m\u001b[0;34m\u001b[0m\u001b[0m\n\u001b[0m\u001b[1;32m     10\u001b[0m \u001b[0mtrain_images\u001b[0m \u001b[0;34m=\u001b[0m \u001b[0mtrain_images\u001b[0m\u001b[0;34m.\u001b[0m\u001b[0mreshape\u001b[0m\u001b[0;34m(\u001b[0m\u001b[0;34m(\u001b[0m\u001b[0;36m60000\u001b[0m\u001b[0;34m,\u001b[0m \u001b[0;36m28\u001b[0m \u001b[0;34m*\u001b[0m \u001b[0;36m28\u001b[0m\u001b[0;34m)\u001b[0m\u001b[0;34m)\u001b[0m\u001b[0;34m\u001b[0m\u001b[0;34m\u001b[0m\u001b[0m\n\u001b[1;32m     11\u001b[0m \u001b[0mtest_images\u001b[0m \u001b[0;34m=\u001b[0m \u001b[0mtest_images\u001b[0m\u001b[0;34m.\u001b[0m\u001b[0mreshape\u001b[0m\u001b[0;34m(\u001b[0m\u001b[0;34m(\u001b[0m\u001b[0;36m10000\u001b[0m\u001b[0;34m,\u001b[0m \u001b[0;36m28\u001b[0m \u001b[0;34m*\u001b[0m \u001b[0;36m28\u001b[0m\u001b[0;34m)\u001b[0m\u001b[0;34m)\u001b[0m\u001b[0;34m\u001b[0m\u001b[0;34m\u001b[0m\u001b[0m\n",
            "\u001b[0;31mNameError\u001b[0m: name 'fashion_mnist' is not defined"
          ]
        }
      ]
    },
    {
      "cell_type": "markdown",
      "source": [
        "# TEST"
      ],
      "metadata": {
        "id": "OOFYw0lpRI8f"
      }
    },
    {
      "cell_type": "code",
      "source": [
        "# 8.- VERIFICAMOS NUESTRO MODELO YA ENTRENADO, CONTRA EL CONJUNTO DE PRUEBAS\n",
        "test_loss, test_acc = network.evaluate(test_images, test_labels)\n",
        "# HEMOS UTILIZADO MENOS DE 20 LÍNEAS DE CÓDIGO..."
      ],
      "metadata": {
        "colab": {
          "base_uri": "https://localhost:8080/"
        },
        "id": "9FAuaj1DRIde",
        "outputId": "5666a162-c7ca-4212-eb2d-afc5891c430a"
      },
      "execution_count": null,
      "outputs": [
        {
          "output_type": "stream",
          "name": "stdout",
          "text": [
            "313/313 [==============================] - 1s 2ms/step - loss: 0.5342 - accuracy: 0.8291\n"
          ]
        }
      ]
    },
    {
      "cell_type": "code",
      "source": [
        "# Look at confusion matrix\n",
        "# Note, this code is taken straight from the SKLEARN website, an nice way of\n",
        "# viewing confusion matrix.\n",
        "def plot_confusion_matrix(cm, classes,\n",
        "                          normalize=False,\n",
        "                          title='Confusion matrix',\n",
        "                          cmap=plt.cm.Blues):\n",
        "    \"\"\"\n",
        "    This function prints and plots the confusion matrix.\n",
        "    Normalization can be applied by setting `normalize=True`.\n",
        "    \"\"\"\n",
        "    plt.imshow(cm, interpolation='nearest', cmap=cmap)\n",
        "    plt.title(title)\n",
        "    plt.colorbar()\n",
        "    tick_marks = np.arange(len(classes))\n",
        "    plt.xticks(tick_marks, classes, rotation=45)\n",
        "    plt.yticks(tick_marks, classes)\n",
        "\n",
        "    if normalize:\n",
        "        cm = cm.astype('float') / cm.sum(axis=1)[:, np.newaxis]\n",
        "\n",
        "    thresh = cm.max() / 2.\n",
        "    for i, j in itertools.product(range(cm.shape[0]), range(cm.shape[1])):\n",
        "        plt.text(j, i, cm[i, j],\n",
        "                 horizontalalignment=\"center\",\n",
        "                 color=\"white\" if cm[i, j] > thresh else \"black\")\n",
        "\n",
        "    plt.tight_layout()\n",
        "    plt.ylabel('Observación')\n",
        "    plt.xlabel('Predicción')"
      ],
      "metadata": {
        "id": "Phw8Hik5RB3J"
      },
      "execution_count": null,
      "outputs": []
    },
    {
      "cell_type": "code",
      "source": [
        "from collections import Counter\n",
        "from sklearn.metrics import confusion_matrix\n",
        "import itertools\n",
        "import numpy as np\n",
        "\n",
        "# Predicción de valores desde el dataset de validación\n",
        "Y_pred = network.predict(test_images)\n",
        "print(\"=VALORES QUE PREDICE EL MODELO ENTRENADO CON LAS IMAGENES DE TEST======\")\n",
        "print(\"=RECORDAR QUE LA PRIMERA IMAGEN DE TEST ERA UN 7=======================\")\n",
        "print(Y_pred[0])\n",
        "print(\"=======================================================================\")\n",
        "# Convertir en predicciones de clases desde los vectores one-hot encoding\n",
        "Y_pred_classes = np.argmax(Y_pred, axis = 1)\n",
        "print(\"=CONVERSION DE PREDICCIONES EN CLASES DESDE VECTORES ONE-HOT ENCODING==\")\n",
        "print(Y_pred_classes)\n",
        "print(\"=======================================================================\")\n",
        "# Convertir en clases de observación desde los vectores one-hot encoding\n",
        "Y_true = test_labels  # Aquí se ha cambiado 'np.argmax(test_labels)' por 'test_labels'\n",
        "print(\"=CONVERSION DE VALORES REALES EN CLASES DESDE VECTORES ONE-HOT ENCODING\")\n",
        "print(Y_true)\n",
        "print(\"=======================================================================\")\n",
        "# Computar la matriz de confusión\n",
        "confusion_mtx = confusion_matrix(Y_true, Y_pred_classes)\n",
        "print(\"=MATRIZ DE CONFUSION CON VALORES REALES FRENTE A LOS PREDICHOS=========\")\n",
        "print(confusion_mtx)\n",
        "print(\"=======================================================================\")\n",
        "# Dibujar la matriz de confusión\n",
        "print(\"=PINTAMOS LA MATRIZ DE CONFUSION=======================================\")\n",
        "plot_confusion_matrix(confusion_mtx, classes = range(10))"
      ],
      "metadata": {
        "colab": {
          "base_uri": "https://localhost:8080/",
          "height": 245
        },
        "id": "ep5Pe0xkQK96",
        "outputId": "43e2251e-17b5-4d00-be0b-1163862b94f4"
      },
      "execution_count": null,
      "outputs": [
        {
          "output_type": "error",
          "ename": "NameError",
          "evalue": "ignored",
          "traceback": [
            "\u001b[0;31m---------------------------------------------------------------------------\u001b[0m",
            "\u001b[0;31mNameError\u001b[0m                                 Traceback (most recent call last)",
            "\u001b[0;32m<ipython-input-20-d46c1d70b374>\u001b[0m in \u001b[0;36m<cell line: 7>\u001b[0;34m()\u001b[0m\n\u001b[1;32m      5\u001b[0m \u001b[0;34m\u001b[0m\u001b[0m\n\u001b[1;32m      6\u001b[0m \u001b[0;31m# Predicción de valores desde el dataset de validación\u001b[0m\u001b[0;34m\u001b[0m\u001b[0;34m\u001b[0m\u001b[0m\n\u001b[0;32m----> 7\u001b[0;31m \u001b[0mY_pred\u001b[0m \u001b[0;34m=\u001b[0m \u001b[0mnetwork\u001b[0m\u001b[0;34m.\u001b[0m\u001b[0mpredict\u001b[0m\u001b[0;34m(\u001b[0m\u001b[0mtest_images\u001b[0m\u001b[0;34m)\u001b[0m\u001b[0;34m\u001b[0m\u001b[0;34m\u001b[0m\u001b[0m\n\u001b[0m\u001b[1;32m      8\u001b[0m \u001b[0mprint\u001b[0m\u001b[0;34m(\u001b[0m\u001b[0;34m\"=VALORES QUE PREDICE EL MODELO ENTRENADO CON LAS IMAGENES DE TEST======\"\u001b[0m\u001b[0;34m)\u001b[0m\u001b[0;34m\u001b[0m\u001b[0;34m\u001b[0m\u001b[0m\n\u001b[1;32m      9\u001b[0m \u001b[0mprint\u001b[0m\u001b[0;34m(\u001b[0m\u001b[0;34m\"=RECORDAR QUE LA PRIMERA IMAGEN DE TEST ERA UN 7=======================\"\u001b[0m\u001b[0;34m)\u001b[0m\u001b[0;34m\u001b[0m\u001b[0;34m\u001b[0m\u001b[0m\n",
            "\u001b[0;31mNameError\u001b[0m: name 'network' is not defined"
          ]
        }
      ]
    }
  ]
}