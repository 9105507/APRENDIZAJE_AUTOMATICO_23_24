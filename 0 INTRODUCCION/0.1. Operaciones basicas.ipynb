{
  "cells": [
    {
      "cell_type": "markdown",
      "metadata": {
        "id": "view-in-github",
        "colab_type": "text"
      },
      "source": [
        "<a href=\"https://colab.research.google.com/github/9105507/APRENDIZAJE_AUTOMATICO_23_24/blob/main/0%20INTRODUCCION/0.1.%20Operaciones%20basicas.ipynb\" target=\"_parent\"><img src=\"https://colab.research.google.com/assets/colab-badge.svg\" alt=\"Open In Colab\"/></a>"
      ]
    },
    {
      "cell_type": "markdown",
      "metadata": {
        "pycharm": {
          "name": "#%% md\n"
        },
        "id": "RYnPba-KPqZC"
      },
      "source": [
        "# Titulo"
      ]
    },
    {
      "cell_type": "markdown",
      "metadata": {
        "pycharm": {
          "name": "#%% md\n"
        },
        "id": "LBw8jC75PqZD"
      },
      "source": [
        "## subtitulo"
      ]
    },
    {
      "cell_type": "markdown",
      "metadata": {
        "pycharm": {
          "name": "#%% md\n"
        },
        "id": "aHnLwZuuPqZD"
      },
      "source": [
        "Texto normal"
      ]
    },
    {
      "cell_type": "markdown",
      "metadata": {
        "pycharm": {
          "name": "#%% md\n"
        },
        "id": "B_HSvwuqPqZD"
      },
      "source": [
        "<b>negrita</b>"
      ]
    },
    {
      "cell_type": "markdown",
      "metadata": {
        "pycharm": {
          "name": "#%% md\n"
        },
        "id": "7B9X3SPxPqZD"
      },
      "source": [
        "<big><big>grande</big></big> normal"
      ]
    },
    {
      "cell_type": "markdown",
      "metadata": {
        "pycharm": {
          "name": "#%% md\n"
        },
        "id": "SHa2iajrPqZD"
      },
      "source": [
        "<i>cursiva</i>"
      ]
    },
    {
      "cell_type": "markdown",
      "metadata": {
        "pycharm": {
          "name": "#%% md\n"
        },
        "id": "Anz7YLU_PqZD"
      },
      "source": [
        "<u>subrayado</u>"
      ]
    },
    {
      "cell_type": "markdown",
      "metadata": {
        "pycharm": {
          "name": "#%% md\n"
        },
        "id": "ot0xK0XgPqZD"
      },
      "source": [
        "<font color='red'>rojo</font>"
      ]
    },
    {
      "cell_type": "markdown",
      "metadata": {
        "pycharm": {
          "name": "#%% md\n"
        },
        "id": "5j9cTCK8PqZD"
      },
      "source": [
        "<a href='http://www.ceiec.es/'>CEIEC</a>"
      ]
    },
    {
      "cell_type": "markdown",
      "metadata": {
        "pycharm": {
          "name": "#%% md\n"
        },
        "id": "dUcHK22hPqZD"
      },
      "source": [
        "<img src = \"http://www.ceiec.es/wp-content/uploads/2018/07/Logo_CEIEC_Apaisado_RGB.jpg\">"
      ]
    },
    {
      "cell_type": "code",
      "execution_count": 5,
      "metadata": {
        "pycharm": {
          "name": "#%%\n"
        },
        "id": "GlDcGiFGPqZD"
      },
      "outputs": [],
      "source": [
        "#Comentario una linea."
      ]
    },
    {
      "cell_type": "code",
      "execution_count": 6,
      "metadata": {
        "pycharm": {
          "name": "#%%\n"
        },
        "id": "WZZ579lPPqZE",
        "outputId": "74e42d28-6517-4b4f-b048-144f771163f2",
        "colab": {
          "base_uri": "https://localhost:8080/"
        }
      },
      "outputs": [
        {
          "output_type": "execute_result",
          "data": {
            "text/plain": [
              "2"
            ]
          },
          "metadata": {},
          "execution_count": 6
        }
      ],
      "source": [
        "2"
      ]
    },
    {
      "cell_type": "code",
      "execution_count": 7,
      "metadata": {
        "pycharm": {
          "name": "#%%\n"
        },
        "id": "mErmKawYPqZE",
        "outputId": "d350caae-3f89-4de4-b5c1-3bb4561dd3fd",
        "colab": {
          "base_uri": "https://localhost:8080/"
        }
      },
      "outputs": [
        {
          "output_type": "execute_result",
          "data": {
            "text/plain": [
              "5"
            ]
          },
          "metadata": {},
          "execution_count": 7
        }
      ],
      "source": [
        "2+3"
      ]
    },
    {
      "cell_type": "code",
      "execution_count": 8,
      "metadata": {
        "pycharm": {
          "name": "#%%\n"
        },
        "id": "5VdT3No5PqZE"
      },
      "outputs": [],
      "source": [
        "x=2\n",
        "y=3"
      ]
    },
    {
      "cell_type": "code",
      "execution_count": 9,
      "metadata": {
        "pycharm": {
          "name": "#%%\n"
        },
        "id": "I71OEE_PPqZE",
        "outputId": "de2e975e-72cc-4ff4-bdf8-c3b6956a29b6",
        "colab": {
          "base_uri": "https://localhost:8080/"
        }
      },
      "outputs": [
        {
          "output_type": "execute_result",
          "data": {
            "text/plain": [
              "5"
            ]
          },
          "metadata": {},
          "execution_count": 9
        }
      ],
      "source": [
        "x+y"
      ]
    },
    {
      "cell_type": "code",
      "execution_count": 10,
      "metadata": {
        "pycharm": {
          "name": "#%%\n"
        },
        "id": "jRgcjhnvPqZE"
      },
      "outputs": [],
      "source": [
        "z=x+y"
      ]
    },
    {
      "cell_type": "code",
      "execution_count": 11,
      "metadata": {
        "pycharm": {
          "name": "#%%\n"
        },
        "id": "gsTu8eCJPqZE",
        "outputId": "80665c46-e007-40de-fa96-2ffe20f2e8ed",
        "colab": {
          "base_uri": "https://localhost:8080/"
        }
      },
      "outputs": [
        {
          "output_type": "execute_result",
          "data": {
            "text/plain": [
              "5"
            ]
          },
          "metadata": {},
          "execution_count": 11
        }
      ],
      "source": [
        "z"
      ]
    },
    {
      "cell_type": "code",
      "execution_count": 12,
      "metadata": {
        "pycharm": {
          "name": "#%%\n"
        },
        "id": "MkdEj9IhPqZE",
        "outputId": "27d62b67-4201-4b92-c46b-1e6f832b4be5",
        "colab": {
          "base_uri": "https://localhost:8080/"
        }
      },
      "outputs": [
        {
          "output_type": "execute_result",
          "data": {
            "text/plain": [
              "5.5"
            ]
          },
          "metadata": {},
          "execution_count": 12
        }
      ],
      "source": [
        "x=2.3\n",
        "y=3.2\n",
        "x+y"
      ]
    },
    {
      "cell_type": "code",
      "execution_count": 13,
      "metadata": {
        "pycharm": {
          "name": "#%%\n"
        },
        "id": "CQ5S4hr5PqZE",
        "outputId": "d0b207e3-6f35-4cfd-cb1d-c26e3d908aed",
        "colab": {
          "base_uri": "https://localhost:8080/"
        }
      },
      "outputs": [
        {
          "output_type": "execute_result",
          "data": {
            "text/plain": [
              "3"
            ]
          },
          "metadata": {},
          "execution_count": 13
        }
      ],
      "source": [
        "x=5\n",
        "y=2\n",
        "\n",
        "x-y"
      ]
    },
    {
      "cell_type": "code",
      "execution_count": 14,
      "metadata": {
        "pycharm": {
          "name": "#%%\n"
        },
        "id": "ekhzb2fGPqZE",
        "outputId": "73f8057a-3fd0-48bf-ba7d-339a5accd969",
        "colab": {
          "base_uri": "https://localhost:8080/"
        }
      },
      "outputs": [
        {
          "output_type": "execute_result",
          "data": {
            "text/plain": [
              "10"
            ]
          },
          "metadata": {},
          "execution_count": 14
        }
      ],
      "source": [
        "x*y"
      ]
    },
    {
      "cell_type": "code",
      "execution_count": 15,
      "metadata": {
        "pycharm": {
          "name": "#%%\n"
        },
        "id": "z0EI7xHPPqZE",
        "outputId": "c00b7ec0-fc8e-4487-b290-cef766bbee11",
        "colab": {
          "base_uri": "https://localhost:8080/"
        }
      },
      "outputs": [
        {
          "output_type": "execute_result",
          "data": {
            "text/plain": [
              "2.5"
            ]
          },
          "metadata": {},
          "execution_count": 15
        }
      ],
      "source": [
        "x/y"
      ]
    },
    {
      "cell_type": "code",
      "execution_count": 16,
      "metadata": {
        "pycharm": {
          "name": "#%%\n"
        },
        "id": "vnktfMzpPqZE",
        "outputId": "f082c8e4-c829-45c2-908b-670835f17903",
        "colab": {
          "base_uri": "https://localhost:8080/"
        }
      },
      "outputs": [
        {
          "output_type": "execute_result",
          "data": {
            "text/plain": [
              "2.5"
            ]
          },
          "metadata": {},
          "execution_count": 16
        }
      ],
      "source": [
        "x=5.0\n",
        "y=2.0\n",
        "x/y"
      ]
    },
    {
      "cell_type": "code",
      "execution_count": 17,
      "metadata": {
        "pycharm": {
          "name": "#%%\n"
        },
        "id": "cruL063ZPqZF",
        "outputId": "30a166cc-48a5-4b89-bc4b-6c3d2b65b0c5",
        "colab": {
          "base_uri": "https://localhost:8080/"
        }
      },
      "outputs": [
        {
          "output_type": "execute_result",
          "data": {
            "text/plain": [
              "2.0"
            ]
          },
          "metadata": {},
          "execution_count": 17
        }
      ],
      "source": [
        "x//y"
      ]
    },
    {
      "cell_type": "code",
      "execution_count": 18,
      "metadata": {
        "pycharm": {
          "name": "#%%\n"
        },
        "id": "4sdP1NOLPqZF",
        "outputId": "ccd2c88c-9698-40ce-ff5f-a20ba56858b3",
        "colab": {
          "base_uri": "https://localhost:8080/"
        }
      },
      "outputs": [
        {
          "output_type": "execute_result",
          "data": {
            "text/plain": [
              "1.0"
            ]
          },
          "metadata": {},
          "execution_count": 18
        }
      ],
      "source": [
        "x%y"
      ]
    },
    {
      "cell_type": "code",
      "execution_count": 19,
      "metadata": {
        "pycharm": {
          "name": "#%%\n"
        },
        "id": "0HvDogyrPqZF",
        "outputId": "b9d8d45c-fdc0-4e5b-9132-fcf474cddbe9",
        "colab": {
          "base_uri": "https://localhost:8080/"
        }
      },
      "outputs": [
        {
          "output_type": "execute_result",
          "data": {
            "text/plain": [
              "4"
            ]
          },
          "metadata": {},
          "execution_count": 19
        }
      ],
      "source": [
        "x=2\n",
        "x**2"
      ]
    },
    {
      "cell_type": "code",
      "execution_count": 20,
      "metadata": {
        "pycharm": {
          "name": "#%%\n"
        },
        "id": "QCRbn1fxPqZF",
        "outputId": "340f968b-94af-460a-d7bf-ada1355123db",
        "colab": {
          "base_uri": "https://localhost:8080/"
        }
      },
      "outputs": [
        {
          "output_type": "execute_result",
          "data": {
            "text/plain": [
              "2.5"
            ]
          },
          "metadata": {},
          "execution_count": 20
        }
      ],
      "source": [
        "((2.0+3)/4)*2"
      ]
    },
    {
      "cell_type": "code",
      "execution_count": 21,
      "metadata": {
        "pycharm": {
          "name": "#%%\n"
        },
        "id": "nj1WBHnWPqZF",
        "outputId": "0db3a31a-47d9-4544-976d-ba5d804cfab9",
        "colab": {
          "base_uri": "https://localhost:8080/"
        }
      },
      "outputs": [
        {
          "output_type": "stream",
          "name": "stdout",
          "text": [
            "Sacar por pantalla\n"
          ]
        }
      ],
      "source": [
        "print (\"Sacar por pantalla\")"
      ]
    },
    {
      "cell_type": "code",
      "execution_count": 22,
      "metadata": {
        "pycharm": {
          "name": "#%%\n"
        },
        "id": "joJZzG_IPqZF",
        "outputId": "1a8b0292-66c1-4055-fde2-82108e9ed202",
        "colab": {
          "base_uri": "https://localhost:8080/"
        }
      },
      "outputs": [
        {
          "output_type": "stream",
          "name": "stdout",
          "text": [
            "El resultado es 2\n"
          ]
        }
      ],
      "source": [
        "print (\"El resultado es \"+str(x))"
      ]
    },
    {
      "cell_type": "code",
      "execution_count": 23,
      "metadata": {
        "pycharm": {
          "name": "#%%\n"
        },
        "id": "O3TH3e5PPqZF",
        "outputId": "1c3e0c0d-ae55-4a49-9143-06e971a7281d",
        "colab": {
          "base_uri": "https://localhost:8080/"
        }
      },
      "outputs": [
        {
          "output_type": "execute_result",
          "data": {
            "text/plain": [
              "5"
            ]
          },
          "metadata": {},
          "execution_count": 23
        }
      ],
      "source": [
        "x = 2\n",
        "y = 3\n",
        "x + y"
      ]
    },
    {
      "cell_type": "code",
      "execution_count": 24,
      "metadata": {
        "pycharm": {
          "name": "#%%\n"
        },
        "id": "2b0q6bAtPqZF",
        "outputId": "2a4fe7c5-a078-4a23-92df-0975fc2a319e",
        "colab": {
          "base_uri": "https://localhost:8080/"
        }
      },
      "outputs": [
        {
          "output_type": "execute_result",
          "data": {
            "text/plain": [
              "True"
            ]
          },
          "metadata": {},
          "execution_count": 24
        }
      ],
      "source": [
        "x=True\n",
        "x"
      ]
    },
    {
      "cell_type": "code",
      "execution_count": 25,
      "metadata": {
        "pycharm": {
          "name": "#%%\n"
        },
        "id": "Ub31ucKqPqZF",
        "outputId": "75301f8d-d613-4cda-b2eb-097219452f52",
        "colab": {
          "base_uri": "https://localhost:8080/"
        }
      },
      "outputs": [
        {
          "output_type": "execute_result",
          "data": {
            "text/plain": [
              "False"
            ]
          },
          "metadata": {},
          "execution_count": 25
        }
      ],
      "source": [
        "y=False\n",
        "y"
      ]
    },
    {
      "cell_type": "code",
      "execution_count": 26,
      "metadata": {
        "pycharm": {
          "name": "#%%\n"
        },
        "id": "4Mxfz6P8PqZF",
        "outputId": "86dbb938-489e-407c-a930-c10c7d98e3b7",
        "colab": {
          "base_uri": "https://localhost:8080/"
        }
      },
      "outputs": [
        {
          "output_type": "execute_result",
          "data": {
            "text/plain": [
              "False"
            ]
          },
          "metadata": {},
          "execution_count": 26
        }
      ],
      "source": [
        "x==y"
      ]
    },
    {
      "cell_type": "code",
      "execution_count": 27,
      "metadata": {
        "pycharm": {
          "name": "#%%\n"
        },
        "id": "fgwuPA-4PqZF",
        "outputId": "45f4197f-fe3a-4b10-f7b3-f9868cd3f6e6",
        "colab": {
          "base_uri": "https://localhost:8080/"
        }
      },
      "outputs": [
        {
          "output_type": "execute_result",
          "data": {
            "text/plain": [
              "False"
            ]
          },
          "metadata": {},
          "execution_count": 27
        }
      ],
      "source": [
        "x=2\n",
        "y=3\n",
        "x==y"
      ]
    },
    {
      "cell_type": "code",
      "execution_count": 28,
      "metadata": {
        "pycharm": {
          "name": "#%%\n"
        },
        "id": "FFWjDthbPqZF",
        "outputId": "6384f651-2360-4364-a63e-fe41d8045152",
        "colab": {
          "base_uri": "https://localhost:8080/"
        }
      },
      "outputs": [
        {
          "output_type": "execute_result",
          "data": {
            "text/plain": [
              "True"
            ]
          },
          "metadata": {},
          "execution_count": 28
        }
      ],
      "source": [
        "x!=y"
      ]
    },
    {
      "cell_type": "code",
      "execution_count": 29,
      "metadata": {
        "pycharm": {
          "name": "#%%\n"
        },
        "id": "Vr8KIM_vPqZF",
        "outputId": "d9dcc891-f0ef-402d-db07-a2308c1c0eb7",
        "colab": {
          "base_uri": "https://localhost:8080/"
        }
      },
      "outputs": [
        {
          "output_type": "execute_result",
          "data": {
            "text/plain": [
              "True"
            ]
          },
          "metadata": {},
          "execution_count": 29
        }
      ],
      "source": [
        "x<y"
      ]
    },
    {
      "cell_type": "code",
      "execution_count": 30,
      "metadata": {
        "pycharm": {
          "name": "#%%\n"
        },
        "id": "8BThbGHvPqZF",
        "outputId": "3091a642-4a9d-4a22-a7ee-bee842ff703d",
        "colab": {
          "base_uri": "https://localhost:8080/"
        }
      },
      "outputs": [
        {
          "output_type": "execute_result",
          "data": {
            "text/plain": [
              "False"
            ]
          },
          "metadata": {},
          "execution_count": 30
        }
      ],
      "source": [
        "x>y"
      ]
    },
    {
      "cell_type": "code",
      "execution_count": 31,
      "metadata": {
        "pycharm": {
          "name": "#%%\n"
        },
        "id": "2YNgooyyPqZF",
        "outputId": "c4521c3e-d34d-4ec8-d20a-798e30aaac4d",
        "colab": {
          "base_uri": "https://localhost:8080/"
        }
      },
      "outputs": [
        {
          "output_type": "execute_result",
          "data": {
            "text/plain": [
              "True"
            ]
          },
          "metadata": {},
          "execution_count": 31
        }
      ],
      "source": [
        "x<=y"
      ]
    },
    {
      "cell_type": "code",
      "execution_count": 32,
      "metadata": {
        "pycharm": {
          "name": "#%%\n"
        },
        "id": "R96oKBICPqZF",
        "outputId": "22884ee0-4ee0-47ed-856c-869c048c5dbd",
        "colab": {
          "base_uri": "https://localhost:8080/"
        }
      },
      "outputs": [
        {
          "output_type": "execute_result",
          "data": {
            "text/plain": [
              "False"
            ]
          },
          "metadata": {},
          "execution_count": 32
        }
      ],
      "source": [
        "x>=y"
      ]
    },
    {
      "cell_type": "code",
      "execution_count": 33,
      "metadata": {
        "pycharm": {
          "name": "#%%\n"
        },
        "id": "a1rbHBkePqZF",
        "outputId": "19b76b88-86cb-46b0-cf9c-e65fe0bd1e2c",
        "colab": {
          "base_uri": "https://localhost:8080/"
        }
      },
      "outputs": [
        {
          "output_type": "stream",
          "name": "stdout",
          "text": [
            "<class 'int'>\n",
            "<class 'float'>\n",
            "<class 'str'>\n",
            "<class 'bool'>\n"
          ]
        }
      ],
      "source": [
        "x = 2\n",
        "y = 3.4\n",
        "z = 'Hola'\n",
        "w = True\n",
        "\n",
        "print (type(x))\n",
        "print (type(y))\n",
        "print (type(z))\n",
        "print (type(w))\n"
      ]
    },
    {
      "cell_type": "code",
      "execution_count": 34,
      "metadata": {
        "pycharm": {
          "name": "#%%\n"
        },
        "id": "oMJyxvKHPqZG"
      },
      "outputs": [],
      "source": [
        "def suma(x,y):\n",
        "    return x+y"
      ]
    },
    {
      "cell_type": "code",
      "execution_count": 35,
      "outputs": [
        {
          "output_type": "execute_result",
          "data": {
            "text/plain": [
              "5.4"
            ]
          },
          "metadata": {},
          "execution_count": 35
        }
      ],
      "source": [
        "suma(x,y)"
      ],
      "metadata": {
        "pycharm": {
          "name": "#%%\n"
        },
        "id": "z5tOceHjPqZG",
        "outputId": "16cb33d8-089d-4caa-e369-2db7c93dee90",
        "colab": {
          "base_uri": "https://localhost:8080/"
        }
      }
    },
    {
      "cell_type": "markdown",
      "source": [
        "## EJERCICIO"
      ],
      "metadata": {
        "id": "-nhftk-EU5JA"
      }
    },
    {
      "cell_type": "markdown",
      "source": [
        "Desarrolla una función **fibonacci()** que calcule el número de Fibonacci en una posición **n** dada.\n",
        "\n",
        "**NOTA:**La secuencia de Fibonacci comienza con 0 y 1, y cada número siguiente es la suma de los dos anteriores: 0, 1, 1, 2, 3, 5, 8, 13, 21, ...\n",
        "\n",
        "**Requisitos:**\n",
        "Implementa la función fibonacci(n: int) -> int que retorne el n-ésimo número de Fibonacci. Asegúrate de manejar los casos base para n=0 y n=1.\n",
        "\n",
        "* Utiliza la función fibonacci para generar una lista o array de los 20 primeros números de Fibonacci.\n"
      ],
      "metadata": {
        "id": "rIEBrALBVKEG"
      }
    },
    {
      "cell_type": "code",
      "source": [
        "# Implementación de la función de Fibonacci\n",
        "def fibonacci(n):\n",
        "  b, a = 0, 1\n",
        "  if n < 0:\n",
        "    print(\"El número introducido debe ser mayor que cero\")\n",
        "  elif n == 0:\n",
        "    return b\n",
        "  elif n == 1:\n",
        "    return a\n",
        "  else:\n",
        "    i = 1\n",
        "    while i < n:\n",
        "      a, b = a + b, a\n",
        "      i += 1\n",
        "    return a\n",
        ""
      ],
      "metadata": {
        "id": "NiGmVJ8GVk2k"
      },
      "execution_count": 36,
      "outputs": []
    },
    {
      "cell_type": "code",
      "source": [
        "print(fibonacci(7))"
      ],
      "metadata": {
        "colab": {
          "base_uri": "https://localhost:8080/"
        },
        "id": "fqvP2lNVWhtX",
        "outputId": "cecbf12b-131c-49da-8d53-33d739e821fe"
      },
      "execution_count": 37,
      "outputs": [
        {
          "output_type": "stream",
          "name": "stdout",
          "text": [
            "13\n"
          ]
        }
      ]
    },
    {
      "cell_type": "code",
      "source": [
        "import numpy as np\n",
        "# Cargar la variable primeros_20_fibonacci con un array de los 20 primeros números fibonacci\n",
        "primeros_20_fibonacci = list(range(20))\n",
        "for i in range(20):\n",
        "  primeros_20_fibonacci[i] = fibonacci(i)\n",
        "\n",
        "print(primeros_20_fibonacci)"
      ],
      "metadata": {
        "id": "E4X10p1vV7Ir",
        "colab": {
          "base_uri": "https://localhost:8080/"
        },
        "outputId": "73d56240-bda5-445b-eb95-60d19c203afb"
      },
      "execution_count": 38,
      "outputs": [
        {
          "output_type": "stream",
          "name": "stdout",
          "text": [
            "[0, 1, 1, 2, 3, 5, 8, 13, 21, 34, 55, 89, 144, 233, 377, 610, 987, 1597, 2584, 4181]\n"
          ]
        }
      ]
    },
    {
      "cell_type": "code",
      "source": [
        "# Los 100 primeros números de Fibonacci \"hardcodeados\"\n",
        "veinte_primeros_fibonacci_hardcoded = [\n",
        "    0, 1, 1, 2, 3, 5, 8, 13, 21, 34,\n",
        "    55, 89, 144, 233, 377, 610, 987, 1597, 2584, 4181\n",
        "]\n",
        "\n",
        "# Usamos assert para comparar los dos arrays\n",
        "assert np.array_equal(primeros_20_fibonacci, veinte_primeros_fibonacci_hardcoded), \"Los arrays no son iguales\""
      ],
      "metadata": {
        "id": "sEys782MWfEN"
      },
      "execution_count": 39,
      "outputs": []
    },
    {
      "cell_type": "markdown",
      "source": [],
      "metadata": {
        "id": "HeQhLQiXWJO1"
      }
    }
  ],
  "metadata": {
    "kernelspec": {
      "display_name": "Python 3",
      "language": "python",
      "name": "python3"
    },
    "language_info": {
      "codemirror_mode": {
        "name": "ipython",
        "version": 3
      },
      "file_extension": ".py",
      "mimetype": "text/x-python",
      "name": "python",
      "nbconvert_exporter": "python",
      "pygments_lexer": "ipython3",
      "version": "3.6.5"
    },
    "colab": {
      "provenance": [],
      "toc_visible": true,
      "include_colab_link": true
    }
  },
  "nbformat": 4,
  "nbformat_minor": 0
}