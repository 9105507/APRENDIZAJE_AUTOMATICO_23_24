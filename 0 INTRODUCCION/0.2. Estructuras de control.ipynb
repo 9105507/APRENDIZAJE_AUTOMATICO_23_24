{
  "cells": [
    {
      "cell_type": "markdown",
      "metadata": {
        "id": "view-in-github",
        "colab_type": "text"
      },
      "source": [
        "<a href=\"https://colab.research.google.com/github/9105507/APRENDIZAJE_AUTOMATICO_23_24/blob/main/0%20INTRODUCCION/0.2.%20Estructuras%20de%20control.ipynb\" target=\"_parent\"><img src=\"https://colab.research.google.com/assets/colab-badge.svg\" alt=\"Open In Colab\"/></a>"
      ]
    },
    {
      "cell_type": "code",
      "execution_count": 1,
      "metadata": {
        "pycharm": {
          "name": "#%%\n"
        },
        "id": "ernuRavfc8K-",
        "outputId": "a6f4a3dc-6a96-4621-e542-c8cc1196dadc",
        "colab": {
          "base_uri": "https://localhost:8080/"
        }
      },
      "outputs": [
        {
          "output_type": "stream",
          "name": "stdout",
          "text": [
            "x es menor\n"
          ]
        }
      ],
      "source": [
        "x=2\n",
        "y=4\n",
        "if x<y:\n",
        "    print (\"x es menor\")"
      ]
    },
    {
      "cell_type": "code",
      "execution_count": 2,
      "metadata": {
        "pycharm": {
          "name": "#%%\n"
        },
        "id": "lfkx5-6Kc8K_",
        "outputId": "cc9cd17c-c471-42b5-b82d-e9e36280b988",
        "colab": {
          "base_uri": "https://localhost:8080/"
        }
      },
      "outputs": [
        {
          "output_type": "stream",
          "name": "stdout",
          "text": [
            "x es mayor\n"
          ]
        }
      ],
      "source": [
        "x=4\n",
        "y=2\n",
        "if x<y:\n",
        "    print (\"x es menor\")\n",
        "elif x>y:\n",
        "    print (\"x es mayor\")"
      ]
    },
    {
      "cell_type": "code",
      "execution_count": 3,
      "metadata": {
        "pycharm": {
          "name": "#%%\n"
        },
        "id": "rG42yjWgc8K_",
        "outputId": "7309d99e-eaa0-43f9-d6de-8c77092e512c",
        "colab": {
          "base_uri": "https://localhost:8080/"
        }
      },
      "outputs": [
        {
          "output_type": "stream",
          "name": "stdout",
          "text": [
            "son iguales\n"
          ]
        }
      ],
      "source": [
        "x=2\n",
        "y=2\n",
        "if x<y:\n",
        "    print (\"x es menor\")\n",
        "elif x>y:\n",
        "    print (\"x es mayor\")\n",
        "else:\n",
        "    print (\"son iguales\")"
      ]
    },
    {
      "cell_type": "code",
      "execution_count": 4,
      "metadata": {
        "pycharm": {
          "name": "#%%\n"
        },
        "id": "JYejh9kJc8K_"
      },
      "outputs": [],
      "source": [
        "def comparador(x,y):\n",
        "    if x<y:\n",
        "        print (\"x es menor\")\n",
        "    elif x>y:\n",
        "        print (\"x es mayor\")\n",
        "    else:\n",
        "        print (\"son iguales\")"
      ]
    },
    {
      "cell_type": "code",
      "execution_count": 5,
      "metadata": {
        "pycharm": {
          "name": "#%%\n"
        },
        "id": "web7vFGPc8K_",
        "outputId": "c647d26e-19a6-4582-82c9-80d1913d4ade",
        "colab": {
          "base_uri": "https://localhost:8080/"
        }
      },
      "outputs": [
        {
          "output_type": "stream",
          "name": "stdout",
          "text": [
            "x es menor\n"
          ]
        }
      ],
      "source": [
        "comparador(2,4)"
      ]
    },
    {
      "cell_type": "code",
      "execution_count": 6,
      "metadata": {
        "pycharm": {
          "name": "#%%\n"
        },
        "id": "puA-G13tc8LA",
        "outputId": "bf2d59a4-f1af-406d-ee65-c140d88754b2",
        "colab": {
          "base_uri": "https://localhost:8080/"
        }
      },
      "outputs": [
        {
          "output_type": "stream",
          "name": "stdout",
          "text": [
            "x es mayor\n"
          ]
        }
      ],
      "source": [
        "comparador(3.4,1.2)"
      ]
    },
    {
      "cell_type": "code",
      "execution_count": 7,
      "metadata": {
        "pycharm": {
          "name": "#%%\n"
        },
        "id": "piVDflM8c8LA",
        "outputId": "03c7d8df-106c-432c-8cbf-fd5ba6a245c4",
        "colab": {
          "base_uri": "https://localhost:8080/"
        }
      },
      "outputs": [
        {
          "output_type": "stream",
          "name": "stdout",
          "text": [
            "0\n",
            "1\n",
            "2\n",
            "3\n",
            "4\n",
            "5\n",
            "6\n",
            "7\n",
            "8\n",
            "9\n"
          ]
        }
      ],
      "source": [
        "#Reseñar la posibilidad de bucle infinito\n",
        "i=0\n",
        "while i<10:\n",
        "    print (i)\n",
        "    i+=1"
      ]
    },
    {
      "cell_type": "code",
      "execution_count": 8,
      "metadata": {
        "pycharm": {
          "name": "#%%\n"
        },
        "id": "EWrW3hV2c8LA",
        "outputId": "568573f2-2c51-432e-ace1-22911436f00f",
        "colab": {
          "base_uri": "https://localhost:8080/"
        }
      },
      "outputs": [
        {
          "output_type": "stream",
          "name": "stdout",
          "text": [
            "0\n",
            "1\n",
            "2\n",
            "3\n",
            "4\n",
            "5\n",
            "6\n",
            "7\n",
            "8\n",
            "9\n"
          ]
        }
      ],
      "source": [
        "for i in range(0,10):\n",
        "    print (i)"
      ]
    },
    {
      "cell_type": "code",
      "execution_count": null,
      "metadata": {
        "pycharm": {
          "name": "#%%\n"
        },
        "id": "GkU5qAp6c8LA",
        "outputId": "3f24cbd3-b867-4717-b6ef-39dd2725f8cf"
      },
      "outputs": [
        {
          "name": "stdout",
          "output_type": "stream",
          "text": [
            "i\n",
            "P\n",
            "y\n",
            "t\n",
            "h\n",
            "o\n",
            "n\n"
          ]
        }
      ],
      "source": [
        "for i in \"iPython\":\n",
        "    print (i)"
      ]
    },
    {
      "cell_type": "code",
      "execution_count": 9,
      "metadata": {
        "pycharm": {
          "name": "#%%\n"
        },
        "id": "mx7hAypdc8LA",
        "outputId": "2f576889-c6cc-460e-d404-10c0100b4f2a",
        "colab": {
          "base_uri": "https://localhost:8080/"
        }
      },
      "outputs": [
        {
          "output_type": "stream",
          "name": "stdout",
          "text": [
            "Curso\n",
            "de\n",
            "iPtyhon\n"
          ]
        }
      ],
      "source": [
        "for i in \"Curso\",\"de\",\"iPtyhon\":\n",
        "    print (i)"
      ]
    },
    {
      "cell_type": "code",
      "execution_count": 10,
      "metadata": {
        "pycharm": {
          "name": "#%%\n"
        },
        "id": "vdYTOZJrc8LA",
        "outputId": "b92f350b-b95b-47c3-ffa6-ac51dda46145",
        "colab": {
          "base_uri": "https://localhost:8080/"
        }
      },
      "outputs": [
        {
          "output_type": "stream",
          "name": "stdout",
          "text": [
            "0\n",
            "1\n",
            "2\n",
            "3\n",
            "4\n"
          ]
        }
      ],
      "source": [
        "for i in range(0,10):\n",
        "    print (i)\n",
        "    if i==4:\n",
        "        break"
      ]
    },
    {
      "cell_type": "code",
      "execution_count": 11,
      "metadata": {
        "pycharm": {
          "name": "#%%\n"
        },
        "id": "JP9mR6-sc8LA",
        "outputId": "9d916dea-e015-48f7-b0d3-6a04272e518c",
        "colab": {
          "base_uri": "https://localhost:8080/"
        }
      },
      "outputs": [
        {
          "output_type": "stream",
          "name": "stdout",
          "text": [
            "1 es impar\n",
            "2 es par\n",
            "3 es impar\n",
            "4 es par\n",
            "5 es impar\n",
            "6 es par\n",
            "7 es impar\n",
            "8 es par\n",
            "9 es impar\n",
            "10 es par\n"
          ]
        }
      ],
      "source": [
        "i=1\n",
        "while i<=10:\n",
        "    if i%2==0:\n",
        "        print (str(i)+\" es par\")\n",
        "    else:\n",
        "        print (str(i)+\" es impar\")\n",
        "    i+=1"
      ]
    },
    {
      "cell_type": "markdown",
      "source": [
        "## PROBLEMAS"
      ],
      "metadata": {
        "id": "oqAIQOQSdITs"
      }
    },
    {
      "cell_type": "markdown",
      "source": [
        "1. Escribe una función **invertir_lista** que tome una lista como argumento y devuelva una nueva lista que contiene los elementos de la lista original en orden inverso. No se permite utilizar la función incorporada **reverse()** o la notación de slice **[::-1]**"
      ],
      "metadata": {
        "id": "zO5dbzdidXsD"
      }
    },
    {
      "cell_type": "code",
      "source": [
        "def invertir_lista(lista):\n",
        "  i = len(lista)\n",
        "  lista1 = []\n",
        "  while i > 0:\n",
        "    lista1.append(lista[i-1])\n",
        "    i -= 1\n",
        "  return lista1\n",
        "\n",
        "# Pruebas\n",
        "assert invertir_lista([1, 2, 3]) == [3, 2, 1], \"Los arrays no son iguales\"\n",
        "assert invertir_lista([\"a\", \"b\", \"c\"]) == [\"c\", \"b\", \"a\"], \"Los arrays no son iguales\"\n",
        "assert invertir_lista([]) == [], \"Los arrays no son iguales\"\n",
        "assert invertir_lista([1]) == [1], \"Los arrays no son iguales\""
      ],
      "metadata": {
        "id": "RLk0hOVfdgXQ"
      },
      "execution_count": 21,
      "outputs": []
    },
    {
      "cell_type": "markdown",
      "source": [
        "2. Escribe una función **contar_ocurrencias** que tome una lista y un elemento como argumentos. La función debe devolver el número de veces que aparece el elemento en la lista."
      ],
      "metadata": {
        "id": "5Ni2M3Bbd5MH"
      }
    },
    {
      "cell_type": "code",
      "source": [
        "def contar_ocurrencias(lista, elemento):\n",
        "  contador = 0\n",
        "  for i in range(len(lista)):\n",
        "    if lista[i] == elemento:\n",
        "      contador+=1\n",
        "  return contador\n",
        "# Pruebas\n",
        "assert contar_ocurrencias([1, 2, 3, 4, 1, 2, 1], 1) == 3\n",
        "assert contar_ocurrencias([\"a\", \"b\", \"a\"], \"a\") == 2\n",
        "assert contar_ocurrencias([], \"a\") == 0\n",
        "assert contar_ocurrencias([1, 2, 3], 4) == 0"
      ],
      "metadata": {
        "id": "BYKPPL92eCT6"
      },
      "execution_count": 23,
      "outputs": []
    },
    {
      "cell_type": "markdown",
      "source": [
        "3. Escribe una función **es_palindromo** que tome una cadena como argumento y devuelva **True** si la cadena es un palíndromo (se lee igual de izquierda a derecha que de derecha a izquierda) o **False** si no lo es. Ignora las diferencias entre mayúsculas y minúsculas"
      ],
      "metadata": {
        "id": "N2dIncYAeYkb"
      }
    },
    {
      "cell_type": "code",
      "source": [
        "def es_palindromo(cadena):\n",
        "  cadena = cadena.lower()\n",
        "  return invertir_lista(list(cadena)) == list(cadena)\n",
        "\n",
        "# Pruebas\n",
        "assert es_palindromo(\"Anilina\") == True\n",
        "assert es_palindromo(\"Radar\") == True\n",
        "assert es_palindromo(\"Python\") == False\n",
        "assert es_palindromo(\"a\") == True"
      ],
      "metadata": {
        "id": "Tlv5CnzKek2s"
      },
      "execution_count": 29,
      "outputs": []
    }
  ],
  "metadata": {
    "kernelspec": {
      "display_name": "Python 3",
      "language": "python",
      "name": "python3"
    },
    "language_info": {
      "codemirror_mode": {
        "name": "ipython",
        "version": 3
      },
      "file_extension": ".py",
      "mimetype": "text/x-python",
      "name": "python",
      "nbconvert_exporter": "python",
      "pygments_lexer": "ipython3",
      "version": "3.6.5"
    },
    "colab": {
      "provenance": [],
      "include_colab_link": true
    }
  },
  "nbformat": 4,
  "nbformat_minor": 0
}