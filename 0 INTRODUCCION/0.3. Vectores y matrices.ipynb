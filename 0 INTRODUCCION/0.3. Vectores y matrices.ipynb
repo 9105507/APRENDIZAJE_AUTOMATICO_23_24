{
  "cells": [
    {
      "cell_type": "markdown",
      "metadata": {
        "id": "view-in-github",
        "colab_type": "text"
      },
      "source": [
        "<a href=\"https://colab.research.google.com/github/9105507/APRENDIZAJE_AUTOMATICO_23_24/blob/main/0%20INTRODUCCION/0.3.%20Vectores%20y%20matrices.ipynb\" target=\"_parent\"><img src=\"https://colab.research.google.com/assets/colab-badge.svg\" alt=\"Open In Colab\"/></a>"
      ]
    },
    {
      "cell_type": "code",
      "execution_count": 1,
      "metadata": {
        "pycharm": {
          "name": "#%%\n"
        },
        "id": "dKlTU2-_jdEW",
        "outputId": "bfc8b264-1dd2-48dd-95cf-11141fa1a768",
        "colab": {
          "base_uri": "https://localhost:8080/"
        }
      },
      "outputs": [
        {
          "output_type": "stream",
          "name": "stdout",
          "text": [
            "[5, 6, 9, 8, 7, 4, 65, 2, 2, 56, 46, 54]\n"
          ]
        }
      ],
      "source": [
        "lista = [5,6,9,8,7,4,65,2,2,56,46,54]\n",
        "print(lista)"
      ]
    },
    {
      "cell_type": "code",
      "execution_count": 2,
      "metadata": {
        "pycharm": {
          "name": "#%%\n"
        },
        "id": "gOC_OxpgjdEX",
        "outputId": "c839b309-91dc-4517-a6ea-12d7bb307554",
        "colab": {
          "base_uri": "https://localhost:8080/"
        }
      },
      "outputs": [
        {
          "output_type": "execute_result",
          "data": {
            "text/plain": [
              "True"
            ]
          },
          "metadata": {},
          "execution_count": 2
        }
      ],
      "source": [
        "2 in lista"
      ]
    },
    {
      "cell_type": "code",
      "execution_count": 3,
      "metadata": {
        "pycharm": {
          "name": "#%%\n"
        },
        "id": "kEjQwWR5jdEX",
        "outputId": "fb5aa382-1d96-4ed1-fbc9-ca588a641576",
        "colab": {
          "base_uri": "https://localhost:8080/"
        }
      },
      "outputs": [
        {
          "output_type": "execute_result",
          "data": {
            "text/plain": [
              "False"
            ]
          },
          "metadata": {},
          "execution_count": 3
        }
      ],
      "source": [
        "35 in lista"
      ]
    },
    {
      "cell_type": "code",
      "execution_count": 4,
      "metadata": {
        "pycharm": {
          "name": "#%%\n"
        },
        "id": "PXLg_HjKjdEX",
        "outputId": "7b0c55ca-de13-4cb3-ef8a-b05168ae6b27",
        "colab": {
          "base_uri": "https://localhost:8080/"
        }
      },
      "outputs": [
        {
          "output_type": "execute_result",
          "data": {
            "text/plain": [
              "5"
            ]
          },
          "metadata": {},
          "execution_count": 4
        }
      ],
      "source": [
        "lista[0]"
      ]
    },
    {
      "cell_type": "code",
      "execution_count": 5,
      "metadata": {
        "pycharm": {
          "name": "#%%\n"
        },
        "id": "yUSGbMidjdEX",
        "outputId": "e6146088-7c42-46c3-c695-6d890a2c48ba",
        "colab": {
          "base_uri": "https://localhost:8080/"
        }
      },
      "outputs": [
        {
          "output_type": "execute_result",
          "data": {
            "text/plain": [
              "54"
            ]
          },
          "metadata": {},
          "execution_count": 5
        }
      ],
      "source": [
        "lista[-1]"
      ]
    },
    {
      "cell_type": "code",
      "execution_count": 6,
      "metadata": {
        "pycharm": {
          "name": "#%%\n"
        },
        "id": "fpurXII5jdEX",
        "outputId": "affc55cf-b048-44e1-d35c-89af2f260270",
        "colab": {
          "base_uri": "https://localhost:8080/"
        }
      },
      "outputs": [
        {
          "output_type": "execute_result",
          "data": {
            "text/plain": [
              "[9, 8]"
            ]
          },
          "metadata": {},
          "execution_count": 6
        }
      ],
      "source": [
        "lista[2:4]"
      ]
    },
    {
      "cell_type": "code",
      "execution_count": 7,
      "metadata": {
        "pycharm": {
          "name": "#%%\n"
        },
        "id": "W_XNBrLGjdEY",
        "outputId": "eed44641-cf0c-4990-e3ea-34c60f5fef14",
        "colab": {
          "base_uri": "https://localhost:8080/"
        }
      },
      "outputs": [
        {
          "output_type": "execute_result",
          "data": {
            "text/plain": [
              "[5, 6, 9, 8, 7]"
            ]
          },
          "metadata": {},
          "execution_count": 7
        }
      ],
      "source": [
        "lista[:5]"
      ]
    },
    {
      "cell_type": "code",
      "execution_count": 8,
      "metadata": {
        "pycharm": {
          "name": "#%%\n"
        },
        "id": "WHTduMw-jdEY",
        "outputId": "eaa5527a-52ec-44ec-e247-d497cba2127a",
        "colab": {
          "base_uri": "https://localhost:8080/"
        }
      },
      "outputs": [
        {
          "output_type": "execute_result",
          "data": {
            "text/plain": [
              "[7, 4, 65, 2, 2, 56, 46, 54]"
            ]
          },
          "metadata": {},
          "execution_count": 8
        }
      ],
      "source": [
        "lista[4:]"
      ]
    },
    {
      "cell_type": "code",
      "execution_count": 9,
      "metadata": {
        "pycharm": {
          "name": "#%%\n"
        },
        "id": "YiLhVtRqjdEY",
        "outputId": "9a855fad-e427-4399-92e1-dea3614f3e77",
        "colab": {
          "base_uri": "https://localhost:8080/"
        }
      },
      "outputs": [
        {
          "output_type": "execute_result",
          "data": {
            "text/plain": [
              "[5, 6, 9, 8, 7, 4, 65, 2, 2, 56, 46, 54]"
            ]
          },
          "metadata": {},
          "execution_count": 9
        }
      ],
      "source": [
        "lista[:]"
      ]
    },
    {
      "cell_type": "code",
      "execution_count": 10,
      "metadata": {
        "pycharm": {
          "name": "#%%\n"
        },
        "id": "LmEqnrJvjdEY",
        "outputId": "645d7b61-41bf-43fb-c76d-dd7f86f3994e",
        "colab": {
          "base_uri": "https://localhost:8080/"
        }
      },
      "outputs": [
        {
          "output_type": "execute_result",
          "data": {
            "text/plain": [
              "array([1, 2, 3, 4, 5, 6, 7, 8, 9])"
            ]
          },
          "metadata": {},
          "execution_count": 10
        }
      ],
      "source": [
        "import numpy as np\n",
        "\n",
        "# El método arange crea un vector de 'a' a  el nº antes de 'b' --> object.arange(a, b)\n",
        "np.arange(1,10)"
      ]
    },
    {
      "cell_type": "code",
      "execution_count": 11,
      "metadata": {
        "pycharm": {
          "name": "#%%\n"
        },
        "id": "vBl_9mjWjdEY",
        "outputId": "a9d56ba8-edc2-4dfb-87fc-8f56dbe62f11",
        "colab": {
          "base_uri": "https://localhost:8080/"
        }
      },
      "outputs": [
        {
          "output_type": "execute_result",
          "data": {
            "text/plain": [
              "array([1, 3, 5, 7, 9])"
            ]
          },
          "metadata": {},
          "execution_count": 11
        }
      ],
      "source": [
        "# Con object.arange(a, b, n) crea un vector de 'a' a  el nº antes de 'b' dando saltos de 'n' en 'n'\n",
        "np.arange(1,10,2)\n"
      ]
    },
    {
      "cell_type": "code",
      "execution_count": 12,
      "metadata": {
        "pycharm": {
          "name": "#%%\n"
        },
        "id": "oVco8b84jdEY",
        "outputId": "12e2c2fc-9eb8-495a-fe8f-2cc5075d1246",
        "colab": {
          "base_uri": "https://localhost:8080/"
        }
      },
      "outputs": [
        {
          "output_type": "execute_result",
          "data": {
            "text/plain": [
              "array([1, 2, 3, 4])"
            ]
          },
          "metadata": {},
          "execution_count": 12
        }
      ],
      "source": [
        "# Crea vector a partir de lista\n",
        "a = np.array([1,2,3,4])\n",
        "a"
      ]
    },
    {
      "cell_type": "code",
      "execution_count": 13,
      "metadata": {
        "pycharm": {
          "name": "#%%\n"
        },
        "id": "MaJY7okVjdEY",
        "outputId": "74d7d2d5-c30d-464e-9f94-c08486a2f735",
        "colab": {
          "base_uri": "https://localhost:8080/"
        }
      },
      "outputs": [
        {
          "output_type": "execute_result",
          "data": {
            "text/plain": [
              "4"
            ]
          },
          "metadata": {},
          "execution_count": 13
        }
      ],
      "source": [
        "len(a)"
      ]
    },
    {
      "cell_type": "code",
      "execution_count": 14,
      "metadata": {
        "pycharm": {
          "name": "#%%\n"
        },
        "id": "r9dZ2I1cjdEY",
        "outputId": "a1294e23-8323-4624-cb03-999fa2395bed",
        "colab": {
          "base_uri": "https://localhost:8080/"
        }
      },
      "outputs": [
        {
          "output_type": "execute_result",
          "data": {
            "text/plain": [
              "1"
            ]
          },
          "metadata": {},
          "execution_count": 14
        }
      ],
      "source": [
        "min(a)"
      ]
    },
    {
      "cell_type": "code",
      "execution_count": 15,
      "metadata": {
        "pycharm": {
          "name": "#%%\n"
        },
        "id": "Lq5iq0wLjdEY",
        "outputId": "9b1ebfdf-3fb4-44f1-d72d-5b18582a7b35",
        "colab": {
          "base_uri": "https://localhost:8080/"
        }
      },
      "outputs": [
        {
          "output_type": "execute_result",
          "data": {
            "text/plain": [
              "4"
            ]
          },
          "metadata": {},
          "execution_count": 15
        }
      ],
      "source": [
        "max(a)"
      ]
    },
    {
      "cell_type": "code",
      "execution_count": 16,
      "metadata": {
        "pycharm": {
          "name": "#%%\n"
        },
        "id": "9UkmAGMWjdEY",
        "outputId": "512ff460-3e20-4cd9-fd76-e66e63c7b09d",
        "colab": {
          "base_uri": "https://localhost:8080/"
        }
      },
      "outputs": [
        {
          "output_type": "execute_result",
          "data": {
            "text/plain": [
              "array([[1, 2, 3],\n",
              "       [5, 6, 4],\n",
              "       [7, 5, 2]])"
            ]
          },
          "metadata": {},
          "execution_count": 16
        }
      ],
      "source": [
        "# Con la misma función de antes, crea matriz a partir de varias listas\n",
        "b = np.array([[1,2,3],[5,6,4],[7,5,2]])\n",
        "b"
      ]
    },
    {
      "cell_type": "code",
      "execution_count": 17,
      "metadata": {
        "pycharm": {
          "name": "#%%\n"
        },
        "id": "b5esWO-kjdEY",
        "outputId": "31466fb3-b7c6-486d-f0db-0a9d74df0519",
        "colab": {
          "base_uri": "https://localhost:8080/"
        }
      },
      "outputs": [
        {
          "output_type": "execute_result",
          "data": {
            "text/plain": [
              "array([1, 2, 3])"
            ]
          },
          "metadata": {},
          "execution_count": 17
        }
      ],
      "source": [
        "b[0]"
      ]
    },
    {
      "cell_type": "code",
      "execution_count": 18,
      "metadata": {
        "pycharm": {
          "name": "#%%\n"
        },
        "id": "FAuybA42jdEY",
        "outputId": "9d9d9d14-0a9a-498a-e456-a8c9515d38d7",
        "colab": {
          "base_uri": "https://localhost:8080/"
        }
      },
      "outputs": [
        {
          "output_type": "execute_result",
          "data": {
            "text/plain": [
              "array([2, 6, 5])"
            ]
          },
          "metadata": {},
          "execution_count": 18
        }
      ],
      "source": [
        "b[:,1]"
      ]
    },
    {
      "cell_type": "code",
      "execution_count": 19,
      "metadata": {
        "pycharm": {
          "name": "#%%\n"
        },
        "id": "iiin2sSgjdEY",
        "outputId": "9b3e3f94-47f8-44d2-df08-8b147b2ae7c3",
        "colab": {
          "base_uri": "https://localhost:8080/"
        }
      },
      "outputs": [
        {
          "output_type": "execute_result",
          "data": {
            "text/plain": [
              "2"
            ]
          },
          "metadata": {},
          "execution_count": 19
        }
      ],
      "source": [
        "b[2,2]"
      ]
    },
    {
      "cell_type": "markdown",
      "metadata": {
        "pycharm": {
          "name": "#%% md\n"
        },
        "id": "2bT9d-TajdEY"
      },
      "source": [
        "# Revisar la indexación de matrices (filas columnas)"
      ]
    },
    {
      "cell_type": "code",
      "execution_count": 20,
      "metadata": {
        "pycharm": {
          "name": "#%%\n"
        },
        "id": "LjUpamlNjdEZ",
        "outputId": "082b8420-47a5-433f-9cbd-ee3f082db7c0",
        "colab": {
          "base_uri": "https://localhost:8080/"
        }
      },
      "outputs": [
        {
          "output_type": "execute_result",
          "data": {
            "text/plain": [
              "array([[2, 3],\n",
              "       [6, 4]])"
            ]
          },
          "metadata": {},
          "execution_count": 20
        }
      ],
      "source": [
        "b[0:2, 1:3]"
      ]
    },
    {
      "cell_type": "code",
      "execution_count": 21,
      "metadata": {
        "pycharm": {
          "name": "#%%\n"
        },
        "id": "cEqER37_jdEZ",
        "outputId": "296bc190-3982-48e0-99d8-36b436799867",
        "colab": {
          "base_uri": "https://localhost:8080/"
        }
      },
      "outputs": [
        {
          "output_type": "execute_result",
          "data": {
            "text/plain": [
              "array([[0.94400519, 0.87251361, 0.29478401, 0.46874292, 0.69081303],\n",
              "       [0.17813162, 0.04966955, 0.42384476, 0.13154357, 0.65866205],\n",
              "       [0.68229362, 0.20339743, 0.83452197, 0.70352547, 0.19476513],\n",
              "       [0.16328618, 0.87241844, 0.16363131, 0.24769825, 0.42734238],\n",
              "       [0.5850279 , 0.86019604, 0.67156141, 0.22041341, 0.24996767]])"
            ]
          },
          "metadata": {},
          "execution_count": 21
        }
      ],
      "source": [
        "a = np.random.rand(5,5)\n",
        "a"
      ]
    },
    {
      "cell_type": "code",
      "execution_count": 22,
      "metadata": {
        "pycharm": {
          "name": "#%%\n"
        },
        "id": "nC7UPJGhjdEZ",
        "outputId": "25c62b14-907c-4572-f796-d9a84effd968",
        "colab": {
          "base_uri": "https://localhost:8080/"
        }
      },
      "outputs": [
        {
          "output_type": "execute_result",
          "data": {
            "text/plain": [
              "(5, 5)"
            ]
          },
          "metadata": {},
          "execution_count": 22
        }
      ],
      "source": [
        "a.shape"
      ]
    },
    {
      "cell_type": "code",
      "execution_count": 23,
      "metadata": {
        "pycharm": {
          "name": "#%%\n"
        },
        "id": "NvtLOFIZjdEZ",
        "outputId": "f8a20a1c-dad9-43a8-e8cb-c46a46a20e88",
        "colab": {
          "base_uri": "https://localhost:8080/"
        }
      },
      "outputs": [
        {
          "output_type": "execute_result",
          "data": {
            "text/plain": [
              "array([[0.67576015, 0.27309039, 0.24903091, 0.77414727, 0.21212312],\n",
              "       [0.46387382, 0.96916769, 0.30861405, 0.39951042, 0.82506299],\n",
              "       [0.28903622, 0.79351292, 0.27998127, 0.54065376, 0.36035261],\n",
              "       [0.25376043, 0.74942927, 0.05660787, 0.34210154, 0.61054411],\n",
              "       [0.58509224, 0.68887613, 0.07684128, 0.83715243, 0.11701405]])"
            ]
          },
          "metadata": {},
          "execution_count": 23
        }
      ],
      "source": [
        "b  = np.random.rand(5,5)\n",
        "b"
      ]
    },
    {
      "cell_type": "code",
      "execution_count": 24,
      "metadata": {
        "pycharm": {
          "name": "#%%\n"
        },
        "id": "cQATDEhHjdEZ",
        "outputId": "ad25527e-3e33-41b5-e818-ed7e400048e7",
        "colab": {
          "base_uri": "https://localhost:8080/"
        }
      },
      "outputs": [
        {
          "output_type": "execute_result",
          "data": {
            "text/plain": [
              "array([[1.61976534, 1.14560401, 0.54381492, 1.24289018, 0.90293615],\n",
              "       [0.64200545, 1.01883724, 0.7324588 , 0.531054  , 1.48372503],\n",
              "       [0.97132984, 0.99691035, 1.11450323, 1.24417923, 0.55511774],\n",
              "       [0.41704661, 1.62184772, 0.22023917, 0.58979978, 1.03788649],\n",
              "       [1.17012015, 1.54907218, 0.74840269, 1.05756584, 0.36698173]])"
            ]
          },
          "metadata": {},
          "execution_count": 24
        }
      ],
      "source": [
        "a + b"
      ]
    },
    {
      "cell_type": "code",
      "execution_count": 25,
      "metadata": {
        "pycharm": {
          "name": "#%%\n"
        },
        "id": "MXEH7zi2jdEZ",
        "outputId": "ddb78270-bd84-44d4-d5bb-113f1f1c3d60",
        "colab": {
          "base_uri": "https://localhost:8080/"
        }
      },
      "outputs": [
        {
          "output_type": "execute_result",
          "data": {
            "text/plain": [
              "array([[ 2.68245036e-01,  5.99423223e-01,  4.57531071e-02,\n",
              "        -3.05404348e-01,  4.78689903e-01],\n",
              "       [-2.85742200e-01, -9.19498137e-01,  1.15230708e-01,\n",
              "        -2.67966853e-01, -1.66400941e-01],\n",
              "       [ 3.93257400e-01, -5.90115490e-01,  5.54540701e-01,\n",
              "         1.62871708e-01, -1.65587487e-01],\n",
              "       [-9.04742545e-02,  1.22989169e-01,  1.07023443e-01,\n",
              "        -9.44032888e-02, -1.83201734e-01],\n",
              "       [-6.43419141e-05,  1.71319911e-01,  5.94720124e-01,\n",
              "        -6.16739021e-01,  1.32953621e-01]])"
            ]
          },
          "metadata": {},
          "execution_count": 25
        }
      ],
      "source": [
        "a-b"
      ]
    },
    {
      "cell_type": "code",
      "execution_count": 26,
      "metadata": {
        "pycharm": {
          "name": "#%%\n"
        },
        "id": "UrwtsArbjdEZ",
        "outputId": "88145aee-05e8-4a11-c69b-2b15a3a59592",
        "colab": {
          "base_uri": "https://localhost:8080/"
        }
      },
      "outputs": [
        {
          "output_type": "execute_result",
          "data": {
            "text/plain": [
              "array([[0.63792109, 0.23827508, 0.07341033, 0.36287605, 0.14653742],\n",
              "       [0.0826306 , 0.04813812, 0.13080445, 0.05255303, 0.54343768],\n",
              "       [0.19720757, 0.16139849, 0.23365052, 0.38036369, 0.07018412],\n",
              "       [0.04143557, 0.65381592, 0.00926282, 0.08473795, 0.26091137],\n",
              "       [0.34229529, 0.59256853, 0.05160364, 0.18451962, 0.02924973]])"
            ]
          },
          "metadata": {},
          "execution_count": 26
        }
      ],
      "source": [
        "a*b"
      ]
    },
    {
      "cell_type": "code",
      "execution_count": 27,
      "metadata": {
        "pycharm": {
          "name": "#%%\n"
        },
        "id": "J22K6j2vjdEZ",
        "outputId": "1ed2d917-3894-4709-f8a9-018791ab19eb",
        "colab": {
          "base_uri": "https://localhost:8080/"
        }
      },
      "outputs": [
        {
          "output_type": "execute_result",
          "data": {
            "text/plain": [
              "array([[1.39695302, 3.1949627 , 1.18372461, 0.6054958 , 3.25666062],\n",
              "       [0.38400879, 0.0512497 , 1.37338128, 0.32926193, 0.79831729],\n",
              "       [2.36058173, 0.25632529, 2.98063502, 1.30124956, 0.54048485],\n",
              "       [0.64346587, 1.16411044, 2.89061083, 0.72404892, 0.69993694],\n",
              "       [0.99989003, 1.2486948 , 8.73959132, 0.26328946, 2.13621927]])"
            ]
          },
          "metadata": {},
          "execution_count": 27
        }
      ],
      "source": [
        "a/b"
      ]
    },
    {
      "cell_type": "code",
      "execution_count": 28,
      "metadata": {
        "pycharm": {
          "name": "#%%\n"
        },
        "id": "RDNn6xnTjdEZ",
        "outputId": "270d4740-3983-402e-d3fd-db67444bdf75",
        "colab": {
          "base_uri": "https://localhost:8080/"
        }
      },
      "outputs": [
        {
          "output_type": "execute_result",
          "data": {
            "text/plain": [
              "array([[0.94400519, 0.17813162, 0.68229362, 0.16328618, 0.5850279 ],\n",
              "       [0.87251361, 0.04966955, 0.20339743, 0.87241844, 0.86019604],\n",
              "       [0.29478401, 0.42384476, 0.83452197, 0.16363131, 0.67156141],\n",
              "       [0.46874292, 0.13154357, 0.70352547, 0.24769825, 0.22041341],\n",
              "       [0.69081303, 0.65866205, 0.19476513, 0.42734238, 0.24996767]])"
            ]
          },
          "metadata": {},
          "execution_count": 28
        }
      ],
      "source": [
        "np.transpose(a)"
      ]
    },
    {
      "cell_type": "code",
      "execution_count": 29,
      "metadata": {
        "pycharm": {
          "name": "#%%\n"
        },
        "id": "z6JDWGoOjdEZ",
        "outputId": "1aea50f8-ae77-41e6-941e-449fb8777572",
        "colab": {
          "base_uri": "https://localhost:8080/"
        }
      },
      "outputs": [
        {
          "output_type": "execute_result",
          "data": {
            "text/plain": [
              "array([[ 1.05931621,  1.14611392,  3.39231421,  2.13336556,  1.44756969],\n",
              "       [ 5.61382632, 20.13305975,  2.35935443,  7.60204385,  1.51822927],\n",
              "       [ 1.46564466,  4.91648296,  1.19829081,  1.42141265,  5.13438935],\n",
              "       [ 6.12421703,  1.14623895,  6.11129993,  4.03717028,  2.34004409],\n",
              "       [ 1.70932018,  1.16252569,  1.48906711,  4.53692903,  4.00051729]])"
            ]
          },
          "metadata": {},
          "execution_count": 29
        }
      ],
      "source": [
        "1/a"
      ]
    },
    {
      "cell_type": "markdown",
      "source": [
        "## PROBLEMAS"
      ],
      "metadata": {
        "id": "OJuE4JEajeI_"
      }
    },
    {
      "cell_type": "markdown",
      "source": [
        "1. Escribe una función **suma_matrices** que tome dos matrices **NumPy** como argumentos y devuelva una nueva matriz que sea la suma de las dos matrices originales. No utilices la operación de suma incorporada de NumPy (+)."
      ],
      "metadata": {
        "id": "gan8dp57jmqX"
      }
    },
    {
      "cell_type": "code",
      "source": [
        "import numpy as np\n",
        "\n",
        "def suma_matrices(A, B):\n",
        "  tam = list(A.shape)\n",
        "  if list(A.shape) == list(B.shape):\n",
        "    C  = np.random.rand(tam[0],tam[1])\n",
        "    for i in range(tam[0]):\n",
        "      for j in range(tam[1]):\n",
        "        C[i, j] = A[i, j] + B[i, j]\n",
        "    return C\n",
        "  else:\n",
        "    print(\"No se pueden sumar dos matrices con dimensiones distintas\")\n",
        "# Pruebas\n",
        "A = np.array([[1, 2], [3, 4]])\n",
        "B = np.array([[5, 6], [7, 8]])\n",
        "assert np.array_equal(suma_matrices(A, B), np.array([[6, 8], [10, 12]]))"
      ],
      "metadata": {
        "id": "RqVmsQR3jszO"
      },
      "execution_count": 33,
      "outputs": []
    },
    {
      "cell_type": "markdown",
      "source": [
        "2. Escribe una función **transpuesta** que tome una matriz **NumPy** como argumento y **devuelva su transpuesta**. No utilices la propiedad T de NumPy."
      ],
      "metadata": {
        "id": "rbWnPtUjkPh5"
      }
    },
    {
      "cell_type": "code",
      "source": [
        "import numpy as np\n",
        "\n",
        "def transpuesta(A):\n",
        "  tam = list(A.shape)\n",
        "  T = np.random.rand(tam[1], tam[0])\n",
        "  for i in range(tam[1]):\n",
        "      for j in range(tam[0]):\n",
        "        T[i, j] = A[j, i]\n",
        "  return T\n",
        "\n",
        "# Pruebas\n",
        "A = np.array([[1, 2, 3], [4, 5, 6]])\n",
        "assert np.array_equal(transpuesta(A), np.array([[1, 4], [2, 5], [3, 6]]))\n",
        "print(transpuesta(A))"
      ],
      "metadata": {
        "id": "XE1LFSPmkgyw",
        "colab": {
          "base_uri": "https://localhost:8080/"
        },
        "outputId": "6b369d5a-52c0-4126-b53d-a7fa2d4d7076"
      },
      "execution_count": 35,
      "outputs": [
        {
          "output_type": "stream",
          "name": "stdout",
          "text": [
            "[[1. 4.]\n",
            " [2. 5.]\n",
            " [3. 6.]]\n"
          ]
        }
      ]
    },
    {
      "cell_type": "markdown",
      "source": [
        "3. Escribe una función **multiplicar_matrices** que tome dos matrices **NumPy** como argumentos y devuelva una nueva matriz que sea el resultado de la multiplicación de las dos matrices originales. No utilices la operación de multiplicación de matrices incorporada de NumPy (@ o np.dot)."
      ],
      "metadata": {
        "id": "F1HYoqkdkw8K"
      }
    },
    {
      "cell_type": "code",
      "source": [
        "import numpy as np\n",
        "\n",
        "def multiplicar_matrices(A, B):\n",
        "  tamA = list(A.shape)\n",
        "  tamB = list(B.shape)\n",
        "  if tamA[1] == tamB[0]:\n",
        "    C  = np.random.rand(tamA[0],tamB[1])\n",
        "    for i in range(tamA[0]):\n",
        "      for j in range(tamB[1]):\n",
        "        x = 0\n",
        "        for k in range(tamA[1]):\n",
        "          x = x + A[i,k]*B[k,j]\n",
        "        C[i,j] = x\n",
        "    return C\n",
        "  else:\n",
        "    print(\"Las dimensiones de estas matrices no son adecuadas para la multiplicación matricial.\")\n",
        "\n",
        "# Pruebas\n",
        "A = np.array([[1, 2], [3, 4]])\n",
        "B = np.array([[2, 0], [1, 2]])\n",
        "assert np.array_equal(multiplicar_matrices(A, B), np.array([[4, 4], [10, 8]]))\n",
        "print(multiplicar_matrices(A, B))"
      ],
      "metadata": {
        "id": "9-Aa0AHNk6sK",
        "colab": {
          "base_uri": "https://localhost:8080/"
        },
        "outputId": "cc8ba850-475c-44b0-cb80-60a0756ce238"
      },
      "execution_count": 37,
      "outputs": [
        {
          "output_type": "stream",
          "name": "stdout",
          "text": [
            "[[ 4.  4.]\n",
            " [10.  8.]]\n"
          ]
        }
      ]
    }
  ],
  "metadata": {
    "kernelspec": {
      "display_name": "Python 3",
      "language": "python",
      "name": "python3"
    },
    "language_info": {
      "codemirror_mode": {
        "name": "ipython",
        "version": 3
      },
      "file_extension": ".py",
      "mimetype": "text/x-python",
      "name": "python",
      "nbconvert_exporter": "python",
      "pygments_lexer": "ipython3",
      "version": "3.6.5"
    },
    "colab": {
      "provenance": [],
      "include_colab_link": true
    }
  },
  "nbformat": 4,
  "nbformat_minor": 0
}